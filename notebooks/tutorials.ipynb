{
 "cells": [
  {
   "cell_type": "markdown",
   "metadata": {},
   "source": [
    "Tutorial for spock "
   ]
  },
  {
   "cell_type": "code",
   "execution_count": null,
   "metadata": {},
   "outputs": [],
   "source": [
    "import SPOCK.long_term_scheduler as SPOCKLT\n",
    "import SPOCK.short_term_scheduler as SPOCKST\n",
    "import SPOCK.plots_scheduler as SPOCKplot"
   ]
  },
  {
   "cell_type": "code",
   "execution_count": null,
   "metadata": {},
   "outputs": [],
   "source": [
    "SPOCKST.prediction(obs_name='SSO',name='T-1b',ra=346.,dec=-5.05,\n",
    "                   timing=2457322.51505,\n",
    "                   period=1.51088212,duration=0.02511108,\n",
    "                   start_date='2020-06-01 00:00:00',ntr=4)"
   ]
  },
  {
   "cell_type": "code",
   "execution_count": null,
   "metadata": {},
   "outputs": [],
   "source": [
    "from ipywidgets import interact\n",
    "from astropy.time import Time\n",
    "import ipywidgets as widgets\n",
    "import SPOCK.stats as SPOCKstats\n",
    "import datetime\n",
    "\n",
    "@interact\n",
    "def plt_target(telescope=['Saint-Ex','Io','Europa','Ganymede','Callisto','Artemis','TS_La_Silla','TN_Oukaimeden'],day_widget = widgets.DatePicker(description='Pick a Date')):\n",
    "    try:\n",
    "        day = Time(datetime.datetime.combine(day_widget,datetime.time(15,0,0))).iso\n",
    "        date = Time(day,out_subfmt='date').iso\n",
    "        nightp = SPOCKstats.read_night_plans_server(telescope,date)\n",
    "        if nightp.columns[0] == '<!DOCTYPE':\n",
    "            print('ERROR: No night plan on this date ! ')\n",
    "        else: \n",
    "            display(nightp)\n",
    "    except TypeError:\n",
    "        print('ERROR: Choose a date ! ')\n"
   ]
  },
  {
   "cell_type": "code",
   "execution_count": null,
   "metadata": {},
   "outputs": [],
   "source": [
    "from ipywidgets import interact\n",
    "import pandas as pd\n",
    "\n",
    "@interact\n",
    "def plt_target(Target=list(pd.read_csv('./target_lists/speculoos_target_list_v6.txt',delimiter=' ')['Sp_ID'])):\n",
    "    target_list_v6 = pd.read_csv('./target_lists/speculoos_target_list_v6.txt',sep=' ')\n",
    "    a = target_list_v6.where((target_list_v6['Sp_ID']==Target))\n",
    "    a  = a.dropna()\n",
    "    display(a)\n"
   ]
  },
  {
   "cell_type": "code",
   "execution_count": null,
   "metadata": {},
   "outputs": [],
   "source": [
    "from ipywidgets import interact\n",
    "import pandas as pd\n",
    "import ipywidgets as widgets\n",
    "import SPOCK.plots_scheduler as SPOCKplot\n",
    "\n",
    "@interact\n",
    "def plt_phase_cov(Site=['SSO','SNO','Saint-Ex','TS_La_Silla','TN_Oukaimeden'],Target=list(pd.read_csv('./target_lists/speculoos_target_list_v6.txt',delimiter=' ')['Sp_ID']),periods = widgets.FloatRangeSlider(\n",
    "    value=[0, 6],\n",
    "    min=0,\n",
    "    max=20.0,\n",
    "    step=0.1,\n",
    "    description='Period:',\n",
    "    disabled=False,\n",
    "    continuous_update=True,\n",
    "    orientation='horizontal',\n",
    "    readout=True,\n",
    "    readout_format='.1f',)):\n",
    "    \n",
    "    if Site== 'SSO':\n",
    "        obs = 1\n",
    "    if Site== 'SNO':\n",
    "        obs = 2\n",
    "    if Site== 'Saint-Ex':\n",
    "        obs = 3\n",
    "    if Site== 'TS_La_Silla':\n",
    "        obs = 4\n",
    "    if Site== 'TN_Oukaimeden':\n",
    "        obs = 5\n",
    "\n",
    "    SPOCKplot.phase_coverage_given_target(name_observatory=Site,target=Target,path_target_list='./target_lists/speculoos_target_list_v6.txt',pmin=periods[0],pmax=periods[1])\n",
    "    "
   ]
  },
  {
   "cell_type": "code",
   "execution_count": null,
   "metadata": {},
   "outputs": [],
   "source": [
    "from astropy.time import Time\n",
    "import SPOCK.plots_scheduler as SPOCKplot\n",
    "\n",
    "day = Time('2020-12-03')\n",
    "SPOCKplot.gantt_chart(date_start=day,date_end=day+1,telescope=['Io','Europa'])\n",
    "\n"
   ]
  },
  {
   "cell_type": "code",
   "execution_count": 4,
   "metadata": {},
   "outputs": [
    {
     "data": {
      "application/vnd.jupyter.widget-view+json": {
       "model_id": "9df1515f541542738e5a08ed7e808a31",
       "version_major": 2,
       "version_minor": 0
      },
      "text/plain": [
       "interactive(children=(Dropdown(description='Site', options=('Saint-Ex', 'SSO', 'SNO', 'TS_La_Silla', 'TN_Oukai…"
      ]
     },
     "metadata": {},
     "output_type": "display_data"
    }
   ],
   "source": [
    "from ipywidgets import interact\n",
    "from astropy.time import Time\n",
    "import pandas as pd\n",
    "import ipywidgets as widgets\n",
    "import SPOCK.plots_scheduler as SPOCKplot\n",
    "import datetime\n",
    "\n",
    "\n",
    "@interact\n",
    "def plt_target(Site=['Saint-Ex','SSO','SNO','TS_La_Silla','TN_Oukaimeden'],\n",
    "               Target=list(pd.read_csv('./target_lists/speculoos_target_list_v6.txt',delimiter=' ')['Sp_ID']),\n",
    "               day_widget = widgets.DatePicker(description='Pick a Date')):\n",
    "    if Site== 'SSO':\n",
    "        obs = 1\n",
    "    if Site== 'SNO':\n",
    "        obs = 2\n",
    "    if Site== 'Saint-Ex':\n",
    "        obs = 3\n",
    "    if Site== 'TS_La_Silla':\n",
    "        obs = 4\n",
    "    if Site== 'TN_Oukaimeden':\n",
    "        obs = 5\n",
    "\n",
    "    try:\n",
    "        day = Time(datetime.datetime.combine(day_widget,datetime.time(15,0,0)),format='datetime')\n",
    "        SPOCKplot.airmass_altitude_plot_given_target(name_observatory=Site,day=day,target=Target,path_target_list='./target_lists/speculoos_target_list_v6.txt')\n",
    "    except TypeError:\n",
    "        print('ERROR: Choose a date ! ')"
   ]
  },
  {
   "cell_type": "code",
   "execution_count": null,
   "metadata": {},
   "outputs": [],
   "source": [
    "# ---------------------- LONG TERM SCHEDULER ---------------------\n",
    "import SPOCK.long_term_scheduler as SPOCKLT\n",
    "obs = 1\n",
    "\n",
    "schedule = SPOCKLT.Schedules()\n",
    "schedule.load_parameters('./input.csv',obs)\n",
    "schedule.date_range = Time(['2020-11-29 15:00:00','2020-12-01 15:00:00'])\n",
    "schedule.make_schedule(Altitude_constraint = 28, Moon_constraint = 30)\n",
    "\n"
   ]
  },
  {
   "cell_type": "code",
   "execution_count": null,
   "metadata": {},
   "outputs": [],
   "source": [
    "# ----- SAVE -----\n",
    "SPOCKLT.save_schedule(input_file = None,nb_observatory = obs,save = True,over_write = True,\n",
    "                      date_range = schedule.date_range,telescope = schedule.telescope)\n",
    "SPOCKLT.upload_plans(schedule.date_range[0], nb_days = schedule.date_range_in_days, telescope = schedule.telescope)\n",
    "SPOCKLT.upload_plans(schedule.date_range[0], nb_days = schedule.date_range_in_days,telescope = schedule.telescope)\n"
   ]
  },
  {
   "cell_type": "code",
   "execution_count": 3,
   "metadata": {},
   "outputs": [
    {
     "data": {
      "application/vnd.jupyter.widget-view+json": {
       "model_id": "1e19132a005b49bf987267b8c9686b04",
       "version_major": 2,
       "version_minor": 0
      },
      "text/plain": [
       "interactive(children=(Dropdown(description='telescope', options=('Saint-Ex', 'Io', 'Europa', 'Ganymede', 'Call…"
      ]
     },
     "metadata": {},
     "output_type": "display_data"
    }
   ],
   "source": [
    "from ipywidgets import interact\n",
    "import ipywidgets as widgets\n",
    "import datetime\n",
    "from astropy.time import Time\n",
    "import SPOCK.stats as SPOCKstats\n",
    "\n",
    "@interact\n",
    "def night_block(telescope=['Saint-Ex','Io','Europa','Ganymede','Callisto','Artemis','TS_La_Silla','TN_Oukaimeden'],day_widget = widgets.DatePicker(description='Pick a Date')):\n",
    "    try:\n",
    "        day = Time(datetime.datetime.combine(day_widget,datetime.time(15,0,0))).iso\n",
    "        date = Time(day,out_subfmt='date').iso\n",
    "        nightp = SPOCKstats.read_night_plans_server(telescope,date)\n",
    "        if nightp.columns[0] == '<!DOCTYPE':\n",
    "            print('ERROR: No night plan on this date ! ')\n",
    "        else: \n",
    "            display(nightp)\n",
    "    except TypeError:\n",
    "        print('ERROR: Choose a date ! ')\n"
   ]
  },
  {
   "cell_type": "code",
   "execution_count": null,
   "metadata": {},
   "outputs": [],
   "source": []
  }
 ],
 "metadata": {
  "kernelspec": {
   "display_name": "Python 3",
   "language": "python",
   "name": "python3"
  },
  "language_info": {
   "codemirror_mode": {
    "name": "ipython",
    "version": 3
   },
   "file_extension": ".py",
   "mimetype": "text/x-python",
   "name": "python",
   "nbconvert_exporter": "python",
   "pygments_lexer": "ipython3",
   "version": "3.7.0"
  }
 },
 "nbformat": 4,
 "nbformat_minor": 4
}
