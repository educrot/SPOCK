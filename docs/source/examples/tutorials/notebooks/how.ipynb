{
 "cells": [
  {
   "cell_type": "markdown",
   "metadata": {},
   "source": [
    "# How *spock* works"
   ]
  },
  {
   "cell_type": "markdown",
   "metadata": {},
   "source": [
    "General note: If you wish to update the number of hours observe on the TRAPPIST telescopes as well you need to have acces to the **Hours_observation_TS_TN** google sheet. For this contact Elsa Ducrot (educrot@uliege.be)"
   ]
  },
  {
   "cell_type": "markdown",
   "metadata": {},
   "source": [
    "## 1/ How `spock.long_term_scheduler` works"
   ]
  },
  {
   "cell_type": "markdown",
   "metadata": {},
   "source": [
    "The SPECULOOS target list was contructed as described in [*Sebastian et al. 2020*](http://arxiv.org/abs/2011.02069) and include 1657 photometrically classified late-type dwarfs. These targets are divided in three distinct programs:\n",
    "* Program 1: 365 dwarfs that are small and nearby enough to make possible the detailed atmospheric characterisation of an \"Earth-like\" planet with the upcoming JWST\n",
    "* Program 2: 171 dwarfs of M5-type and later for which a significant detection of a planet similar to TRAPPIST-1b should be within reach of TESS\n",
    "* Program 3: 1121 dwarfs later than M6-type that aims to perform a statistical census of short-period planets around ultracool dwarf stars."
   ]
  },
  {
   "cell_type": "markdown",
   "metadata": {},
   "source": [
    "## 2/ How `spock.short_term_scheduler` works"
   ]
  },
  {
   "cell_type": "markdown",
   "metadata": {},
   "source": [
    "The aim of the `short_term_scheduler` is to modify existing plan by inserting a new block (corresponding to a *special* or *follow-up* target). Almost every night 1 ou 2 targets are observed per telescope. In that regards, the existing night block can be either situation A or situation B, see below:"
   ]
  },
  {
   "cell_type": "markdown",
   "metadata": {},
   "source": [
    "![situationsAB](../../../_static/css/situations_AB.png)"
   ]
  },
  {
   "cell_type": "markdown",
   "metadata": {},
   "source": [
    "### Situation A"
   ]
  },
  {
   "cell_type": "markdown",
   "metadata": {},
   "source": [
    "If we consider we are in situation A, four different modifications can happend when the new block is inserted. \n",
    "\n",
    "* First, the new block can be scheduled in between the existing blocks, in this case the `end_time` of the first target and `start_time` of the second target are modified."
   ]
  },
  {
   "cell_type": "markdown",
   "metadata": {},
   "source": [
    "![situation_A1](../../../_static/css/situation_A1.png)"
   ]
  },
  {
   "cell_type": "markdown",
   "metadata": {},
   "source": [
    "* Second, the new block can be scheduled on the first target's slot (from sun set), in this case only the `start_time` of the first target is modified."
   ]
  },
  {
   "cell_type": "markdown",
   "metadata": {},
   "source": [
    "![situationA2](../../../_static/css/situation_A2.png)"
   ]
  },
  {
   "cell_type": "markdown",
   "metadata": {},
   "source": [
    "* Third, the new block can be scheduled on the second target's slot (up to sun rise), in this case only the `end_time` of the second target is modified."
   ]
  },
  {
   "cell_type": "markdown",
   "metadata": {},
   "source": [
    "![situationA3](../../../_static/css/situation_A3.png)"
   ]
  },
  {
   "cell_type": "markdown",
   "metadata": {},
   "source": [
    "* Second, the new block is scheduled in the middel of an existing block, in this case the target is splited in two distinct blocks:\n",
    "    * The first one (named target as the original block) with `start_time = old_start_time` and `end_time = start_time_new_block` \n",
    "    * The second one (named target_2) `start_time = end_time_new_block` and `end_time = old_end_time` "
   ]
  },
  {
   "cell_type": "markdown",
   "metadata": {},
   "source": [
    "![situationA4](../../../_static/css/situation_A4b.png)"
   ]
  },
  {
   "cell_type": "markdown",
   "metadata": {},
   "source": [
    "### Situation B"
   ]
  },
  {
   "cell_type": "markdown",
   "metadata": {},
   "source": [
    "If we consider we are in situation B, three different modifications can happend when the new block is inserted. \n",
    "\n",
    "* First, the new block can be scheduled in the second part of the night (up to sun rise), in this case only the `end_time` is modified."
   ]
  },
  {
   "cell_type": "markdown",
   "metadata": {},
   "source": [
    "![title](../../../_static/css/situation_B1.png)"
   ]
  },
  {
   "cell_type": "markdown",
   "metadata": {},
   "source": [
    "* Second, the new block is scheduled in the smiddel of the night, in this case the target is splited in two distinct blocks:\n",
    "    * The first one (named target as the original block)  with `start_time = old_start_time` and `end_time = start_time_new_block` \n",
    "    * The second one (named target_2) `start_time = end_time_new_block` and `end_time = old_end_time` "
   ]
  },
  {
   "cell_type": "markdown",
   "metadata": {},
   "source": [
    "![situationB2](../../../_static/css/situation_B2.png)"
   ]
  },
  {
   "cell_type": "markdown",
   "metadata": {},
   "source": [
    "* Third, the new block is scheduled in the first part of the night (from sun set), in this case only the `start_time` is modified."
   ]
  },
  {
   "cell_type": "markdown",
   "metadata": {},
   "source": [
    "![situationB3](../../../_static/css/situation_B3.png)"
   ]
  }
 ],
 "metadata": {
  "kernelspec": {
   "display_name": "Python 3",
   "language": "python",
   "name": "python3"
  },
  "language_info": {
   "codemirror_mode": {
    "name": "ipython",
    "version": 3
   },
   "file_extension": ".py",
   "mimetype": "text/x-python",
   "name": "python",
   "nbconvert_exporter": "python",
   "pygments_lexer": "ipython3",
   "version": "3.7.0"
  }
 },
 "nbformat": 4,
 "nbformat_minor": 4
}
