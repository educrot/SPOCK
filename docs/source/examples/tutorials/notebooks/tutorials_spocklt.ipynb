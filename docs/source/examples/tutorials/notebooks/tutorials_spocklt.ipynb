{
 "cells": [
  {
   "cell_type": "markdown",
   "metadata": {},
   "source": [
    "# Long-term scheduling"
   ]
  },
  {
   "cell_type": "markdown",
   "metadata": {},
   "source": [
    "Here we present the long-term scheduling module. The long-term scheduling module of spock has been concived to optimizing the planifification of targets on the SPECULOOS telescopes (SSO, SNO, Saint-Ex, TS, TN) and follow the strategy decided by the consortium. "
   ]
  },
  {
   "cell_type": "markdown",
   "metadata": {},
   "source": [
    "<div class=\"alert alert-info\">\n",
    "\n",
    "**Note:** Before you insert new observations and upload them please make sure you have informed the SPECULOOS consortium \n",
    "\n",
    "</div>"
   ]
  },
  {
   "cell_type": "markdown",
   "metadata": {},
   "source": [
    "## Without input file"
   ]
  },
  {
   "cell_type": "markdown",
   "metadata": {},
   "source": [
    "To create the **|night blocks|** for a date range. The only information needed are: \n",
    "\n",
    "+ the name of the site, ex: `obs_name = 'SSO'`\n",
    "\n",
    "+ the name of the telescope (because there can be several telescope per site), ex: `telescope ='Europa'`\n",
    "\n",
    "+ date range as a list, ex: `date_range = ['2020-12-13 23:00:00','2020-12-15 01:00:00']`\n",
    "\n"
   ]
  },
  {
   "cell_type": "markdown",
   "metadata": {},
   "source": [
    "Then you only have to run the following lines of code:"
   ]
  },
  {
   "cell_type": "code",
   "execution_count": 1,
   "metadata": {
    "scrolled": false
   },
   "outputs": [
    {
     "name": "stdout",
     "output_type": "stream",
     "text": [
      "\u001b[32mINFO: \u001b[30m Please add password.csv file in: /Users/elsaducrot/elsenv/lib/python3.7/site-packages/SPOCK-0.0.1-py3.7.egg/SPOCK/credentials/\n",
      "\u001b[32mINFO: \u001b[30m OK Password file exists\n"
     ]
    },
    {
     "data": {
      "application/vnd.jupyter.widget-view+json": {
       "model_id": "0646571312a74675aad0da60704145cb",
       "version_major": 2,
       "version_minor": 0
      },
      "text/plain": [
       "HBox(children=(FloatProgress(value=0.0, description='Updating hours of obs ', max=2.0, style=ProgressStyle(des…"
      ]
     },
     "metadata": {},
     "output_type": "display_data"
    },
    {
     "name": "stdout",
     "output_type": "stream",
     "text": [
      "\u001b[33mWARNING: \u001b[30m No plans in your local file for  Europa on the 2020-12-13\n",
      "\u001b[33mWARNING: \u001b[30m No plans in your local file for  Ganymede on the 2020-12-13\n",
      "\u001b[33mWARNING: \u001b[30m No plans in your local file for  Callisto on the 2020-12-13\n",
      "\u001b[33mWARNING: \u001b[30m No plans in your local file for  Artemis on the 2020-12-13\n",
      "\u001b[33mWARNING: \u001b[30m No plans in your local file for  Saint-Ex on the 2020-12-13\n",
      "\u001b[33mWARNING: \u001b[30m No plans in your local file for  TS_La_Silla on the 2020-12-13\n",
      "\u001b[33mWARNING: \u001b[30m No plans in your local file for  TN_Oukaimeden on the 2020-12-13\n",
      "\u001b[33mWARNING: \u001b[30m No plans in your local file for  Europa on the 2020-12-14\n",
      "\u001b[33mWARNING: \u001b[30m No plans in your local file for  Ganymede on the 2020-12-14\n",
      "\u001b[33mWARNING: \u001b[30m No plans in your local file for  Callisto on the 2020-12-14\n",
      "\u001b[33mWARNING: \u001b[30m No plans in your local file for  Artemis on the 2020-12-14\n",
      "\u001b[33mWARNING: \u001b[30m No plans in your local file for  Saint-Ex on the 2020-12-14\n",
      "\u001b[33mWARNING: \u001b[30m No plans in your local file for  TS_La_Silla on the 2020-12-14\n",
      "\u001b[33mWARNING: \u001b[30m No plans in your local file for  TN_Oukaimeden on the 2020-12-14\n",
      "\n"
     ]
    },
    {
     "data": {
      "application/vnd.jupyter.widget-view+json": {
       "model_id": "3d5d46655aaf46d3accf9914bee33ed4",
       "version_major": 2,
       "version_minor": 0
      },
      "text/plain": [
       "HBox(children=(FloatProgress(value=0.0, description='Scheduling ', max=2.0, style=ProgressStyle(description_wi…"
      ]
     },
     "metadata": {},
     "output_type": "display_data"
    },
    {
     "name": "stdout",
     "output_type": "stream",
     "text": [
      "\u001b[32mINFO: \u001b[30m day is :  2020-12-13 15:00:00.000\n",
      "\n",
      "\u001b[32mINFO: \u001b[30m Not using moon phase in ETC\n",
      "\u001b[32mINFO: \u001b[30m Not using moon phase in ETC\n",
      "\u001b[33mWARNING: \u001b[30m Change filter to avoid saturation!!\n",
      "\u001b[33mWARNING: \u001b[30m Change filter to avoid saturation!!\n",
      "\u001b[32mINFO: \u001b[30m First target is 'rise'\n",
      "\n",
      "\n",
      "\u001b[32mINFO: \u001b[30m day is :  2020-12-14 15:00:00.000\n",
      "\n",
      "\u001b[32mINFO: \u001b[30m First target is 'rise'\n",
      "\n",
      "\n",
      "\n"
     ]
    }
   ],
   "source": [
    "import SPOCK.long_term_scheduler as SPOCKLT\n",
    "from astropy.time import Time\n",
    "\n",
    "schedule = SPOCKLT.Schedules()\n",
    "\n",
    "schedule.load_parameters(date_range=['2020-12-13 15:00:00','2020-12-15 15:00:00'],obs_name='SSO')\n",
    "schedule.telescope = 'Io'\n",
    "\n",
    "schedule.make_schedule(Altitude_constraint = 28, Moon_constraint = 30)\n"
   ]
  },
  {
   "cell_type": "code",
   "execution_count": 4,
   "metadata": {},
   "outputs": [
    {
     "data": {
      "text/html": [
       "<i>Table length=2</i>\n",
       "<table id=\"table4650487536\" class=\"table-striped table-bordered table-condensed\">\n",
       "<thead><tr><th>target</th><th>start time (UTC)</th><th>end time (UTC)</th><th>duration (minutes)</th><th>ra (h)</th><th>ra (m)</th><th>ra (s)</th><th>dec (d)</th><th>dec (m)</th><th>dec (s)</th><th>configuration</th></tr></thead>\n",
       "<thead><tr><th>str15</th><th>str23</th><th>str23</th><th>float64</th><th>str32</th><th>str32</th><th>str32</th><th>str32</th><th>str32</th><th>str32</th><th>object</th></tr></thead>\n",
       "<tr><td>Sp0435-1606</td><td>2020-12-14 00:22:20.021</td><td>2020-12-14 04:32:00.021</td><td>249.6666666666667</td><td>4.0</td><td>35.0</td><td>16.154208000006065</td><td>-16.0</td><td>-6.0</td><td>-57.25403999999742</td><td>{&apos;texp=24&apos;, &apos;filt=i&apos;}</td></tr>\n",
       "<tr><td>Sp0903+0540</td><td>2020-12-14 04:32:40.030</td><td>2020-12-14 08:50:20.030</td><td>257.6666666666667</td><td>9.0</td><td>3.0</td><td>20.95999200001131</td><td>5.0</td><td>40.0</td><td>14.049840000005531</td><td>{&apos;texp=10&apos;, &apos;filt=I+z&apos;}</td></tr>\n",
       "</table>"
      ],
      "text/plain": [
       "<Table length=2>\n",
       "   target       start time (UTC)    ...      configuration     \n",
       "   str15             str23          ...          object        \n",
       "----------- ----------------------- ... -----------------------\n",
       "Sp0435-1606 2020-12-14 00:22:20.021 ...   {'texp=24', 'filt=i'}\n",
       "Sp0903+0540 2020-12-14 04:32:40.030 ... {'texp=10', 'filt=I+z'}"
      ]
     },
     "metadata": {},
     "output_type": "display_data"
    }
   ],
   "source": [
    "display(schedule.night_block_by_day[0])"
   ]
  },
  {
   "cell_type": "code",
   "execution_count": 5,
   "metadata": {},
   "outputs": [
    {
     "data": {
      "text/html": [
       "<i>Table length=2</i>\n",
       "<table id=\"table4955643072\" class=\"table-striped table-bordered table-condensed\">\n",
       "<thead><tr><th>target</th><th>start time (UTC)</th><th>end time (UTC)</th><th>duration (minutes)</th><th>ra (h)</th><th>ra (m)</th><th>ra (s)</th><th>dec (d)</th><th>dec (m)</th><th>dec (s)</th><th>configuration</th></tr></thead>\n",
       "<thead><tr><th>str15</th><th>str23</th><th>str23</th><th>float64</th><th>str32</th><th>str32</th><th>str32</th><th>str32</th><th>str32</th><th>str32</th><th>object</th></tr></thead>\n",
       "<tr><td>Sp0451-5818</td><td>2020-12-15 00:23:20.021</td><td>2020-12-15 04:37:00.021</td><td>253.66666666666669</td><td>4.0</td><td>51.0</td><td>37.175088000010135</td><td>-58.0</td><td>-18.0</td><td>-52.041960000003655</td><td>{&apos;texp=30&apos;, &apos;filt=I+z&apos;}</td></tr>\n",
       "<tr><td>Sp0903+0540</td><td>2020-12-15 04:37:20.021</td><td>2020-12-15 08:51:00.021</td><td>253.66666666666663</td><td>9.0</td><td>3.0</td><td>20.95999200001131</td><td>5.0</td><td>40.0</td><td>14.049840000005531</td><td>{&apos;texp=10&apos;, &apos;filt=I+z&apos;}</td></tr>\n",
       "</table>"
      ],
      "text/plain": [
       "<Table length=2>\n",
       "   target       start time (UTC)    ...      configuration     \n",
       "   str15             str23          ...          object        \n",
       "----------- ----------------------- ... -----------------------\n",
       "Sp0451-5818 2020-12-15 00:23:20.021 ... {'texp=30', 'filt=I+z'}\n",
       "Sp0903+0540 2020-12-15 04:37:20.021 ... {'texp=10', 'filt=I+z'}"
      ]
     },
     "metadata": {},
     "output_type": "display_data"
    }
   ],
   "source": [
    "display(schedule.night_block_by_day[1])"
   ]
  },
  {
   "cell_type": "code",
   "execution_count": null,
   "metadata": {},
   "outputs": [],
   "source": []
  }
 ],
 "metadata": {
  "kernelspec": {
   "display_name": "Python 3",
   "language": "python",
   "name": "python3"
  },
  "language_info": {
   "codemirror_mode": {
    "name": "ipython",
    "version": 3
   },
   "file_extension": ".py",
   "mimetype": "text/x-python",
   "name": "python",
   "nbconvert_exporter": "python",
   "pygments_lexer": "ipython3",
   "version": "3.7.0"
  }
 },
 "nbformat": 4,
 "nbformat_minor": 4
}
