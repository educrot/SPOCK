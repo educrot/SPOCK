{
 "cells": [
  {
   "cell_type": "markdown",
   "metadata": {},
   "source": [
    "# Long-term scheduling"
   ]
  },
  {
   "cell_type": "markdown",
   "metadata": {},
   "source": [
    "Here we present the long-term scheduling module. The long-term scheduling module of spock has been concived to optimizing the planifification of targets on the SPECULOOS telescopes (SSO, SNO, Saint-Ex, TS, TN) and follow the strategy decided by the consortium. "
   ]
  },
  {
   "cell_type": "markdown",
   "metadata": {},
   "source": [
    "## Using input file"
   ]
  },
  {
   "cell_type": "markdown",
   "metadata": {},
   "source": [
    "The first option to generate the plans is to use an input file with all information requiered. \n",
    "This file you be filled like the following example:"
   ]
  },
  {
   "cell_type": "markdown",
   "metadata": {},
   "source": [
    "--- \n",
    "date_range: \n",
    "  - \"2021-01-01 15:00:00\"\n",
    "  - \"2021-02-01 15:00:00\"\n",
    "observatories:\n",
    "  1:\n",
    "    name: SSO\n",
    "    telescopes: [Io,Callisto,Ganymede,Europa]\n",
    "  2:\n",
    "    name: SNO\n",
    "    telescopes: [Artemis]\n",
    "  3: \n",
    "    name: Saint-Ex\n",
    "    telescopes: [Saint-Ex]\n",
    "  4: \n",
    "    name: TS_La_Silla\n",
    "    telescopes: [TS_La_Silla]\n",
    "  5: \n",
    "    name: TN_Oukaimeden\n",
    "    telescopes: [TN_Oukaimeden]\n",
    "strategy: \"continuous\"\n",
    "duration_segments: 20\n",
    "nb_segments: 3\n",
    "target_list: ./target_lists/speculoos_target_list_v6.txt\n"
   ]
  },
  {
   "cell_type": "markdown",
   "metadata": {},
   "source": [
    "Then you only have to run the following lines of code:"
   ]
  },
  {
   "cell_type": "code",
   "execution_count": 1,
   "metadata": {
    "scrolled": false
   },
   "outputs": [
    {
     "name": "stdout",
     "output_type": "stream",
     "text": [
      "INFO: Please add password.csv file in: /Users/elsaducrot/elsenv/lib/python3.7/site-packages/SPOCK-0.0.1-py3.7.egg/SPOCK/credentials/\n",
      "INFO: OK Password file exists\n"
     ]
    },
    {
     "data": {
      "application/vnd.jupyter.widget-view+json": {
       "model_id": "3cfeea1dcd8c43c3a5afb3d00b7b02ab",
       "version_major": 2,
       "version_minor": 0
      },
      "text/plain": [
       "HBox(children=(FloatProgress(value=0.0, description='Updating hours of obs ', max=2.0, style=ProgressStyle(des…"
      ]
     },
     "metadata": {},
     "output_type": "display_data"
    },
    {
     "name": "stdout",
     "output_type": "stream",
     "text": [
      "WARNING: No plans on Europa on the 2020-12-13\n",
      "WARNING: No plans on Ganymede on the 2020-12-13\n",
      "WARNING: No plans on Callisto on the 2020-12-13\n",
      "WARNING: No plans on Artemis on the 2020-12-13\n",
      "WARNING: No plans on Saint-Ex on the 2020-12-13\n",
      "WARNING: No plans on TS_La_Silla on the 2020-12-13\n",
      "WARNING: No plans on TN_Oukaimeden on the 2020-12-13\n",
      "WARNING: No plans on Europa on the 2020-12-14\n",
      "WARNING: No plans on Ganymede on the 2020-12-14\n",
      "WARNING: No plans on Callisto on the 2020-12-14\n",
      "WARNING: No plans on Artemis on the 2020-12-14\n",
      "WARNING: No plans on Saint-Ex on the 2020-12-14\n",
      "WARNING: No plans on TS_La_Silla on the 2020-12-14\n",
      "WARNING: No plans on TN_Oukaimeden on the 2020-12-14\n",
      "\n"
     ]
    },
    {
     "data": {
      "application/vnd.jupyter.widget-view+json": {
       "model_id": "8bc3c7bd9fcc422d8691f6bd9b4ce192",
       "version_major": 2,
       "version_minor": 0
      },
      "text/plain": [
       "HBox(children=(FloatProgress(value=0.0, description='Scheduling ', max=2.0, style=ProgressStyle(description_wi…"
      ]
     },
     "metadata": {},
     "output_type": "display_data"
    },
    {
     "name": "stdout",
     "output_type": "stream",
     "text": [
      "INFO: day is :  2020-12-13 15:00:00.000\n",
      "\n",
      "INFO: Not using moon phase in ETC\n",
      "INFO: Not using moon phase in ETC\n",
      "WARNING: Change filter to avoid saturation!!\n",
      "WARNING: Change filter to avoid saturation!!\n",
      "INFO: First target is 'rise'\n",
      "\n",
      "\n",
      "INFO: day is :  2020-12-14 15:00:00.000\n",
      "\n",
      "INFO: First target is 'rise'\n",
      "\n",
      "\n",
      "\n"
     ]
    }
   ],
   "source": [
    "import SPOCK.long_term_scheduler as SPOCKLT\n",
    "from astropy.time import Time\n",
    "\n",
    "schedule = SPOCKLT.Schedules()\n",
    "obs = 1\n",
    "schedule.load_parameters(date_range=['2020-12-13 15:00:00','2020-12-15 15:00:00'],obs_name='SSO')\n",
    "schedule.telescope = 'Io'\n",
    "schedule.make_schedule(Altitude_constraint = 28, Moon_constraint = 30)\n"
   ]
  },
  {
   "cell_type": "code",
   "execution_count": 3,
   "metadata": {},
   "outputs": [
    {
     "data": {
      "text/html": [
       "<i>Table length=2</i>\n",
       "<table id=\"table4957879264\" class=\"table-striped table-bordered table-condensed\">\n",
       "<thead><tr><th>target</th><th>start time (UTC)</th><th>end time (UTC)</th><th>duration (minutes)</th><th>ra (h)</th><th>ra (m)</th><th>ra (s)</th><th>dec (d)</th><th>dec (m)</th><th>dec (s)</th><th>configuration</th></tr></thead>\n",
       "<thead><tr><th>str15</th><th>str23</th><th>str23</th><th>float64</th><th>str32</th><th>str32</th><th>str32</th><th>str32</th><th>str32</th><th>str32</th><th>object</th></tr></thead>\n",
       "<tr><td>Sp0451-5818</td><td>2020-12-15 00:23:20.021</td><td>2020-12-15 04:37:00.021</td><td>253.66666666666669</td><td>4.0</td><td>51.0</td><td>37.175088000010135</td><td>-58.0</td><td>-18.0</td><td>-52.041960000003655</td><td>{&apos;filt=I+z&apos;, &apos;texp=30&apos;}</td></tr>\n",
       "<tr><td>Sp0903+0540</td><td>2020-12-15 04:37:20.021</td><td>2020-12-15 08:51:00.021</td><td>253.66666666666663</td><td>9.0</td><td>3.0</td><td>20.95999200001131</td><td>5.0</td><td>40.0</td><td>14.049840000005531</td><td>{&apos;filt=I+z&apos;, &apos;texp=10&apos;}</td></tr>\n",
       "</table>"
      ],
      "text/plain": [
       "<Table length=2>\n",
       "   target       start time (UTC)    ...      configuration     \n",
       "   str15             str23          ...          object        \n",
       "----------- ----------------------- ... -----------------------\n",
       "Sp0451-5818 2020-12-15 00:23:20.021 ... {'filt=I+z', 'texp=30'}\n",
       "Sp0903+0540 2020-12-15 04:37:20.021 ... {'filt=I+z', 'texp=10'}"
      ]
     },
     "metadata": {},
     "output_type": "display_data"
    }
   ],
   "source": [
    "display(schedule.night_block)"
   ]
  },
  {
   "cell_type": "code",
   "execution_count": null,
   "metadata": {},
   "outputs": [],
   "source": []
  }
 ],
 "metadata": {
  "kernelspec": {
   "display_name": "Python 3",
   "language": "python",
   "name": "python3"
  },
  "language_info": {
   "codemirror_mode": {
    "name": "ipython",
    "version": 3
   },
   "file_extension": ".py",
   "mimetype": "text/x-python",
   "name": "python",
   "nbconvert_exporter": "python",
   "pygments_lexer": "ipython3",
   "version": "3.7.0"
  }
 },
 "nbformat": 4,
 "nbformat_minor": 4
}
