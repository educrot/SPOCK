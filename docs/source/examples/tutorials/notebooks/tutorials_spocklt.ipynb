{
 "cells": [
  {
   "cell_type": "markdown",
   "metadata": {},
   "source": [
    "# Long-term scheduling"
   ]
  },
  {
   "cell_type": "markdown",
   "metadata": {},
   "source": [
    "Here we present the long-term scheduling module. The long-term scheduling module of spock has been concived to optimizing the planifification of targets on the SPECULOOS telescopes (SSO, SNO, Saint-Ex, TS, TN) and follow the strategy decided by the consortium. "
   ]
  },
  {
   "cell_type": "markdown",
   "metadata": {},
   "source": [
    "## Using input file"
   ]
  },
  {
   "cell_type": "markdown",
   "metadata": {},
   "source": [
    "The first option to generate the plans is to use an input file with all information requiered. \n",
    "This file you be filled like the following example:"
   ]
  },
  {
   "cell_type": "markdown",
   "metadata": {},
   "source": [
    "--- \n",
    "date_range: \n",
    "  - \"2021-01-01 15:00:00\"\n",
    "  - \"2021-02-01 15:00:00\"\n",
    "observatories:\n",
    "  1:\n",
    "    name: SSO\n",
    "    telescopes: [Io,Callisto,Ganymede,Europa]\n",
    "  2:\n",
    "    name: SNO\n",
    "    telescopes: [Artemis]\n",
    "  3: \n",
    "    name: Saint-Ex\n",
    "    telescopes: [Saint-Ex]\n",
    "  4: \n",
    "    name: TS_La_Silla\n",
    "    telescopes: [TS_La_Silla]\n",
    "  5: \n",
    "    name: TN_Oukaimeden\n",
    "    telescopes: [TN_Oukaimeden]\n",
    "strategy: \"continuous\"\n",
    "duration_segments: 20\n",
    "nb_segments: 3\n",
    "target_list: ./target_lists/speculoos_target_list_v6.txt\n"
   ]
  },
  {
   "cell_type": "markdown",
   "metadata": {},
   "source": [
    "Then you only have to run the following lines of code:"
   ]
  },
  {
   "cell_type": "code",
   "execution_count": 2,
   "metadata": {
    "scrolled": false
   },
   "outputs": [
    {
     "data": {
      "application/vnd.jupyter.widget-view+json": {
       "model_id": "006fdb213dcc434ab4e259eb19e4ef99",
       "version_major": 2,
       "version_minor": 0
      },
      "text/plain": [
       "HBox(children=(FloatProgress(value=0.0, description='Updating hours of obs ', max=2.0, style=ProgressStyle(des…"
      ]
     },
     "metadata": {},
     "output_type": "display_data"
    },
    {
     "name": "stdout",
     "output_type": "stream",
     "text": [
      "WARNING: No plans on Europa on the 2020-12-13\n",
      "WARNING: No plans on Ganymede on the 2020-12-13\n",
      "WARNING: No plans on Callisto on the 2020-12-13\n",
      "WARNING: No plans on Artemis on the 2020-12-13\n",
      "WARNING: No plans on Saint-Ex on the 2020-12-13\n",
      "WARNING: No plans on TS_La_Silla on the 2020-12-13\n",
      "WARNING: No plans on TN_Oukaimeden on the 2020-12-13\n",
      "WARNING: No plans on Europa on the 2020-12-14\n",
      "WARNING: No plans on Ganymede on the 2020-12-14\n",
      "WARNING: No plans on Callisto on the 2020-12-14\n",
      "WARNING: No plans on Artemis on the 2020-12-14\n",
      "WARNING: No plans on Saint-Ex on the 2020-12-14\n",
      "WARNING: No plans on TS_La_Silla on the 2020-12-14\n",
      "WARNING: No plans on TN_Oukaimeden on the 2020-12-14\n",
      "\n"
     ]
    },
    {
     "data": {
      "application/vnd.jupyter.widget-view+json": {
       "model_id": "a00810f1803d40ac96cea9184bedcd93",
       "version_major": 2,
       "version_minor": 0
      },
      "text/plain": [
       "HBox(children=(FloatProgress(value=0.0, description='Scheduling ', max=2.0, style=ProgressStyle(description_wi…"
      ]
     },
     "metadata": {},
     "output_type": "display_data"
    },
    {
     "name": "stdout",
     "output_type": "stream",
     "text": [
      "INFO: day is :  2020-12-13 15:00:00.000\n",
      "\n",
      "        priority        set or rise ...      max_alt          Sp_ID   \n",
      "----------------------- ----------- ... ------------------ -----------\n",
      " -9.925557318110652e+17        rise ...  69.24058982205271 Sp1048-3956\n",
      " -2.008640818012206e+16        rise ...  59.31856736559108 Sp1155-2224\n",
      "-1.9472753998126916e+16         set ...   76.9561951878522 Sp0102-3737\n",
      "    -9931856262292944.0        rise ...  53.59573912492481 Sp1056+0700\n",
      "    -8261165916582722.0        rise ...  63.86252574586789 Sp1121-1313\n",
      "    -6991298102487684.0        rise ...  42.90670981365879 Sp1309-2330\n",
      "    -3723107383405031.5         set ...  59.53628370437394 Sp2330-4736\n",
      "    -2737481579547980.0         set ...  63.71037363829414 Sp0109-5100\n",
      "    -2575063269899000.0        rise ... 35.701616966302474 Sp1013-7842\n",
      "    -2018767910401754.5        rise ...  49.77023752242764 Sp1224-1238\n",
      "                    ...         ... ...                ...         ...\n",
      " 1.2889090309977746e+18        rise ... 59.781367480739696 Sp0903+0540\n",
      "  9.092712510962269e+18        rise ...  62.42962467155434 Sp0704+0258\n",
      " 1.1690244617989407e+19        rise ...  76.17400154201755 Sp0711-3824\n",
      "  5.248958129375032e+19        both ...  44.57178281882957 Sp0420-7005\n",
      "  1.719292056563059e+20        rise ...   74.6153317484647 Sp0602-0915\n",
      " 1.8297378491631865e+20        rise ...   89.0173712111832 Sp0652-2534\n",
      " 5.1623780315803347e+20         set ...  61.71716569612129 Sp0426+0336\n",
      "  3.274052362054463e+21        both ...  74.87978167838028 Sp0535-0931\n",
      "  3.593567037550092e+21        both ...  56.34102023806624 Sp0451-5818\n",
      "  4.790910270526728e+21         set ...  81.43138914766986 Sp0435-1606\n",
      "  4.597011454010148e+22        rise ...  74.18325287957755 Sp0720-0846\n",
      "Length = 1730 rows\n",
      "1 <FixedTarget \"Sp0720-0846\" at SkyCoord (ICRS): (ra, dec) in deg (110.0135417, -8.7803028)>\n",
      "2 <FixedTarget \"Sp0435-1606\" at SkyCoord (ICRS): (ra, dec) in deg (68.8173092, -16.1159039)>\n",
      "INFO: Not using moon phase in ETC\n",
      "INFO: Not using moon phase in ETC\n",
      "WARNING: Change filter to avoid saturation!!\n",
      "WARNING: Change filter to avoid saturation!!\n",
      "INFO: First target is 'rise'\n",
      "\n",
      "\n",
      "INFO: day is :  2020-12-14 15:00:00.000\n",
      "\n",
      "        priority        set or rise ...      max_alt          Sp_ID   \n",
      "----------------------- ----------- ... ------------------ -----------\n",
      " -9.925557318110652e+17        rise ...  69.82913124630986 Sp1048-3956\n",
      " -2.008640818012206e+16        rise ...  60.28973099495156 Sp1155-2224\n",
      "-1.9472753998126916e+16         set ...  76.77421519132304 Sp0102-3737\n",
      "    -9931856262292944.0        rise ...  54.10537105924001 Sp1056+0700\n",
      "    -8261165916582722.0        rise ...  64.76673330852242 Sp1121-1313\n",
      "    -6991298102487684.0        rise ...   43.8644158855132 Sp1309-2330\n",
      "    -3723107383405031.5         set ... 58.933364578518486 Sp2330-4736\n",
      "    -2737481579547980.0         set ...  63.67562331089962 Sp0109-5100\n",
      "    -2575063269899000.0        rise ... 35.730362036022974 Sp1013-7842\n",
      "    -2018767910401754.5        rise ...  50.72827868548838 Sp1224-1238\n",
      "                    ...         ... ...                ...         ...\n",
      "  9.283058136601407e+17        rise ...   47.0460150964589 Sp0840+1824\n",
      " 1.2903757574902536e+18        rise ...  59.78462438275252 Sp0903+0540\n",
      "  9.093692933590881e+18        rise ...  62.43312139905199 Sp0704+0258\n",
      " 1.1691088295694516e+19        rise ...   76.1773338910769 Sp0711-3824\n",
      "   5.24868260393193e+19        both ... 44.571017924765066 Sp0420-7005\n",
      "  1.719483354744271e+20        rise ...  74.62029590320797 Sp0602-0915\n",
      " 1.8289078703541548e+20        rise ...  88.99060061806658 Sp0652-2534\n",
      "  5.162595753447237e+20         set ...  61.71850335881976 Sp0426+0336\n",
      "  3.273846755844851e+21        both ...  74.87696328674242 Sp0535-0931\n",
      "  3.593740962548134e+21        both ...  56.34229511671619 Sp0451-5818\n",
      "  4.597396800138551e+22        rise ...  74.18695655654413 Sp0720-0846\n",
      "Length = 1730 rows\n",
      "1 <FixedTarget \"Sp0720-0846\" at SkyCoord (ICRS): (ra, dec) in deg (110.0135417, -8.7803028)>\n",
      "2 <FixedTarget \"Sp0451-5818\" at SkyCoord (ICRS): (ra, dec) in deg (72.9048962, -58.3144561)>\n",
      "INFO: First target is 'rise'\n",
      "\n",
      "\n",
      "\n"
     ]
    }
   ],
   "source": [
    "import SPOCK.long_term_scheduler as SPOCKLT\n",
    "from astropy.time import Time\n",
    "\n",
    "schedule = SPOCKLT.Schedules()\n",
    "obs = 1\n",
    "schedule.load_parameters(date_range=['2020-12-13 15:00:00','2020-12-15 15:00:00'],obs_name='SSO')\n",
    "schedule.telescope = 'Io'\n",
    "schedule.make_schedule(Altitude_constraint = 28, Moon_constraint = 30)\n"
   ]
  },
  {
   "cell_type": "code",
   "execution_count": 7,
   "metadata": {},
   "outputs": [
    {
     "data": {
      "text/html": [
       "<i>Table length=2</i>\n",
       "<table id=\"table4991213352\" class=\"table-striped table-bordered table-condensed\">\n",
       "<thead><tr><th>target</th><th>start time (UTC)</th><th>end time (UTC)</th><th>duration (minutes)</th><th>ra (h)</th><th>ra (m)</th><th>ra (s)</th><th>dec (d)</th><th>dec (m)</th><th>dec (s)</th><th>configuration</th></tr></thead>\n",
       "<thead><tr><th>str15</th><th>str23</th><th>str23</th><th>float64</th><th>str32</th><th>str32</th><th>str32</th><th>str32</th><th>str32</th><th>str32</th><th>object</th></tr></thead>\n",
       "<tr><td>Sp0451-5818</td><td>2020-12-15 00:23:20.021</td><td>2020-12-15 04:37:00.021</td><td>253.66666666666669</td><td>4.0</td><td>51.0</td><td>37.175088000010135</td><td>-58.0</td><td>-18.0</td><td>-52.041960000003655</td><td>{&apos;texp=30&apos;, &apos;filt=I+z&apos;}</td></tr>\n",
       "<tr><td>Sp0903+0540</td><td>2020-12-15 04:37:20.021</td><td>2020-12-15 08:51:00.021</td><td>253.66666666666663</td><td>9.0</td><td>3.0</td><td>20.95999200001131</td><td>5.0</td><td>40.0</td><td>14.049840000005531</td><td>{&apos;texp=10&apos;, &apos;filt=I+z&apos;}</td></tr>\n",
       "</table>"
      ],
      "text/plain": [
       "<Table length=2>\n",
       "   target       start time (UTC)    ...      configuration     \n",
       "   str15             str23          ...          object        \n",
       "----------- ----------------------- ... -----------------------\n",
       "Sp0451-5818 2020-12-15 00:23:20.021 ... {'texp=30', 'filt=I+z'}\n",
       "Sp0903+0540 2020-12-15 04:37:20.021 ... {'texp=10', 'filt=I+z'}"
      ]
     },
     "metadata": {},
     "output_type": "display_data"
    }
   ],
   "source": [
    "display(schedule.night_block)"
   ]
  },
  {
   "cell_type": "code",
   "execution_count": null,
   "metadata": {},
   "outputs": [],
   "source": []
  }
 ],
 "metadata": {
  "kernelspec": {
   "display_name": "Python 3",
   "language": "python",
   "name": "python3"
  },
  "language_info": {
   "codemirror_mode": {
    "name": "ipython",
    "version": 3
   },
   "file_extension": ".py",
   "mimetype": "text/x-python",
   "name": "python",
   "nbconvert_exporter": "python",
   "pygments_lexer": "ipython3",
   "version": "3.7.0"
  }
 },
 "nbformat": 4,
 "nbformat_minor": 4
}
