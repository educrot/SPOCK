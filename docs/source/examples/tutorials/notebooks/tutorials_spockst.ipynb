{
 "cells": [
  {
   "cell_type": "markdown",
   "metadata": {},
   "source": [
    "# Short-term scheduling"
   ]
  },
  {
   "cell_type": "markdown",
   "metadata": {},
   "source": [
    "Here we present the short-term scheduling module. The short-term scheduling module of spock has been concived to modify existing plan in order to add special or follow up observations, like transits or monitoring for instance."
   ]
  },
  {
   "cell_type": "markdown",
   "metadata": {},
   "source": [
    "<div class=\"alert alert-info\">\n",
    "\n",
    "**Note:** Before you insert new observations and upload them please make sure you have informed the SPECULOOS consortium \n",
    "\n",
    "</div>"
   ]
  },
  {
   "cell_type": "markdown",
   "metadata": {},
   "source": [
    "## 1- Special target"
   ]
  },
  {
   "cell_type": "markdown",
   "metadata": {},
   "source": [
    "<div class=\"alert alert-warning\">\n",
    "    \n",
    "**WARNING:** First of all, users must ensure that they have entered requiered information of the target they wish to schedule either in <span style=\"color:teal\"> *target_list_special.txt* </span> if it's a special observation or in <span style=\"color:teal\"> *target_list_follow_up.txt* </span> if it's a transiting planet follow up.\n",
    "\n",
    "</div>\n"
   ]
  },
  {
   "cell_type": "markdown",
   "metadata": {},
   "source": [
    "### For a special observation with given start/end time "
   ]
  },
  {
   "cell_type": "markdown",
   "metadata": {},
   "source": [
    "Here is the existing **|night blocks|** for a given `date` and a given `telescope`:"
   ]
  },
  {
   "cell_type": "code",
   "execution_count": 1,
   "metadata": {},
   "outputs": [
    {
     "name": "stdout",
     "output_type": "stream",
     "text": [
      "\u001b[32mINFO: \u001b[30m Please add password.csv file in: /Users/elsaducrot/elsenv/lib/python3.7/site-packages/SPOCK-0.0.1-py3.7.egg/SPOCK/credentials/\n",
      "\u001b[32mINFO: \u001b[30m OK Password file exists\n"
     ]
    },
    {
     "data": {
      "text/html": [
       "<div>\n",
       "<style scoped>\n",
       "    .dataframe tbody tr th:only-of-type {\n",
       "        vertical-align: middle;\n",
       "    }\n",
       "\n",
       "    .dataframe tbody tr th {\n",
       "        vertical-align: top;\n",
       "    }\n",
       "\n",
       "    .dataframe thead th {\n",
       "        text-align: right;\n",
       "    }\n",
       "</style>\n",
       "<table border=\"1\" class=\"dataframe\">\n",
       "  <thead>\n",
       "    <tr style=\"text-align: right;\">\n",
       "      <th></th>\n",
       "      <th>target</th>\n",
       "      <th>start time (UTC)</th>\n",
       "      <th>end time (UTC)</th>\n",
       "      <th>duration (minutes)</th>\n",
       "      <th>ra (h)</th>\n",
       "      <th>ra (m)</th>\n",
       "      <th>ra (s)</th>\n",
       "      <th>dec (d)</th>\n",
       "      <th>dec (m)</th>\n",
       "      <th>dec (s)</th>\n",
       "      <th>configuration</th>\n",
       "    </tr>\n",
       "  </thead>\n",
       "  <tbody>\n",
       "    <tr>\n",
       "      <th>0</th>\n",
       "      <td>Sp0314+1603</td>\n",
       "      <td>2020-12-13 00:21:40.020</td>\n",
       "      <td>2020-12-13 04:31:40.020</td>\n",
       "      <td>250.0</td>\n",
       "      <td>3.0</td>\n",
       "      <td>14.0</td>\n",
       "      <td>3.431808</td>\n",
       "      <td>16.0</td>\n",
       "      <td>3.0</td>\n",
       "      <td>5.47560</td>\n",
       "      <td>{'filt=I+z', 'texp=70'}</td>\n",
       "    </tr>\n",
       "    <tr>\n",
       "      <th>1</th>\n",
       "      <td>Sp0535-0931</td>\n",
       "      <td>2020-12-13 04:32:00.020</td>\n",
       "      <td>2020-12-13 08:50:00.020</td>\n",
       "      <td>258.0</td>\n",
       "      <td>5.0</td>\n",
       "      <td>35.0</td>\n",
       "      <td>21.300600</td>\n",
       "      <td>-9.0</td>\n",
       "      <td>-31.0</td>\n",
       "      <td>-6.52332</td>\n",
       "      <td>{'filt=I+z', 'texp=25'}</td>\n",
       "    </tr>\n",
       "  </tbody>\n",
       "</table>\n",
       "</div>"
      ],
      "text/plain": [
       "        target         start time (UTC)           end time (UTC)  \\\n",
       "0  Sp0314+1603  2020-12-13 00:21:40.020  2020-12-13 04:31:40.020   \n",
       "1  Sp0535-0931  2020-12-13 04:32:00.020  2020-12-13 08:50:00.020   \n",
       "\n",
       "   duration (minutes)  ra (h)  ra (m)     ra (s)  dec (d)  dec (m)  dec (s)  \\\n",
       "0               250.0     3.0    14.0   3.431808     16.0      3.0  5.47560   \n",
       "1               258.0     5.0    35.0  21.300600     -9.0    -31.0 -6.52332   \n",
       "\n",
       "             configuration  \n",
       "0  {'filt=I+z', 'texp=70'}  \n",
       "1  {'filt=I+z', 'texp=25'}  "
      ]
     },
     "execution_count": 1,
     "metadata": {},
     "output_type": "execute_result"
    }
   ],
   "source": [
    "import SPOCK.stats as SPOCKstats\n",
    "\n",
    "SPOCKstats.read_night_plans_server(telescope='Europa',date='2020-12-12')"
   ]
  },
  {
   "cell_type": "markdown",
   "metadata": {},
   "source": [
    "First you want to create the **|night blocks|**. The only esstial information are: \n",
    "\n",
    "+ the name of the site, ex: `obs_name = 'SSO'`\n",
    "\n",
    "+ the name of the telescope (because there can be several telescope per site), ex: `telescope ='Europa'`\n",
    "\n",
    "+ the date the night starts, ex: `day_of_night ='2020-12-12 15:00:00'`\n",
    "\n",
    "+ and the name of your target, `input_name = 'Trappist-1'`\n",
    "\n",
    "+ start and end time in a list, ex: `start_end_range = ['2020-12-12 23:00:00','2020-12-13 01:00:00']`\n",
    "\n",
    "<span style=\"color:teal\">NB: you must first have filled info on the target in *target_list_special.txt* beforehand </span>"
   ]
  },
  {
   "cell_type": "markdown",
   "metadata": {},
   "source": [
    "This is the block you wish to insert:"
   ]
  },
  {
   "cell_type": "code",
   "execution_count": 2,
   "metadata": {},
   "outputs": [
    {
     "name": "stdout",
     "output_type": "stream",
     "text": [
      "\n"
     ]
    },
    {
     "data": {
      "text/html": [
       "<i>Table length=1</i>\n",
       "<table id=\"table4988525984\" class=\"table-striped table-bordered table-condensed\">\n",
       "<thead><tr><th>target</th><th>start time (UTC)</th><th>end time (UTC)</th><th>duration (minutes)</th><th>ra (h)</th><th>ra (m)</th><th>ra (s)</th><th>dec (d)</th><th>dec (m)</th><th>dec (s)</th><th>configuration</th></tr></thead>\n",
       "<thead><tr><th>str10</th><th>str23</th><th>str23</th><th>float64</th><th>float64</th><th>float64</th><th>float64</th><th>float64</th><th>float64</th><th>float64</th><th>object</th></tr></thead>\n",
       "<tr><td>Trappist-1</td><td>2020-12-12 23:00:00.018</td><td>2020-12-13 01:00:00.018</td><td>120.00000000000006</td><td>23.0</td><td>6.0</td><td>29.372136000018543</td><td>-5.0</td><td>-2.0</td><td>-29.031720000000334</td><td>{&apos;texp=50&apos;, &quot;filt=r&apos;&quot;}</td></tr>\n",
       "</table>"
      ],
      "text/plain": [
       "<Table length=1>\n",
       "  target       start time (UTC)    ...     configuration     \n",
       "  str10             str23          ...         object        \n",
       "---------- ----------------------- ... ----------------------\n",
       "Trappist-1 2020-12-12 23:00:00.018 ... {'texp=50', \"filt=r'\"}"
      ]
     },
     "execution_count": 2,
     "metadata": {},
     "output_type": "execute_result"
    }
   ],
   "source": [
    "import SPOCK.short_term_scheduler as SPOCKST\n",
    "from astropy.time import Time\n",
    "\n",
    "schedule = SPOCKST.Schedules()\n",
    "\n",
    "schedule.load_parameters(obs_name='SSO')\n",
    "schedule.day_of_night = Time('2020-12-12 15:00:00')\n",
    "schedule.start_end_range = Time(['2020-12-12 23:00:00','2020-12-13 01:00:00'])\n",
    "schedule.telescope = 'Europa'\n",
    "schedule.special_target_with_start_end(input_name=\"Trappist-1\")\n",
    "\n"
   ]
  },
  {
   "cell_type": "markdown",
   "metadata": {},
   "source": [
    "Now you modify existing plan to insert your observation block:"
   ]
  },
  {
   "cell_type": "code",
   "execution_count": 3,
   "metadata": {},
   "outputs": [
    {
     "name": "stdout",
     "output_type": "stream",
     "text": [
      "\u001b[32mINFO: \u001b[30m Local path does not exist yet \n",
      "\u001b[32mINFO: \u001b[30m situation 1\n",
      "\u001b[32mINFO: \u001b[30m situation 2\n",
      "\u001b[32mINFO: \u001b[30m situation 1\n",
      "\u001b[32mINFO: \u001b[30m situation 3, no change made to initial schedule\n",
      "\u001b[32mINFO: \u001b[30m no transition block\n"
     ]
    }
   ],
   "source": [
    "schedule.make_scheduled_table()\n",
    "schedule.planification()\n",
    "schedule.make_night_block()"
   ]
  },
  {
   "cell_type": "markdown",
   "metadata": {},
   "source": [
    "Here is how the modified **|night blocks|** looks like:"
   ]
  },
  {
   "cell_type": "code",
   "execution_count": 4,
   "metadata": {},
   "outputs": [
    {
     "data": {
      "text/html": [
       "<i>Table length=3</i>\n",
       "<table id=\"table5001393824\" class=\"table-striped table-bordered table-condensed\">\n",
       "<thead><tr><th>target</th><th>start time (UTC)</th><th>end time (UTC)</th><th>duration (minutes)</th><th>ra (h)</th><th>ra (m)</th><th>ra (s)</th><th>dec (d)</th><th>dec (m)</th><th>dec (s)</th><th>configuration</th></tr></thead>\n",
       "<thead><tr><th>str11</th><th>str23</th><th>str23</th><th>float64</th><th>float64</th><th>float64</th><th>float64</th><th>float64</th><th>float64</th><th>float64</th><th>object</th></tr></thead>\n",
       "<tr><td>Trappist-1</td><td>2020-12-13 00:21:24.626</td><td>2020-12-13 01:00:00.018</td><td>120.00000000000006</td><td>23.0</td><td>6.0</td><td>29.372136000018543</td><td>-5.0</td><td>-2.0</td><td>-29.031720000000334</td><td>{&apos;texp=50&apos;, &quot;filt=r&apos;&quot;}</td></tr>\n",
       "<tr><td>NGTS-11</td><td>2020-12-13 01:00:00.018</td><td>2020-12-13 05:26:40.021</td><td>266.66671666666673</td><td>1.0</td><td>34.0</td><td>5.148000000001645</td><td>-14.0</td><td>-25.0</td><td>-8.93639999999678</td><td>{&apos;texp=10&apos;, &apos;filt=g&apos;}</td></tr>\n",
       "<tr><td>Sp0535-0931</td><td>2020-12-13 05:26:40.021</td><td>2020-12-13 08:50:00.020</td><td>203.33331666666658</td><td>5.0</td><td>35.0</td><td>21.300600000004266</td><td>-9.0</td><td>-31.0</td><td>-6.5233199999974545</td><td>{&apos;filt=I+z&apos;, &apos;texp=25&apos;}</td></tr>\n",
       "</table>"
      ],
      "text/plain": [
       "<Table length=3>\n",
       "   target       start time (UTC)    ...      configuration     \n",
       "   str11             str23          ...          object        \n",
       "----------- ----------------------- ... -----------------------\n",
       " Trappist-1 2020-12-13 00:21:24.626 ...  {'texp=50', \"filt=r'\"}\n",
       "    NGTS-11 2020-12-13 01:00:00.018 ...   {'texp=10', 'filt=g'}\n",
       "Sp0535-0931 2020-12-13 05:26:40.021 ... {'filt=I+z', 'texp=25'}"
      ]
     },
     "metadata": {},
     "output_type": "display_data"
    }
   ],
   "source": [
    "display(schedule.scheduled_table_sorted)"
   ]
  },
  {
   "cell_type": "markdown",
   "metadata": {},
   "source": [
    "### For a special target that you wish to observe as much as possible"
   ]
  },
  {
   "cell_type": "markdown",
   "metadata": {},
   "source": [
    "First you want to create the **|night blocks|**. The only essential information needed are: \n",
    "\n",
    "+ the name of the site, ex: `obs_name = 'SSO'`\n",
    "\n",
    "+ the name of the telescope (because there can be several telescope per site), ex: `telescope = 'Europa'`\n",
    "\n",
    "+ the date the night starts, ex: `day_of _night = '2020-12-12 15:00:00'`\n",
    "\n",
    "+ and the name of your target, `input_name = 'Trappist-1'`\n",
    "\n",
    "<span style=\"color:teal\">NB: you must first have filled info on the target in *target_list_special.txt* beforehand </span>"
   ]
  },
  {
   "cell_type": "code",
   "execution_count": 5,
   "metadata": {},
   "outputs": [
    {
     "name": "stdout",
     "output_type": "stream",
     "text": [
      "\n"
     ]
    },
    {
     "data": {
      "text/html": [
       "<i>Table length=1</i>\n",
       "<table id=\"table4488615752\" class=\"table-striped table-bordered table-condensed\">\n",
       "<thead><tr><th>target</th><th>start time (UTC)</th><th>end time (UTC)</th><th>duration (minutes)</th><th>ra (h)</th><th>ra (m)</th><th>ra (s)</th><th>dec (d)</th><th>dec (m)</th><th>dec (s)</th><th>configuration</th></tr></thead>\n",
       "<thead><tr><th>str10</th><th>str23</th><th>str23</th><th>float64</th><th>float64</th><th>float64</th><th>float64</th><th>float64</th><th>float64</th><th>float64</th><th>object</th></tr></thead>\n",
       "<tr><td>Trappist-1</td><td>2020-12-10 19:06:00.009</td><td>2020-12-10 22:50:40.009</td><td>224.6666666666667</td><td>23.0</td><td>6.0</td><td>29.372136000018543</td><td>-5.0</td><td>-2.0</td><td>-29.031720000000334</td><td>{&apos;texp=50&apos;, &quot;filt=r&apos;&quot;}</td></tr>\n",
       "</table>"
      ],
      "text/plain": [
       "<Table length=1>\n",
       "  target       start time (UTC)    ...     configuration     \n",
       "  str10             str23          ...         object        \n",
       "---------- ----------------------- ... ----------------------\n",
       "Trappist-1 2020-12-10 19:06:00.009 ... {'texp=50', \"filt=r'\"}"
      ]
     },
     "execution_count": 5,
     "metadata": {},
     "output_type": "execute_result"
    }
   ],
   "source": [
    "import SPOCK.short_term_scheduler as SPOCKST\n",
    "from astropy.time import Time\n",
    "\n",
    "schedule = SPOCKST.Schedules()\n",
    "\n",
    "schedule.load_parameters(obs_name= 'SNO')\n",
    "schedule.day_of_night = Time('2020-12-10 15:00:00')\n",
    "schedule.telescope = 'Artemis'\n",
    "schedule.special_target(input_name=\"Trappist-1\")\n",
    "\n"
   ]
  },
  {
   "cell_type": "code",
   "execution_count": 6,
   "metadata": {},
   "outputs": [
    {
     "name": "stdout",
     "output_type": "stream",
     "text": [
      "\u001b[32mINFO: \u001b[30m Local path does not exist yet \n",
      "\u001b[32mINFO: \u001b[30m situation 6\n",
      "\u001b[32mINFO: \u001b[30m situation 3, no change made to initial schedule\n",
      "\u001b[32mINFO: \u001b[30m no transition block\n"
     ]
    }
   ],
   "source": [
    "schedule.make_scheduled_table()\n",
    "schedule.planification()\n",
    "schedule.make_night_block()"
   ]
  },
  {
   "cell_type": "markdown",
   "metadata": {},
   "source": [
    "Here is how the modified **|night blocks|** looks like:"
   ]
  },
  {
   "cell_type": "code",
   "execution_count": 7,
   "metadata": {},
   "outputs": [
    {
     "data": {
      "text/html": [
       "<i>Table length=3</i>\n",
       "<table id=\"table4469008480\" class=\"table-striped table-bordered table-condensed\">\n",
       "<thead><tr><th>target</th><th>start time (UTC)</th><th>end time (UTC)</th><th>duration (minutes)</th><th>ra (h)</th><th>ra (m)</th><th>ra (s)</th><th>dec (d)</th><th>dec (m)</th><th>dec (s)</th><th>configuration</th></tr></thead>\n",
       "<thead><tr><th>str11</th><th>str23</th><th>str23</th><th>float64</th><th>float64</th><th>float64</th><th>float64</th><th>float64</th><th>float64</th><th>float64</th><th>object</th></tr></thead>\n",
       "<tr><td>Trappist-1</td><td>2020-12-10 19:06:00.009</td><td>2020-12-10 22:50:40.009</td><td>224.6666666666667</td><td>23.0</td><td>6.0</td><td>29.372136000018543</td><td>-5.0</td><td>-2.0</td><td>-29.031720000000334</td><td>{&apos;texp=50&apos;, &quot;filt=r&apos;&quot;}</td></tr>\n",
       "<tr><td>NGTS-11</td><td>2020-12-10 22:50:40.009</td><td>2020-12-11 00:49:00.009</td><td>118.33333333333317</td><td>1.0</td><td>34.0</td><td>5.148000000001645</td><td>-14.0</td><td>-25.0</td><td>-8.93639999999678</td><td>{&apos;texp=10&apos;, &apos;filt=g&apos;}</td></tr>\n",
       "<tr><td>Sp0840+1824</td><td>2020-12-11 00:49:00.009</td><td>2020-12-11 06:53:20.009</td><td>364.33333333333326</td><td>8.0</td><td>40.0</td><td>29.634552000006664</td><td>18.0</td><td>24.0</td><td>8.726760000003821</td><td>{&apos;texp=26&apos;, &apos;filt=I+z&apos;}</td></tr>\n",
       "</table>"
      ],
      "text/plain": [
       "<Table length=3>\n",
       "   target       start time (UTC)    ...      configuration     \n",
       "   str11             str23          ...          object        \n",
       "----------- ----------------------- ... -----------------------\n",
       " Trappist-1 2020-12-10 19:06:00.009 ...  {'texp=50', \"filt=r'\"}\n",
       "    NGTS-11 2020-12-10 22:50:40.009 ...   {'texp=10', 'filt=g'}\n",
       "Sp0840+1824 2020-12-11 00:49:00.009 ... {'texp=26', 'filt=I+z'}"
      ]
     },
     "metadata": {},
     "output_type": "display_data"
    }
   ],
   "source": [
    "display(schedule.scheduled_table_sorted)"
   ]
  },
  {
   "cell_type": "markdown",
   "metadata": {},
   "source": [
    "## 2- Follow-up"
   ]
  },
  {
   "cell_type": "code",
   "execution_count": 8,
   "metadata": {},
   "outputs": [
    {
     "data": {
      "text/html": [
       "<div>\n",
       "<style scoped>\n",
       "    .dataframe tbody tr th:only-of-type {\n",
       "        vertical-align: middle;\n",
       "    }\n",
       "\n",
       "    .dataframe tbody tr th {\n",
       "        vertical-align: top;\n",
       "    }\n",
       "\n",
       "    .dataframe thead th {\n",
       "        text-align: right;\n",
       "    }\n",
       "</style>\n",
       "<table border=\"1\" class=\"dataframe\">\n",
       "  <thead>\n",
       "    <tr style=\"text-align: right;\">\n",
       "      <th></th>\n",
       "      <th>target</th>\n",
       "      <th>start time (UTC)</th>\n",
       "      <th>end time (UTC)</th>\n",
       "      <th>duration (minutes)</th>\n",
       "      <th>ra (h)</th>\n",
       "      <th>ra (m)</th>\n",
       "      <th>ra (s)</th>\n",
       "      <th>dec (d)</th>\n",
       "      <th>dec (m)</th>\n",
       "      <th>dec (s)</th>\n",
       "      <th>configuration</th>\n",
       "    </tr>\n",
       "  </thead>\n",
       "  <tbody>\n",
       "    <tr>\n",
       "      <th>0</th>\n",
       "      <td>Sp0008+4918</td>\n",
       "      <td>2020-09-15 20:02:00.010</td>\n",
       "      <td>2020-09-16 06:00:40.010</td>\n",
       "      <td>598.666667</td>\n",
       "      <td>0.0</td>\n",
       "      <td>8.0</td>\n",
       "      <td>55.36284</td>\n",
       "      <td>49.0</td>\n",
       "      <td>18.0</td>\n",
       "      <td>56.3202</td>\n",
       "      <td>{'filt=I+z', 'texp=20'}</td>\n",
       "    </tr>\n",
       "  </tbody>\n",
       "</table>\n",
       "</div>"
      ],
      "text/plain": [
       "        target         start time (UTC)           end time (UTC)  \\\n",
       "0  Sp0008+4918  2020-09-15 20:02:00.010  2020-09-16 06:00:40.010   \n",
       "\n",
       "   duration (minutes)  ra (h)  ra (m)    ra (s)  dec (d)  dec (m)  dec (s)  \\\n",
       "0          598.666667     0.0     8.0  55.36284     49.0     18.0  56.3202   \n",
       "\n",
       "             configuration  \n",
       "0  {'filt=I+z', 'texp=20'}  "
      ]
     },
     "execution_count": 8,
     "metadata": {},
     "output_type": "execute_result"
    }
   ],
   "source": [
    "import SPOCK.stats as SPOCKstats\n",
    "\n",
    "SPOCKstats.read_night_plans_server(telescope='Artemis',date='2020-09-15')"
   ]
  },
  {
   "cell_type": "code",
   "execution_count": 9,
   "metadata": {},
   "outputs": [
    {
     "name": "stdout",
     "output_type": "stream",
     "text": [
      "\u001b[32m\u001b[32mINFO: \u001b[30m \u001b[30mTrappist-1b next transit: \n",
      "['2020-09-15 21:03:54.058']\n",
      "\u001b[32mINFO: \u001b[30m start_transit of  Trappist-1b  :  2020-09-15 19:50:37.448\n",
      "\u001b[32mINFO: \u001b[30m end_transit of  Trappist-1b  :  2020-09-15 22:17:12.668\n",
      "\u001b[33mWARNING: \u001b[30m Time out of transit not optimal.\n",
      "\n"
     ]
    },
    {
     "data": {
      "text/html": [
       "<i>Table length=1</i>\n",
       "<table id=\"table5001353200\" class=\"table-striped table-bordered table-condensed\">\n",
       "<thead><tr><th>target</th><th>start time (UTC)</th><th>end time (UTC)</th><th>duration (minutes)</th><th>ra (h)</th><th>ra (m)</th><th>ra (s)</th><th>dec (d)</th><th>dec (m)</th><th>dec (s)</th><th>configuration</th></tr></thead>\n",
       "<thead><tr><th>str11</th><th>str23</th><th>str23</th><th>float64</th><th>float64</th><th>float64</th><th>float64</th><th>float64</th><th>float64</th><th>float64</th><th>object</th></tr></thead>\n",
       "<tr><td>Trappist-1b</td><td>2020-09-15 20:40:20.012</td><td>2020-09-15 22:17:20.012</td><td>96.99999999999997</td><td>23.0</td><td>6.0</td><td>29.000000000000057</td><td>-5.0</td><td>-2.0</td><td>-28.000000000000753</td><td>{&apos;texp=23&apos;, &apos;filt=I+z&apos;}</td></tr>\n",
       "</table>"
      ],
      "text/plain": [
       "<Table length=1>\n",
       "   target       start time (UTC)    ...      configuration     \n",
       "   str11             str23          ...          object        \n",
       "----------- ----------------------- ... -----------------------\n",
       "Trappist-1b 2020-09-15 20:40:20.012 ... {'texp=23', 'filt=I+z'}"
      ]
     },
     "execution_count": 9,
     "metadata": {},
     "output_type": "execute_result"
    }
   ],
   "source": [
    "import SPOCK.short_term_scheduler as SPOCKST\n",
    "from astropy.time import Time\n",
    "\n",
    "schedule = SPOCKST.Schedules()\n",
    "\n",
    "schedule.load_parameters(obs_name= 'SNO')\n",
    "schedule.day_of_night = Time('2020-09-15 15:00:00')\n",
    "schedule.telescope = 'Artemis'\n",
    "\n",
    "schedule.transit_follow_up(name=\"Trappist-1b\")"
   ]
  },
  {
   "cell_type": "code",
   "execution_count": 10,
   "metadata": {},
   "outputs": [
    {
     "name": "stdout",
     "output_type": "stream",
     "text": [
      "\u001b[32mINFO: \u001b[30m Local path does not exist yet \n",
      "\u001b[32mINFO: \u001b[30m situation 6\n",
      "\u001b[32mINFO: \u001b[30m no transition block\n"
     ]
    }
   ],
   "source": [
    "schedule.make_scheduled_table()\n",
    "schedule.planification()\n",
    "schedule.make_night_block()"
   ]
  },
  {
   "cell_type": "code",
   "execution_count": 11,
   "metadata": {},
   "outputs": [
    {
     "data": {
      "text/html": [
       "<i>Table length=3</i>\n",
       "<table id=\"table4488604416\" class=\"table-striped table-bordered table-condensed\">\n",
       "<thead><tr><th>target</th><th>start time (UTC)</th><th>end time (UTC)</th><th>duration (minutes)</th><th>ra (h)</th><th>ra (m)</th><th>ra (s)</th><th>dec (d)</th><th>dec (m)</th><th>dec (s)</th><th>configuration</th></tr></thead>\n",
       "<thead><tr><th>str13</th><th>str23</th><th>str23</th><th>float64</th><th>float64</th><th>float64</th><th>float64</th><th>float64</th><th>float64</th><th>float64</th><th>object</th></tr></thead>\n",
       "<tr><td>Sp0008+4918</td><td>2020-09-15 20:02:00.010</td><td>2020-09-15 20:40:20.012</td><td>38.333366666666834</td><td>0.0</td><td>8.0</td><td>55.36284000000007</td><td>49.0</td><td>18.0</td><td>56.3201999999916</td><td>{&apos;filt=I+z&apos;, &apos;texp=20&apos;}</td></tr>\n",
       "<tr><td>Trappist-1b</td><td>2020-09-15 20:40:20.012</td><td>2020-09-15 22:17:20.012</td><td>96.99999999999997</td><td>23.0</td><td>6.0</td><td>29.000000000000057</td><td>-5.0</td><td>-2.0</td><td>-28.000000000000753</td><td>{&apos;texp=23&apos;, &apos;filt=I+z&apos;}</td></tr>\n",
       "<tr><td>Sp0008+4918_2</td><td>2020-09-15 22:17:20.012</td><td>2020-09-16 06:00:40.010</td><td>463.33329999999984</td><td>0.0</td><td>8.0</td><td>55.36284000000007</td><td>49.0</td><td>18.0</td><td>56.3201999999916</td><td>{&apos;filt=I+z&apos;, &apos;texp=20&apos;}</td></tr>\n",
       "</table>"
      ],
      "text/plain": [
       "<Table length=3>\n",
       "    target        start time (UTC)    ...      configuration     \n",
       "    str13              str23          ...          object        \n",
       "------------- ----------------------- ... -----------------------\n",
       "  Sp0008+4918 2020-09-15 20:02:00.010 ... {'filt=I+z', 'texp=20'}\n",
       "  Trappist-1b 2020-09-15 20:40:20.012 ... {'texp=23', 'filt=I+z'}\n",
       "Sp0008+4918_2 2020-09-15 22:17:20.012 ... {'filt=I+z', 'texp=20'}"
      ]
     },
     "metadata": {},
     "output_type": "display_data"
    }
   ],
   "source": [
    "display(schedule.scheduled_table_sorted)"
   ]
  },
  {
   "cell_type": "markdown",
   "metadata": {},
   "source": [
    "## 3- Save your plans and night blocks"
   ]
  },
  {
   "cell_type": "markdown",
   "metadata": {},
   "source": [
    "If you are satisfied with this modified **|night blocks|** you can save it. Executing this cell will upadate your local spock database. The **|night blocks|** will be saved in `your_spock_path + \"/DATABASE/telescope/Archive_night_blocks/\"`"
   ]
  },
  {
   "cell_type": "code",
   "execution_count": 12,
   "metadata": {},
   "outputs": [
    {
     "name": "stdout",
     "output_type": "stream",
     "text": [
      "INFO : \"/Users/elsaducrot/spock/night_blocks_propositions/night_blocks_Artemis_2020-09-15.txt\" has been over-written to \"/Users/elsaducrot/spock/DATABASE/Artemis/\"\n",
      "INFO : \"/Users/elsaducrot/spock/night_blocks_propositions/night_blocks_Artemis_2020-09-15.txt\" has been over-written to \"/Users/elsaducrot/spock/DATABASE/Artemis/Archive_night_blocks/\"\n"
     ]
    }
   ],
   "source": [
    "SPOCKST.save_schedule(input_file=None,nb_observatory=None,save=True,\n",
    "                      over_write=True,date_range=schedule.day_of_night,telescope=schedule.telescope)\n"
   ]
  },
  {
   "cell_type": "markdown",
   "metadata": {},
   "source": [
    "Now that you have saved the night block it's time to create the ACP plans to send to the control PC of the corresonding telescope. To do so you just have to execute the cell below with the following information:\n",
    "\n",
    "* `day`, start date you wish to make ACP plans for\n",
    "\n",
    "* `nb_days`, number of days you wish to make plan for (starting at the date define in `day`)\n",
    "\n",
    "* `telescope`, name of the telescope at sake\n",
    "\n",
    "ACP plans will be saved in `your_spock_path + \"/DATABASE/telescope/Plans_by_date/\"`"
   ]
  },
  {
   "cell_type": "code",
   "execution_count": 13,
   "metadata": {},
   "outputs": [
    {
     "name": "stdout",
     "output_type": "stream",
     "text": [
      "\n"
     ]
    }
   ],
   "source": [
    "SPOCKST.make_plans(day = schedule.day_of_night,nb_days=1,telescope = schedule.telescope)\n"
   ]
  },
  {
   "cell_type": "markdown",
   "metadata": {},
   "source": [
    "Now you can upload these ACP plans and **|night blocks|** to the [Cambridge Archive](http://www.mrao.cam.ac.uk/SPECULOOS/) as well as the plans sent to the control PCs. You will just need to provide :\n",
    "\n",
    "* `day`, start date you for which you wish to upload plans and **|night blocks|**\n",
    "\n",
    "* `nb_days`, number of days you wish to upload (starting at the date define in `day`)\n",
    "\n",
    "* `telescope`, name of the telescope at sake"
   ]
  },
  {
   "cell_type": "code",
   "execution_count": 14,
   "metadata": {},
   "outputs": [
    {
     "name": "stdout",
     "output_type": "stream",
     "text": [
      "-----> 2020-09-15 Plans uploaded on the Cambridge server\n",
      "-----> 2020-09-15 Night plans uploaded on the Cambridge server\n",
      "-----> 2020-09-15 Zip Plans_by_dates folder uploaded on the Cambridge server\n",
      "-----> 2020-09-15 Zip Plans_by_dates folder uploaded on the HUB for Artemis\n",
      "\u001b[32mINFO: \u001b[30m Path local 'Gant chart' =  /Users/elsaducrot/spock/SPOCK_Figures/Preview_schedule.html\n",
      "\u001b[32mINFO: \u001b[30m Path database = 'Gant chart' =  speculoos@appcs.ra.phy.cam.ac.uk:/appct/data/SPECULOOSPipeline/Preview_schedule.html\n"
     ]
    }
   ],
   "source": [
    "SPOCKST.upload_plans(schedule.day_of_night, nb_days=1,telescope = schedule.telescope)"
   ]
  }
 ],
 "metadata": {
  "kernelspec": {
   "display_name": "Python 3",
   "language": "python",
   "name": "python3"
  },
  "language_info": {
   "codemirror_mode": {
    "name": "ipython",
    "version": 3
   },
   "file_extension": ".py",
   "mimetype": "text/x-python",
   "name": "python",
   "nbconvert_exporter": "python",
   "pygments_lexer": "ipython3",
   "version": "3.7.0"
  }
 },
 "nbformat": 4,
 "nbformat_minor": 4
}
