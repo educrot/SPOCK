{
 "cells": [
  {
   "cell_type": "markdown",
   "metadata": {},
   "source": [
    "# Short-term scheduling"
   ]
  },
  {
   "cell_type": "markdown",
   "metadata": {},
   "source": [
    "Here we present the short-term scheduling module. The short-term scheduling module of spock has been concived to modify existing plan in order to add special or follow up observations, like transits or monitoring for instance."
   ]
  },
  {
   "cell_type": "markdown",
   "metadata": {},
   "source": [
    "## Quick start"
   ]
  },
  {
   "cell_type": "markdown",
   "metadata": {},
   "source": [
    "First of all the user must ensure that information concerning the target he wish to schedule are recorded in \n",
    "either *target_list_special.txt* if it's a special observation or *target_list_follow_up.txt* if it's a transiting planet follow up."
   ]
  },
  {
   "cell_type": "markdown",
   "metadata": {},
   "source": [
    "Then you only have to run the following lines of code:"
   ]
  },
  {
   "cell_type": "code",
   "execution_count": 3,
   "metadata": {},
   "outputs": [
    {
     "name": "stdout",
     "output_type": "stream",
     "text": [
      "\n",
      "INFO: Local path does not exist yet \n",
      "INFO: situation 6\n",
      "INFO: situation 3, no change made to initial schedule\n",
      "INFO: no transition block\n"
     ]
    }
   ],
   "source": [
    "import SPOCK.short_term_scheduler as SPOCKST\n",
    "from astropy.time import Time\n",
    "\n",
    "obs = 1\n",
    "schedule = SPOCKST.Schedules()\n",
    "schedule.load_parameters('/Users/elsaducrot/spock/input_short_term.csv',obs)\n",
    "schedule.day_of_night = Time('2020-12-12 15:00:00')\n",
    "schedule.telescope = 'Europa'\n",
    "schedule.special_target(input_name=\"Trappist-1\")\n",
    "schedule.make_scheduled_table()\n",
    "schedule.planification()\n",
    "schedule.make_night_block()"
   ]
  },
  {
   "cell_type": "code",
   "execution_count": 4,
   "metadata": {},
   "outputs": [
    {
     "data": {
      "text/html": [
       "<i>Table length=3</i>\n",
       "<table id=\"table4930378496\" class=\"table-striped table-bordered table-condensed\">\n",
       "<thead><tr><th>target</th><th>start time (UTC)</th><th>end time (UTC)</th><th>duration (minutes)</th><th>ra (h)</th><th>ra (m)</th><th>ra (s)</th><th>dec (d)</th><th>dec (m)</th><th>dec (s)</th><th>configuration</th></tr></thead>\n",
       "<thead><tr><th>str13</th><th>str23</th><th>str23</th><th>float64</th><th>float64</th><th>float64</th><th>float64</th><th>float64</th><th>float64</th><th>float64</th><th>object</th></tr></thead>\n",
       "<tr><td>Trappist-1</td><td>2020-12-13 00:21:40.021</td><td>2020-12-13 02:43:20.021</td><td>141.66666666666677</td><td>23.0</td><td>6.0</td><td>29.372136000018543</td><td>-5.0</td><td>-2.0</td><td>-29.031720000000334</td><td>{&apos;texp=50&apos;, &quot;filt=r&apos;&quot;}</td></tr>\n",
       "<tr><td>Sp0314+1603</td><td>2020-12-13 02:43:20.021</td><td>2020-12-13 04:31:40.020</td><td>108.3333166666666</td><td>3.0</td><td>14.0</td><td>3.4318080000036133</td><td>16.0</td><td>3.0</td><td>5.475599999978158</td><td>{&apos;filt=I+z&apos;, &apos;texp=70&apos;}</td></tr>\n",
       "<tr><td>Sp0535-0931</td><td>2020-12-13 04:32:00.020</td><td>2020-12-13 08:50:00.020</td><td>258.00000000000006</td><td>5.0</td><td>35.0</td><td>21.300600000004266</td><td>-9.0</td><td>-31.0</td><td>-6.5233199999974545</td><td>{&apos;filt=I+z&apos;, &apos;texp=25&apos;}</td></tr>\n",
       "</table>"
      ],
      "text/plain": [
       "<Table length=3>\n",
       "   target       start time (UTC)    ...      configuration     \n",
       "   str13             str23          ...          object        \n",
       "----------- ----------------------- ... -----------------------\n",
       " Trappist-1 2020-12-13 00:21:40.021 ...  {'texp=50', \"filt=r'\"}\n",
       "Sp0314+1603 2020-12-13 02:43:20.021 ... {'filt=I+z', 'texp=70'}\n",
       "Sp0535-0931 2020-12-13 04:32:00.020 ... {'filt=I+z', 'texp=25'}"
      ]
     },
     "metadata": {},
     "output_type": "display_data"
    }
   ],
   "source": [
    "display(schedule.scheduled_table_sorted)"
   ]
  },
  {
   "cell_type": "code",
   "execution_count": 4,
   "metadata": {},
   "outputs": [
    {
     "name": "stdout",
     "output_type": "stream",
     "text": [
      "\n",
      "INFO: Local path does not exist yet \n",
      "INFO: situation 1\n",
      "INFO: situation 2\n",
      "INFO: situation 1\n",
      "INFO: situation 3, no change made to initial schedule\n",
      "INFO: no transition block\n"
     ]
    }
   ],
   "source": [
    "import SPOCK.short_term_scheduler as SPOCKST\n",
    "from astropy.time import Time\n",
    "\n",
    "obs = 1\n",
    "schedule = SPOCKST.Schedules()\n",
    "schedule.load_parameters(obs_name='SSO')\n",
    "schedule.day_of_night = Time('2020-12-12 15:00:00')\n",
    "schedule.start_end_range = Time(['2020-12-12 23:00:00','2020-12-13 01:00:00'])\n",
    "schedule.telescope = 'Europa'\n",
    "schedule.special_target_with_start_end(input_name=\"Trappist-1\")\n",
    "schedule.make_scheduled_table()\n",
    "schedule.planification()\n",
    "schedule.make_night_block()"
   ]
  },
  {
   "cell_type": "code",
   "execution_count": 5,
   "metadata": {},
   "outputs": [
    {
     "data": {
      "text/html": [
       "<i>Table length=3</i>\n",
       "<table id=\"table5024762960\" class=\"table-striped table-bordered table-condensed\">\n",
       "<thead><tr><th>target</th><th>start time (UTC)</th><th>end time (UTC)</th><th>duration (minutes)</th><th>ra (h)</th><th>ra (m)</th><th>ra (s)</th><th>dec (d)</th><th>dec (m)</th><th>dec (s)</th><th>configuration</th></tr></thead>\n",
       "<thead><tr><th>str11</th><th>str23</th><th>str23</th><th>float64</th><th>float64</th><th>float64</th><th>float64</th><th>float64</th><th>float64</th><th>float64</th><th>object</th></tr></thead>\n",
       "<tr><td>Trappist-1</td><td>2020-12-13 00:21:24.626</td><td>2020-12-13 01:00:00.018</td><td>120.00000000000006</td><td>23.0</td><td>6.0</td><td>29.372136000018543</td><td>-5.0</td><td>-2.0</td><td>-29.031720000000334</td><td>{&apos;texp=50&apos;, &quot;filt=r&apos;&quot;}</td></tr>\n",
       "<tr><td>Sp0314+1603</td><td>2020-12-13 01:00:00.018</td><td>2020-12-13 04:31:40.020</td><td>211.6667</td><td>3.0</td><td>14.0</td><td>3.4318080000036133</td><td>16.0</td><td>3.0</td><td>5.475599999978158</td><td>{&apos;filt=I+z&apos;, &apos;texp=70&apos;}</td></tr>\n",
       "<tr><td>Sp0535-0931</td><td>2020-12-13 04:32:00.020</td><td>2020-12-13 08:50:00.020</td><td>258.00000000000006</td><td>5.0</td><td>35.0</td><td>21.300600000004266</td><td>-9.0</td><td>-31.0</td><td>-6.5233199999974545</td><td>{&apos;filt=I+z&apos;, &apos;texp=25&apos;}</td></tr>\n",
       "</table>"
      ],
      "text/plain": [
       "<Table length=3>\n",
       "   target       start time (UTC)    ...      configuration     \n",
       "   str11             str23          ...          object        \n",
       "----------- ----------------------- ... -----------------------\n",
       " Trappist-1 2020-12-13 00:21:24.626 ...  {'texp=50', \"filt=r'\"}\n",
       "Sp0314+1603 2020-12-13 01:00:00.018 ... {'filt=I+z', 'texp=70'}\n",
       "Sp0535-0931 2020-12-13 04:32:00.020 ... {'filt=I+z', 'texp=25'}"
      ]
     },
     "metadata": {},
     "output_type": "display_data"
    }
   ],
   "source": [
    "display(schedule.scheduled_table_sorted)"
   ]
  },
  {
   "cell_type": "code",
   "execution_count": null,
   "metadata": {},
   "outputs": [],
   "source": []
  }
 ],
 "metadata": {
  "kernelspec": {
   "display_name": "Python 3",
   "language": "python",
   "name": "python3"
  },
  "language_info": {
   "codemirror_mode": {
    "name": "ipython",
    "version": 3
   },
   "file_extension": ".py",
   "mimetype": "text/x-python",
   "name": "python",
   "nbconvert_exporter": "python",
   "pygments_lexer": "ipython3",
   "version": "3.7.0"
  }
 },
 "nbformat": 4,
 "nbformat_minor": 4
}
