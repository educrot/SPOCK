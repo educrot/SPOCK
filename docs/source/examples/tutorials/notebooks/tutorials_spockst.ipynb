{
 "cells": [
  {
   "cell_type": "markdown",
   "metadata": {},
   "source": [
    "# Short-term scheduling"
   ]
  },
  {
   "cell_type": "markdown",
   "metadata": {},
   "source": [
    "Here we present the short-term scheduling module. The short-term scheduling module of spock has been concived to modify existing plan in order to add special or follow up observations, like transits or monitoring for instance."
   ]
  },
  {
   "cell_type": "markdown",
   "metadata": {},
   "source": [
    "<div class=\"alert alert-info\">\n",
    "\n",
    "**Note:** Before you insert new observations and upload them please make sure you have informed the SPECULOOS consortium \n",
    "\n",
    "</div>"
   ]
  },
  {
   "cell_type": "markdown",
   "metadata": {},
   "source": [
    "## 1- Special target"
   ]
  },
  {
   "cell_type": "markdown",
   "metadata": {},
   "source": [
    "<div class=\"alert alert-warning\">\n",
    "    \n",
    "**WARNING:** First of all, users must ensure that they have entered requiered information of the target they wish to schedule either in <span style=\"color:teal\"> *target_list_special.txt* </span> if it's a special observation or in <span style=\"color:teal\"> *target_list_follow_up.txt* </span> if it's a transiting planet follow up.\n",
    "\n",
    "</div>\n"
   ]
  },
  {
   "cell_type": "markdown",
   "metadata": {
    "heading_collapsed": true
   },
   "source": [
    "### For a special observation with given start/end time "
   ]
  },
  {
   "cell_type": "markdown",
   "metadata": {
    "hidden": true
   },
   "source": [
    "Here is the existing **|night blocks|** for a given `date` and a given `telescope`:"
   ]
  },
  {
   "cell_type": "code",
   "execution_count": 1,
   "metadata": {
    "hidden": true
   },
   "outputs": [
    {
     "name": "stdout",
     "output_type": "stream",
     "text": [
      "\u001b[32mINFO: \u001b[30m Please add password.csv file in: /Users/elsaducrot/elsenv/lib/python3.7/site-packages/SPOCK-0.0.1-py3.7.egg/SPOCK/credentials/\n",
      "\u001b[32mINFO: \u001b[30m OK Password file exists\n"
     ]
    },
    {
     "data": {
      "text/html": [
       "<div>\n",
       "<style scoped>\n",
       "    .dataframe tbody tr th:only-of-type {\n",
       "        vertical-align: middle;\n",
       "    }\n",
       "\n",
       "    .dataframe tbody tr th {\n",
       "        vertical-align: top;\n",
       "    }\n",
       "\n",
       "    .dataframe thead th {\n",
       "        text-align: right;\n",
       "    }\n",
       "</style>\n",
       "<table border=\"1\" class=\"dataframe\">\n",
       "  <thead>\n",
       "    <tr style=\"text-align: right;\">\n",
       "      <th></th>\n",
       "      <th>target</th>\n",
       "      <th>start time (UTC)</th>\n",
       "      <th>end time (UTC)</th>\n",
       "      <th>duration (minutes)</th>\n",
       "      <th>ra (h)</th>\n",
       "      <th>ra (m)</th>\n",
       "      <th>ra (s)</th>\n",
       "      <th>dec (d)</th>\n",
       "      <th>dec (m)</th>\n",
       "      <th>dec (s)</th>\n",
       "      <th>configuration</th>\n",
       "    </tr>\n",
       "  </thead>\n",
       "  <tbody>\n",
       "    <tr>\n",
       "      <th>0</th>\n",
       "      <td>Sp1223-2757</td>\n",
       "      <td>2021-04-20 22:59:20.016</td>\n",
       "      <td>2021-04-21 04:36:40.016</td>\n",
       "      <td>337.333333</td>\n",
       "      <td>12.0</td>\n",
       "      <td>23.0</td>\n",
       "      <td>56.016792</td>\n",
       "      <td>-27.0</td>\n",
       "      <td>-57.0</td>\n",
       "      <td>-46.49796</td>\n",
       "      <td>{'filt': 'I+z', 'texp': '30'}</td>\n",
       "    </tr>\n",
       "    <tr>\n",
       "      <th>1</th>\n",
       "      <td>Sp1805-1422</td>\n",
       "      <td>2021-04-21 04:37:20.029</td>\n",
       "      <td>2021-04-21 10:22:40.029</td>\n",
       "      <td>345.333333</td>\n",
       "      <td>18.0</td>\n",
       "      <td>5.0</td>\n",
       "      <td>44.642112</td>\n",
       "      <td>-14.0</td>\n",
       "      <td>-22.0</td>\n",
       "      <td>-42.48552</td>\n",
       "      <td>{'filt': 'r', 'texp': '46'}</td>\n",
       "    </tr>\n",
       "  </tbody>\n",
       "</table>\n",
       "</div>"
      ],
      "text/plain": [
       "        target         start time (UTC)           end time (UTC)  \\\n",
       "0  Sp1223-2757  2021-04-20 22:59:20.016  2021-04-21 04:36:40.016   \n",
       "1  Sp1805-1422  2021-04-21 04:37:20.029  2021-04-21 10:22:40.029   \n",
       "\n",
       "   duration (minutes)  ra (h)  ra (m)     ra (s)  dec (d)  dec (m)   dec (s)  \\\n",
       "0          337.333333    12.0    23.0  56.016792    -27.0    -57.0 -46.49796   \n",
       "1          345.333333    18.0     5.0  44.642112    -14.0    -22.0 -42.48552   \n",
       "\n",
       "                   configuration  \n",
       "0  {'filt': 'I+z', 'texp': '30'}  \n",
       "1    {'filt': 'r', 'texp': '46'}  "
      ]
     },
     "execution_count": 1,
     "metadata": {},
     "output_type": "execute_result"
    }
   ],
   "source": [
    "import SPOCK.stats as SPOCKstats\n",
    "\n",
    "SPOCKstats.read_night_plans_server(telescope='Ganymede',date='2021-04-20')"
   ]
  },
  {
   "cell_type": "markdown",
   "metadata": {
    "hidden": true
   },
   "source": [
    "First you want to create the **|night blocks|**. The only esstial information are: \n",
    "\n",
    "+ the name of the site, ex: `obs_name = 'SSO'`\n",
    "\n",
    "+ the name of the telescope (because there can be several telescope per site), ex: `telescope ='Europa'`\n",
    "\n",
    "+ the date the night starts, ex: `day_of_night ='2020-12-12 15:00:00'`\n",
    "\n",
    "+ and the name of your target, `input_name = 'Trappist-1'`\n",
    "\n",
    "+ start and end time in a list, ex: `start_end_range = ['2020-12-12 23:00:00','2020-12-13 01:00:00']`\n",
    "\n",
    "<span style=\"color:teal\">NB: you must first have filled info on the target in *target_list_special.txt* beforehand </span>"
   ]
  },
  {
   "cell_type": "markdown",
   "metadata": {
    "hidden": true
   },
   "source": [
    "This is the block you wish to insert:"
   ]
  },
  {
   "cell_type": "code",
   "execution_count": 2,
   "metadata": {
    "hidden": true
   },
   "outputs": [
    {
     "name": "stdout",
     "output_type": "stream",
     "text": [
      "\n"
     ]
    },
    {
     "data": {
      "text/html": [
       "<i>Table length=1</i>\n",
       "<table id=\"table4469163176\" class=\"table-striped table-bordered table-condensed\">\n",
       "<thead><tr><th>target</th><th>start time (UTC)</th><th>end time (UTC)</th><th>duration (minutes)</th><th>ra (h)</th><th>ra (m)</th><th>ra (s)</th><th>dec (d)</th><th>dec (m)</th><th>dec (s)</th><th>configuration</th></tr></thead>\n",
       "<thead><tr><th>str7</th><th>str23</th><th>str23</th><th>float64</th><th>float64</th><th>float64</th><th>float64</th><th>float64</th><th>float64</th><th>float64</th><th>object</th></tr></thead>\n",
       "<tr><td>NGTS-11</td><td>2020-12-12 23:00:00.018</td><td>2020-12-13 01:00:00.018</td><td>120.00000000000006</td><td>1.0</td><td>34.0</td><td>5.148000000001645</td><td>-14.0</td><td>-25.0</td><td>-8.936400000003175</td><td>{&quot;filt=g&apos;&quot;, &apos;texp=10&apos;}</td></tr>\n",
       "</table>"
      ],
      "text/plain": [
       "<Table length=1>\n",
       " target     start time (UTC)    ...      dec (s)           configuration     \n",
       "  str7           str23          ...      float64               object        \n",
       "------- ----------------------- ... ------------------ ----------------------\n",
       "NGTS-11 2020-12-12 23:00:00.018 ... -8.936400000003175 {\"filt=g'\", 'texp=10'}"
      ]
     },
     "execution_count": 2,
     "metadata": {},
     "output_type": "execute_result"
    }
   ],
   "source": [
    "import SPOCK.short_term_scheduler as SPOCKST\n",
    "from astropy.time import Time\n",
    "\n",
    "schedule = SPOCKST.Schedules()\n",
    "\n",
    "schedule.load_parameters()\n",
    "schedule.day_of_night = Time('2020-12-12 15:00:00')\n",
    "schedule.start_end_range = Time(['2020-12-12 23:00:00','2020-12-13 01:00:00'])\n",
    "schedule.observatory_name = 'SSO'\n",
    "schedule.telescope = 'Europa'\n",
    "schedule.special_target_with_start_end(input_name=\"NGTS-11\")\n",
    "\n"
   ]
  },
  {
   "cell_type": "markdown",
   "metadata": {
    "hidden": true
   },
   "source": [
    "Now you modify existing plan to insert your observation block:"
   ]
  },
  {
   "cell_type": "code",
   "execution_count": 3,
   "metadata": {
    "hidden": true
   },
   "outputs": [
    {
     "name": "stdout",
     "output_type": "stream",
     "text": [
      "\u001b[32mINFO: \u001b[30m Local path does not exist yet \n",
      "0\n",
      "\u001b[32mINFO: \u001b[30m situation 1\n",
      "\u001b[32mINFO: \u001b[30m situation 2\n",
      "1\n",
      "\u001b[32mINFO: \u001b[30m situation 1\n",
      "\u001b[32mINFO: \u001b[30m situation 3, no change made to initial schedule\n",
      "2\n",
      "\u001b[32mINFO: \u001b[30m situation 1\n",
      "\u001b[32mINFO: \u001b[30m situation 3, no change made to initial schedule\n",
      "\u001b[32mINFO: \u001b[30m no transition block\n"
     ]
    }
   ],
   "source": [
    "schedule.make_scheduled_table()\n",
    "schedule.planification()\n",
    "schedule.make_night_block()"
   ]
  },
  {
   "cell_type": "markdown",
   "metadata": {
    "hidden": true
   },
   "source": [
    "Here is how the modified **|night blocks|** looks like:"
   ]
  },
  {
   "cell_type": "code",
   "execution_count": 4,
   "metadata": {
    "hidden": true
   },
   "outputs": [
    {
     "data": {
      "text/html": [
       "<i>Table length=4</i>\n",
       "<table id=\"table5009283672\" class=\"table-striped table-bordered table-condensed\">\n",
       "<thead><tr><th>target</th><th>start time (UTC)</th><th>end time (UTC)</th><th>duration (minutes)</th><th>ra (h)</th><th>ra (m)</th><th>ra (s)</th><th>dec (d)</th><th>dec (m)</th><th>dec (s)</th><th>configuration</th></tr></thead>\n",
       "<thead><tr><th>str11</th><th>str23</th><th>str23</th><th>float64</th><th>float64</th><th>float64</th><th>float64</th><th>float64</th><th>float64</th><th>float64</th><th>object</th></tr></thead>\n",
       "<tr><td>NGTS-11</td><td>2020-12-13 00:21:24.626</td><td>2020-12-13 01:00:00.018</td><td>120.00000000000006</td><td>1.0</td><td>34.0</td><td>5.148000000001645</td><td>-14.0</td><td>-25.0</td><td>-8.936400000003175</td><td>{&quot;filt=g&apos;&quot;, &apos;texp=10&apos;}</td></tr>\n",
       "<tr><td>Trappist-1</td><td>2020-12-13 01:00:00.018</td><td>2020-12-13 02:43:20.021</td><td>103.33338333333337</td><td>23.0</td><td>6.0</td><td>29.372136000018543</td><td>-5.0</td><td>-2.0</td><td>-29.031720000000334</td><td>{&apos;texp=50&apos;, &quot;filt=r&apos;&quot;}</td></tr>\n",
       "<tr><td>Sp0314+1603</td><td>2020-12-13 02:43:20.021</td><td>2020-12-13 04:31:40.020</td><td>108.3333166666666</td><td>3.0</td><td>14.0</td><td>3.4318080000036133</td><td>16.0</td><td>3.0</td><td>5.475599999978158</td><td>{&apos;filt=I+z&apos;, &apos;texp=70&apos;}</td></tr>\n",
       "<tr><td>Sp0535-0931</td><td>2020-12-13 04:32:00.020</td><td>2020-12-13 08:50:00.020</td><td>258.00000000000006</td><td>5.0</td><td>35.0</td><td>21.300600000004266</td><td>-9.0</td><td>-31.0</td><td>-6.5233199999974545</td><td>{&apos;filt=I+z&apos;, &apos;texp=25&apos;}</td></tr>\n",
       "</table>"
      ],
      "text/plain": [
       "<Table length=4>\n",
       "   target       start time (UTC)    ...      configuration     \n",
       "   str11             str23          ...          object        \n",
       "----------- ----------------------- ... -----------------------\n",
       "    NGTS-11 2020-12-13 00:21:24.626 ...  {\"filt=g'\", 'texp=10'}\n",
       " Trappist-1 2020-12-13 01:00:00.018 ...  {'texp=50', \"filt=r'\"}\n",
       "Sp0314+1603 2020-12-13 02:43:20.021 ... {'filt=I+z', 'texp=70'}\n",
       "Sp0535-0931 2020-12-13 04:32:00.020 ... {'filt=I+z', 'texp=25'}"
      ]
     },
     "metadata": {},
     "output_type": "display_data"
    }
   ],
   "source": [
    "display(schedule.scheduled_table_sorted)"
   ]
  },
  {
   "cell_type": "markdown",
   "metadata": {},
   "source": [
    "### For a special target that you wish to observe as much as possible"
   ]
  },
  {
   "cell_type": "markdown",
   "metadata": {},
   "source": [
    "Here is the existing **|night blocks|** for a given `date` and a given `telescope`:"
   ]
  },
  {
   "cell_type": "code",
   "execution_count": 1,
   "metadata": {},
   "outputs": [
    {
     "name": "stdout",
     "output_type": "stream",
     "text": [
      "\u001b[32mINFO: \u001b[30m Please add password.csv file in: /Users/elsaducrot/elsenv/lib/python3.7/site-packages/SPOCK-0.0.1-py3.7.egg/SPOCK/credentials/\n",
      "\u001b[32mINFO: \u001b[30m OK Password file exists\n"
     ]
    },
    {
     "data": {
      "text/html": [
       "<div>\n",
       "<style scoped>\n",
       "    .dataframe tbody tr th:only-of-type {\n",
       "        vertical-align: middle;\n",
       "    }\n",
       "\n",
       "    .dataframe tbody tr th {\n",
       "        vertical-align: top;\n",
       "    }\n",
       "\n",
       "    .dataframe thead th {\n",
       "        text-align: right;\n",
       "    }\n",
       "</style>\n",
       "<table border=\"1\" class=\"dataframe\">\n",
       "  <thead>\n",
       "    <tr style=\"text-align: right;\">\n",
       "      <th></th>\n",
       "      <th>target</th>\n",
       "      <th>start time (UTC)</th>\n",
       "      <th>end time (UTC)</th>\n",
       "      <th>duration (minutes)</th>\n",
       "      <th>ra (h)</th>\n",
       "      <th>ra (m)</th>\n",
       "      <th>ra (s)</th>\n",
       "      <th>dec (d)</th>\n",
       "      <th>dec (m)</th>\n",
       "      <th>dec (s)</th>\n",
       "      <th>configuration</th>\n",
       "    </tr>\n",
       "  </thead>\n",
       "  <tbody>\n",
       "    <tr>\n",
       "      <th>0</th>\n",
       "      <td>NGTS-11</td>\n",
       "      <td>2020-12-10 19:05:40.009</td>\n",
       "      <td>2020-12-11 00:49:00.009</td>\n",
       "      <td>343.333333</td>\n",
       "      <td>1.0</td>\n",
       "      <td>34.0</td>\n",
       "      <td>5.148000</td>\n",
       "      <td>-14.0</td>\n",
       "      <td>-25.0</td>\n",
       "      <td>-8.93640</td>\n",
       "      <td>{'filt=g', 'texp=10'}</td>\n",
       "    </tr>\n",
       "    <tr>\n",
       "      <th>1</th>\n",
       "      <td>Sp0840+1824</td>\n",
       "      <td>2020-12-11 00:49:00.009</td>\n",
       "      <td>2020-12-11 06:53:20.009</td>\n",
       "      <td>364.333333</td>\n",
       "      <td>8.0</td>\n",
       "      <td>40.0</td>\n",
       "      <td>29.634552</td>\n",
       "      <td>18.0</td>\n",
       "      <td>24.0</td>\n",
       "      <td>8.72676</td>\n",
       "      <td>{'texp=26', 'filt=I+z'}</td>\n",
       "    </tr>\n",
       "  </tbody>\n",
       "</table>\n",
       "</div>"
      ],
      "text/plain": [
       "        target         start time (UTC)           end time (UTC)  \\\n",
       "0      NGTS-11  2020-12-10 19:05:40.009  2020-12-11 00:49:00.009   \n",
       "1  Sp0840+1824  2020-12-11 00:49:00.009  2020-12-11 06:53:20.009   \n",
       "\n",
       "   duration (minutes)  ra (h)  ra (m)     ra (s)  dec (d)  dec (m)  dec (s)  \\\n",
       "0          343.333333     1.0    34.0   5.148000    -14.0    -25.0 -8.93640   \n",
       "1          364.333333     8.0    40.0  29.634552     18.0     24.0  8.72676   \n",
       "\n",
       "             configuration  \n",
       "0    {'filt=g', 'texp=10'}  \n",
       "1  {'texp=26', 'filt=I+z'}  "
      ]
     },
     "execution_count": 1,
     "metadata": {},
     "output_type": "execute_result"
    }
   ],
   "source": [
    "import SPOCK.stats as SPOCKstats\n",
    "\n",
    "SPOCKstats.read_night_plans_server(telescope='Artemis',date='2020-12-10')"
   ]
  },
  {
   "cell_type": "markdown",
   "metadata": {},
   "source": [
    "First you want to create the **|night blocks|**. The only essential information needed are: \n",
    "\n",
    "+ the name of the site, ex: `obs_name = 'SSO'`\n",
    "\n",
    "+ the name of the telescope (because there can be several telescope per site), ex: `telescope = 'Europa'`\n",
    "\n",
    "+ the date the night starts, ex: `day_of _night = '2020-12-12 15:00:00'`\n",
    "\n",
    "+ and the name of your target, `input_name = 'Trappist-1'`\n",
    "\n",
    "<span style=\"color:teal\">NB: you must first have filled info on the target in *target_list_special.txt* beforehand </span>"
   ]
  },
  {
   "cell_type": "code",
   "execution_count": 3,
   "metadata": {},
   "outputs": [
    {
     "name": "stdout",
     "output_type": "stream",
     "text": [
      "\u001b[32mINFO: \u001b[30m Not using moon phase in ETC\n",
      "spectral type not in list\n"
     ]
    },
    {
     "ename": "AttributeError",
     "evalue": "'etc' object has no attribute 'i'",
     "output_type": "error",
     "traceback": [
      "\u001b[0;31m---------------------------------------------------------------------------\u001b[0m",
      "\u001b[0;31mAttributeError\u001b[0m                            Traceback (most recent call last)",
      "\u001b[0;32m<ipython-input-3-767515b7a0a3>\u001b[0m in \u001b[0;36m<module>\u001b[0;34m\u001b[0m\n\u001b[1;32m      8\u001b[0m \u001b[0mschedule\u001b[0m\u001b[0;34m.\u001b[0m\u001b[0mobservatory_name\u001b[0m \u001b[0;34m=\u001b[0m \u001b[0;34m'SSO'\u001b[0m\u001b[0;34m\u001b[0m\u001b[0m\n\u001b[1;32m      9\u001b[0m \u001b[0mschedule\u001b[0m\u001b[0;34m.\u001b[0m\u001b[0mtelescope\u001b[0m \u001b[0;34m=\u001b[0m \u001b[0;34m'Ganymede'\u001b[0m\u001b[0;34m\u001b[0m\u001b[0m\n\u001b[0;32m---> 10\u001b[0;31m \u001b[0mschedule\u001b[0m\u001b[0;34m.\u001b[0m\u001b[0mspecial_target\u001b[0m\u001b[0;34m(\u001b[0m\u001b[0minput_name\u001b[0m\u001b[0;34m=\u001b[0m\u001b[0;34m\"Nemesis-1.01\"\u001b[0m\u001b[0;34m)\u001b[0m\u001b[0;34m\u001b[0m\u001b[0m\n\u001b[0m\u001b[1;32m     11\u001b[0m \u001b[0;34m\u001b[0m\u001b[0m\n",
      "\u001b[0;32m~/elsenv/lib/python3.7/site-packages/SPOCK-0.0.1-py3.7.egg/SPOCK/short_term_scheduler.py\u001b[0m in \u001b[0;36mspecial_target\u001b[0;34m(self, input_name)\u001b[0m\n\u001b[1;32m    373\u001b[0m             \u001b[0mself\u001b[0m\u001b[0;34m.\u001b[0m\u001b[0mtarget_table_spc\u001b[0m\u001b[0;34m[\u001b[0m\u001b[0;34m'texp_spc'\u001b[0m\u001b[0;34m]\u001b[0m\u001b[0;34m[\u001b[0m\u001b[0midx_first_target\u001b[0m\u001b[0;34m]\u001b[0m \u001b[0;34m=\u001b[0m\u001b[0;31m \u001b[0m\u001b[0;31m\\\u001b[0m\u001b[0;34m\u001b[0m\u001b[0m\n\u001b[1;32m    374\u001b[0m                 self.exposure_time(input_name=self.target_table_spc['Sp_ID'][idx_first_target],\n\u001b[0;32m--> 375\u001b[0;31m                                    target_list=self.target_table_spc)\n\u001b[0m\u001b[1;32m    376\u001b[0m         \u001b[0mblocks\u001b[0m\u001b[0;34m=\u001b[0m\u001b[0;34m[\u001b[0m\u001b[0;34m]\u001b[0m\u001b[0;34m\u001b[0m\u001b[0m\n\u001b[1;32m    377\u001b[0m         a = ObservingBlock(self.targets[idx_first_target], dur_obs_both_target, -1,\n",
      "\u001b[0;32m~/elsenv/lib/python3.7/site-packages/SPOCK-0.0.1-py3.7.egg/SPOCK/short_term_scheduler.py\u001b[0m in \u001b[0;36mexposure_time\u001b[0;34m(self, input_name, target_list, day)\u001b[0m\n\u001b[1;32m   1088\u001b[0m                 \u001b[0;32mif\u001b[0m \u001b[0mfloat\u001b[0m\u001b[0;34m(\u001b[0m\u001b[0mtarget_list\u001b[0m\u001b[0;34m[\u001b[0m\u001b[0;34m'J'\u001b[0m\u001b[0;34m]\u001b[0m\u001b[0;34m[\u001b[0m\u001b[0mi\u001b[0m\u001b[0;34m]\u001b[0m\u001b[0;34m)\u001b[0m \u001b[0;34m!=\u001b[0m \u001b[0;36m0.\u001b[0m\u001b[0;34m:\u001b[0m\u001b[0;34m\u001b[0m\u001b[0m\n\u001b[1;32m   1089\u001b[0m                     a = (ETC.etc(mag_val=float(target_list['J'][i]), mag_band='J', spt=spt_type,\n\u001b[0;32m-> 1090\u001b[0;31m                                  filt=filt_, airmass=1.1, moonphase=0.5, irtf=0.8, num_tel=1, seeing=0.7, gain=1.1))\n\u001b[0m\u001b[1;32m   1091\u001b[0m                 \u001b[0;32melse\u001b[0m\u001b[0;34m:\u001b[0m\u001b[0;34m\u001b[0m\u001b[0m\n\u001b[1;32m   1092\u001b[0m                     \u001b[0;32mif\u001b[0m \u001b[0;34m(\u001b[0m\u001b[0mfloat\u001b[0m\u001b[0;34m(\u001b[0m\u001b[0mtarget_list\u001b[0m\u001b[0;34m[\u001b[0m\u001b[0;34m'J'\u001b[0m\u001b[0;34m]\u001b[0m\u001b[0;34m[\u001b[0m\u001b[0mi\u001b[0m\u001b[0;34m]\u001b[0m\u001b[0;34m)\u001b[0m \u001b[0;34m==\u001b[0m \u001b[0;36m0.\u001b[0m\u001b[0;34m)\u001b[0m \u001b[0;32mand\u001b[0m \u001b[0;34m(\u001b[0m\u001b[0mfloat\u001b[0m\u001b[0;34m(\u001b[0m\u001b[0mtarget_list\u001b[0m\u001b[0;34m[\u001b[0m\u001b[0;34m'V'\u001b[0m\u001b[0;34m]\u001b[0m\u001b[0;34m[\u001b[0m\u001b[0mi\u001b[0m\u001b[0;34m]\u001b[0m\u001b[0;34m)\u001b[0m \u001b[0;34m!=\u001b[0m \u001b[0;36m0.\u001b[0m\u001b[0;34m)\u001b[0m\u001b[0;34m:\u001b[0m\u001b[0;34m\u001b[0m\u001b[0m\n",
      "\u001b[0;32m~/elsenv/lib/python3.7/site-packages/SPOCK-0.0.1-py3.7.egg/SPOCK/ETC.py\u001b[0m in \u001b[0;36m__init__\u001b[0;34m(self, mag_val, mag_band, spt, filt, airmass, moonphase, irtf, num_tel, seeing, gain, temp_ccd, observatory_altitude)\u001b[0m\n\u001b[1;32m    291\u001b[0m         \u001b[0;31m#available spectra are in folder Spectra\u001b[0m\u001b[0;34m\u001b[0m\u001b[0;34m\u001b[0m\u001b[0m\n\u001b[1;32m    292\u001b[0m         \u001b[0mpath\u001b[0m\u001b[0;34m=\u001b[0m\u001b[0mpath_spock\u001b[0m \u001b[0;34m+\u001b[0m \u001b[0;34m'/SPOCK/files_ETC/Spectra/'\u001b[0m\u001b[0;34m\u001b[0m\u001b[0m\n\u001b[0;32m--> 293\u001b[0;31m         \u001b[0mspec_file\u001b[0m \u001b[0;34m=\u001b[0m \u001b[0mos\u001b[0m\u001b[0;34m.\u001b[0m\u001b[0mpath\u001b[0m\u001b[0;34m.\u001b[0m\u001b[0mjoin\u001b[0m\u001b[0;34m(\u001b[0m\u001b[0mpath\u001b[0m\u001b[0;34m,\u001b[0m\u001b[0mself\u001b[0m\u001b[0;34m.\u001b[0m\u001b[0mspectra\u001b[0m\u001b[0;34m[\u001b[0m\u001b[0;34m'file'\u001b[0m\u001b[0;34m]\u001b[0m\u001b[0;34m[\u001b[0m\u001b[0mself\u001b[0m\u001b[0;34m.\u001b[0m\u001b[0mi\u001b[0m\u001b[0;34m]\u001b[0m\u001b[0;34m)\u001b[0m\u001b[0;34m\u001b[0m\u001b[0m\n\u001b[0m\u001b[1;32m    294\u001b[0m         \u001b[0mself\u001b[0m\u001b[0;34m.\u001b[0m\u001b[0mspec\u001b[0m\u001b[0;34m=\u001b[0m\u001b[0mascii\u001b[0m\u001b[0;34m.\u001b[0m\u001b[0mread\u001b[0m\u001b[0;34m(\u001b[0m\u001b[0mspec_file\u001b[0m\u001b[0;34m,\u001b[0m \u001b[0mdata_start\u001b[0m\u001b[0;34m=\u001b[0m\u001b[0;36m0\u001b[0m\u001b[0;34m)\u001b[0m\u001b[0;34m\u001b[0m\u001b[0m\n\u001b[1;32m    295\u001b[0m         \u001b[0;31m#plt.grid(True)\u001b[0m\u001b[0;34m\u001b[0m\u001b[0;34m\u001b[0m\u001b[0m\n",
      "\u001b[0;31mAttributeError\u001b[0m: 'etc' object has no attribute 'i'"
     ]
    }
   ],
   "source": [
    "import SPOCK.short_term_scheduler as SPOCKST\n",
    "from astropy.time import Time\n",
    "\n",
    "schedule = SPOCKST.Schedules()\n",
    "\n",
    "schedule.load_parameters()\n",
    "schedule.day_of_night = Time('2021-04-20 15:00:00')\n",
    "schedule.observatory_name = 'SSO'\n",
    "schedule.telescope = 'Ganymede'\n",
    "schedule.special_target(input_name=\"Nemesis-1.01\")\n",
    "\n"
   ]
  },
  {
   "cell_type": "code",
   "execution_count": 7,
   "metadata": {},
   "outputs": [
    {
     "name": "stdout",
     "output_type": "stream",
     "text": [
      "\u001b[32mINFO: \u001b[30m Local path does not exist yet \n",
      "0\n",
      "\u001b[32mINFO: \u001b[30m situation 7\n",
      "\u001b[32mINFO: \u001b[30m situation 10, no change made to initial schedule\n",
      "1\n",
      "\u001b[32mINFO: \u001b[30m situation 6\n",
      "\u001b[32mINFO: \u001b[30m no transition block\n"
     ]
    }
   ],
   "source": [
    "schedule.make_scheduled_table()\n",
    "schedule.planification()\n",
    "schedule.make_night_block()"
   ]
  },
  {
   "cell_type": "markdown",
   "metadata": {},
   "source": [
    "Here is how the modified **|night blocks|** looks like:"
   ]
  },
  {
   "cell_type": "code",
   "execution_count": 8,
   "metadata": {},
   "outputs": [
    {
     "data": {
      "text/html": [
       "<i>Table length=3</i>\n",
       "<table id=\"table4868435920\" class=\"table-striped table-bordered table-condensed\">\n",
       "<thead><tr><th>target</th><th>start time (UTC)</th><th>end time (UTC)</th><th>duration (minutes)</th><th>ra (h)</th><th>ra (m)</th><th>ra (s)</th><th>dec (d)</th><th>dec (m)</th><th>dec (s)</th><th>configuration</th></tr></thead>\n",
       "<thead><tr><th>str13</th><th>str23</th><th>str23</th><th>float64</th><th>float64</th><th>float64</th><th>float64</th><th>float64</th><th>float64</th><th>float64</th><th>object</th></tr></thead>\n",
       "<tr><td>NGTS-11</td><td>2020-12-10 19:05:40.009</td><td>2020-12-11 03:05:00.027</td><td>479.33363333333324</td><td>1.0</td><td>34.0</td><td>5.148000000001645</td><td>-14.0</td><td>-25.0</td><td>-8.93639999999678</td><td>{&apos;filt=g&apos;, &apos;texp=10&apos;}</td></tr>\n",
       "<tr><td>Sp0840+1824</td><td>2020-12-11 00:49:00.009</td><td>2020-12-11 03:05:00.027</td><td>136.00030000000004</td><td>8.0</td><td>40.0</td><td>29.634552000006664</td><td>18.0</td><td>24.0</td><td>8.726760000003821</td><td>{&apos;texp=26&apos;, &apos;filt=I+z&apos;}</td></tr>\n",
       "<tr><td>WASP-85Ab</td><td>2020-12-11 03:05:00.027</td><td>2020-12-11 06:53:02.798</td><td>228.0461833333333</td><td>11.0</td><td>43.0</td><td>38.00820000000698</td><td>6.0</td><td>33.0</td><td>49.45220639999988</td><td>{&quot;filt=g&apos;&quot;, &apos;texp=10&apos;}</td></tr>\n",
       "</table>"
      ],
      "text/plain": [
       "<Table length=3>\n",
       "   target       start time (UTC)    ...      configuration     \n",
       "   str13             str23          ...          object        \n",
       "----------- ----------------------- ... -----------------------\n",
       "    NGTS-11 2020-12-10 19:05:40.009 ...   {'filt=g', 'texp=10'}\n",
       "Sp0840+1824 2020-12-11 00:49:00.009 ... {'texp=26', 'filt=I+z'}\n",
       "  WASP-85Ab 2020-12-11 03:05:00.027 ...  {\"filt=g'\", 'texp=10'}"
      ]
     },
     "metadata": {},
     "output_type": "display_data"
    }
   ],
   "source": [
    "display(schedule.scheduled_table_sorted)"
   ]
  },
  {
   "cell_type": "markdown",
   "metadata": {},
   "source": [
    "## 2- Follow-up"
   ]
  },
  {
   "cell_type": "markdown",
   "metadata": {},
   "source": [
    "Here is the existing **|night blocks|** for a given `date` and a given `telescope`:"
   ]
  },
  {
   "cell_type": "code",
   "execution_count": 3,
   "metadata": {},
   "outputs": [
    {
     "data": {
      "text/html": [
       "<div>\n",
       "<style scoped>\n",
       "    .dataframe tbody tr th:only-of-type {\n",
       "        vertical-align: middle;\n",
       "    }\n",
       "\n",
       "    .dataframe tbody tr th {\n",
       "        vertical-align: top;\n",
       "    }\n",
       "\n",
       "    .dataframe thead th {\n",
       "        text-align: right;\n",
       "    }\n",
       "</style>\n",
       "<table border=\"1\" class=\"dataframe\">\n",
       "  <thead>\n",
       "    <tr style=\"text-align: right;\">\n",
       "      <th></th>\n",
       "      <th>target</th>\n",
       "      <th>start time (UTC)</th>\n",
       "      <th>end time (UTC)</th>\n",
       "      <th>duration (minutes)</th>\n",
       "      <th>ra (h)</th>\n",
       "      <th>ra (m)</th>\n",
       "      <th>ra (s)</th>\n",
       "      <th>dec (d)</th>\n",
       "      <th>dec (m)</th>\n",
       "      <th>dec (s)</th>\n",
       "      <th>configuration</th>\n",
       "    </tr>\n",
       "  </thead>\n",
       "  <tbody>\n",
       "    <tr>\n",
       "      <th>0</th>\n",
       "      <td>Sp1223-2757</td>\n",
       "      <td>2021-04-20 22:59:20.016</td>\n",
       "      <td>2021-04-21 04:36:40.016</td>\n",
       "      <td>337.333333</td>\n",
       "      <td>12.0</td>\n",
       "      <td>23.0</td>\n",
       "      <td>56.016792</td>\n",
       "      <td>-27.0</td>\n",
       "      <td>-57.0</td>\n",
       "      <td>-46.49796</td>\n",
       "      <td>{'filt': 'I+z', 'texp': '30'}</td>\n",
       "    </tr>\n",
       "    <tr>\n",
       "      <th>1</th>\n",
       "      <td>Sp1805-1422</td>\n",
       "      <td>2021-04-21 04:37:20.029</td>\n",
       "      <td>2021-04-21 10:22:40.029</td>\n",
       "      <td>345.333333</td>\n",
       "      <td>18.0</td>\n",
       "      <td>5.0</td>\n",
       "      <td>44.642112</td>\n",
       "      <td>-14.0</td>\n",
       "      <td>-22.0</td>\n",
       "      <td>-42.48552</td>\n",
       "      <td>{'filt': 'r', 'texp': '46'}</td>\n",
       "    </tr>\n",
       "  </tbody>\n",
       "</table>\n",
       "</div>"
      ],
      "text/plain": [
       "        target         start time (UTC)           end time (UTC)  \\\n",
       "0  Sp1223-2757  2021-04-20 22:59:20.016  2021-04-21 04:36:40.016   \n",
       "1  Sp1805-1422  2021-04-21 04:37:20.029  2021-04-21 10:22:40.029   \n",
       "\n",
       "   duration (minutes)  ra (h)  ra (m)     ra (s)  dec (d)  dec (m)   dec (s)  \\\n",
       "0          337.333333    12.0    23.0  56.016792    -27.0    -57.0 -46.49796   \n",
       "1          345.333333    18.0     5.0  44.642112    -14.0    -22.0 -42.48552   \n",
       "\n",
       "                   configuration  \n",
       "0  {'filt': 'I+z', 'texp': '30'}  \n",
       "1    {'filt': 'r', 'texp': '46'}  "
      ]
     },
     "execution_count": 3,
     "metadata": {},
     "output_type": "execute_result"
    }
   ],
   "source": [
    "import SPOCK.stats as SPOCKstats\n",
    "\n",
    "SPOCKstats.read_night_plans_server(telescope='Ganymede',date='2021-04-20')"
   ]
  },
  {
   "cell_type": "code",
   "execution_count": 5,
   "metadata": {},
   "outputs": [
    {
     "name": "stdout",
     "output_type": "stream",
     "text": [
      "\u001b[32m\u001b[32m\u001b[32mINFO: \u001b[30m \u001b[30m\u001b[30mNemesis-1.01 next transit: \n",
      "['2021-04-21 09:30:35.136']\n",
      "\u001b[32mINFO: \u001b[30m start_transit of  Nemesis-1.01  :  2021-04-19 07:43:33.658\n",
      "\u001b[32mINFO: \u001b[30m end_transit of  Nemesis-1.01  :  2021-04-23 11:17:36.614\n",
      "\u001b[33mWARNING: \u001b[30m Time out of transit not optimal.\n",
      "\n"
     ]
    },
    {
     "ename": "ValueError",
     "evalue": "negative dimensions are not allowed",
     "output_type": "error",
     "traceback": [
      "\u001b[0;31m---------------------------------------------------------------------------\u001b[0m",
      "\u001b[0;31mValueError\u001b[0m                                Traceback (most recent call last)",
      "\u001b[0;32m<ipython-input-5-aee8a347497f>\u001b[0m in \u001b[0;36m<module>\u001b[0;34m\u001b[0m\n\u001b[1;32m      9\u001b[0m \u001b[0mschedule\u001b[0m\u001b[0;34m.\u001b[0m\u001b[0mtelescope\u001b[0m \u001b[0;34m=\u001b[0m \u001b[0;34m'Ganymede'\u001b[0m\u001b[0;34m\u001b[0m\u001b[0m\n\u001b[1;32m     10\u001b[0m \u001b[0;34m\u001b[0m\u001b[0m\n\u001b[0;32m---> 11\u001b[0;31m \u001b[0mschedule\u001b[0m\u001b[0;34m.\u001b[0m\u001b[0mtransit_follow_up\u001b[0m\u001b[0;34m(\u001b[0m\u001b[0minput_name\u001b[0m\u001b[0;34m=\u001b[0m\u001b[0;34m\"Nemesis-1.01\"\u001b[0m\u001b[0;34m)\u001b[0m\u001b[0;34m\u001b[0m\u001b[0m\n\u001b[0m",
      "\u001b[0;32m~/elsenv/lib/python3.7/site-packages/SPOCK-0.0.1-py3.7.egg/SPOCK/short_term_scheduler.py\u001b[0m in \u001b[0;36mtransit_follow_up\u001b[0;34m(self, input_name)\u001b[0m\n\u001b[1;32m    476\u001b[0m                                                                   \u001b[0mobserver\u001b[0m\u001b[0;34m=\u001b[0m\u001b[0mself\u001b[0m\u001b[0;34m.\u001b[0m\u001b[0mobservatory\u001b[0m\u001b[0;34m,\u001b[0m\u001b[0;34m\u001b[0m\u001b[0m\n\u001b[1;32m    477\u001b[0m                                                                   transitioner=transitioner)\n\u001b[0;32m--> 478\u001b[0;31m                         \u001b[0msequen_scheduler_ss1\u001b[0m\u001b[0;34m(\u001b[0m\u001b[0mblocks\u001b[0m\u001b[0;34m,\u001b[0m \u001b[0mseq_schedule_ss1\u001b[0m\u001b[0;34m)\u001b[0m\u001b[0;34m\u001b[0m\u001b[0m\n\u001b[0m\u001b[1;32m    479\u001b[0m \u001b[0;34m\u001b[0m\u001b[0m\n\u001b[1;32m    480\u001b[0m                     \u001b[0;32melse\u001b[0m\u001b[0;34m:\u001b[0m\u001b[0;34m\u001b[0m\u001b[0m\n",
      "\u001b[0;32m~/elsenv/lib/python3.7/site-packages/SPOCK-0.0.1-py3.7.egg/eScheduler/spe_schedule.py\u001b[0m in \u001b[0;36m__call__\u001b[0;34m(self, blocks, schedule)\u001b[0m\n\u001b[1;32m    570\u001b[0m         \u001b[0;31m# these are *shallow* copies\u001b[0m\u001b[0;34m\u001b[0m\u001b[0;34m\u001b[0m\u001b[0m\n\u001b[1;32m    571\u001b[0m         \u001b[0mcopied_blocks\u001b[0m \u001b[0;34m=\u001b[0m \u001b[0;34m[\u001b[0m\u001b[0mcopy\u001b[0m\u001b[0;34m.\u001b[0m\u001b[0mcopy\u001b[0m\u001b[0;34m(\u001b[0m\u001b[0mblock\u001b[0m\u001b[0;34m)\u001b[0m \u001b[0;32mfor\u001b[0m \u001b[0mblock\u001b[0m \u001b[0;32min\u001b[0m \u001b[0mblocks\u001b[0m\u001b[0;34m]\u001b[0m\u001b[0;34m\u001b[0m\u001b[0m\n\u001b[0;32m--> 572\u001b[0;31m         \u001b[0mschedule\u001b[0m \u001b[0;34m=\u001b[0m \u001b[0mself\u001b[0m\u001b[0;34m.\u001b[0m\u001b[0m_make_schedule\u001b[0m\u001b[0;34m(\u001b[0m\u001b[0mcopied_blocks\u001b[0m\u001b[0;34m)\u001b[0m\u001b[0;34m\u001b[0m\u001b[0m\n\u001b[0m\u001b[1;32m    573\u001b[0m         \u001b[0;32mreturn\u001b[0m \u001b[0mschedule\u001b[0m\u001b[0;34m\u001b[0m\u001b[0m\n\u001b[1;32m    574\u001b[0m \u001b[0;34m\u001b[0m\u001b[0m\n",
      "\u001b[0;32m~/elsenv/lib/python3.7/site-packages/SPOCK-0.0.1-py3.7.egg/eScheduler/spe_schedule.py\u001b[0m in \u001b[0;36m_make_schedule\u001b[0;34m(self, blocks)\u001b[0m\n\u001b[1;32m   1091\u001b[0m \u001b[0;34m\u001b[0m\u001b[0m\n\u001b[1;32m   1092\u001b[0m             \u001b[0;31m# Stride the score arrays by that number\u001b[0m\u001b[0;34m\u001b[0m\u001b[0;34m\u001b[0m\u001b[0m\n\u001b[0;32m-> 1093\u001b[0;31m             \u001b[0m_strided_scores\u001b[0m \u001b[0;34m=\u001b[0m \u001b[0mstride_array\u001b[0m\u001b[0;34m(\u001b[0m\u001b[0mconstraint_scores\u001b[0m\u001b[0;34m,\u001b[0m \u001b[0m_stride_by\u001b[0m\u001b[0;34m)\u001b[0m \u001b[0;31m#Computes all possible sequential subarrays of arr with length = window_width\u001b[0m\u001b[0;34m\u001b[0m\u001b[0m\n\u001b[0m\u001b[1;32m   1094\u001b[0m \u001b[0;34m\u001b[0m\u001b[0m\n\u001b[1;32m   1095\u001b[0m             \u001b[0;31m# Collapse the sub-arrays\u001b[0m\u001b[0;34m\u001b[0m\u001b[0;34m\u001b[0m\u001b[0m\n",
      "\u001b[0;32m~/elsenv/lib/python3.7/site-packages/astroplan/utils.py\u001b[0m in \u001b[0;36mstride_array\u001b[0;34m(arr, window_width)\u001b[0m\n\u001b[1;32m    183\u001b[0m     \u001b[0mnew_shape\u001b[0m \u001b[0;34m=\u001b[0m \u001b[0;34m(\u001b[0m\u001b[0mlen\u001b[0m\u001b[0;34m(\u001b[0m\u001b[0marr\u001b[0m\u001b[0;34m)\u001b[0m \u001b[0;34m-\u001b[0m \u001b[0mwindow_width\u001b[0m \u001b[0;34m+\u001b[0m \u001b[0;36m1\u001b[0m\u001b[0;34m,\u001b[0m \u001b[0mwindow_width\u001b[0m\u001b[0;34m)\u001b[0m\u001b[0;34m\u001b[0m\u001b[0m\n\u001b[1;32m    184\u001b[0m \u001b[0;34m\u001b[0m\u001b[0m\n\u001b[0;32m--> 185\u001b[0;31m     \u001b[0mstrided_arr\u001b[0m \u001b[0;34m=\u001b[0m \u001b[0mas_strided\u001b[0m\u001b[0;34m(\u001b[0m\u001b[0marr\u001b[0m\u001b[0;34m,\u001b[0m \u001b[0mnew_shape\u001b[0m\u001b[0;34m,\u001b[0m \u001b[0;34m(\u001b[0m\u001b[0marr\u001b[0m\u001b[0;34m.\u001b[0m\u001b[0mstrides\u001b[0m\u001b[0;34m[\u001b[0m\u001b[0;36m0\u001b[0m\u001b[0;34m]\u001b[0m\u001b[0;34m,\u001b[0m \u001b[0marr\u001b[0m\u001b[0;34m.\u001b[0m\u001b[0mstrides\u001b[0m\u001b[0;34m[\u001b[0m\u001b[0;36m0\u001b[0m\u001b[0;34m]\u001b[0m\u001b[0;34m)\u001b[0m\u001b[0;34m)\u001b[0m\u001b[0;34m\u001b[0m\u001b[0m\n\u001b[0m\u001b[1;32m    186\u001b[0m \u001b[0;34m\u001b[0m\u001b[0m\n\u001b[1;32m    187\u001b[0m     \u001b[0;32mreturn\u001b[0m \u001b[0mstrided_arr\u001b[0m\u001b[0;34m\u001b[0m\u001b[0m\n",
      "\u001b[0;32m~/elsenv/lib/python3.7/site-packages/numpy/lib/stride_tricks.py\u001b[0m in \u001b[0;36mas_strided\u001b[0;34m(x, shape, strides, subok, writeable)\u001b[0m\n\u001b[1;32m     99\u001b[0m         \u001b[0minterface\u001b[0m\u001b[0;34m[\u001b[0m\u001b[0;34m'strides'\u001b[0m\u001b[0;34m]\u001b[0m \u001b[0;34m=\u001b[0m \u001b[0mtuple\u001b[0m\u001b[0;34m(\u001b[0m\u001b[0mstrides\u001b[0m\u001b[0;34m)\u001b[0m\u001b[0;34m\u001b[0m\u001b[0m\n\u001b[1;32m    100\u001b[0m \u001b[0;34m\u001b[0m\u001b[0m\n\u001b[0;32m--> 101\u001b[0;31m     \u001b[0marray\u001b[0m \u001b[0;34m=\u001b[0m \u001b[0mnp\u001b[0m\u001b[0;34m.\u001b[0m\u001b[0masarray\u001b[0m\u001b[0;34m(\u001b[0m\u001b[0mDummyArray\u001b[0m\u001b[0;34m(\u001b[0m\u001b[0minterface\u001b[0m\u001b[0;34m,\u001b[0m \u001b[0mbase\u001b[0m\u001b[0;34m=\u001b[0m\u001b[0mx\u001b[0m\u001b[0;34m)\u001b[0m\u001b[0;34m)\u001b[0m\u001b[0;34m\u001b[0m\u001b[0m\n\u001b[0m\u001b[1;32m    102\u001b[0m     \u001b[0;31m# The route via `__interface__` does not preserve structured\u001b[0m\u001b[0;34m\u001b[0m\u001b[0;34m\u001b[0m\u001b[0m\n\u001b[1;32m    103\u001b[0m     \u001b[0;31m# dtypes. Since dtype should remain unchanged, we set it explicitly.\u001b[0m\u001b[0;34m\u001b[0m\u001b[0;34m\u001b[0m\u001b[0m\n",
      "\u001b[0;32m~/elsenv/lib/python3.7/site-packages/numpy/core/_asarray.py\u001b[0m in \u001b[0;36masarray\u001b[0;34m(a, dtype, order)\u001b[0m\n\u001b[1;32m     81\u001b[0m \u001b[0;34m\u001b[0m\u001b[0m\n\u001b[1;32m     82\u001b[0m     \"\"\"\n\u001b[0;32m---> 83\u001b[0;31m     \u001b[0;32mreturn\u001b[0m \u001b[0marray\u001b[0m\u001b[0;34m(\u001b[0m\u001b[0ma\u001b[0m\u001b[0;34m,\u001b[0m \u001b[0mdtype\u001b[0m\u001b[0;34m,\u001b[0m \u001b[0mcopy\u001b[0m\u001b[0;34m=\u001b[0m\u001b[0;32mFalse\u001b[0m\u001b[0;34m,\u001b[0m \u001b[0morder\u001b[0m\u001b[0;34m=\u001b[0m\u001b[0morder\u001b[0m\u001b[0;34m)\u001b[0m\u001b[0;34m\u001b[0m\u001b[0m\n\u001b[0m\u001b[1;32m     84\u001b[0m \u001b[0;34m\u001b[0m\u001b[0m\n\u001b[1;32m     85\u001b[0m \u001b[0;34m\u001b[0m\u001b[0m\n",
      "\u001b[0;31mValueError\u001b[0m: negative dimensions are not allowed"
     ]
    }
   ],
   "source": [
    "import SPOCK.short_term_scheduler as SPOCKST\n",
    "from astropy.time import Time\n",
    "\n",
    "schedule = SPOCKST.Schedules()\n",
    "\n",
    "schedule.load_parameters()\n",
    "schedule.day_of_night = Time('2021-04-20 15:00:00')\n",
    "schedule.observatory_name = 'SSO'\n",
    "schedule.telescope = 'Ganymede'\n",
    "\n",
    "schedule.transit_follow_up(input_name=\"Nemesis-1.01\")"
   ]
  },
  {
   "cell_type": "code",
   "execution_count": 11,
   "metadata": {},
   "outputs": [
    {
     "name": "stdout",
     "output_type": "stream",
     "text": [
      "\u001b[32mINFO: \u001b[30m Local path does not exist yet \n",
      "0\n",
      "\u001b[32mINFO: \u001b[30m situation 6\n",
      "\u001b[32mINFO: \u001b[30m no transition block\n"
     ]
    }
   ],
   "source": [
    "schedule.make_scheduled_table()\n",
    "schedule.planification()\n",
    "schedule.make_night_block()"
   ]
  },
  {
   "cell_type": "code",
   "execution_count": 12,
   "metadata": {},
   "outputs": [
    {
     "data": {
      "text/html": [
       "<i>Table length=3</i>\n",
       "<table id=\"table4653927336\" class=\"table-striped table-bordered table-condensed\">\n",
       "<thead><tr><th>target</th><th>start time (UTC)</th><th>end time (UTC)</th><th>duration (minutes)</th><th>ra (h)</th><th>ra (m)</th><th>ra (s)</th><th>dec (d)</th><th>dec (m)</th><th>dec (s)</th><th>configuration</th></tr></thead>\n",
       "<thead><tr><th>str13</th><th>str23</th><th>str23</th><th>float64</th><th>float64</th><th>float64</th><th>float64</th><th>float64</th><th>float64</th><th>float64</th><th>object</th></tr></thead>\n",
       "<tr><td>Sp0008+4918</td><td>2020-09-15 20:02:00.010</td><td>2020-09-15 20:40:20.012</td><td>38.333366666666834</td><td>0.0</td><td>8.0</td><td>55.362840000000055</td><td>49.0</td><td>18.0</td><td>56.32019999999159</td><td>{&apos;filt=I+z&apos;, &apos;texp=20&apos;}</td></tr>\n",
       "<tr><td>Trappist-1b</td><td>2020-09-15 20:40:20.012</td><td>2020-09-15 22:23:00.012</td><td>102.66666666666667</td><td>23.0</td><td>6.0</td><td>28.999920000019017</td><td>-5.0</td><td>-2.0</td><td>-27.99996000000064</td><td>{&apos;filt=I+z&apos;, &apos;texp=23&apos;}</td></tr>\n",
       "<tr><td>Sp0008+4918_2</td><td>2020-09-15 22:23:00.012</td><td>2020-09-16 06:00:40.010</td><td>457.66663333333315</td><td>0.0</td><td>8.0</td><td>55.362840000000055</td><td>49.0</td><td>18.0</td><td>56.32019999999159</td><td>{&apos;filt=I+z&apos;, &apos;texp=20&apos;}</td></tr>\n",
       "</table>"
      ],
      "text/plain": [
       "<Table length=3>\n",
       "    target        start time (UTC)    ...      configuration     \n",
       "    str13              str23          ...          object        \n",
       "------------- ----------------------- ... -----------------------\n",
       "  Sp0008+4918 2020-09-15 20:02:00.010 ... {'filt=I+z', 'texp=20'}\n",
       "  Trappist-1b 2020-09-15 20:40:20.012 ... {'filt=I+z', 'texp=23'}\n",
       "Sp0008+4918_2 2020-09-15 22:23:00.012 ... {'filt=I+z', 'texp=20'}"
      ]
     },
     "metadata": {},
     "output_type": "display_data"
    }
   ],
   "source": [
    "display(schedule.scheduled_table_sorted)"
   ]
  },
  {
   "cell_type": "markdown",
   "metadata": {},
   "source": [
    "## 3- Save your plans and night blocks"
   ]
  },
  {
   "cell_type": "markdown",
   "metadata": {},
   "source": [
    "If you are satisfied with this modified **|night blocks|** you can save it. Executing this cell will upadate your local spock database. The **|night blocks|** will be saved in `your_spock_path + \"/DATABASE/telescope/Archive_night_blocks/\"`"
   ]
  },
  {
   "cell_type": "code",
   "execution_count": 13,
   "metadata": {},
   "outputs": [
    {
     "name": "stdout",
     "output_type": "stream",
     "text": [
      "\u001b[32mINFO:  \u001b[30m\"/Users/elsaducrot/spock_2/night_blocks_propositions/night_blocks_Artemis_2020-09-15.txt\" has been over-written to \"/Users/elsaducrot/spock_2/DATABASE/Artemis/\"\n"
     ]
    }
   ],
   "source": [
    "schedule = SPOCKST.Schedules()\n",
    "schedule.day_of_night = Time('2020-09-15 15:00:00')\n",
    "schedule.telescope = 'Artemis'\n",
    "\n",
    "SPOCKST.save_schedule(save=True,over_write=True,day=schedule.day_of_night,telescope=schedule.telescope)\n"
   ]
  },
  {
   "cell_type": "markdown",
   "metadata": {},
   "source": [
    "Now that you have saved the night block it's time to create the ACP plans to send to the control PC of the corresonding telescope. To do so you just have to execute the cell below with the following information:\n",
    "\n",
    "* `day`, start date you wish to make ACP plans for\n",
    "\n",
    "* `nb_days`, number of days you wish to make plan for (starting at the date define in `day`)\n",
    "\n",
    "* `telescope`, name of the telescope at sake\n",
    "\n",
    "ACP plans will be saved in `your_spock_path + \"/DATABASE/telescope/Plans_by_date/\"`"
   ]
  },
  {
   "cell_type": "code",
   "execution_count": 14,
   "metadata": {},
   "outputs": [
    {
     "name": "stdout",
     "output_type": "stream",
     "text": [
      "\n"
     ]
    }
   ],
   "source": [
    "SPOCKST.make_plans(day = schedule.day_of_night,nb_days=1,telescope = schedule.telescope)\n"
   ]
  },
  {
   "cell_type": "markdown",
   "metadata": {},
   "source": [
    "Now you can upload these ACP plans and **|night blocks|** to the [Cambridge Archive](http://www.mrao.cam.ac.uk/SPECULOOS/) as well as the plans sent to the control PCs. You will just need to provide :\n",
    "\n",
    "* `day`, start date you for which you wish to upload plans and **|night blocks|**\n",
    "\n",
    "* `nb_days`, number of days you wish to upload (starting at the date define in `day`)\n",
    "\n",
    "* `telescope`, name of the telescope at sake"
   ]
  },
  {
   "cell_type": "code",
   "execution_count": 15,
   "metadata": {},
   "outputs": [
    {
     "name": "stdout",
     "output_type": "stream",
     "text": [
      "-----> 2020-09-15 Plans uploaded on the Cambridge server\n",
      "-----> 2020-09-15 Night plans uploaded on the Cambridge server\n",
      "-----> 2020-09-15 Zip Plans_by_dates folder uploaded on the Cambridge server\n",
      "-----> 2020-09-15 Zip Plans_by_dates folder uploaded on the HUB for Artemis\n",
      "\u001b[32mINFO: \u001b[30m Path local 'Gant chart' =  /Users/elsaducrot/spock_2/SPOCK_Figures/Preview_schedule.html\n",
      "\u001b[32mINFO: \u001b[30m Path database = 'Gant chart' =  speculoos@appcs.ra.phy.cam.ac.uk:/appct/data/SPECULOOSPipeline/Preview_schedule.html\n"
     ]
    }
   ],
   "source": [
    "SPOCKST.upload_plans(day=schedule.day_of_night, nb_days=1,telescope = schedule.telescope)"
   ]
  }
 ],
 "metadata": {
  "kernelspec": {
   "display_name": "Python 3",
   "language": "python",
   "name": "python3"
  },
  "language_info": {
   "codemirror_mode": {
    "name": "ipython",
    "version": 3
   },
   "file_extension": ".py",
   "mimetype": "text/x-python",
   "name": "python",
   "nbconvert_exporter": "python",
   "pygments_lexer": "ipython3",
   "version": "3.7.0"
  }
 },
 "nbformat": 4,
 "nbformat_minor": 4
}
