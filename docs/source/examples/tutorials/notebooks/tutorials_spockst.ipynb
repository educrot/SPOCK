{
 "cells": [
  {
   "cell_type": "markdown",
   "metadata": {},
   "source": [
    "# Short-term scheduling"
   ]
  },
  {
   "cell_type": "markdown",
   "metadata": {},
   "source": [
    "Here we present the short-term scheduling module. The short-term scheduling module of spock has been concived to modify existing plan in order to add special or follow up observations, like transits or monitoring for instance."
   ]
  },
  {
   "cell_type": "markdown",
   "metadata": {},
   "source": [
    "<div class=\"alert alert-info\">\n",
    "\n",
    "**Note:** Before you insert new observations and upload them please make sure you have informed the SPECULOOS consortium \n",
    "\n",
    "</div>"
   ]
  },
  {
   "cell_type": "markdown",
   "metadata": {},
   "source": [
    "## 1- Special target"
   ]
  },
  {
   "cell_type": "markdown",
   "metadata": {},
   "source": [
    "<div class=\"alert alert-warning\">\n",
    "    \n",
    "**WARNING:** First of all, users must ensure that they have entered requiered information of the target they wish to schedule  in the **WG6 spread sheet**. Either under the tab `Annex_Targets_V2-STARS` for a external program observation without specific ephemeris or the tab `Annex_Targets_V1-PLANETS` if ephemeris (mostly transits) are required. \n",
    "\n",
    "</div>\n"
   ]
  },
  {
   "cell_type": "markdown",
   "metadata": {},
   "source": [
    "### For a special observation with given start/end time "
   ]
  },
  {
   "cell_type": "markdown",
   "metadata": {},
   "source": [
    "Here is the existing <span style=\"background-color:lightyellow\"><font color='orangered'> **night_blocks** </font></span> for a given `date` and a given `telescope`: \n"
   ]
  },
  {
   "cell_type": "code",
   "execution_count": 28,
   "metadata": {},
   "outputs": [
    {
     "data": {
      "text/html": [
       "<div>\n",
       "<style scoped>\n",
       "    .dataframe tbody tr th:only-of-type {\n",
       "        vertical-align: middle;\n",
       "    }\n",
       "\n",
       "    .dataframe tbody tr th {\n",
       "        vertical-align: top;\n",
       "    }\n",
       "\n",
       "    .dataframe thead th {\n",
       "        text-align: right;\n",
       "    }\n",
       "</style>\n",
       "<table border=\"1\" class=\"dataframe\">\n",
       "  <thead>\n",
       "    <tr style=\"text-align: right;\">\n",
       "      <th></th>\n",
       "      <th>target</th>\n",
       "      <th>start time (UTC)</th>\n",
       "      <th>end time (UTC)</th>\n",
       "      <th>duration (minutes)</th>\n",
       "      <th>ra (h)</th>\n",
       "      <th>ra (m)</th>\n",
       "      <th>ra (s)</th>\n",
       "      <th>dec (d)</th>\n",
       "      <th>dec (m)</th>\n",
       "      <th>dec (s)</th>\n",
       "      <th>configuration</th>\n",
       "    </tr>\n",
       "  </thead>\n",
       "  <tbody>\n",
       "    <tr>\n",
       "      <th>0</th>\n",
       "      <td>Sp1845-6357</td>\n",
       "      <td>2021-08-01 22:56:20.017</td>\n",
       "      <td>2021-08-02 04:44:00.017</td>\n",
       "      <td>347.666667</td>\n",
       "      <td>18.0</td>\n",
       "      <td>45.0</td>\n",
       "      <td>8.66448</td>\n",
       "      <td>-63.0</td>\n",
       "      <td>-57.0</td>\n",
       "      <td>-47.4624</td>\n",
       "      <td>{'filt': 'i', 'texp': '20'}</td>\n",
       "    </tr>\n",
       "    <tr>\n",
       "      <th>1</th>\n",
       "      <td>Sp2331-2749</td>\n",
       "      <td>2021-08-02 04:44:20.017</td>\n",
       "      <td>2021-08-02 10:40:00.017</td>\n",
       "      <td>355.666667</td>\n",
       "      <td>23.0</td>\n",
       "      <td>31.0</td>\n",
       "      <td>21.75288</td>\n",
       "      <td>-27.0</td>\n",
       "      <td>-49.0</td>\n",
       "      <td>-49.6056</td>\n",
       "      <td>{'filt': 'I+z', 'texp': '28'}</td>\n",
       "    </tr>\n",
       "  </tbody>\n",
       "</table>\n",
       "</div>"
      ],
      "text/plain": [
       "        target         start time (UTC)           end time (UTC)  \\\n",
       "0  Sp1845-6357  2021-08-01 22:56:20.017  2021-08-02 04:44:00.017   \n",
       "1  Sp2331-2749  2021-08-02 04:44:20.017  2021-08-02 10:40:00.017   \n",
       "\n",
       "   duration (minutes)  ra (h)  ra (m)    ra (s)  dec (d)  dec (m)  dec (s)  \\\n",
       "0          347.666667    18.0    45.0   8.66448    -63.0    -57.0 -47.4624   \n",
       "1          355.666667    23.0    31.0  21.75288    -27.0    -49.0 -49.6056   \n",
       "\n",
       "                   configuration  \n",
       "0    {'filt': 'i', 'texp': '20'}  \n",
       "1  {'filt': 'I+z', 'texp': '28'}  "
      ]
     },
     "execution_count": 28,
     "metadata": {},
     "output_type": "execute_result"
    }
   ],
   "source": [
    "import SPOCK.stats as SPOCKstats\n",
    "\n",
    "SPOCKstats.read_night_plans_server(telescope='Io',date='2021-08-01')"
   ]
  },
  {
   "cell_type": "markdown",
   "metadata": {},
   "source": [
    "First you want to create the <span style=\"background-color:lightyellow\"><font color='orangered'> **night_blocks** </font></span>. The only esstial information are: \n",
    "\n",
    "+ the name of the site, ex: `obs_name = 'SSO'`\n",
    "\n",
    "+ the name of the telescope (because there can be several telescope per site), ex: `telescope ='Europa'`\n",
    "\n",
    "+ the date the night starts, ex: `day_of_night ='2020-12-12 15:00:00'`\n",
    "\n",
    "+ and the name of your target, `input_name = 'Trappist-1'`\n",
    "\n",
    "+ start and end time in a list, ex: `start_end_range = ['2020-12-12 23:00:00','2020-12-13 01:00:00']`\n",
    "\n",
    "<span style=\"color:teal\">NB: you must first have filled info on the target on the WG6 spread sheet beforehand </span>"
   ]
  },
  {
   "cell_type": "markdown",
   "metadata": {},
   "source": [
    "This is the block you wish to insert:"
   ]
  },
  {
   "cell_type": "code",
   "execution_count": 29,
   "metadata": {},
   "outputs": [
    {
     "name": "stdout",
     "output_type": "stream",
     "text": [
      "\u001b[32mINFO: \u001b[30m Not using moon phase in ETC\n",
      "\n"
     ]
    },
    {
     "data": {
      "text/html": [
       "<i>Table length=1</i>\n",
       "<table id=\"table5013818224\" class=\"table-striped table-bordered table-condensed\">\n",
       "<thead><tr><th>target</th><th>start time (UTC)</th><th>end time (UTC)</th><th>duration (minutes)</th><th>ra (h)</th><th>ra (m)</th><th>ra (s)</th><th>dec (d)</th><th>dec (m)</th><th>dec (s)</th><th>configuration</th></tr></thead>\n",
       "<thead><tr><th>str9</th><th>str23</th><th>str23</th><th>float64</th><th>float64</th><th>float64</th><th>float64</th><th>float64</th><th>float64</th><th>float64</th><th>object</th></tr></thead>\n",
       "<tr><td>Nemesis-5</td><td>2021-08-02 04:00:00.029</td><td>2021-08-02 08:00:00.029</td><td>239.99999999999994</td><td>23.0</td><td>48.0</td><td>47.59920000001159</td><td>-7.0</td><td>-51.0</td><td>-48.66840000000053</td><td>{&apos;filt&apos;: &apos;I+z&apos;, &apos;texp&apos;: &apos;59&apos;}</td></tr>\n",
       "</table>"
      ],
      "text/plain": [
       "<Table length=1>\n",
       "  target      start time (UTC)    ...         configuration        \n",
       "   str9            str23          ...             object           \n",
       "--------- ----------------------- ... -----------------------------\n",
       "Nemesis-5 2021-08-02 04:00:00.029 ... {'filt': 'I+z', 'texp': '59'}"
      ]
     },
     "execution_count": 29,
     "metadata": {},
     "output_type": "execute_result"
    }
   ],
   "source": [
    "import SPOCK.short_term_scheduler as SPOCKST\n",
    "from astropy.time import Time\n",
    "\n",
    "schedule = SPOCKST.Schedules()\n",
    "\n",
    "schedule.load_parameters()\n",
    "schedule.day_of_night = Time('2021-08-01 15:00:00')\n",
    "schedule.observatory_name = 'SSO'\n",
    "schedule.telescope = 'Io'\n",
    "schedule.start_end_range = Time(['2021-08-02 04:00:00','2021-08-02 08:00:00'])\n",
    "\n",
    "schedule.special_target_with_start_end(input_name=\"Nemesis-5\")\n",
    "\n"
   ]
  },
  {
   "cell_type": "markdown",
   "metadata": {},
   "source": [
    "Now you modify existing plan to insert your observation block:"
   ]
  },
  {
   "cell_type": "code",
   "execution_count": 30,
   "metadata": {},
   "outputs": [
    {
     "name": "stdout",
     "output_type": "stream",
     "text": [
      "\u001b[32mINFO: \u001b[30m Local path does not exist yet \n",
      "\u001b[32mINFO: \u001b[30m situation 9\n",
      "\u001b[32mINFO: \u001b[30m situation 2\n",
      "\u001b[32mINFO: \u001b[30m no transition block\n"
     ]
    }
   ],
   "source": [
    "schedule.make_scheduled_table()\n",
    "schedule.planification()\n",
    "schedule.make_night_block()"
   ]
  },
  {
   "cell_type": "markdown",
   "metadata": {},
   "source": [
    "Here is how the modified **|night blocks|** looks like:"
   ]
  },
  {
   "cell_type": "code",
   "execution_count": 31,
   "metadata": {},
   "outputs": [
    {
     "data": {
      "text/html": [
       "<i>Table length=3</i>\n",
       "<table id=\"table4956712352\" class=\"table-striped table-bordered table-condensed\">\n",
       "<thead><tr><th>target</th><th>start time (UTC)</th><th>end time (UTC)</th><th>duration (minutes)</th><th>ra (h)</th><th>ra (m)</th><th>ra (s)</th><th>dec (d)</th><th>dec (m)</th><th>dec (s)</th><th>configuration</th></tr></thead>\n",
       "<thead><tr><th>str11</th><th>str23</th><th>str23</th><th>float64</th><th>float64</th><th>float64</th><th>float64</th><th>float64</th><th>float64</th><th>float64</th><th>object</th></tr></thead>\n",
       "<tr><td>Sp1845-6357</td><td>2021-08-01 22:56:20.017</td><td>2021-08-02 04:00:00.029</td><td>303.6668666666665</td><td>18.0</td><td>45.0</td><td>8.664480000022934</td><td>-63.0</td><td>-57.0</td><td>-47.46239999999375</td><td>{&apos;filt&apos;: &apos;i&apos;, &apos;texp&apos;: &apos;20&apos;}</td></tr>\n",
       "<tr><td>Nemesis-5</td><td>2021-08-02 04:00:00.029</td><td>2021-08-02 08:00:00.029</td><td>239.99999999999994</td><td>23.0</td><td>48.0</td><td>47.59920000001159</td><td>-7.0</td><td>-51.0</td><td>-48.66840000000053</td><td>{&apos;filt&apos;: &apos;I+z&apos;, &apos;texp&apos;: &apos;59&apos;}</td></tr>\n",
       "<tr><td>Sp2331-2749</td><td>2021-08-02 08:00:00.029</td><td>2021-08-02 10:40:00.017</td><td>159.9998</td><td>23.0</td><td>31.0</td><td>21.752880000023254</td><td>-27.0</td><td>-49.0</td><td>-49.60559999999447</td><td>{&apos;filt&apos;: &apos;I+z&apos;, &apos;texp&apos;: &apos;28&apos;}</td></tr>\n",
       "</table>"
      ],
      "text/plain": [
       "<Table length=3>\n",
       "   target       start time (UTC)    ...         configuration        \n",
       "   str11             str23          ...             object           \n",
       "----------- ----------------------- ... -----------------------------\n",
       "Sp1845-6357 2021-08-01 22:56:20.017 ...   {'filt': 'i', 'texp': '20'}\n",
       "  Nemesis-5 2021-08-02 04:00:00.029 ... {'filt': 'I+z', 'texp': '59'}\n",
       "Sp2331-2749 2021-08-02 08:00:00.029 ... {'filt': 'I+z', 'texp': '28'}"
      ]
     },
     "metadata": {},
     "output_type": "display_data"
    }
   ],
   "source": [
    "display(schedule.scheduled_table_sorted)"
   ]
  },
  {
   "cell_type": "markdown",
   "metadata": {},
   "source": [
    "### For a special target that you wish to observe as much as possible"
   ]
  },
  {
   "cell_type": "markdown",
   "metadata": {},
   "source": [
    "Here is the existing **|night blocks|** for a given `date` and a given `telescope`:"
   ]
  },
  {
   "cell_type": "code",
   "execution_count": 32,
   "metadata": {},
   "outputs": [
    {
     "data": {
      "text/html": [
       "<div>\n",
       "<style scoped>\n",
       "    .dataframe tbody tr th:only-of-type {\n",
       "        vertical-align: middle;\n",
       "    }\n",
       "\n",
       "    .dataframe tbody tr th {\n",
       "        vertical-align: top;\n",
       "    }\n",
       "\n",
       "    .dataframe thead th {\n",
       "        text-align: right;\n",
       "    }\n",
       "</style>\n",
       "<table border=\"1\" class=\"dataframe\">\n",
       "  <thead>\n",
       "    <tr style=\"text-align: right;\">\n",
       "      <th></th>\n",
       "      <th>target</th>\n",
       "      <th>start time (UTC)</th>\n",
       "      <th>end time (UTC)</th>\n",
       "      <th>duration (minutes)</th>\n",
       "      <th>ra (h)</th>\n",
       "      <th>ra (m)</th>\n",
       "      <th>ra (s)</th>\n",
       "      <th>dec (d)</th>\n",
       "      <th>dec (m)</th>\n",
       "      <th>dec (s)</th>\n",
       "      <th>configuration</th>\n",
       "    </tr>\n",
       "  </thead>\n",
       "  <tbody>\n",
       "    <tr>\n",
       "      <th>0</th>\n",
       "      <td>NGTS-11</td>\n",
       "      <td>2020-12-10 19:05:40.009</td>\n",
       "      <td>2020-12-11 00:49:00.009</td>\n",
       "      <td>343.333333</td>\n",
       "      <td>1.0</td>\n",
       "      <td>34.0</td>\n",
       "      <td>5.148000</td>\n",
       "      <td>-14.0</td>\n",
       "      <td>-25.0</td>\n",
       "      <td>-8.93640</td>\n",
       "      <td>{'filt=g', 'texp=10'}</td>\n",
       "    </tr>\n",
       "    <tr>\n",
       "      <th>1</th>\n",
       "      <td>Sp0840+1824</td>\n",
       "      <td>2020-12-11 00:49:00.009</td>\n",
       "      <td>2020-12-11 06:53:20.009</td>\n",
       "      <td>364.333333</td>\n",
       "      <td>8.0</td>\n",
       "      <td>40.0</td>\n",
       "      <td>29.634552</td>\n",
       "      <td>18.0</td>\n",
       "      <td>24.0</td>\n",
       "      <td>8.72676</td>\n",
       "      <td>{'texp=26', 'filt=I+z'}</td>\n",
       "    </tr>\n",
       "  </tbody>\n",
       "</table>\n",
       "</div>"
      ],
      "text/plain": [
       "        target         start time (UTC)           end time (UTC)  \\\n",
       "0      NGTS-11  2020-12-10 19:05:40.009  2020-12-11 00:49:00.009   \n",
       "1  Sp0840+1824  2020-12-11 00:49:00.009  2020-12-11 06:53:20.009   \n",
       "\n",
       "   duration (minutes)  ra (h)  ra (m)     ra (s)  dec (d)  dec (m)  dec (s)  \\\n",
       "0          343.333333     1.0    34.0   5.148000    -14.0    -25.0 -8.93640   \n",
       "1          364.333333     8.0    40.0  29.634552     18.0     24.0  8.72676   \n",
       "\n",
       "             configuration  \n",
       "0    {'filt=g', 'texp=10'}  \n",
       "1  {'texp=26', 'filt=I+z'}  "
      ]
     },
     "execution_count": 32,
     "metadata": {},
     "output_type": "execute_result"
    }
   ],
   "source": [
    "import SPOCK.stats as SPOCKstats\n",
    "\n",
    "SPOCKstats.read_night_plans_server(telescope='Artemis',date='2020-12-10')"
   ]
  },
  {
   "cell_type": "markdown",
   "metadata": {},
   "source": [
    "First you want to create the <span style=\"background-color:lightyellow\"><font color='orangered'> **night_blocks** </font></span>. The only essential information needed are: \n",
    "\n",
    "+ the name of the site, ex: `obs_name = 'SSO'`\n",
    "\n",
    "+ the name of the telescope (because there can be several telescope per site), ex: `telescope = 'Europa'`\n",
    "\n",
    "+ the date the night starts, ex: `day_of _night = '2020-12-12 15:00:00'`\n",
    "\n",
    "+ and the name of your target, `input_name = 'Trappist-1'`\n",
    "\n",
    "<span style=\"color:teal\">NB: you must first have filled info on the target in *target_list_special.txt* beforehand </span>"
   ]
  },
  {
   "cell_type": "code",
   "execution_count": 33,
   "metadata": {},
   "outputs": [
    {
     "name": "stdout",
     "output_type": "stream",
     "text": [
      "\n"
     ]
    },
    {
     "data": {
      "text/html": [
       "<i>Table length=1</i>\n",
       "<table id=\"table4979824008\" class=\"table-striped table-bordered table-condensed\">\n",
       "<thead><tr><th>target</th><th>start time (UTC)</th><th>end time (UTC)</th><th>duration (minutes)</th><th>ra (h)</th><th>ra (m)</th><th>ra (s)</th><th>dec (d)</th><th>dec (m)</th><th>dec (s)</th><th>configuration</th></tr></thead>\n",
       "<thead><tr><th>str9</th><th>str23</th><th>str23</th><th>float64</th><th>float64</th><th>float64</th><th>float64</th><th>float64</th><th>float64</th><th>float64</th><th>object</th></tr></thead>\n",
       "<tr><td>WASP-85Ab</td><td>2020-12-11 03:09:40.027</td><td>2020-12-11 07:08:00.027</td><td>238.3333333333334</td><td>11.0</td><td>43.0</td><td>38.00820000000698</td><td>6.0</td><td>33.0</td><td>49.45220639999988</td><td>{&apos;filt&apos;: &quot;g&apos;&quot;, &apos;texp&apos;: &apos;10&apos;}</td></tr>\n",
       "</table>"
      ],
      "text/plain": [
       "<Table length=1>\n",
       "  target      start time (UTC)    ...        configuration        \n",
       "   str9            str23          ...            object           \n",
       "--------- ----------------------- ... ----------------------------\n",
       "WASP-85Ab 2020-12-11 03:09:40.027 ... {'filt': \"g'\", 'texp': '10'}"
      ]
     },
     "execution_count": 33,
     "metadata": {},
     "output_type": "execute_result"
    }
   ],
   "source": [
    "import SPOCK.short_term_scheduler as SPOCKST\n",
    "from astropy.time import Time\n",
    "\n",
    "schedule = SPOCKST.Schedules()\n",
    "\n",
    "schedule.load_parameters()\n",
    "schedule.day_of_night = Time('2020-12-10 15:00:00')\n",
    "schedule.observatory_name = 'SNO'\n",
    "schedule.telescope = 'Artemis'\n",
    "schedule.special_target(input_name=\"WASP-85Ab\")\n",
    "\n"
   ]
  },
  {
   "cell_type": "code",
   "execution_count": 34,
   "metadata": {},
   "outputs": [
    {
     "name": "stdout",
     "output_type": "stream",
     "text": [
      "\u001b[32mINFO: \u001b[30m Local path does not exist yet \n",
      "\u001b[32mINFO: \u001b[30m situation 7\n",
      "\u001b[32mINFO: \u001b[30m situation 10, no change made to initial schedule\n",
      "\u001b[32mINFO: \u001b[30m situation 7\n",
      "\u001b[32mINFO: \u001b[30m no transition block\n"
     ]
    }
   ],
   "source": [
    "schedule.make_scheduled_table()\n",
    "schedule.planification()\n",
    "schedule.make_night_block()"
   ]
  },
  {
   "cell_type": "markdown",
   "metadata": {},
   "source": [
    "Here is how the modified <span style=\"background-color:lightyellow\"><font color='orangered'> **night_blocks** </font></span> looks like:"
   ]
  },
  {
   "cell_type": "code",
   "execution_count": 35,
   "metadata": {},
   "outputs": [
    {
     "data": {
      "text/html": [
       "<i>Table length=3</i>\n",
       "<table id=\"table4956650912\" class=\"table-striped table-bordered table-condensed\">\n",
       "<thead><tr><th>target</th><th>start time (UTC)</th><th>end time (UTC)</th><th>duration (minutes)</th><th>ra (h)</th><th>ra (m)</th><th>ra (s)</th><th>dec (d)</th><th>dec (m)</th><th>dec (s)</th><th>configuration</th></tr></thead>\n",
       "<thead><tr><th>str11</th><th>str23</th><th>str23</th><th>float64</th><th>float64</th><th>float64</th><th>float64</th><th>float64</th><th>float64</th><th>float64</th><th>object</th></tr></thead>\n",
       "<tr><td>NGTS-11</td><td>2020-12-10 19:05:40.009</td><td>2020-12-11 03:09:40.027</td><td>484.00029999999987</td><td>1.0</td><td>34.0</td><td>5.148000000001645</td><td>-14.0</td><td>-25.0</td><td>-8.93639999999678</td><td>{&apos;filt=g&apos;, &apos;texp=10&apos;}</td></tr>\n",
       "<tr><td>Sp0840+1824</td><td>2020-12-11 00:49:00.009</td><td>2020-12-11 03:09:40.027</td><td>140.66696666666675</td><td>8.0</td><td>40.0</td><td>29.634552000006664</td><td>18.0</td><td>24.0</td><td>8.726760000003821</td><td>{&apos;texp=26&apos;, &apos;filt=I+z&apos;}</td></tr>\n",
       "<tr><td>WASP-85Ab</td><td>2020-12-11 03:09:40.027</td><td>2020-12-11 07:07:41.682</td><td>238.0275833333333</td><td>11.0</td><td>43.0</td><td>38.00820000000698</td><td>6.0</td><td>33.0</td><td>49.45220639999988</td><td>{&apos;filt&apos;: &quot;g&apos;&quot;, &apos;texp&apos;: &apos;10&apos;}</td></tr>\n",
       "</table>"
      ],
      "text/plain": [
       "<Table length=3>\n",
       "   target       start time (UTC)    ...        configuration        \n",
       "   str11             str23          ...            object           \n",
       "----------- ----------------------- ... ----------------------------\n",
       "    NGTS-11 2020-12-10 19:05:40.009 ...        {'filt=g', 'texp=10'}\n",
       "Sp0840+1824 2020-12-11 00:49:00.009 ...      {'texp=26', 'filt=I+z'}\n",
       "  WASP-85Ab 2020-12-11 03:09:40.027 ... {'filt': \"g'\", 'texp': '10'}"
      ]
     },
     "metadata": {},
     "output_type": "display_data"
    }
   ],
   "source": [
    "display(schedule.scheduled_table_sorted)"
   ]
  },
  {
   "cell_type": "markdown",
   "metadata": {},
   "source": [
    "## 2- Follow-up"
   ]
  },
  {
   "cell_type": "markdown",
   "metadata": {},
   "source": [
    "Here is the existing <span style=\"background-color:lightyellow\"><font color='orangered'> **night_blocks** </font></span> for a given `date` and a given `telescope`:"
   ]
  },
  {
   "cell_type": "code",
   "execution_count": 36,
   "metadata": {},
   "outputs": [
    {
     "data": {
      "text/html": [
       "<div>\n",
       "<style scoped>\n",
       "    .dataframe tbody tr th:only-of-type {\n",
       "        vertical-align: middle;\n",
       "    }\n",
       "\n",
       "    .dataframe tbody tr th {\n",
       "        vertical-align: top;\n",
       "    }\n",
       "\n",
       "    .dataframe thead th {\n",
       "        text-align: right;\n",
       "    }\n",
       "</style>\n",
       "<table border=\"1\" class=\"dataframe\">\n",
       "  <thead>\n",
       "    <tr style=\"text-align: right;\">\n",
       "      <th></th>\n",
       "      <th>target</th>\n",
       "      <th>start time (UTC)</th>\n",
       "      <th>end time (UTC)</th>\n",
       "      <th>duration (minutes)</th>\n",
       "      <th>ra (h)</th>\n",
       "      <th>ra (m)</th>\n",
       "      <th>ra (s)</th>\n",
       "      <th>dec (d)</th>\n",
       "      <th>dec (m)</th>\n",
       "      <th>dec (s)</th>\n",
       "      <th>configuration</th>\n",
       "    </tr>\n",
       "  </thead>\n",
       "  <tbody>\n",
       "    <tr>\n",
       "      <th>0</th>\n",
       "      <td>Sp0008+4918</td>\n",
       "      <td>2020-09-15 20:02:00.010</td>\n",
       "      <td>2020-09-16 06:00:40.010</td>\n",
       "      <td>598.666667</td>\n",
       "      <td>0.0</td>\n",
       "      <td>8.0</td>\n",
       "      <td>55.36284</td>\n",
       "      <td>49.0</td>\n",
       "      <td>18.0</td>\n",
       "      <td>56.3202</td>\n",
       "      <td>{'filt=I+z', 'texp=20'}</td>\n",
       "    </tr>\n",
       "  </tbody>\n",
       "</table>\n",
       "</div>"
      ],
      "text/plain": [
       "        target         start time (UTC)           end time (UTC)  \\\n",
       "0  Sp0008+4918  2020-09-15 20:02:00.010  2020-09-16 06:00:40.010   \n",
       "\n",
       "   duration (minutes)  ra (h)  ra (m)    ra (s)  dec (d)  dec (m)  dec (s)  \\\n",
       "0          598.666667     0.0     8.0  55.36284     49.0     18.0  56.3202   \n",
       "\n",
       "             configuration  \n",
       "0  {'filt=I+z', 'texp=20'}  "
      ]
     },
     "execution_count": 36,
     "metadata": {},
     "output_type": "execute_result"
    }
   ],
   "source": [
    "import SPOCK.stats as SPOCKstats\n",
    "\n",
    "SPOCKstats.read_night_plans_server(telescope='Artemis',date='2020-09-15')"
   ]
  },
  {
   "cell_type": "code",
   "execution_count": 37,
   "metadata": {},
   "outputs": [
    {
     "name": "stdout",
     "output_type": "stream",
     "text": [
      "\u001b[32m\u001b[32m\u001b[32mINFO: \u001b[30m \u001b[30m\u001b[30mTrappist-1b next transit:  ['2020-09-15 21:05:27.228']\n",
      "\n",
      "\u001b[32mINFO: \u001b[30m start_transit of  Trappist-1b  :  2020-09-15 20:47:17.958\n",
      "\u001b[32m\u001b[32mINFO: \u001b[30m \u001b[30m end_transit of  Trappist-1b  :  2020-09-15 21:23:36.498\n",
      "\u001b[32m\u001b[32mINFO: \u001b[30m \u001b[30m Transit is expected to be full.\n"
     ]
    },
    {
     "data": {
      "text/html": [
       "<i>Table length=1</i>\n",
       "<table id=\"table4946143440\" class=\"table-striped table-bordered table-condensed\">\n",
       "<thead><tr><th>target</th><th>start time (UTC)</th><th>end time (UTC)</th><th>duration (minutes)</th><th>ra (h)</th><th>ra (m)</th><th>ra (s)</th><th>dec (d)</th><th>dec (m)</th><th>dec (s)</th><th>configuration</th></tr></thead>\n",
       "<thead><tr><th>str11</th><th>str23</th><th>str23</th><th>float64</th><th>float64</th><th>float64</th><th>float64</th><th>float64</th><th>float64</th><th>float64</th><th>object</th></tr></thead>\n",
       "<tr><td>Trappist-1b</td><td>2020-09-15 20:40:20.012</td><td>2020-09-15 22:21:00.012</td><td>100.66666666666669</td><td>23.0</td><td>6.0</td><td>28.999920000019017</td><td>-5.0</td><td>-2.0</td><td>-27.99996000000064</td><td>{&apos;filt&apos;: &apos;I+z&apos;, &apos;texp&apos;: &apos;23&apos;}</td></tr>\n",
       "</table>"
      ],
      "text/plain": [
       "<Table length=1>\n",
       "   target       start time (UTC)    ...         configuration        \n",
       "   str11             str23          ...             object           \n",
       "----------- ----------------------- ... -----------------------------\n",
       "Trappist-1b 2020-09-15 20:40:20.012 ... {'filt': 'I+z', 'texp': '23'}"
      ]
     },
     "execution_count": 37,
     "metadata": {},
     "output_type": "execute_result"
    }
   ],
   "source": [
    "import SPOCK.short_term_scheduler as SPOCKST\n",
    "from astropy.time import Time\n",
    "\n",
    "schedule = SPOCKST.Schedules()\n",
    "\n",
    "schedule.load_parameters()\n",
    "schedule.day_of_night = Time('2020-09-15 15:00:00')\n",
    "schedule.observatory_name = 'SNO'\n",
    "schedule.telescope = 'Artemis'\n",
    "\n",
    "schedule.transit_follow_up(input_name=\"Trappist-1b\")"
   ]
  },
  {
   "cell_type": "code",
   "execution_count": 38,
   "metadata": {},
   "outputs": [
    {
     "name": "stdout",
     "output_type": "stream",
     "text": [
      "\u001b[32mINFO: \u001b[30m Local path does not exist yet \n",
      "\u001b[32mINFO: \u001b[30m situation 6\n",
      "\u001b[32mINFO: \u001b[30m no transition block\n"
     ]
    }
   ],
   "source": [
    "schedule.make_scheduled_table()\n",
    "schedule.planification()\n",
    "schedule.make_night_block()"
   ]
  },
  {
   "cell_type": "code",
   "execution_count": 39,
   "metadata": {},
   "outputs": [
    {
     "data": {
      "text/html": [
       "<i>Table length=3</i>\n",
       "<table id=\"table4953922696\" class=\"table-striped table-bordered table-condensed\">\n",
       "<thead><tr><th>target</th><th>start time (UTC)</th><th>end time (UTC)</th><th>duration (minutes)</th><th>ra (h)</th><th>ra (m)</th><th>ra (s)</th><th>dec (d)</th><th>dec (m)</th><th>dec (s)</th><th>configuration</th></tr></thead>\n",
       "<thead><tr><th>str13</th><th>str23</th><th>str23</th><th>float64</th><th>float64</th><th>float64</th><th>float64</th><th>float64</th><th>float64</th><th>float64</th><th>object</th></tr></thead>\n",
       "<tr><td>Sp0008+4918</td><td>2020-09-15 20:02:00.010</td><td>2020-09-15 20:40:20.012</td><td>38.333366666666834</td><td>0.0</td><td>8.0</td><td>55.362840000000055</td><td>49.0</td><td>18.0</td><td>56.32019999999159</td><td>{&apos;filt=I+z&apos;, &apos;texp=20&apos;}</td></tr>\n",
       "<tr><td>Trappist-1b</td><td>2020-09-15 20:40:20.012</td><td>2020-09-15 22:21:00.012</td><td>100.66666666666669</td><td>23.0</td><td>6.0</td><td>28.999920000019017</td><td>-5.0</td><td>-2.0</td><td>-27.99996000000064</td><td>{&apos;filt&apos;: &apos;I+z&apos;, &apos;texp&apos;: &apos;23&apos;}</td></tr>\n",
       "<tr><td>Sp0008+4918_2</td><td>2020-09-15 22:21:00.012</td><td>2020-09-16 06:00:40.010</td><td>459.66663333333315</td><td>0.0</td><td>8.0</td><td>55.362840000000055</td><td>49.0</td><td>18.0</td><td>56.32019999999159</td><td>{&apos;filt=I+z&apos;, &apos;texp=20&apos;}</td></tr>\n",
       "</table>"
      ],
      "text/plain": [
       "<Table length=3>\n",
       "    target        start time (UTC)    ...         configuration        \n",
       "    str13              str23          ...             object           \n",
       "------------- ----------------------- ... -----------------------------\n",
       "  Sp0008+4918 2020-09-15 20:02:00.010 ...       {'filt=I+z', 'texp=20'}\n",
       "  Trappist-1b 2020-09-15 20:40:20.012 ... {'filt': 'I+z', 'texp': '23'}\n",
       "Sp0008+4918_2 2020-09-15 22:21:00.012 ...       {'filt=I+z', 'texp=20'}"
      ]
     },
     "metadata": {},
     "output_type": "display_data"
    }
   ],
   "source": [
    "display(schedule.scheduled_table_sorted)"
   ]
  },
  {
   "cell_type": "markdown",
   "metadata": {},
   "source": [
    "## 3- Save your plans and night blocks"
   ]
  },
  {
   "cell_type": "markdown",
   "metadata": {},
   "source": [
    "If you are satisfied with this modified <span style=\"background-color:lightyellow\"><font color='orangered'> **night_blocks** </font></span> you can save it. Executing this cell will upadate your local spock database. The <span style=\"background-color:lightyellow\"><font color='orangered'> **night_blocks** </font></span> will be saved in `your_spock_path + \"/DATABASE/telescope/Archive_night_blocks/\"`"
   ]
  },
  {
   "cell_type": "code",
   "execution_count": 40,
   "metadata": {},
   "outputs": [
    {
     "name": "stdout",
     "output_type": "stream",
     "text": [
      "\u001b[32mINFO:  \u001b[30m\"/Users/elsaducrot/spock_2/night_blocks_propositions/night_blocks_Io_2021-08-01.txt\" has been over-written to \"/Users/elsaducrot/spock_2/DATABASE/Io/\"\n"
     ]
    }
   ],
   "source": [
    "schedule = SPOCKST.Schedules()\n",
    "schedule.day_of_night = Time('2021-08-01 15:00:00')\n",
    "schedule.telescope = 'Io'\n",
    "\n",
    "SPOCKST.save_schedule(save=True,over_write=True,day=schedule.day_of_night,telescope=schedule.telescope)\n"
   ]
  },
  {
   "cell_type": "markdown",
   "metadata": {},
   "source": [
    "Now that you have saved the night block it's time to create the ACP plans to send to the control PC of the corresonding telescope. To do so you just have to execute the cell below with the following information:\n",
    "\n",
    "* `day`, start date you wish to make ACP plans for\n",
    "\n",
    "* `nb_days`, number of days you wish to make plan for (starting at the date define in `day`)\n",
    "\n",
    "* `telescope`, name of the telescope at sake\n",
    "\n",
    "ACP plans will be saved in `your_spock_path + \"/DATABASE/telescope/Plans_by_date/\"`"
   ]
  },
  {
   "cell_type": "markdown",
   "metadata": {},
   "source": [
    "## 4- Make ACP format plans"
   ]
  },
  {
   "cell_type": "code",
   "execution_count": 41,
   "metadata": {},
   "outputs": [
    {
     "name": "stdout",
     "output_type": "stream",
     "text": [
      "\u001b[32mINFO: \u001b[30m Path exists and is:  /Users/elsaducrot/spock_2/DATABASE/Io/night_blocks_Io_2021-08-01.txt\n",
      "\u001b[33mWARNING: \u001b[30m not possible at that time because of altitude constraint, adding 20 degrees altitude\n",
      "\n"
     ]
    }
   ],
   "source": [
    "SPOCKST.make_plans(day = schedule.day_of_night,nb_days=1,telescope = schedule.telescope)\n"
   ]
  },
  {
   "cell_type": "markdown",
   "metadata": {},
   "source": [
    "Now you can upload these ACP plans and <span style=\"background-color:lightyellow\"><font color='orangered'> **night_blocks** </font></span> to the [Cambridge Archive](http://www.mrao.cam.ac.uk/SPECULOOS/) as well as the plans sent to the control PCs. You will just need to provide :\n",
    "\n",
    "* `day`, start date you for which you wish to upload plans and <span style=\"background-color:lightyellow\"><font color='orangered'> **night_blocks** </font></span>\n",
    "\n",
    "* `nb_days`, number of days you wish to upload (starting at the date define in `day`)\n",
    "\n",
    "* `telescope`, name of the telescope at sake"
   ]
  },
  {
   "cell_type": "markdown",
   "metadata": {},
   "source": [
    "## 5- upload your plans and <span style=\"background-color:lightyellow\"><font color='orangered'> **night_blocks** </font></span> on the control computers and archive"
   ]
  },
  {
   "cell_type": "code",
   "execution_count": 42,
   "metadata": {},
   "outputs": [
    {
     "name": "stdout",
     "output_type": "stream",
     "text": [
      "-----> 2021-08-01 Plans uploaded on the Cambridge server\n",
      "-----> 2021-08-01 Night plans uploaded on the Cambridge server\n",
      "-----> 2021-08-01 Zip Plans_by_dates folder uploaded on the Cambridge server\n",
      "-----> 2021-08-01 Zip Plans_by_dates folder uploaded on the HUB for Io\n",
      "\u001b[32mINFO: \u001b[30m Path local 'Gant chart' =  /Users/elsaducrot/spock_2/SPOCK_Figures/Preview_schedule.html\n",
      "\u001b[32mINFO: \u001b[30m Path database = 'Gant chart' =  speculoos@appcs.ra.phy.cam.ac.uk:/appct/data/SPECULOOSPipeline/Preview_schedule.html\n"
     ]
    }
   ],
   "source": [
    "SPOCKST.upload_plans(day=schedule.day_of_night, nb_days=1,telescope = schedule.telescope)"
   ]
  }
 ],
 "metadata": {
  "kernelspec": {
   "display_name": "Python 3",
   "language": "python",
   "name": "python3"
  },
  "language_info": {
   "codemirror_mode": {
    "name": "ipython",
    "version": 3
   },
   "file_extension": ".py",
   "mimetype": "text/x-python",
   "name": "python",
   "nbconvert_exporter": "python",
   "pygments_lexer": "ipython3",
   "version": "3.7.0"
  }
 },
 "nbformat": 4,
 "nbformat_minor": 4
}
