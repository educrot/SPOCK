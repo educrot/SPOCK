{
 "cells": [
  {
   "cell_type": "code",
   "execution_count": 45,
   "metadata": {},
   "outputs": [],
   "source": [
    "import SPOCK.long_term_scheduler as SPOCKLT\n",
    "import SPOCK.short_term_scheduler as SPOCKST\n",
    "import SPOCK.plots_scheduler as SPOCKplot\n",
    "from astropy.time import Time\n",
    "import pandas as pd\n",
    "from astropy.utils import iers\n",
    "iers.IERS_A_URL  ='ftp://cddis.gsfc.nasa.gov/pub/products/iers/finals2000A.all'\n",
    "import yaml\n",
    "import ipywidgets as widgets\n",
    "#from astroplan import download_IERS_A\n",
    "#download_IERS_A()\n"
   ]
  },
  {
   "cell_type": "markdown",
   "metadata": {},
   "source": [
    "# LONG TERM SCHEDULER"
   ]
  },
  {
   "cell_type": "code",
   "execution_count": 46,
   "metadata": {
    "scrolled": true
   },
   "outputs": [],
   "source": [
    "# ---------------------- LONG TERM SCHEDULER ---------------------\n",
    "obs = 1\n",
    "schedule = SPOCKLT.Schedules()\n",
    "schedule.load_parameters('./input.csv',obs)\n",
    "#schedule.make_schedule(Altitude_constraint = 25, Moon_constraint = 30)\n"
   ]
  },
  {
   "cell_type": "code",
   "execution_count": 11,
   "metadata": {
    "scrolled": true
   },
   "outputs": [
    {
     "data": {
      "text/html": [
       "<i>Row index=152 masked=True</i>\n",
       "<table id=\"table4779509800\">\n",
       "<thead><tr><th>Sp_ID</th><th>2MASS_ID</th><th>Gaia_ID</th><th>Filter</th><th>texp_spc</th><th>nb_hours_surved</th><th>nb_hours_threshold</th><th>RA</th><th>DEC</th><th>G</th><th>I</th><th>J</th><th>H</th><th>K</th><th>Dis</th><th>e_Dis</th><th>M</th><th>e_M</th><th>R</th><th>e_R</th><th>T_eff</th><th>e_Teff</th><th>SpT</th><th>e_Spt</th><th>SNR_T1b</th><th>SNR_JWST_HZ_tr</th><th>SNR_JWST_HZ_occ</th><th>telescope</th><th>prog</th><th>Note</th></tr></thead>\n",
       "<thead><tr><th>str11</th><th>str16</th><th>int64</th><th>str3</th><th>int64</th><th>float64</th><th>int64</th><th>float64</th><th>float64</th><th>float64</th><th>float64</th><th>float64</th><th>float64</th><th>float64</th><th>float64</th><th>float64</th><th>float64</th><th>float64</th><th>float64</th><th>float64</th><th>float64</th><th>float64</th><th>float64</th><th>float64</th><th>float64</th><th>float64</th><th>float64</th><th>str16</th><th>int64</th><th>str19</th></tr></thead>\n",
       "<tr><td>Sp0255-4700</td><td>02550357-4700509</td><td>4752399493622045696</td><td>I+z</td><td>80</td><td>131.33049004922756</td><td>200</td><td>43.7674256</td><td>-47.0142628</td><td>18.61</td><td>17.29</td><td>13.25</td><td>12.2</td><td>11.56</td><td>4.8703</td><td>0.006</td><td>0.04</td><td>0.02</td><td>0.09</td><td>0.02</td><td>1335.0</td><td>104.0</td><td>18.0</td><td>3.0</td><td>6.21</td><td>5.02</td><td>8.1</td><td>Europa</td><td>1</td><td>output_list</td></tr>\n",
       "</table>"
      ],
      "text/plain": [
       "<Row index=152 masked=True>\n",
       "   Sp_ID        2MASS_ID           Gaia_ID       Filter texp_spc  nb_hours_surved   nb_hours_threshold     RA         DEC        G       I       J       H       K      Dis    e_Dis     M      e_M      R      e_R    T_eff   e_Teff   SpT    e_Spt  SNR_T1b SNR_JWST_HZ_tr SNR_JWST_HZ_occ telescope  prog     Note   \n",
       "   str11         str16              int64         str3   int64        float64             int64         float64     float64   float64 float64 float64 float64 float64 float64 float64 float64 float64 float64 float64 float64 float64 float64 float64 float64    float64         float64       str16   int64    str19   \n",
       "----------- ---------------- ------------------- ------ -------- ------------------ ------------------ ---------- ----------- ------- ------- ------- ------- ------- ------- ------- ------- ------- ------- ------- ------- ------- ------- ------- ------- -------------- --------------- --------- ----- -----------\n",
       "Sp0255-4700 02550357-4700509 4752399493622045696    I+z       80 131.33049004922756                200 43.7674256 -47.0142628   18.61   17.29   13.25    12.2   11.56  4.8703   0.006    0.04    0.02    0.09    0.02  1335.0   104.0    18.0     3.0    6.21           5.02             8.1    Europa     1 output_list"
      ]
     },
     "metadata": {},
     "output_type": "display_data"
    },
    {
     "data": {
      "text/html": [
       "<i>Row index=484 masked=True</i>\n",
       "<table id=\"table4779509800\">\n",
       "<thead><tr><th>Sp_ID</th><th>2MASS_ID</th><th>Gaia_ID</th><th>Filter</th><th>texp_spc</th><th>nb_hours_surved</th><th>nb_hours_threshold</th><th>RA</th><th>DEC</th><th>G</th><th>I</th><th>J</th><th>H</th><th>K</th><th>Dis</th><th>e_Dis</th><th>M</th><th>e_M</th><th>R</th><th>e_R</th><th>T_eff</th><th>e_Teff</th><th>SpT</th><th>e_Spt</th><th>SNR_T1b</th><th>SNR_JWST_HZ_tr</th><th>SNR_JWST_HZ_occ</th><th>telescope</th><th>prog</th><th>Note</th></tr></thead>\n",
       "<thead><tr><th>str11</th><th>str16</th><th>int64</th><th>str3</th><th>int64</th><th>float64</th><th>int64</th><th>float64</th><th>float64</th><th>float64</th><th>float64</th><th>float64</th><th>float64</th><th>float64</th><th>float64</th><th>float64</th><th>float64</th><th>float64</th><th>float64</th><th>float64</th><th>float64</th><th>float64</th><th>float64</th><th>float64</th><th>float64</th><th>float64</th><th>float64</th><th>str16</th><th>int64</th><th>str19</th></tr></thead>\n",
       "<tr><td>Sp0853-2446</td><td>08535631-2446565</td><td>5652718166073269888</td><td>I+z</td><td>55</td><td>13.005087985458044</td><td>100</td><td>133.48506840000002</td><td>-24.7823436</td><td>15.82</td><td>14.36</td><td>12.39</td><td>11.88</td><td>11.57</td><td>25.8438</td><td>0.0725</td><td>0.1</td><td>0.02</td><td>0.13</td><td>0.02</td><td>2802.0</td><td>104.0</td><td>6.2</td><td>1.0</td><td>11.56</td><td>3.46</td><td>1.31</td><td>0</td><td>3</td><td>0</td></tr>\n",
       "</table>"
      ],
      "text/plain": [
       "<Row index=484 masked=True>\n",
       "   Sp_ID        2MASS_ID           Gaia_ID       Filter texp_spc  nb_hours_surved   nb_hours_threshold         RA             DEC        G       I       J       H       K      Dis    e_Dis     M      e_M      R      e_R    T_eff   e_Teff   SpT    e_Spt  SNR_T1b SNR_JWST_HZ_tr SNR_JWST_HZ_occ telescope  prog  Note\n",
       "   str11         str16              int64         str3   int64        float64             int64             float64         float64   float64 float64 float64 float64 float64 float64 float64 float64 float64 float64 float64 float64 float64 float64 float64 float64    float64         float64       str16   int64 str19\n",
       "----------- ---------------- ------------------- ------ -------- ------------------ ------------------ ------------------ ----------- ------- ------- ------- ------- ------- ------- ------- ------- ------- ------- ------- ------- ------- ------- ------- ------- -------------- --------------- --------- ----- -----\n",
       "Sp0853-2446 08535631-2446565 5652718166073269888    I+z       55 13.005087985458044                100 133.48506840000002 -24.7823436   15.82   14.36   12.39   11.88   11.57 25.8438  0.0725     0.1    0.02    0.13    0.02  2802.0   104.0     6.2     1.0   11.56           3.46            1.31         0     3     0"
      ]
     },
     "metadata": {},
     "output_type": "display_data"
    }
   ],
   "source": [
    "display(schedule.target_table_spc[schedule.idx_first_target])\n",
    "display(schedule.target_table_spc[schedule.idx_second_target])\n"
   ]
  },
  {
   "cell_type": "code",
   "execution_count": 47,
   "metadata": {
    "scrolled": true
   },
   "outputs": [
    {
     "name": "stdout",
     "output_type": "stream",
     "text": [
      "INFO : \"./night_blocks_propositions/night_blocks_Ganymede_2020-01-09.txt\" has been over-written to \"./DATABASE/Ganymede/\"\n",
      "INFO : \"./night_blocks_propositions/night_blocks_Ganymede_2020-01-09.txt\" has been copied to \"./DATABASE/Ganymede/Archive_night_blocks/\"\n",
      "INFO : \"./night_blocks_propositions/night_blocks_Ganymede_2020-01-10.txt\" has been over-written to \"./DATABASE/Ganymede/\"\n",
      "INFO : \"./night_blocks_propositions/night_blocks_Ganymede_2020-01-10.txt\" has been copied to \"./DATABASE/Ganymede/Archive_night_blocks/\"\n",
      "INFO : \"./night_blocks_propositions/night_blocks_Ganymede_2020-01-11.txt\" has been over-written to \"./DATABASE/Ganymede/\"\n",
      "INFO : \"./night_blocks_propositions/night_blocks_Ganymede_2020-01-11.txt\" has been copied to \"./DATABASE/Ganymede/Archive_night_blocks/\"\n",
      "INFO : \"./night_blocks_propositions/night_blocks_Ganymede_2020-01-12.txt\" has been over-written to \"./DATABASE/Ganymede/\"\n",
      "INFO : \"./night_blocks_propositions/night_blocks_Ganymede_2020-01-12.txt\" has been copied to \"./DATABASE/Ganymede/Archive_night_blocks/\"\n",
      "INFO : \"./night_blocks_propositions/night_blocks_Ganymede_2020-01-13.txt\" has been over-written to \"./DATABASE/Ganymede/\"\n",
      "INFO : \"./night_blocks_propositions/night_blocks_Ganymede_2020-01-13.txt\" has been copied to \"./DATABASE/Ganymede/Archive_night_blocks/\"\n",
      "INFO : \"./night_blocks_propositions/night_blocks_Ganymede_2020-01-14.txt\" has been over-written to \"./DATABASE/Ganymede/\"\n",
      "INFO : \"./night_blocks_propositions/night_blocks_Ganymede_2020-01-14.txt\" has been copied to \"./DATABASE/Ganymede/Archive_night_blocks/\"\n",
      "INFO : \"./night_blocks_propositions/night_blocks_Ganymede_2020-01-15.txt\" has been over-written to \"./DATABASE/Ganymede/\"\n",
      "INFO : \"./night_blocks_propositions/night_blocks_Ganymede_2020-01-15.txt\" has been copied to \"./DATABASE/Ganymede/Archive_night_blocks/\"\n",
      "INFO : \"./night_blocks_propositions/night_blocks_Ganymede_2020-01-16.txt\" has been over-written to \"./DATABASE/Ganymede/\"\n",
      "INFO : \"./night_blocks_propositions/night_blocks_Ganymede_2020-01-16.txt\" has been copied to \"./DATABASE/Ganymede/Archive_night_blocks/\"\n",
      "INFO : \"./night_blocks_propositions/night_blocks_Ganymede_2020-01-17.txt\" has been over-written to \"./DATABASE/Ganymede/\"\n",
      "INFO : \"./night_blocks_propositions/night_blocks_Ganymede_2020-01-17.txt\" has been copied to \"./DATABASE/Ganymede/Archive_night_blocks/\"\n",
      "INFO : \"./night_blocks_propositions/night_blocks_Ganymede_2020-01-18.txt\" has been over-written to \"./DATABASE/Ganymede/\"\n",
      "INFO : \"./night_blocks_propositions/night_blocks_Ganymede_2020-01-18.txt\" has been copied to \"./DATABASE/Ganymede/Archive_night_blocks/\"\n",
      "INFO : \"./night_blocks_propositions/night_blocks_Ganymede_2020-01-19.txt\" has been over-written to \"./DATABASE/Ganymede/\"\n",
      "INFO : \"./night_blocks_propositions/night_blocks_Ganymede_2020-01-19.txt\" has been copied to \"./DATABASE/Ganymede/Archive_night_blocks/\"\n",
      "INFO : \"./night_blocks_propositions/night_blocks_Ganymede_2020-01-20.txt\" has been over-written to \"./DATABASE/Ganymede/\"\n",
      "INFO : \"./night_blocks_propositions/night_blocks_Ganymede_2020-01-20.txt\" has been copied to \"./DATABASE/Ganymede/Archive_night_blocks/\"\n",
      "INFO : \"./night_blocks_propositions/night_blocks_Ganymede_2020-01-21.txt\" has been over-written to \"./DATABASE/Ganymede/\"\n",
      "INFO : \"./night_blocks_propositions/night_blocks_Ganymede_2020-01-21.txt\" has been copied to \"./DATABASE/Ganymede/Archive_night_blocks/\"\n",
      "INFO : \"./night_blocks_propositions/night_blocks_Ganymede_2020-01-22.txt\" has been over-written to \"./DATABASE/Ganymede/\"\n",
      "INFO : \"./night_blocks_propositions/night_blocks_Ganymede_2020-01-22.txt\" has been copied to \"./DATABASE/Ganymede/Archive_night_blocks/\"\n",
      "INFO : \"./night_blocks_propositions/night_blocks_Ganymede_2020-01-23.txt\" has been over-written to \"./DATABASE/Ganymede/\"\n",
      "INFO : \"./night_blocks_propositions/night_blocks_Ganymede_2020-01-23.txt\" has been copied to \"./DATABASE/Ganymede/Archive_night_blocks/\"\n",
      "INFO : \"./night_blocks_propositions/night_blocks_Ganymede_2020-01-24.txt\" has been over-written to \"./DATABASE/Ganymede/\"\n",
      "INFO : \"./night_blocks_propositions/night_blocks_Ganymede_2020-01-24.txt\" has been copied to \"./DATABASE/Ganymede/Archive_night_blocks/\"\n",
      "INFO : \"./night_blocks_propositions/night_blocks_Ganymede_2020-01-25.txt\" has been over-written to \"./DATABASE/Ganymede/\"\n",
      "INFO : \"./night_blocks_propositions/night_blocks_Ganymede_2020-01-25.txt\" has been copied to \"./DATABASE/Ganymede/Archive_night_blocks/\"\n",
      "INFO : \"./night_blocks_propositions/night_blocks_Ganymede_2020-01-26.txt\" has been over-written to \"./DATABASE/Ganymede/\"\n",
      "INFO : \"./night_blocks_propositions/night_blocks_Ganymede_2020-01-26.txt\" has been copied to \"./DATABASE/Ganymede/Archive_night_blocks/\"\n",
      "INFO : \"./night_blocks_propositions/night_blocks_Ganymede_2020-01-27.txt\" has been over-written to \"./DATABASE/Ganymede/\"\n",
      "INFO : \"./night_blocks_propositions/night_blocks_Ganymede_2020-01-27.txt\" has been copied to \"./DATABASE/Ganymede/Archive_night_blocks/\"\n",
      "INFO : \"./night_blocks_propositions/night_blocks_Ganymede_2020-01-28.txt\" has been over-written to \"./DATABASE/Ganymede/\"\n",
      "INFO : \"./night_blocks_propositions/night_blocks_Ganymede_2020-01-28.txt\" has been copied to \"./DATABASE/Ganymede/Archive_night_blocks/\"\n",
      "INFO : \"./night_blocks_propositions/night_blocks_Ganymede_2020-01-29.txt\" has been over-written to \"./DATABASE/Ganymede/\"\n",
      "INFO : \"./night_blocks_propositions/night_blocks_Ganymede_2020-01-29.txt\" has been copied to \"./DATABASE/Ganymede/Archive_night_blocks/\"\n",
      "INFO : \"./night_blocks_propositions/night_blocks_Ganymede_2020-01-30.txt\" has been over-written to \"./DATABASE/Ganymede/\"\n",
      "INFO : \"./night_blocks_propositions/night_blocks_Ganymede_2020-01-30.txt\" has been copied to \"./DATABASE/Ganymede/Archive_night_blocks/\"\n",
      "INFO : \"./night_blocks_propositions/night_blocks_Ganymede_2020-01-31.txt\" has been over-written to \"./DATABASE/Ganymede/\"\n",
      "INFO : \"./night_blocks_propositions/night_blocks_Ganymede_2020-01-31.txt\" has been copied to \"./DATABASE/Ganymede/Archive_night_blocks/\"\n"
     ]
    }
   ],
   "source": [
    "SPOCKLT.save_schedule('./input.csv',obs,save=True,over_write=True)"
   ]
  },
  {
   "cell_type": "code",
   "execution_count": 48,
   "metadata": {
    "scrolled": true
   },
   "outputs": [
    {
     "name": "stdout",
     "output_type": "stream",
     "text": [
      "2020-01-09 15:00:00.000 23 Ganymede\n",
      "Ganymede\n",
      "./DATABASE/Ganymede/Plans_by_date/2020-01-09\n",
      "   target       start time (UTC)    ...      configuration     \n",
      "----------- ----------------------- ... -----------------------\n",
      "Sp0603-8127 2020-01-10 00:31:20.021 ... {'texp=58', 'filt=I+z'}\n",
      "avant : I+z\n",
      "apres : I+z 58\n",
      "./DATABASE/Ganymede/Plans_by_date\n",
      "0 1\n",
      "Sp0603-8127\n",
      "6h3m44.20936800000568s -81d27m30.356640000023845s\n",
      "-81.4584324 -1.4217178488932267\n",
      "str(filt) {0: 'I+z', 1: 'I+z', 2: 'I+z'}\n",
      "Ganymede\n",
      "./DATABASE/Ganymede/Plans_by_date/2020-01-10\n",
      "   target       start time (UTC)    ...      configuration     \n",
      "----------- ----------------------- ... -----------------------\n",
      "Sp0603-8127 2020-01-11 00:31:40.021 ... {'texp=58', 'filt=I+z'}\n",
      "avant : I+z\n",
      "apres : I+z 58\n",
      "./DATABASE/Ganymede/Plans_by_date\n",
      "0 1\n",
      "Sp0603-8127\n",
      "6h3m44.20936800000568s -81d27m30.356640000023845s\n",
      "-81.4584324 -1.4217178488932267\n",
      "str(filt) {0: 'I+z', 1: 'I+z', 2: 'I+z'}\n",
      "Ganymede\n",
      "./DATABASE/Ganymede/Plans_by_date/2020-01-11\n",
      "   target       start time (UTC)    ...      configuration     \n",
      "----------- ----------------------- ... -----------------------\n",
      "Sp0603-8127 2020-01-12 00:31:40.021 ... {'texp=58', 'filt=I+z'}\n",
      "avant : I+z\n",
      "apres : I+z 58\n",
      "./DATABASE/Ganymede/Plans_by_date\n",
      "0 1\n",
      "Sp0603-8127\n",
      "6h3m44.20936800000568s -81d27m30.356640000023845s\n",
      "-81.4584324 -1.4217178488932267\n",
      "str(filt) {0: 'I+z', 1: 'I+z', 2: 'I+z'}\n",
      "Ganymede\n",
      "./DATABASE/Ganymede/Plans_by_date/2020-01-12\n",
      "   target       start time (UTC)    ...      configuration     \n",
      "----------- ----------------------- ... -----------------------\n",
      "Sp0603-8127 2020-01-13 00:31:20.021 ... {'texp=58', 'filt=I+z'}\n",
      "avant : I+z\n",
      "apres : I+z 58\n",
      "./DATABASE/Ganymede/Plans_by_date\n",
      "0 1\n",
      "Sp0603-8127\n",
      "6h3m44.20936800000568s -81d27m30.356640000023845s\n",
      "-81.4584324 -1.4217178488932267\n",
      "str(filt) {0: 'I+z', 1: 'I+z', 2: 'I+z'}\n",
      "Ganymede\n",
      "./DATABASE/Ganymede/Plans_by_date/2020-01-13\n",
      "   target       start time (UTC)    ...      configuration     \n",
      "----------- ----------------------- ... -----------------------\n",
      "Sp0603-8127 2020-01-14 00:31:20.021 ... {'texp=58', 'filt=I+z'}\n",
      "avant : I+z\n",
      "apres : I+z 58\n",
      "./DATABASE/Ganymede/Plans_by_date\n",
      "0 1\n",
      "Sp0603-8127\n",
      "6h3m44.20936800000568s -81d27m30.356640000023845s\n",
      "-81.4584324 -1.4217178488932267\n",
      "str(filt) {0: 'I+z', 1: 'I+z', 2: 'I+z'}\n",
      "Ganymede\n",
      "./DATABASE/Ganymede/Plans_by_date/2020-01-14\n",
      "   target       start time (UTC)    ...      configuration      \n",
      "----------- ----------------------- ... ------------------------\n",
      "Sp0806-2839 2020-01-15 00:31:20.021 ... {'filt=I+z', 'texp=110'}\n",
      "avant : I+z\n",
      "apres : I+z 110\n",
      "./DATABASE/Ganymede/Plans_by_date\n",
      "0 1\n",
      "Sp0806-2839\n",
      "8h6m26.508144000006837s -28d39m22.854600000000005s\n",
      "-28.6563485 -0.5001476329239383\n",
      "str(filt) {0: 'I+z', 1: 'I+z', 2: 'I+z'}\n",
      "Ganymede\n",
      "./DATABASE/Ganymede/Plans_by_date/2020-01-15\n",
      "   target       start time (UTC)    ...      configuration      \n",
      "----------- ----------------------- ... ------------------------\n",
      "Sp0806-2839 2020-01-16 00:31:00.021 ... {'filt=I+z', 'texp=110'}\n",
      "avant : I+z\n",
      "apres : I+z 110\n",
      "./DATABASE/Ganymede/Plans_by_date\n",
      "0 1\n",
      "Sp0806-2839\n",
      "8h6m26.508144000006837s -28d39m22.854600000000005s\n",
      "-28.6563485 -0.5001476329239383\n",
      "str(filt) {0: 'I+z', 1: 'I+z', 2: 'I+z'}\n",
      "Ganymede\n",
      "./DATABASE/Ganymede/Plans_by_date/2020-01-16\n",
      "   target       start time (UTC)    ...      configuration      \n",
      "----------- ----------------------- ... ------------------------\n",
      "Sp0806-2839 2020-01-17 00:31:20.021 ... {'filt=I+z', 'texp=110'}\n",
      "avant : I+z\n",
      "apres : I+z 110\n",
      "./DATABASE/Ganymede/Plans_by_date\n",
      "0 1\n",
      "Sp0806-2839\n",
      "8h6m26.508144000006837s -28d39m22.854600000000005s\n",
      "-28.6563485 -0.5001476329239383\n",
      "str(filt) {0: 'I+z', 1: 'I+z', 2: 'I+z'}\n",
      "Ganymede\n",
      "./DATABASE/Ganymede/Plans_by_date/2020-01-17\n",
      "   target       start time (UTC)    ...      configuration      \n",
      "----------- ----------------------- ... ------------------------\n",
      "Sp0806-2839 2020-01-18 00:31:00.020 ... {'filt=I+z', 'texp=110'}\n",
      "avant : I+z\n",
      "apres : I+z 110\n",
      "./DATABASE/Ganymede/Plans_by_date\n",
      "0 1\n",
      "Sp0806-2839\n",
      "8h6m26.508144000006837s -28d39m22.854600000000005s\n",
      "-28.6563485 -0.5001476329239383\n",
      "str(filt) {0: 'I+z', 1: 'I+z', 2: 'I+z'}\n",
      "Ganymede\n",
      "./DATABASE/Ganymede/Plans_by_date/2020-01-18\n",
      "   target       start time (UTC)    ...      configuration      \n",
      "----------- ----------------------- ... ------------------------\n",
      "Sp0806-2839 2020-01-19 00:30:40.020 ... {'filt=I+z', 'texp=110'}\n",
      "avant : I+z\n",
      "apres : I+z 110\n",
      "./DATABASE/Ganymede/Plans_by_date\n",
      "0 1\n",
      "Sp0806-2839\n",
      "8h6m26.508144000006837s -28d39m22.854600000000005s\n",
      "-28.6563485 -0.5001476329239383\n",
      "str(filt) {0: 'I+z', 1: 'I+z', 2: 'I+z'}\n",
      "Ganymede\n",
      "./DATABASE/Ganymede/Plans_by_date/2020-01-19\n",
      "   target       start time (UTC)    ...      configuration      \n",
      "----------- ----------------------- ... ------------------------\n",
      "Sp0806-2839 2020-01-20 00:30:40.020 ... {'filt=I+z', 'texp=110'}\n",
      "avant : I+z\n",
      "apres : I+z 110\n",
      "./DATABASE/Ganymede/Plans_by_date\n",
      "0 1\n",
      "Sp0806-2839\n",
      "8h6m26.508144000006837s -28d39m22.854600000000005s\n",
      "-28.6563485 -0.5001476329239383\n",
      "str(filt) {0: 'I+z', 1: 'I+z', 2: 'I+z'}\n",
      "Ganymede\n",
      "./DATABASE/Ganymede/Plans_by_date/2020-01-20\n",
      "   target       start time (UTC)    ...      configuration     \n",
      "----------- ----------------------- ... -----------------------\n",
      "Sp0810-4115 2020-01-21 00:30:20.020 ... {'filt=I+z', 'texp=85'}\n",
      "avant : I+z\n",
      "apres : I+z 85\n",
      "./DATABASE/Ganymede/Plans_by_date\n",
      "0 1\n",
      "Sp0810-4115\n",
      "8h10m17.792496000008384s -41d15m45.1479599999999s\n",
      "-41.2625411 -0.7201671999344827\n",
      "str(filt) {0: 'I+z', 1: 'I+z', 2: 'I+z'}\n",
      "Ganymede\n",
      "./DATABASE/Ganymede/Plans_by_date/2020-01-21\n",
      "   target       start time (UTC)    ...      configuration     \n",
      "----------- ----------------------- ... -----------------------\n",
      "Sp0810-4115 2020-01-22 00:30:00.020 ... {'filt=I+z', 'texp=85'}\n",
      "avant : I+z\n",
      "apres : I+z 85\n",
      "./DATABASE/Ganymede/Plans_by_date\n",
      "0 1\n",
      "Sp0810-4115\n",
      "8h10m17.792496000008384s -41d15m45.1479599999999s\n",
      "-41.2625411 -0.7201671999344827\n",
      "str(filt) {0: 'I+z', 1: 'I+z', 2: 'I+z'}\n",
      "Ganymede\n",
      "./DATABASE/Ganymede/Plans_by_date/2020-01-22\n",
      "   target       start time (UTC)    ...      configuration     \n",
      "----------- ----------------------- ... -----------------------\n",
      "Sp0810-4115 2020-01-23 00:29:20.020 ... {'filt=I+z', 'texp=85'}\n",
      "avant : I+z\n",
      "apres : I+z 85\n",
      "./DATABASE/Ganymede/Plans_by_date\n",
      "0 1\n",
      "Sp0810-4115\n",
      "8h10m17.792496000008384s -41d15m45.1479599999999s\n",
      "-41.2625411 -0.7201671999344827\n",
      "str(filt) {0: 'I+z', 1: 'I+z', 2: 'I+z'}\n",
      "Ganymede\n",
      "./DATABASE/Ganymede/Plans_by_date/2020-01-23\n",
      "   target       start time (UTC)    ...      configuration     \n",
      "----------- ----------------------- ... -----------------------\n",
      "Sp0810-4115 2020-01-24 00:29:20.020 ... {'filt=I+z', 'texp=85'}\n",
      "avant : I+z\n",
      "apres : I+z 85\n",
      "./DATABASE/Ganymede/Plans_by_date\n",
      "0 1\n",
      "Sp0810-4115\n",
      "8h10m17.792496000008384s -41d15m45.1479599999999s\n",
      "-41.2625411 -0.7201671999344827\n",
      "str(filt) {0: 'I+z', 1: 'I+z', 2: 'I+z'}\n",
      "Ganymede\n",
      "./DATABASE/Ganymede/Plans_by_date/2020-01-24\n",
      "   target       start time (UTC)    ...      configuration     \n",
      "----------- ----------------------- ... -----------------------\n",
      "Sp0810-4115 2020-01-25 00:28:20.020 ... {'filt=I+z', 'texp=85'}\n",
      "avant : I+z\n",
      "apres : I+z 85\n",
      "./DATABASE/Ganymede/Plans_by_date\n",
      "0 1\n",
      "Sp0810-4115\n",
      "8h10m17.792496000008384s -41d15m45.1479599999999s\n",
      "-41.2625411 -0.7201671999344827\n",
      "str(filt) {0: 'I+z', 1: 'I+z', 2: 'I+z'}\n",
      "Ganymede\n",
      "./DATABASE/Ganymede/Plans_by_date/2020-01-25\n",
      "   target       start time (UTC)    ...      configuration     \n",
      "----------- ----------------------- ... -----------------------\n",
      "Sp0810-4115 2020-01-26 00:28:00.020 ... {'filt=I+z', 'texp=85'}\n",
      "avant : I+z\n",
      "apres : I+z 85\n",
      "./DATABASE/Ganymede/Plans_by_date\n",
      "0 1\n",
      "Sp0810-4115\n",
      "8h10m17.792496000008384s -41d15m45.1479599999999s\n",
      "-41.2625411 -0.7201671999344827\n",
      "str(filt) {0: 'I+z', 1: 'I+z', 2: 'I+z'}\n",
      "Ganymede\n",
      "./DATABASE/Ganymede/Plans_by_date/2020-01-26\n",
      "   target       start time (UTC)    ...      configuration     \n",
      "----------- ----------------------- ... -----------------------\n",
      "Sp0923-2727 2020-01-27 00:49:20.021 ... {'texp=88', 'filt=I+z'}\n",
      "avant : I+z\n",
      "apres : I+z 88\n",
      "./DATABASE/Ganymede/Plans_by_date\n",
      "0 1\n",
      "Sp0923-2727\n",
      "9h23m30.323327999999066s -27d27m20.799000000012597s\n",
      "-27.455777500000003 -0.4791937160699775\n",
      "str(filt) {0: 'I+z', 1: 'I+z', 2: 'I+z'}\n",
      "Ganymede\n",
      "./DATABASE/Ganymede/Plans_by_date/2020-01-27\n",
      "   target       start time (UTC)    ...      configuration     \n",
      "----------- ----------------------- ... -----------------------\n",
      "Sp0923-2727 2020-01-28 00:45:20.020 ... {'texp=88', 'filt=I+z'}\n",
      "avant : I+z\n",
      "apres : I+z 88\n"
     ]
    },
    {
     "name": "stdout",
     "output_type": "stream",
     "text": [
      "./DATABASE/Ganymede/Plans_by_date\n",
      "0 1\n",
      "Sp0923-2727\n",
      "9h23m30.323327999999066s -27d27m20.799000000012597s\n",
      "-27.455777500000003 -0.4791937160699775\n",
      "str(filt) {0: 'I+z', 1: 'I+z', 2: 'I+z'}\n",
      "Ganymede\n",
      "./DATABASE/Ganymede/Plans_by_date/2020-01-28\n",
      "   target       start time (UTC)    ...      configuration     \n",
      "----------- ----------------------- ... -----------------------\n",
      "Sp0923-2727 2020-01-29 00:41:40.020 ... {'texp=88', 'filt=I+z'}\n",
      "avant : I+z\n",
      "apres : I+z 88\n",
      "./DATABASE/Ganymede/Plans_by_date\n",
      "0 1\n",
      "Sp0923-2727\n",
      "9h23m30.323327999999066s -27d27m20.799000000012597s\n",
      "-27.455777500000003 -0.4791937160699775\n",
      "str(filt) {0: 'I+z', 1: 'I+z', 2: 'I+z'}\n",
      "Ganymede\n",
      "./DATABASE/Ganymede/Plans_by_date/2020-01-29\n",
      "   target       start time (UTC)    ...      configuration     \n",
      "----------- ----------------------- ... -----------------------\n",
      "Sp0923-2727 2020-01-30 00:37:40.020 ... {'texp=88', 'filt=I+z'}\n",
      "avant : I+z\n",
      "apres : I+z 88\n",
      "./DATABASE/Ganymede/Plans_by_date\n",
      "0 1\n",
      "Sp0923-2727\n",
      "9h23m30.323327999999066s -27d27m20.799000000012597s\n",
      "-27.455777500000003 -0.4791937160699775\n",
      "str(filt) {0: 'I+z', 1: 'I+z', 2: 'I+z'}\n",
      "Ganymede\n",
      "./DATABASE/Ganymede/Plans_by_date/2020-01-30\n",
      "   target       start time (UTC)    ...      configuration     \n",
      "----------- ----------------------- ... -----------------------\n",
      "Sp0923-2727 2020-01-31 00:33:40.020 ... {'texp=88', 'filt=I+z'}\n",
      "avant : I+z\n",
      "apres : I+z 88\n",
      "./DATABASE/Ganymede/Plans_by_date\n",
      "0 1\n",
      "Sp0923-2727\n",
      "9h23m30.323327999999066s -27d27m20.799000000012597s\n",
      "-27.455777500000003 -0.4791937160699775\n",
      "str(filt) {0: 'I+z', 1: 'I+z', 2: 'I+z'}\n",
      "Ganymede\n",
      "./DATABASE/Ganymede/Plans_by_date/2020-01-31\n",
      "   target       start time (UTC)    ...      configuration     \n",
      "----------- ----------------------- ... -----------------------\n",
      "Sp0923-2727 2020-02-01 00:29:40.020 ... {'texp=88', 'filt=I+z'}\n",
      "avant : I+z\n",
      "apres : I+z 88\n",
      "./DATABASE/Ganymede/Plans_by_date\n",
      "0 1\n",
      "Sp0923-2727\n",
      "9h23m30.323327999999066s -27d27m20.799000000012597s\n",
      "-27.455777500000003 -0.4791937160699775\n",
      "str(filt) {0: 'I+z', 1: 'I+z', 2: 'I+z'}\n",
      "-----> 2020-01-09 uploaded on the HUB for Ganymede\n",
      "-----> 2020-01-10 uploaded on the HUB for Ganymede\n",
      "-----> 2020-01-11 uploaded on the HUB for Ganymede\n",
      "-----> 2020-01-12 uploaded on the HUB for Ganymede\n",
      "-----> 2020-01-13 uploaded on the HUB for Ganymede\n",
      "-----> 2020-01-14 uploaded on the HUB for Ganymede\n",
      "-----> 2020-01-15 uploaded on the HUB for Ganymede\n",
      "-----> 2020-01-16 uploaded on the HUB for Ganymede\n",
      "-----> 2020-01-17 uploaded on the HUB for Ganymede\n",
      "-----> 2020-01-18 uploaded on the HUB for Ganymede\n",
      "-----> 2020-01-19 uploaded on the HUB for Ganymede\n",
      "-----> 2020-01-20 uploaded on the HUB for Ganymede\n",
      "-----> 2020-01-21 uploaded on the HUB for Ganymede\n",
      "-----> 2020-01-22 uploaded on the HUB for Ganymede\n",
      "-----> 2020-01-23 uploaded on the HUB for Ganymede\n",
      "-----> 2020-01-24 uploaded on the HUB for Ganymede\n",
      "-----> 2020-01-25 uploaded on the HUB for Ganymede\n",
      "-----> 2020-01-26 uploaded on the HUB for Ganymede\n",
      "-----> 2020-01-27 uploaded on the HUB for Ganymede\n",
      "-----> 2020-01-28 uploaded on the HUB for Ganymede\n",
      "-----> 2020-01-29 uploaded on the HUB for Ganymede\n",
      "-----> 2020-01-30 uploaded on the HUB for Ganymede\n",
      "-----> 2020-01-31 uploaded on the HUB for Ganymede\n",
      "INFO: Path database =  speculoos@appcs.ra.phy.cam.ac.uk:/appct/data/SPECULOOSPipeline/Ganymede/schedule\n",
      "INFO: Path local 'Plans_by_day' =  ./DATABASE/Ganymede/Plans_by_date/\n",
      "INFO: Path local 'Archive_night_blocks' =  ./DATABASE/Ganymede/Archive_night_blocks/\n"
     ]
    }
   ],
   "source": [
    "day = Time('2020-01-09 15:00:00.000')\n",
    "SPOCKLT.make_np(day,23,schedule.telescope)\n",
    "SPOCKLT.upload_plans(day, nb_days=23,telescope = schedule.telescope)"
   ]
  },
  {
   "cell_type": "markdown",
   "metadata": {
    "heading_collapsed": true
   },
   "source": [
    "# SHORT TERM SCHEDULER"
   ]
  },
  {
   "cell_type": "code",
   "execution_count": 29,
   "metadata": {
    "hidden": true,
    "scrolled": true
   },
   "outputs": [
    {
     "ename": "TraitError",
     "evalue": "Invalid selection: value not found",
     "output_type": "error",
     "traceback": [
      "\u001b[0;31m---------------------------------------------------------------------------\u001b[0m",
      "\u001b[0;31mStopIteration\u001b[0m                             Traceback (most recent call last)",
      "\u001b[0;32m/anaconda3/lib/python3.7/site-packages/ipywidgets/widgets/widget_selection.py\u001b[0m in \u001b[0;36mfindvalue\u001b[0;34m(array, value, compare)\u001b[0m\n\u001b[1;32m    132\u001b[0m     \u001b[0;32mtry\u001b[0m\u001b[0;34m:\u001b[0m\u001b[0;34m\u001b[0m\u001b[0;34m\u001b[0m\u001b[0m\n\u001b[0;32m--> 133\u001b[0;31m         \u001b[0;32mreturn\u001b[0m \u001b[0mnext\u001b[0m\u001b[0;34m(\u001b[0m\u001b[0mx\u001b[0m \u001b[0;32mfor\u001b[0m \u001b[0mx\u001b[0m \u001b[0;32min\u001b[0m \u001b[0marray\u001b[0m \u001b[0;32mif\u001b[0m \u001b[0mcompare\u001b[0m\u001b[0;34m(\u001b[0m\u001b[0mx\u001b[0m\u001b[0;34m,\u001b[0m \u001b[0mvalue\u001b[0m\u001b[0;34m)\u001b[0m\u001b[0;34m)\u001b[0m\u001b[0;34m\u001b[0m\u001b[0;34m\u001b[0m\u001b[0m\n\u001b[0m\u001b[1;32m    134\u001b[0m     \u001b[0;32mexcept\u001b[0m \u001b[0mStopIteration\u001b[0m\u001b[0;34m:\u001b[0m\u001b[0;34m\u001b[0m\u001b[0;34m\u001b[0m\u001b[0m\n",
      "\u001b[0;31mStopIteration\u001b[0m: ",
      "\nDuring handling of the above exception, another exception occurred:\n",
      "\u001b[0;31mValueError\u001b[0m                                Traceback (most recent call last)",
      "\u001b[0;32m/anaconda3/lib/python3.7/site-packages/ipywidgets/widgets/widget_selection.py\u001b[0m in \u001b[0;36m_validate_value\u001b[0;34m(self, proposal)\u001b[0m\n\u001b[1;32m    236\u001b[0m         \u001b[0;32mtry\u001b[0m\u001b[0;34m:\u001b[0m\u001b[0;34m\u001b[0m\u001b[0;34m\u001b[0m\u001b[0m\n\u001b[0;32m--> 237\u001b[0;31m             \u001b[0;32mreturn\u001b[0m \u001b[0mfindvalue\u001b[0m\u001b[0;34m(\u001b[0m\u001b[0mself\u001b[0m\u001b[0;34m.\u001b[0m\u001b[0m_options_values\u001b[0m\u001b[0;34m,\u001b[0m \u001b[0mvalue\u001b[0m\u001b[0;34m,\u001b[0m \u001b[0mself\u001b[0m\u001b[0;34m.\u001b[0m\u001b[0mequals\u001b[0m\u001b[0;34m)\u001b[0m \u001b[0;32mif\u001b[0m \u001b[0mvalue\u001b[0m \u001b[0;32mis\u001b[0m \u001b[0;32mnot\u001b[0m \u001b[0;32mNone\u001b[0m \u001b[0;32melse\u001b[0m \u001b[0;32mNone\u001b[0m\u001b[0;34m\u001b[0m\u001b[0;34m\u001b[0m\u001b[0m\n\u001b[0m\u001b[1;32m    238\u001b[0m         \u001b[0;32mexcept\u001b[0m \u001b[0mValueError\u001b[0m\u001b[0;34m:\u001b[0m\u001b[0;34m\u001b[0m\u001b[0;34m\u001b[0m\u001b[0m\n",
      "\u001b[0;32m/anaconda3/lib/python3.7/site-packages/ipywidgets/widgets/widget_selection.py\u001b[0m in \u001b[0;36mfindvalue\u001b[0;34m(array, value, compare)\u001b[0m\n\u001b[1;32m    134\u001b[0m     \u001b[0;32mexcept\u001b[0m \u001b[0mStopIteration\u001b[0m\u001b[0;34m:\u001b[0m\u001b[0;34m\u001b[0m\u001b[0;34m\u001b[0m\u001b[0m\n\u001b[0;32m--> 135\u001b[0;31m         \u001b[0;32mraise\u001b[0m \u001b[0mValueError\u001b[0m\u001b[0;34m(\u001b[0m\u001b[0;34m'%r not in array'\u001b[0m\u001b[0;34m%\u001b[0m\u001b[0mvalue\u001b[0m\u001b[0;34m)\u001b[0m\u001b[0;34m\u001b[0m\u001b[0;34m\u001b[0m\u001b[0m\n\u001b[0m\u001b[1;32m    136\u001b[0m \u001b[0;34m\u001b[0m\u001b[0m\n",
      "\u001b[0;31mValueError\u001b[0m: 'paranal_local' not in array",
      "\nDuring handling of the above exception, another exception occurred:\n",
      "\u001b[0;31mTraitError\u001b[0m                                Traceback (most recent call last)",
      "\u001b[0;32m<ipython-input-29-0e1860cf4908>\u001b[0m in \u001b[0;36m<module>\u001b[0;34m\u001b[0m\n\u001b[1;32m      6\u001b[0m     \u001b[0moptions\u001b[0m\u001b[0;34m=\u001b[0m\u001b[0mdf\u001b[0m\u001b[0;34m[\u001b[0m\u001b[0;36m1\u001b[0m\u001b[0;34m]\u001b[0m\u001b[0;34m[\u001b[0m\u001b[0;34m'telescopes'\u001b[0m\u001b[0;34m]\u001b[0m\u001b[0;34m,\u001b[0m\u001b[0;34m\u001b[0m\u001b[0;34m\u001b[0m\u001b[0m\n\u001b[1;32m      7\u001b[0m     \u001b[0mvalue\u001b[0m\u001b[0;34m=\u001b[0m\u001b[0;34m'paranal_local'\u001b[0m\u001b[0;34m,\u001b[0m\u001b[0;34m\u001b[0m\u001b[0;34m\u001b[0m\u001b[0m\n\u001b[0;32m----> 8\u001b[0;31m     \u001b[0mdescription\u001b[0m\u001b[0;34m=\u001b[0m\u001b[0;34m'Observatory'\u001b[0m\u001b[0;34m\u001b[0m\u001b[0;34m\u001b[0m\u001b[0m\n\u001b[0m\u001b[1;32m      9\u001b[0m )\n\u001b[1;32m     10\u001b[0m \u001b[0mhbox1\u001b[0m \u001b[0;34m=\u001b[0m \u001b[0mwidgets\u001b[0m\u001b[0;34m.\u001b[0m\u001b[0mHBox\u001b[0m\u001b[0;34m(\u001b[0m\u001b[0;34m[\u001b[0m\u001b[0mobservatory_w\u001b[0m\u001b[0;34m]\u001b[0m\u001b[0;34m)\u001b[0m\u001b[0;34m\u001b[0m\u001b[0;34m\u001b[0m\u001b[0m\n",
      "\u001b[0;32m/anaconda3/lib/python3.7/site-packages/ipywidgets/widgets/widget_selection.py\u001b[0m in \u001b[0;36m__init__\u001b[0;34m(self, *args, **kwargs)\u001b[0m\n\u001b[1;32m    184\u001b[0m             \u001b[0mkwargs\u001b[0m\u001b[0;34m[\u001b[0m\u001b[0;34m'label'\u001b[0m\u001b[0;34m]\u001b[0m\u001b[0;34m,\u001b[0m \u001b[0mkwargs\u001b[0m\u001b[0;34m[\u001b[0m\u001b[0;34m'value'\u001b[0m\u001b[0;34m]\u001b[0m \u001b[0;34m=\u001b[0m \u001b[0moptions\u001b[0m\u001b[0;34m[\u001b[0m\u001b[0;36m0\u001b[0m\u001b[0;34m]\u001b[0m \u001b[0;32mif\u001b[0m \u001b[0mnonempty\u001b[0m \u001b[0;32melse\u001b[0m \u001b[0;34m(\u001b[0m\u001b[0;32mNone\u001b[0m\u001b[0;34m,\u001b[0m \u001b[0;32mNone\u001b[0m\u001b[0;34m)\u001b[0m\u001b[0;34m\u001b[0m\u001b[0;34m\u001b[0m\u001b[0m\n\u001b[1;32m    185\u001b[0m \u001b[0;34m\u001b[0m\u001b[0m\n\u001b[0;32m--> 186\u001b[0;31m         \u001b[0msuper\u001b[0m\u001b[0;34m(\u001b[0m\u001b[0m_Selection\u001b[0m\u001b[0;34m,\u001b[0m \u001b[0mself\u001b[0m\u001b[0;34m)\u001b[0m\u001b[0;34m.\u001b[0m\u001b[0m__init__\u001b[0m\u001b[0;34m(\u001b[0m\u001b[0;34m*\u001b[0m\u001b[0margs\u001b[0m\u001b[0;34m,\u001b[0m \u001b[0;34m**\u001b[0m\u001b[0mkwargs\u001b[0m\u001b[0;34m)\u001b[0m\u001b[0;34m\u001b[0m\u001b[0;34m\u001b[0m\u001b[0m\n\u001b[0m\u001b[1;32m    187\u001b[0m         \u001b[0mself\u001b[0m\u001b[0;34m.\u001b[0m\u001b[0m_initializing_traits_\u001b[0m \u001b[0;34m=\u001b[0m \u001b[0;32mFalse\u001b[0m\u001b[0;34m\u001b[0m\u001b[0;34m\u001b[0m\u001b[0m\n\u001b[1;32m    188\u001b[0m \u001b[0;34m\u001b[0m\u001b[0m\n",
      "\u001b[0;32m/anaconda3/lib/python3.7/site-packages/ipywidgets/widgets/widget.py\u001b[0m in \u001b[0;36m__init__\u001b[0;34m(self, **kwargs)\u001b[0m\n\u001b[1;32m    409\u001b[0m         \u001b[0;34m\"\"\"Public constructor\"\"\"\u001b[0m\u001b[0;34m\u001b[0m\u001b[0;34m\u001b[0m\u001b[0m\n\u001b[1;32m    410\u001b[0m         \u001b[0mself\u001b[0m\u001b[0;34m.\u001b[0m\u001b[0m_model_id\u001b[0m \u001b[0;34m=\u001b[0m \u001b[0mkwargs\u001b[0m\u001b[0;34m.\u001b[0m\u001b[0mpop\u001b[0m\u001b[0;34m(\u001b[0m\u001b[0;34m'model_id'\u001b[0m\u001b[0;34m,\u001b[0m \u001b[0;32mNone\u001b[0m\u001b[0;34m)\u001b[0m\u001b[0;34m\u001b[0m\u001b[0;34m\u001b[0m\u001b[0m\n\u001b[0;32m--> 411\u001b[0;31m         \u001b[0msuper\u001b[0m\u001b[0;34m(\u001b[0m\u001b[0mWidget\u001b[0m\u001b[0;34m,\u001b[0m \u001b[0mself\u001b[0m\u001b[0;34m)\u001b[0m\u001b[0;34m.\u001b[0m\u001b[0m__init__\u001b[0m\u001b[0;34m(\u001b[0m\u001b[0;34m**\u001b[0m\u001b[0mkwargs\u001b[0m\u001b[0;34m)\u001b[0m\u001b[0;34m\u001b[0m\u001b[0;34m\u001b[0m\u001b[0m\n\u001b[0m\u001b[1;32m    412\u001b[0m \u001b[0;34m\u001b[0m\u001b[0m\n\u001b[1;32m    413\u001b[0m         \u001b[0mWidget\u001b[0m\u001b[0;34m.\u001b[0m\u001b[0m_call_widget_constructed\u001b[0m\u001b[0;34m(\u001b[0m\u001b[0mself\u001b[0m\u001b[0;34m)\u001b[0m\u001b[0;34m\u001b[0m\u001b[0;34m\u001b[0m\u001b[0m\n",
      "\u001b[0;32m/anaconda3/lib/python3.7/site-packages/traitlets/traitlets.py\u001b[0m in \u001b[0;36m__init__\u001b[0;34m(self, *args, **kwargs)\u001b[0m\n\u001b[1;32m    998\u001b[0m                 \u001b[0;32melse\u001b[0m\u001b[0;34m:\u001b[0m\u001b[0;34m\u001b[0m\u001b[0;34m\u001b[0m\u001b[0m\n\u001b[1;32m    999\u001b[0m                     \u001b[0;31m# passthrough args that don't set traits to super\u001b[0m\u001b[0;34m\u001b[0m\u001b[0;34m\u001b[0m\u001b[0;34m\u001b[0m\u001b[0m\n\u001b[0;32m-> 1000\u001b[0;31m                     \u001b[0msuper_kwargs\u001b[0m\u001b[0;34m[\u001b[0m\u001b[0mkey\u001b[0m\u001b[0;34m]\u001b[0m \u001b[0;34m=\u001b[0m \u001b[0mvalue\u001b[0m\u001b[0;34m\u001b[0m\u001b[0;34m\u001b[0m\u001b[0m\n\u001b[0m\u001b[1;32m   1001\u001b[0m         \u001b[0;32mtry\u001b[0m\u001b[0;34m:\u001b[0m\u001b[0;34m\u001b[0m\u001b[0;34m\u001b[0m\u001b[0m\n\u001b[1;32m   1002\u001b[0m             \u001b[0msuper\u001b[0m\u001b[0;34m(\u001b[0m\u001b[0mHasTraits\u001b[0m\u001b[0;34m,\u001b[0m \u001b[0mself\u001b[0m\u001b[0;34m)\u001b[0m\u001b[0;34m.\u001b[0m\u001b[0m__init__\u001b[0m\u001b[0;34m(\u001b[0m\u001b[0;34m*\u001b[0m\u001b[0msuper_args\u001b[0m\u001b[0;34m,\u001b[0m \u001b[0;34m**\u001b[0m\u001b[0msuper_kwargs\u001b[0m\u001b[0;34m)\u001b[0m\u001b[0;34m\u001b[0m\u001b[0;34m\u001b[0m\u001b[0m\n",
      "\u001b[0;32m/anaconda3/lib/python3.7/contextlib.py\u001b[0m in \u001b[0;36m__exit__\u001b[0;34m(self, type, value, traceback)\u001b[0m\n\u001b[1;32m    117\u001b[0m         \u001b[0;32mif\u001b[0m \u001b[0mtype\u001b[0m \u001b[0;32mis\u001b[0m \u001b[0;32mNone\u001b[0m\u001b[0;34m:\u001b[0m\u001b[0;34m\u001b[0m\u001b[0;34m\u001b[0m\u001b[0m\n\u001b[1;32m    118\u001b[0m             \u001b[0;32mtry\u001b[0m\u001b[0;34m:\u001b[0m\u001b[0;34m\u001b[0m\u001b[0;34m\u001b[0m\u001b[0m\n\u001b[0;32m--> 119\u001b[0;31m                 \u001b[0mnext\u001b[0m\u001b[0;34m(\u001b[0m\u001b[0mself\u001b[0m\u001b[0;34m.\u001b[0m\u001b[0mgen\u001b[0m\u001b[0;34m)\u001b[0m\u001b[0;34m\u001b[0m\u001b[0;34m\u001b[0m\u001b[0m\n\u001b[0m\u001b[1;32m    120\u001b[0m             \u001b[0;32mexcept\u001b[0m \u001b[0mStopIteration\u001b[0m\u001b[0;34m:\u001b[0m\u001b[0;34m\u001b[0m\u001b[0;34m\u001b[0m\u001b[0m\n\u001b[1;32m    121\u001b[0m                 \u001b[0;32mreturn\u001b[0m \u001b[0;32mFalse\u001b[0m\u001b[0;34m\u001b[0m\u001b[0;34m\u001b[0m\u001b[0m\n",
      "\u001b[0;32m/anaconda3/lib/python3.7/site-packages/traitlets/traitlets.py\u001b[0m in \u001b[0;36mhold_trait_notifications\u001b[0;34m(self)\u001b[0m\n\u001b[1;32m   1120\u001b[0m                                 \u001b[0mself\u001b[0m\u001b[0;34m.\u001b[0m\u001b[0m_trait_values\u001b[0m\u001b[0;34m.\u001b[0m\u001b[0mpop\u001b[0m\u001b[0;34m(\u001b[0m\u001b[0mname\u001b[0m\u001b[0;34m)\u001b[0m\u001b[0;34m\u001b[0m\u001b[0;34m\u001b[0m\u001b[0m\n\u001b[1;32m   1121\u001b[0m                 \u001b[0mcache\u001b[0m \u001b[0;34m=\u001b[0m \u001b[0;34m{\u001b[0m\u001b[0;34m}\u001b[0m\u001b[0;34m\u001b[0m\u001b[0;34m\u001b[0m\u001b[0m\n\u001b[0;32m-> 1122\u001b[0;31m                 \u001b[0;32mraise\u001b[0m \u001b[0me\u001b[0m\u001b[0;34m\u001b[0m\u001b[0;34m\u001b[0m\u001b[0m\n\u001b[0m\u001b[1;32m   1123\u001b[0m             \u001b[0;32mfinally\u001b[0m\u001b[0;34m:\u001b[0m\u001b[0;34m\u001b[0m\u001b[0;34m\u001b[0m\u001b[0m\n\u001b[1;32m   1124\u001b[0m                 \u001b[0mself\u001b[0m\u001b[0;34m.\u001b[0m\u001b[0m_cross_validation_lock\u001b[0m \u001b[0;34m=\u001b[0m \u001b[0;32mFalse\u001b[0m\u001b[0;34m\u001b[0m\u001b[0;34m\u001b[0m\u001b[0m\n",
      "\u001b[0;32m/anaconda3/lib/python3.7/site-packages/traitlets/traitlets.py\u001b[0m in \u001b[0;36mhold_trait_notifications\u001b[0;34m(self)\u001b[0m\n\u001b[1;32m   1106\u001b[0m                 \u001b[0;32mfor\u001b[0m \u001b[0mname\u001b[0m \u001b[0;32min\u001b[0m \u001b[0mlist\u001b[0m\u001b[0;34m(\u001b[0m\u001b[0mcache\u001b[0m\u001b[0;34m.\u001b[0m\u001b[0mkeys\u001b[0m\u001b[0;34m(\u001b[0m\u001b[0;34m)\u001b[0m\u001b[0;34m)\u001b[0m\u001b[0;34m:\u001b[0m\u001b[0;34m\u001b[0m\u001b[0;34m\u001b[0m\u001b[0m\n\u001b[1;32m   1107\u001b[0m                     \u001b[0mtrait\u001b[0m \u001b[0;34m=\u001b[0m \u001b[0mgetattr\u001b[0m\u001b[0;34m(\u001b[0m\u001b[0mself\u001b[0m\u001b[0;34m.\u001b[0m\u001b[0m__class__\u001b[0m\u001b[0;34m,\u001b[0m \u001b[0mname\u001b[0m\u001b[0;34m)\u001b[0m\u001b[0;34m\u001b[0m\u001b[0;34m\u001b[0m\u001b[0m\n\u001b[0;32m-> 1108\u001b[0;31m                     \u001b[0mvalue\u001b[0m \u001b[0;34m=\u001b[0m \u001b[0mtrait\u001b[0m\u001b[0;34m.\u001b[0m\u001b[0m_cross_validate\u001b[0m\u001b[0;34m(\u001b[0m\u001b[0mself\u001b[0m\u001b[0;34m,\u001b[0m \u001b[0mgetattr\u001b[0m\u001b[0;34m(\u001b[0m\u001b[0mself\u001b[0m\u001b[0;34m,\u001b[0m \u001b[0mname\u001b[0m\u001b[0;34m)\u001b[0m\u001b[0;34m)\u001b[0m\u001b[0;34m\u001b[0m\u001b[0;34m\u001b[0m\u001b[0m\n\u001b[0m\u001b[1;32m   1109\u001b[0m                     \u001b[0mself\u001b[0m\u001b[0;34m.\u001b[0m\u001b[0mset_trait\u001b[0m\u001b[0;34m(\u001b[0m\u001b[0mname\u001b[0m\u001b[0;34m,\u001b[0m \u001b[0mvalue\u001b[0m\u001b[0;34m)\u001b[0m\u001b[0;34m\u001b[0m\u001b[0;34m\u001b[0m\u001b[0m\n\u001b[1;32m   1110\u001b[0m             \u001b[0;32mexcept\u001b[0m \u001b[0mTraitError\u001b[0m \u001b[0;32mas\u001b[0m \u001b[0me\u001b[0m\u001b[0;34m:\u001b[0m\u001b[0;34m\u001b[0m\u001b[0;34m\u001b[0m\u001b[0m\n",
      "\u001b[0;32m/anaconda3/lib/python3.7/site-packages/traitlets/traitlets.py\u001b[0m in \u001b[0;36m_cross_validate\u001b[0;34m(self, obj, value)\u001b[0m\n\u001b[1;32m    597\u001b[0m         \u001b[0;32mif\u001b[0m \u001b[0mself\u001b[0m\u001b[0;34m.\u001b[0m\u001b[0mname\u001b[0m \u001b[0;32min\u001b[0m \u001b[0mobj\u001b[0m\u001b[0;34m.\u001b[0m\u001b[0m_trait_validators\u001b[0m\u001b[0;34m:\u001b[0m\u001b[0;34m\u001b[0m\u001b[0;34m\u001b[0m\u001b[0m\n\u001b[1;32m    598\u001b[0m             \u001b[0mproposal\u001b[0m \u001b[0;34m=\u001b[0m \u001b[0mBunch\u001b[0m\u001b[0;34m(\u001b[0m\u001b[0;34m{\u001b[0m\u001b[0;34m'trait'\u001b[0m\u001b[0;34m:\u001b[0m \u001b[0mself\u001b[0m\u001b[0;34m,\u001b[0m \u001b[0;34m'value'\u001b[0m\u001b[0;34m:\u001b[0m \u001b[0mvalue\u001b[0m\u001b[0;34m,\u001b[0m \u001b[0;34m'owner'\u001b[0m\u001b[0;34m:\u001b[0m \u001b[0mobj\u001b[0m\u001b[0;34m}\u001b[0m\u001b[0;34m)\u001b[0m\u001b[0;34m\u001b[0m\u001b[0;34m\u001b[0m\u001b[0m\n\u001b[0;32m--> 599\u001b[0;31m             \u001b[0mvalue\u001b[0m \u001b[0;34m=\u001b[0m \u001b[0mobj\u001b[0m\u001b[0;34m.\u001b[0m\u001b[0m_trait_validators\u001b[0m\u001b[0;34m[\u001b[0m\u001b[0mself\u001b[0m\u001b[0;34m.\u001b[0m\u001b[0mname\u001b[0m\u001b[0;34m]\u001b[0m\u001b[0;34m(\u001b[0m\u001b[0mobj\u001b[0m\u001b[0;34m,\u001b[0m \u001b[0mproposal\u001b[0m\u001b[0;34m)\u001b[0m\u001b[0;34m\u001b[0m\u001b[0;34m\u001b[0m\u001b[0m\n\u001b[0m\u001b[1;32m    600\u001b[0m         \u001b[0;32melif\u001b[0m \u001b[0mhasattr\u001b[0m\u001b[0;34m(\u001b[0m\u001b[0mobj\u001b[0m\u001b[0;34m,\u001b[0m \u001b[0;34m'_%s_validate'\u001b[0m \u001b[0;34m%\u001b[0m \u001b[0mself\u001b[0m\u001b[0;34m.\u001b[0m\u001b[0mname\u001b[0m\u001b[0;34m)\u001b[0m\u001b[0;34m:\u001b[0m\u001b[0;34m\u001b[0m\u001b[0;34m\u001b[0m\u001b[0m\n\u001b[1;32m    601\u001b[0m             \u001b[0mmeth_name\u001b[0m \u001b[0;34m=\u001b[0m \u001b[0;34m'_%s_validate'\u001b[0m \u001b[0;34m%\u001b[0m \u001b[0mself\u001b[0m\u001b[0;34m.\u001b[0m\u001b[0mname\u001b[0m\u001b[0;34m\u001b[0m\u001b[0;34m\u001b[0m\u001b[0m\n",
      "\u001b[0;32m/anaconda3/lib/python3.7/site-packages/traitlets/traitlets.py\u001b[0m in \u001b[0;36m__call__\u001b[0;34m(self, *args, **kwargs)\u001b[0m\n\u001b[1;32m    905\u001b[0m         \u001b[0;34m\"\"\"Pass `*args` and `**kwargs` to the handler's function if it exists.\"\"\"\u001b[0m\u001b[0;34m\u001b[0m\u001b[0;34m\u001b[0m\u001b[0m\n\u001b[1;32m    906\u001b[0m         \u001b[0;32mif\u001b[0m \u001b[0mhasattr\u001b[0m\u001b[0;34m(\u001b[0m\u001b[0mself\u001b[0m\u001b[0;34m,\u001b[0m \u001b[0;34m'func'\u001b[0m\u001b[0;34m)\u001b[0m\u001b[0;34m:\u001b[0m\u001b[0;34m\u001b[0m\u001b[0;34m\u001b[0m\u001b[0m\n\u001b[0;32m--> 907\u001b[0;31m             \u001b[0;32mreturn\u001b[0m \u001b[0mself\u001b[0m\u001b[0;34m.\u001b[0m\u001b[0mfunc\u001b[0m\u001b[0;34m(\u001b[0m\u001b[0;34m*\u001b[0m\u001b[0margs\u001b[0m\u001b[0;34m,\u001b[0m \u001b[0;34m**\u001b[0m\u001b[0mkwargs\u001b[0m\u001b[0;34m)\u001b[0m\u001b[0;34m\u001b[0m\u001b[0;34m\u001b[0m\u001b[0m\n\u001b[0m\u001b[1;32m    908\u001b[0m         \u001b[0;32melse\u001b[0m\u001b[0;34m:\u001b[0m\u001b[0;34m\u001b[0m\u001b[0;34m\u001b[0m\u001b[0m\n\u001b[1;32m    909\u001b[0m             \u001b[0;32mreturn\u001b[0m \u001b[0mself\u001b[0m\u001b[0;34m.\u001b[0m\u001b[0m_init_call\u001b[0m\u001b[0;34m(\u001b[0m\u001b[0;34m*\u001b[0m\u001b[0margs\u001b[0m\u001b[0;34m,\u001b[0m \u001b[0;34m**\u001b[0m\u001b[0mkwargs\u001b[0m\u001b[0;34m)\u001b[0m\u001b[0;34m\u001b[0m\u001b[0;34m\u001b[0m\u001b[0m\n",
      "\u001b[0;32m/anaconda3/lib/python3.7/site-packages/ipywidgets/widgets/widget_selection.py\u001b[0m in \u001b[0;36m_validate_value\u001b[0;34m(self, proposal)\u001b[0m\n\u001b[1;32m    237\u001b[0m             \u001b[0;32mreturn\u001b[0m \u001b[0mfindvalue\u001b[0m\u001b[0;34m(\u001b[0m\u001b[0mself\u001b[0m\u001b[0;34m.\u001b[0m\u001b[0m_options_values\u001b[0m\u001b[0;34m,\u001b[0m \u001b[0mvalue\u001b[0m\u001b[0;34m,\u001b[0m \u001b[0mself\u001b[0m\u001b[0;34m.\u001b[0m\u001b[0mequals\u001b[0m\u001b[0;34m)\u001b[0m \u001b[0;32mif\u001b[0m \u001b[0mvalue\u001b[0m \u001b[0;32mis\u001b[0m \u001b[0;32mnot\u001b[0m \u001b[0;32mNone\u001b[0m \u001b[0;32melse\u001b[0m \u001b[0;32mNone\u001b[0m\u001b[0;34m\u001b[0m\u001b[0;34m\u001b[0m\u001b[0m\n\u001b[1;32m    238\u001b[0m         \u001b[0;32mexcept\u001b[0m \u001b[0mValueError\u001b[0m\u001b[0;34m:\u001b[0m\u001b[0;34m\u001b[0m\u001b[0;34m\u001b[0m\u001b[0m\n\u001b[0;32m--> 239\u001b[0;31m             \u001b[0;32mraise\u001b[0m \u001b[0mTraitError\u001b[0m\u001b[0;34m(\u001b[0m\u001b[0;34m'Invalid selection: value not found'\u001b[0m\u001b[0;34m)\u001b[0m\u001b[0;34m\u001b[0m\u001b[0;34m\u001b[0m\u001b[0m\n\u001b[0m\u001b[1;32m    240\u001b[0m \u001b[0;34m\u001b[0m\u001b[0m\n\u001b[1;32m    241\u001b[0m     \u001b[0;34m@\u001b[0m\u001b[0mobserve\u001b[0m\u001b[0;34m(\u001b[0m\u001b[0;34m'value'\u001b[0m\u001b[0;34m)\u001b[0m\u001b[0;34m\u001b[0m\u001b[0;34m\u001b[0m\u001b[0m\n",
      "\u001b[0;31mTraitError\u001b[0m: Invalid selection: value not found"
     ]
    }
   ],
   "source": [
    "with open('./input_short_term.csv', \"r\") as f:\n",
    "    Inputs = yaml.load(f, Loader=yaml.FullLoader)\n",
    "    df = pd.DataFrame.from_dict(Inputs['observatories'])\n",
    "#::: observatory drowndown widget\n",
    "observatory_w = widgets.Dropdown(\n",
    "    options=df[1]['telescopes'],\n",
    "    value='paranal_local',\n",
    "    description='Observatory'\n",
    ")\n",
    "hbox1 = widgets.HBox([observatory_w])\n",
    "display(hbox1)"
   ]
  },
  {
   "cell_type": "code",
   "execution_count": 14,
   "metadata": {
    "hidden": true
   },
   "outputs": [
    {
     "name": "stdout",
     "output_type": "stream",
     "text": [
      "INFO: Trappist-1b next transit:  ['2020-01-12 02:13:58.771']\n"
     ]
    },
    {
     "name": "stderr",
     "output_type": "stream",
     "text": [
      "WARNING: OldEarthOrientationDataWarning: For best precision (on the order of arcseconds), you must download an up-to-date IERS Bulletin A table. To do so, run:\n",
      "\n",
      ">>> from astroplan import download_IERS_A\n",
      ">>> download_IERS_A()\n",
      " [eScheduler.utils]\n",
      "WARNING: OldEarthOrientationDataWarning: For best precision (on the order of arcseconds), you must download an up-to-date IERS Bulletin A table. To do so, run:\n",
      "\n",
      ">>> from astroplan import download_IERS_A\n",
      ">>> download_IERS_A()\n",
      " [eScheduler.utils]\n"
     ]
    },
    {
     "name": "stdout",
     "output_type": "stream",
     "text": [
      "INFO: start_transit of  Trappist-1b  :  2020-01-12 01:00:47.829\n",
      "INFO: end_transit of  Trappist-1b  :  2020-01-12 03:27:11.712\n",
      "INFO: Path exists and is:  ./DATABASE/Saint-Ex/night_blocks_Saint-Ex_2020-01-11.txt\n"
     ]
    },
    {
     "name": "stderr",
     "output_type": "stream",
     "text": [
      "WARNING: OldEarthOrientationDataWarning: For best precision (on the order of arcseconds), you must download an up-to-date IERS Bulletin A table. To do so, run:\n",
      "\n",
      ">>> from astroplan import download_IERS_A\n",
      ">>> download_IERS_A()\n",
      " [eScheduler.utils]\n"
     ]
    },
    {
     "name": "stdout",
     "output_type": "stream",
     "text": [
      "INFO: no change made to initial schedule\n",
      "INFO: no transition block\n",
      "2020-01-11 15:00:00.000 1 Saint-Ex\n",
      "Saint-Ex\n",
      "./DATABASE/Saint-Ex/Plans_by_date/2020-01-11\n",
      "   target       start time (UTC)    ...      configuration      \n",
      "----------- ----------------------- ... ------------------------\n",
      "Sp0602+3910 2020-01-12 01:55:20.024 ...  {'texp=70', 'filt=I+z'}\n",
      "Sp1048+0111 2020-01-12 07:46:20.024 ... {'texp=125', 'filt=I+z'}\n",
      "avant : I+z\n",
      "apres : I+z 70\n",
      "avant : I+z\n",
      "apres : I+z 125\n",
      "./DATABASE/Saint-Ex/Plans_by_date\n",
      "0 2\n",
      "Sp0602+3910\n",
      "6h2m30.514656000006752s 39d10m58.58652000001143s\n",
      "39.1829407 0.6838713258286918\n",
      "la\n",
      "1 2\n",
      "Sp1048+0111\n",
      "10h48m42.81477600000912s 1d11m58.22159999999986s\n",
      "1.199506 0.020935329097427104\n",
      "la\n",
      "str(filt) {0: 'I+z', 1: 'I+z'}\n"
     ]
    },
    {
     "data": {
      "text/html": [
       "<i>Table length=3</i>\n",
       "<table id=\"table4959491128\" class=\"table-striped table-bordered table-condensed\">\n",
       "<thead><tr><th>target</th><th>start time (UTC)</th><th>end time (UTC)</th><th>duration (minutes)</th><th>ra (h)</th><th>ra (m)</th><th>ra (s)</th><th>dec (d)</th><th>dec (m)</th><th>dec (s)</th><th>configuration</th></tr></thead>\n",
       "<thead><tr><th>str11</th><th>str23</th><th>str23</th><th>float64</th><th>float64</th><th>float64</th><th>float64</th><th>float64</th><th>float64</th><th>float64</th><th>str24</th></tr></thead>\n",
       "<tr><td>Sp1048+0111</td><td>2020-01-12 07:46:20.024</td><td>2020-01-12 12:51:40.024</td><td>305.33333333333326</td><td>10.0</td><td>48.0</td><td>42.81477600000912</td><td>1.0</td><td>11.0</td><td>58.22159999999986</td><td>{&apos;texp=125&apos;, &apos;filt=I+z&apos;}</td></tr>\n",
       "<tr><td>Sp0602+3910</td><td>2020-01-12 03:12:40.022</td><td>2020-01-12 07:46:00.024</td><td>273.33336666666673</td><td>6.0</td><td>2.0</td><td>30.514656000006752</td><td>39.0</td><td>10.0</td><td>58.58652000001143</td><td>{&apos;texp=70&apos;, &apos;filt=I+z&apos;}</td></tr>\n",
       "<tr><td>Trappist-1b</td><td>2020-01-12 01:54:44.455</td><td>2020-01-12 03:12:40.022</td><td>131.66666666666674</td><td>23.0</td><td>6.0</td><td>29.000000000000057</td><td>-5.0</td><td>-2.0</td><td>-28.000000000000753</td><td>{&apos;texp=23&apos;, &apos;filt=I+z&apos;}</td></tr>\n",
       "</table>"
      ],
      "text/plain": [
       "<Table length=3>\n",
       "   target       start time (UTC)    ...      configuration      \n",
       "   str11             str23          ...          str24          \n",
       "----------- ----------------------- ... ------------------------\n",
       "Sp1048+0111 2020-01-12 07:46:20.024 ... {'texp=125', 'filt=I+z'}\n",
       "Sp0602+3910 2020-01-12 03:12:40.022 ...  {'texp=70', 'filt=I+z'}\n",
       "Trappist-1b 2020-01-12 01:54:44.455 ...  {'texp=23', 'filt=I+z'}"
      ]
     },
     "execution_count": 14,
     "metadata": {},
     "output_type": "execute_result"
    }
   ],
   "source": [
    "# ---------------------- SHORT TERM SCHEDULER ---------------------\n",
    "obs = 3\n",
    "schedule = SPOCKST.Schedules()\n",
    "schedule.load_parameters('./input_short_term.csv',obs)\n",
    "\n",
    "if schedule.use == 'follow_up':\n",
    "    schedule.transit_follow_up('target_transit_follow_up.txt')\n",
    "if schedule.use == 'special_start_end':\n",
    "    input_name = 'Trappist-1b'\n",
    "    schedule.special_target_with_start_end(input_name)\n",
    "if schedule.use == 'special':\n",
    "    input_name = 'TI332517282'\n",
    "    schedule.special_target(input_name)\n",
    "if schedule.use == 'monitoring':\n",
    "    input_name = 'Sp0755-2404'\n",
    "    schedule.monitoring(input_name,5,61)\n",
    "\n",
    "schedule.make_scheduled_table()\n",
    "schedule.planification()\n",
    "schedule.make_night_block()\n",
    "SPOCKST.make_plans(day=schedule.day_of_night[0],nb_days=1,telescope=schedule.telescope)\n",
    "schedule.scheduled_table"
   ]
  },
  {
   "cell_type": "code",
   "execution_count": 17,
   "metadata": {
    "hidden": true
   },
   "outputs": [
    {
     "data": {
      "image/png": "[encoded data removed]",
      "text/plain": [
       "<Figure size 432x288 with 1 Axes>"
      ]
     },
     "metadata": {
      "needs_background": "light"
     },
     "output_type": "display_data"
    }
   ],
   "source": [
    "SPOCKplot.airmass_plot_proposition(schedule.observatory.name,schedule.telescope,schedule.day_of_night[0])"
   ]
  },
  {
   "cell_type": "code",
   "execution_count": 16,
   "metadata": {
    "hidden": true
   },
   "outputs": [],
   "source": [
    "schedule.observatory.name = \"Saint-Ex\""
   ]
  },
  {
   "cell_type": "code",
   "execution_count": 18,
   "metadata": {
    "hidden": true
   },
   "outputs": [
    {
     "data": {
      "text/html": [
       "<i>Table length=3</i>\n",
       "<table id=\"table4959271288\" class=\"table-striped table-bordered table-condensed\">\n",
       "<thead><tr><th>target</th><th>start time (UTC)</th><th>end time (UTC)</th><th>duration (minutes)</th><th>ra (h)</th><th>ra (m)</th><th>ra (s)</th><th>dec (d)</th><th>dec (m)</th><th>dec (s)</th><th>configuration</th></tr></thead>\n",
       "<thead><tr><th>str11</th><th>str23</th><th>str23</th><th>float64</th><th>float64</th><th>float64</th><th>float64</th><th>float64</th><th>float64</th><th>float64</th><th>str24</th></tr></thead>\n",
       "<tr><td>Trappist-1b</td><td>2020-01-12 01:54:44.455</td><td>2020-01-12 03:12:40.022</td><td>131.66666666666674</td><td>23.0</td><td>6.0</td><td>29.000000000000057</td><td>-5.0</td><td>-2.0</td><td>-28.000000000000753</td><td>{&apos;texp=23&apos;, &apos;filt=I+z&apos;}</td></tr>\n",
       "<tr><td>Sp0602+3910</td><td>2020-01-12 03:12:40.022</td><td>2020-01-12 07:46:00.024</td><td>273.33336666666673</td><td>6.0</td><td>2.0</td><td>30.514656000006752</td><td>39.0</td><td>10.0</td><td>58.58652000001143</td><td>{&apos;texp=70&apos;, &apos;filt=I+z&apos;}</td></tr>\n",
       "<tr><td>Sp1048+0111</td><td>2020-01-12 07:46:20.024</td><td>2020-01-12 12:51:40.024</td><td>305.33333333333326</td><td>10.0</td><td>48.0</td><td>42.81477600000912</td><td>1.0</td><td>11.0</td><td>58.22159999999986</td><td>{&apos;texp=125&apos;, &apos;filt=I+z&apos;}</td></tr>\n",
       "</table>"
      ],
      "text/plain": [
       "<Table length=3>\n",
       "   target       start time (UTC)    ...      configuration      \n",
       "   str11             str23          ...          str24          \n",
       "----------- ----------------------- ... ------------------------\n",
       "Trappist-1b 2020-01-12 01:54:44.455 ...  {'texp=23', 'filt=I+z'}\n",
       "Sp0602+3910 2020-01-12 03:12:40.022 ...  {'texp=70', 'filt=I+z'}\n",
       "Sp1048+0111 2020-01-12 07:46:20.024 ... {'texp=125', 'filt=I+z'}"
      ]
     },
     "execution_count": 18,
     "metadata": {},
     "output_type": "execute_result"
    }
   ],
   "source": [
    "schedule.scheduled_table_sorted\n"
   ]
  },
  {
   "cell_type": "code",
   "execution_count": 19,
   "metadata": {
    "hidden": true
   },
   "outputs": [
    {
     "name": "stdout",
     "output_type": "stream",
     "text": [
      "INFO : \"./night_blocks_propositions/night_blocks_Saint-Ex_2020-01-11.txt\" has been over-written to \"./DATABASE/Saint-Ex/\"\n",
      "INFO : \"./night_blocks_propositions/night_blocks_Saint-Ex_2020-01-11.txt\" has been over-written to \"./DATABASE/Saint-Ex/Archive_night_blocks/\"\n"
     ]
    }
   ],
   "source": [
    "SPOCKST.save_schedule('./input_short_term.csv',obs,save=True,over_write=True)"
   ]
  },
  {
   "cell_type": "code",
   "execution_count": 20,
   "metadata": {
    "hidden": true
   },
   "outputs": [
    {
     "name": "stdout",
     "output_type": "stream",
     "text": [
      "2020-01-11 15:00:00.000 1 Saint-Ex\n",
      "Saint-Ex\n",
      "./DATABASE/Saint-Ex/Plans_by_date/2020-01-11\n",
      "   target       start time (UTC)    ...      configuration      \n",
      "----------- ----------------------- ... ------------------------\n",
      "Trappist-1b 2020-01-12 01:54:44.455 ...  {'texp=23', 'filt=I+z'}\n",
      "Sp0602+3910 2020-01-12 03:12:40.022 ...  {'texp=70', 'filt=I+z'}\n",
      "Sp1048+0111 2020-01-12 07:46:20.024 ... {'texp=125', 'filt=I+z'}\n",
      "avant : I+z\n",
      "apres : I+z 23\n",
      "avant : I+z\n",
      "apres : I+z 70\n",
      "avant : I+z\n",
      "apres : I+z 125\n",
      "./DATABASE/Saint-Ex/Plans_by_date\n",
      "0 3\n",
      "Trappist-1b\n",
      "23h6m29.000000000000057s -5d2m28.000000000000753s\n",
      "-5.041111111111111 -0.0879839868477586\n",
      "1 3\n",
      "Sp0602+3910\n",
      "6h2m30.514656000006752s 39d10m58.58652000001143s\n",
      "39.1829407 0.6838713258286918\n",
      "la\n",
      "2 3\n",
      "Sp1048+0111\n",
      "10h48m42.81477600000912s 1d11m58.22159999999986s\n",
      "1.199506 0.020935329097427104\n",
      "la\n",
      "str(filt) {0: 'I+z', 1: 'I+z', 2: 'I+z'}\n",
      "INFO: Path database =  speculoos@appcs.ra.phy.cam.ac.uk:/appct/data/SPECULOOSPipeline/Saint-Ex/schedule\n",
      "INFO: Path local plans by day =  ./DATABASE/Saint-Ex/Plans_by_date/\n",
      "INFO: Path local night blocks =  ./DATABASE/Saint-Ex/Archive_night_blocks/\n"
     ]
    }
   ],
   "source": [
    "day = schedule.day_of_night[0]\n",
    "SPOCKST.make_np(day,1,schedule.telescope)\n",
    "SPOCKST.upload_plans(day, nb_days=1,telescope = schedule.telescope)"
   ]
  },
  {
   "cell_type": "markdown",
   "metadata": {},
   "source": [
    "# PLOT SCHEDULER"
   ]
  },
  {
   "cell_type": "code",
   "execution_count": 3,
   "metadata": {
    "scrolled": false
   },
   "outputs": [
    {
     "name": "stderr",
     "output_type": "stream",
     "text": [
      "WARNING: OldEarthOrientationDataWarning: For best precision (on the order of arcseconds), you must download an up-to-date IERS Bulletin A table. To do so, run:\n",
      "\n",
      ">>> from astroplan import download_IERS_A\n",
      ">>> download_IERS_A()\n",
      " [eScheduler.utils]\n",
      "/anaconda3/lib/python3.7/site-packages/pandas/plotting/_matplotlib/converter.py:103: FutureWarning:\n",
      "\n",
      "Using an implicitly registered datetime converter for a matplotlib plotting method. The converter was registered by pandas on import. Future versions of pandas will require you to explicitly register matplotlib converters.\n",
      "\n",
      "To register the converters:\n",
      "\t>>> from pandas.plotting import register_matplotlib_converters\n",
      "\t>>> register_matplotlib_converters()\n",
      "\n"
     ]
    },
    {
     "data": {
      "image/png": "[encoded data removed]",
      "text/plain": [
       "<Figure size 432x288 with 1 Axes>"
      ]
     },
     "metadata": {
      "needs_background": "light"
     },
     "output_type": "display_data"
    },
    {
     "data": {
      "image/png": "[encoded data removed]",
      "text/plain": [
       "<Figure size 432x288 with 2 Axes>"
      ]
     },
     "metadata": {
      "needs_background": "light"
     },
     "output_type": "display_data"
    }
   ],
   "source": [
    "# ---------------------- PLOT SCHEDULER ---------------------\n",
    "day = Time('2020-01-09 15:00:00.000')\n",
    "\n",
    "\n",
    "SPOCKplot.airmass_plot_saved(name_observatory='Saint-Ex',telescope='Saint-Ex',day=day)\n",
    "#SPOCKplot.airmass_altitude_plot_saved('SSO','Io',day)\n",
    "#SPOCKplot.gantt_chart(day,day+1,['Artemis'])\n",
    "#SPOCKplot.gantt_chart_all(schedule.target_list)\n",
    "SPOCKplot.airmass_altitude_plot_given_target(name_observatory='Saint-Ex',day=day,target='Sp0804+6153',path_target_list=None)\n",
    "\n"
   ]
  },
  {
   "cell_type": "code",
   "execution_count": 49,
   "metadata": {},
   "outputs": [],
   "source": [
    "SPOCKplot.gantt_chart_all(schedule.target_list)"
   ]
  },
  {
   "cell_type": "code",
   "execution_count": 31,
   "metadata": {},
   "outputs": [],
   "source": [
    "day = Time('2019-12-05 15:00:00.000')\n",
    "SPOCKplot.gantt_chart(day,day+1,['Europa','Io','Callisto','Ganymede','Artemis','Saint-Ex'])"
   ]
  },
  {
   "cell_type": "code",
   "execution_count": null,
   "metadata": {},
   "outputs": [],
   "source": []
  }
 ],
 "metadata": {
  "kernelspec": {
   "display_name": "Python 3",
   "language": "python",
   "name": "python3"
  },
  "language_info": {
   "codemirror_mode": {
    "name": "ipython",
    "version": 3
   },
   "file_extension": ".py",
   "mimetype": "text/x-python",
   "name": "python",
   "nbconvert_exporter": "python",
   "pygments_lexer": "ipython3",
   "version": "3.7.2"
  }
 },
 "nbformat": 4,
 "nbformat_minor": 2
}
