{
 "cells": [
  {
   "cell_type": "code",
   "execution_count": 22,
   "metadata": {},
   "outputs": [
    {
     "data": {
      "text/html": [
       "<script>\n",
       "  function code_toggle() {\n",
       "    if (code_shown){\n",
       "      $('div.input').hide('500');\n",
       "      $('#toggleButton').val('Show Code')\n",
       "    } else {\n",
       "      $('div.input').show('500');\n",
       "      $('#toggleButton').val('Hide Code')\n",
       "    }\n",
       "    code_shown = !code_shown\n",
       "  }\n",
       "\n",
       "  $( document ).ready(function(){\n",
       "    code_shown=false;\n",
       "    $('div.input').hide()\n",
       "  });\n",
       "</script>\n",
       "<form action=\"javascript:code_toggle()\"><input type=\"submit\" id=\"toggleButton\" value=\"Show Code\"></form>\n"
      ],
      "text/plain": [
       "<IPython.core.display.HTML object>"
      ]
     },
     "metadata": {},
     "output_type": "display_data"
    }
   ],
   "source": [
    "%%HTML\n",
    "<script>\n",
    "  function code_toggle() {\n",
    "    if (code_shown){\n",
    "      $('div.input').hide('500');\n",
    "      $('#toggleButton').val('Show Code')\n",
    "    } else {\n",
    "      $('div.input').show('500');\n",
    "      $('#toggleButton').val('Hide Code')\n",
    "    }\n",
    "    code_shown = !code_shown\n",
    "  }\n",
    "\n",
    "  $( document ).ready(function(){\n",
    "    code_shown=false;\n",
    "    $('div.input').hide()\n",
    "  });\n",
    "</script>\n",
    "<form action=\"javascript:code_toggle()\"><input type=\"submit\" id=\"toggleButton\" value=\"Show Code\"></form>"
   ]
  },
  {
   "cell_type": "code",
   "execution_count": 1,
   "metadata": {},
   "outputs": [
    {
     "name": "stderr",
     "output_type": "stream",
     "text": [
      "WARNING: AstropyDeprecationWarning: astropy.extern.six will be removed in 4.0, use the six module directly if it is still needed [astropy.extern.six]\n"
     ]
    }
   ],
   "source": [
    "import pandas as pd\n",
    "from plotly import offline\n",
    "from astroplan import Observer\n",
    "from astropy.time import Time\n",
    "from astropy import units as u\n",
    "from astropy.coordinates import SkyCoord, get_sun, AltAz, EarthLocation\n",
    "import numpy as np\n",
    "import chart_studio.plotly as py\n",
    "import plotly.figure_factory as ff"
   ]
  },
  {
   "cell_type": "code",
   "execution_count": 2,
   "metadata": {},
   "outputs": [],
   "source": [
    "import SPOCK.long_term_scheduler as SPOCKLT\n",
    "import SPOCK.short_term_scheduler as SPOCKST\n",
    "import ipywidgets as widgets\n",
    "from ipywidgets import HBox, Label\n",
    "import SPOCK.plots_scheduler as SPOCKplot\n",
    "import pandas as pd\n",
    "import plotly\n",
    "from plotly import offline\n",
    "import numpy as np\n",
    "import sys\n",
    "from astropy.time import Time\n",
    "import os.path, time\n",
    "from datetime import datetime\n",
    "from IPython.display import display, Image, SVG, Math, YouTubeVideo\n",
    "from IPython.display import HTML, display, clear_output, Javascript, Image, SVG, Math, YouTubeVideo\n",
    "#from astroplan import download_IERS_A\n",
    "#download_IERS_A()\n",
    "def run_all_code(b): \n",
    "    display(Javascript('IPython.notebook.execute_cells_below()'))\n",
    "    display('Button clicked!')\n",
    "def run_cells(b):\n",
    "    display(Javascript('Jupyter.notebook.execute_cells([7])'))"
   ]
  },
  {
   "cell_type": "code",
   "execution_count": 11,
   "metadata": {},
   "outputs": [],
   "source": [
    "schedule = SPOCKLT.schedules()"
   ]
  },
  {
   "cell_type": "code",
   "execution_count": 12,
   "metadata": {},
   "outputs": [],
   "source": [
    "schedule.load_parameters('/Users/elsaducrot/code/spock/spock/input.csv',3)\n"
   ]
  },
  {
   "cell_type": "code",
   "execution_count": 13,
   "metadata": {},
   "outputs": [],
   "source": [
    "last_mod = time.ctime(os.path.getmtime(schedule.target_list))\n",
    "now = datetime.now()\n",
    "current_time = now.strftime(\"%Y-%m-%d %H:%M:%S\")\n",
    "time_since_las_update = (Time(datetime.strptime(last_mod, \"%a %b %d %H:%M:%S %Y\"),format='datetime') - Time(datetime.strptime(current_time, \"%Y-%m-%d %H:%M:%S\"),format='datetime')).value*24\n",
    "if time_since_las_update > 48:\n",
    "    schedule.update_nb_hours_from_server()\n",
    "    schedule.update_telescope_from_server()\n",
    "\n",
    "\n"
   ]
  },
  {
   "cell_type": "code",
   "execution_count": 14,
   "metadata": {},
   "outputs": [
    {
     "name": "stdout",
     "output_type": "stream",
     "text": [
      "reverse_df1 0.736731767654419\n",
      "day number: 0\n"
     ]
    },
    {
     "name": "stderr",
     "output_type": "stream",
     "text": [
      "WARNING: OldEarthOrientationDataWarning: For best precision (on the order of arcseconds), you must download an up-to-date IERS Bulletin A table. To do so, run:\n",
      "\n",
      ">>> from astroplan import download_IERS_A\n",
      ">>> download_IERS_A()\n",
      " [eScheduler.utils]\n",
      "b'Skipping line 6: expected 4 fields, saw 10\\n'\n",
      "b'Skipping line 6: expected 4 fields, saw 10\\n'\n",
      "b'Skipping line 6: expected 4 fields, saw 10\\n'\n",
      "b'Skipping line 6: expected 4 fields, saw 10\\n'\n"
     ]
    },
    {
     "name": "stdout",
     "output_type": "stream",
     "text": [
      "No plans on Io on the 2019-12-25\n",
      "No plans on Europa on the 2019-12-25\n",
      "No plans on Ganymede on the 2019-12-25\n",
      "No plans on Callisto on the 2019-12-25\n",
      "[]\n",
      "No plans on Artemis on the 2019-12-25\n",
      "No plans on Saint-Ex on the 2019-12-25\n",
      "[]\n",
      "Saint-Ex Saint-Ex\n",
      "     priority     set or rise   alt set start     alt rise start     alt set end       alt rise end        max_alt         Sp_ID   \n",
      "----------------- ----------- ----------------- ------------------ ---------------- ------------------ ---------------- -----------\n",
      "635258559.1468952         set 41.07718104126356 2.3065867281018986 48.6441804243573 -2.692028162078117 78.4087125309114 Sp0419+4233\n",
      "no second target available\n",
      "    priority     set or rise    alt set start      alt rise start       alt set end        alt rise end         max_alt          Sp_ID   \n",
      "---------------- ----------- ------------------- ------------------ ------------------- ------------------ ------------------ -----------\n",
      "495909252.884693        rise -34.843427366744606 30.429676450381383 -26.346468759762473 22.856443163558392 55.402798098833664 Sp0853-0329\n",
      "ici index prio 484\n",
      "tu as passé l'étape 1\n"
     ]
    },
    {
     "name": "stderr",
     "output_type": "stream",
     "text": [
      "WARNING: OldEarthOrientationDataWarning: For best precision (on the order of arcseconds), you must download an up-to-date IERS Bulletin A table. To do so, run:\n",
      "\n",
      ">>> from astroplan import download_IERS_A\n",
      ">>> download_IERS_A()\n",
      " [eScheduler.utils]\n"
     ]
    },
    {
     "name": "stdout",
     "output_type": "stream",
     "text": [
      "Ranked prio 89.48044061660767\n",
      "case1\n"
     ]
    },
    {
     "name": "stderr",
     "output_type": "stream",
     "text": [
      "WARNING: OldEarthOrientationDataWarning: For best precision (on the order of arcseconds), you must download an up-to-date IERS Bulletin A table. To do so, run:\n",
      "\n",
      ">>> from astroplan import download_IERS_A\n",
      ">>> download_IERS_A()\n",
      " [eScheduler.utils]\n",
      "WARNING: OldEarthOrientationDataWarning: For best precision (on the order of arcseconds), you must download an up-to-date IERS Bulletin A table. To do so, run:\n",
      "\n",
      ">>> from astroplan import download_IERS_A\n",
      ">>> download_IERS_A()\n",
      " [eScheduler.utils]\n",
      "WARNING: OldEarthOrientationDataWarning: For best precision (on the order of arcseconds), you must download an up-to-date IERS Bulletin A table. To do so, run:\n",
      "\n",
      ">>> from astroplan import download_IERS_A\n",
      ">>> download_IERS_A()\n",
      " [eScheduler.utils]\n"
     ]
    },
    {
     "name": "stdout",
     "output_type": "stream",
     "text": [
      "day number: 1\n"
     ]
    },
    {
     "name": "stderr",
     "output_type": "stream",
     "text": [
      "WARNING: OldEarthOrientationDataWarning: For best precision (on the order of arcseconds), you must download an up-to-date IERS Bulletin A table. To do so, run:\n",
      "\n",
      ">>> from astroplan import download_IERS_A\n",
      ">>> download_IERS_A()\n",
      " [eScheduler.utils]\n",
      "b'Skipping line 6: expected 4 fields, saw 10\\n'\n",
      "b'Skipping line 6: expected 4 fields, saw 10\\n'\n",
      "b'Skipping line 6: expected 4 fields, saw 10\\n'\n"
     ]
    },
    {
     "name": "stdout",
     "output_type": "stream",
     "text": [
      "No plans on Io on the 2019-12-26\n",
      "No plans on Europa on the 2019-12-26\n",
      "No plans on Ganymede on the 2019-12-26\n"
     ]
    },
    {
     "name": "stderr",
     "output_type": "stream",
     "text": [
      "b'Skipping line 6: expected 4 fields, saw 10\\n'\n"
     ]
    },
    {
     "name": "stdout",
     "output_type": "stream",
     "text": [
      "No plans on Callisto on the 2019-12-26\n",
      "[]\n",
      "No plans on Artemis on the 2019-12-26\n",
      "No plans on Saint-Ex on the 2019-12-26\n",
      "[]\n",
      "Saint-Ex Saint-Ex\n",
      "    priority     set or rise   alt set start     alt rise start      alt set end       alt rise end         max_alt         Sp_ID   \n",
      "---------------- ----------- ----------------- ------------------ ----------------- ------------------ ----------------- -----------\n",
      "635346097.867068         set 41.90339972870014 1.7118718447432264 49.49908647463287 -3.196902249831699 78.41951726269586 Sp0419+4233\n",
      "    priority     set or rise    alt set start      alt rise start       alt set end        alt rise end         max_alt          Sp_ID   \n",
      "---------------- ----------- ------------------- ------------------ ------------------- ------------------ ------------------ -----------\n",
      "601224946.972199        rise -33.926631481053924 29.589719092853763 -25.373632851062144 22.018676338768447 55.396781433487654 Sp0853-0329\n",
      "ici index prio 484\n",
      "tu as passé l'étape 1\n"
     ]
    },
    {
     "name": "stderr",
     "output_type": "stream",
     "text": [
      "WARNING: OldEarthOrientationDataWarning: For best precision (on the order of arcseconds), you must download an up-to-date IERS Bulletin A table. To do so, run:\n",
      "\n",
      ">>> from astroplan import download_IERS_A\n",
      ">>> download_IERS_A()\n",
      " [eScheduler.utils]\n"
     ]
    },
    {
     "name": "stdout",
     "output_type": "stream",
     "text": [
      "Ranked prio 185.48679780960083\n",
      "case1\n"
     ]
    },
    {
     "name": "stderr",
     "output_type": "stream",
     "text": [
      "WARNING: OldEarthOrientationDataWarning: For best precision (on the order of arcseconds), you must download an up-to-date IERS Bulletin A table. To do so, run:\n",
      "\n",
      ">>> from astroplan import download_IERS_A\n",
      ">>> download_IERS_A()\n",
      " [eScheduler.utils]\n",
      "WARNING: OldEarthOrientationDataWarning: For best precision (on the order of arcseconds), you must download an up-to-date IERS Bulletin A table. To do so, run:\n",
      "\n",
      ">>> from astroplan import download_IERS_A\n",
      ">>> download_IERS_A()\n",
      " [eScheduler.utils]\n"
     ]
    },
    {
     "name": "stdout",
     "output_type": "stream",
     "text": [
      "day number: 2\n"
     ]
    },
    {
     "name": "stderr",
     "output_type": "stream",
     "text": [
      "WARNING: OldEarthOrientationDataWarning: For best precision (on the order of arcseconds), you must download an up-to-date IERS Bulletin A table. To do so, run:\n",
      "\n",
      ">>> from astroplan import download_IERS_A\n",
      ">>> download_IERS_A()\n",
      " [eScheduler.utils]\n",
      "b'Skipping line 6: expected 4 fields, saw 10\\n'\n",
      "b'Skipping line 6: expected 4 fields, saw 10\\n'\n",
      "b'Skipping line 6: expected 4 fields, saw 10\\n'\n"
     ]
    },
    {
     "name": "stdout",
     "output_type": "stream",
     "text": [
      "No plans on Io on the 2019-12-27\n",
      "No plans on Europa on the 2019-12-27\n",
      "No plans on Ganymede on the 2019-12-27\n"
     ]
    },
    {
     "name": "stderr",
     "output_type": "stream",
     "text": [
      "b'Skipping line 6: expected 4 fields, saw 10\\n'\n"
     ]
    },
    {
     "name": "stdout",
     "output_type": "stream",
     "text": [
      "No plans on Callisto on the 2019-12-27\n",
      "[]\n",
      "No plans on Artemis on the 2019-12-27\n",
      "No plans on Saint-Ex on the 2019-12-27\n",
      "[]\n",
      "Saint-Ex Saint-Ex\n",
      "    priority     set or rise    alt set start      alt rise start       alt set end        alt rise end         max_alt          Sp_ID   \n",
      "---------------- ----------- ------------------- ------------------ ------------------- ------------------ ------------------ -----------\n",
      "640913137.182761        rise -33.002167479782834 28.748513628010766 -24.396041810673125 21.182819471003885 55.400362309859126 Sp0853-0329\n",
      "ici index prio 484\n",
      "tu as passé l'étape 1\n"
     ]
    },
    {
     "name": "stderr",
     "output_type": "stream",
     "text": [
      "WARNING: OldEarthOrientationDataWarning: For best precision (on the order of arcseconds), you must download an up-to-date IERS Bulletin A table. To do so, run:\n",
      "\n",
      ">>> from astroplan import download_IERS_A\n",
      ">>> download_IERS_A()\n",
      " [eScheduler.utils]\n"
     ]
    },
    {
     "name": "stdout",
     "output_type": "stream",
     "text": [
      "Ranked prio 281.13811683654785\n",
      "case1\n"
     ]
    },
    {
     "name": "stderr",
     "output_type": "stream",
     "text": [
      "WARNING: OldEarthOrientationDataWarning: For best precision (on the order of arcseconds), you must download an up-to-date IERS Bulletin A table. To do so, run:\n",
      "\n",
      ">>> from astroplan import download_IERS_A\n",
      ">>> download_IERS_A()\n",
      " [eScheduler.utils]\n",
      "WARNING: OldEarthOrientationDataWarning: For best precision (on the order of arcseconds), you must download an up-to-date IERS Bulletin A table. To do so, run:\n",
      "\n",
      ">>> from astroplan import download_IERS_A\n",
      ">>> download_IERS_A()\n",
      " [eScheduler.utils]\n"
     ]
    },
    {
     "name": "stdout",
     "output_type": "stream",
     "text": [
      "day number: 3\n"
     ]
    },
    {
     "name": "stderr",
     "output_type": "stream",
     "text": [
      "WARNING: OldEarthOrientationDataWarning: For best precision (on the order of arcseconds), you must download an up-to-date IERS Bulletin A table. To do so, run:\n",
      "\n",
      ">>> from astroplan import download_IERS_A\n",
      ">>> download_IERS_A()\n",
      " [eScheduler.utils]\n",
      "b'Skipping line 6: expected 4 fields, saw 10\\n'\n",
      "b'Skipping line 6: expected 4 fields, saw 10\\n'\n",
      "b'Skipping line 6: expected 4 fields, saw 10\\n'\n",
      "b'Skipping line 6: expected 4 fields, saw 10\\n'\n"
     ]
    },
    {
     "name": "stdout",
     "output_type": "stream",
     "text": [
      "No plans on Io on the 2019-12-28\n",
      "No plans on Europa on the 2019-12-28\n",
      "No plans on Ganymede on the 2019-12-28\n",
      "No plans on Callisto on the 2019-12-28\n",
      "[]\n",
      "No plans on Artemis on the 2019-12-28\n",
      "No plans on Saint-Ex on the 2019-12-28\n",
      "[]\n",
      "Saint-Ex Saint-Ex\n",
      "     priority     set or rise    alt set start      alt rise start       alt set end        alt rise end        max_alt         Sp_ID   \n",
      "----------------- ----------- ------------------- ------------------ ------------------- ----------------- ----------------- -----------\n",
      "661674748.0910151        rise -32.070381558218486 27.906490238212307 -23.413982677871406 20.34912580615155 55.40146711681294 Sp0853-0329\n",
      "ici index prio 484\n",
      "tu as passé l'étape 1\n"
     ]
    },
    {
     "name": "stderr",
     "output_type": "stream",
     "text": [
      "WARNING: OldEarthOrientationDataWarning: For best precision (on the order of arcseconds), you must download an up-to-date IERS Bulletin A table. To do so, run:\n",
      "\n",
      ">>> from astroplan import download_IERS_A\n",
      ">>> download_IERS_A()\n",
      " [eScheduler.utils]\n"
     ]
    },
    {
     "name": "stdout",
     "output_type": "stream",
     "text": [
      "Ranked prio 374.12700390815735\n",
      "case1\n"
     ]
    },
    {
     "name": "stderr",
     "output_type": "stream",
     "text": [
      "WARNING: OldEarthOrientationDataWarning: For best precision (on the order of arcseconds), you must download an up-to-date IERS Bulletin A table. To do so, run:\n",
      "\n",
      ">>> from astroplan import download_IERS_A\n",
      ">>> download_IERS_A()\n",
      " [eScheduler.utils]\n",
      "WARNING: OldEarthOrientationDataWarning: For best precision (on the order of arcseconds), you must download an up-to-date IERS Bulletin A table. To do so, run:\n",
      "\n",
      ">>> from astroplan import download_IERS_A\n",
      ">>> download_IERS_A()\n",
      " [eScheduler.utils]\n"
     ]
    },
    {
     "name": "stdout",
     "output_type": "stream",
     "text": [
      "day number: 4\n"
     ]
    },
    {
     "name": "stderr",
     "output_type": "stream",
     "text": [
      "WARNING: OldEarthOrientationDataWarning: For best precision (on the order of arcseconds), you must download an up-to-date IERS Bulletin A table. To do so, run:\n",
      "\n",
      ">>> from astroplan import download_IERS_A\n",
      ">>> download_IERS_A()\n",
      " [eScheduler.utils]\n",
      "b'Skipping line 6: expected 4 fields, saw 10\\n'\n",
      "b'Skipping line 6: expected 4 fields, saw 10\\n'\n",
      "b'Skipping line 6: expected 4 fields, saw 10\\n'\n"
     ]
    },
    {
     "name": "stdout",
     "output_type": "stream",
     "text": [
      "No plans on Io on the 2019-12-29\n",
      "No plans on Europa on the 2019-12-29\n",
      "No plans on Ganymede on the 2019-12-29\n"
     ]
    },
    {
     "name": "stderr",
     "output_type": "stream",
     "text": [
      "b'Skipping line 6: expected 4 fields, saw 10\\n'\n"
     ]
    },
    {
     "name": "stdout",
     "output_type": "stream",
     "text": [
      "No plans on Callisto on the 2019-12-29\n",
      "[]\n",
      "No plans on Artemis on the 2019-12-29\n",
      "No plans on Saint-Ex on the 2019-12-29\n",
      "[]\n",
      "Saint-Ex Saint-Ex\n",
      "     priority     set or rise  alt set start       alt rise start       alt set end       alt rise end         max_alt         Sp_ID   \n",
      "----------------- ----------- ---------------- --------------------- ----------------- ------------------ ----------------- -----------\n",
      "635374895.3016881         set 44.4064854997882 -0.014192254433290974 52.07474451328835 -4.649359468069587 78.42307167332163 Sp0419+4233\n",
      "     priority     set or rise   alt set start      alt rise start      alt set end         alt rise end         max_alt         Sp_ID   \n",
      "----------------- ----------- ------------------ ----------------- -------------------- ------------------ ----------------- -----------\n",
      "56905762.55791406        rise -7.775448769306272 36.91808420972563 -0.43900671144244924 29.119182280224187 85.64848987403217 Sp0829+2646\n",
      "ici index prio 460\n",
      "no second target available\n",
      "     priority      set or rise   alt set start     alt rise start      alt set end       alt rise end         max_alt         Sp_ID   \n",
      "------------------ ----------- ----------------- ------------------ ----------------- ------------------ ----------------- -----------\n",
      "46765650.445968024         set 77.43163879894203 -40.50700369622162 74.40037114843157 -39.76246393420315 77.43163879894203 Sp0036+1821\n",
      "no second target available\n",
      "     priority     set or rise   alt set start      alt rise start      alt set end        alt rise end         max_alt         Sp_ID   \n",
      "----------------- ----------- ----------------- ------------------- ----------------- ------------------- ----------------- -----------\n",
      "38094173.48115594         set 55.73975818821055 -31.622534305157032 64.05018677901361 -36.232254261760225 75.93208360208303 Sp0253+1652\n",
      "no second target available\n",
      "     priority      set or rise   alt set start      alt rise start      alt set end       alt rise end        max_alt         Sp_ID   \n",
      "------------------ ----------- ------------------ ------------------ ----------------- ----------------- ----------------- -----------\n",
      "37227004.988687955         set 29.474827399474922 10.459492287401536 37.13291796113241 4.636698358087304 80.37317424195714 Sp0539+4038\n",
      "no second target available\n",
      "     priority     set or rise   alt set start      alt rise start      alt set end        alt rise end         max_alt         Sp_ID   \n",
      "----------------- ----------- ------------------ ------------------ ------------------ ------------------ ----------------- -----------\n",
      "36262232.47870028        rise -16.24990737995729 41.596864685847216 -8.971554930031301 33.601769205068095 80.69281715662893 Sp0900+2150\n",
      "ici index prio 490\n",
      "no second target available\n",
      "     priority     set or rise   alt set start     alt rise start     alt set end        alt rise end        max_alt         Sp_ID   \n",
      "----------------- ----------- ------------------ ---------------- ------------------ ----------------- ----------------- -----------\n",
      "35010645.72004542        rise -58.41163278925718 40.4291240566001 -50.43567390914253 35.25599036689747 47.52704828669943 Sp1048-1120\n",
      "ici index prio 586\n",
      "no second target available\n",
      "     priority      set or rise  alt set start      alt rise start      alt set end        alt rise end       max_alt         Sp_ID   \n",
      "------------------ ----------- ---------------- ------------------- ------------------ ----------------- ---------------- -----------\n",
      "18014531.439342115         set 50.9575700001568 -29.259288389113074 59.468529924095215 -34.4851062232282 75.0929711892484 Sp0314+1603\n",
      "no second target available\n",
      "     priority      set or rise   alt set start      alt rise start      alt set end       alt rise end        max_alt        Sp_ID   \n",
      "------------------ ----------- ----------------- ------------------- ----------------- ------------------ --------------- -----------\n",
      "17345398.387537755         set 45.64287364744381 -12.426552435761927 54.46158694679547 -17.75342352931454 87.761640053306 Sp0401+2849\n",
      "no second target available\n",
      "     priority      set or rise    alt set start      alt rise start      alt set end       alt rise end         max_alt         Sp_ID   \n",
      "------------------ ----------- ------------------- ------------------ ----------------- ------------------ ----------------- -----------\n",
      "14196192.061871605        rise -0.5624141740430757 34.096905913375664 6.641772863932456 26.635906730864193 88.80774655255439 Sp0807+3213\n",
      "ici index prio 431\n",
      "tu as passé l'étape 1\n"
     ]
    },
    {
     "name": "stderr",
     "output_type": "stream",
     "text": [
      "WARNING: OldEarthOrientationDataWarning: For best precision (on the order of arcseconds), you must download an up-to-date IERS Bulletin A table. To do so, run:\n",
      "\n",
      ">>> from astroplan import download_IERS_A\n",
      ">>> download_IERS_A()\n",
      " [eScheduler.utils]\n"
     ]
    },
    {
     "name": "stdout",
     "output_type": "stream",
     "text": [
      "Ranked prio 466.91553378105164\n",
      "case1\n"
     ]
    },
    {
     "name": "stderr",
     "output_type": "stream",
     "text": [
      "WARNING: OldEarthOrientationDataWarning: For best precision (on the order of arcseconds), you must download an up-to-date IERS Bulletin A table. To do so, run:\n",
      "\n",
      ">>> from astroplan import download_IERS_A\n",
      ">>> download_IERS_A()\n",
      " [eScheduler.utils]\n",
      "WARNING: OldEarthOrientationDataWarning: For best precision (on the order of arcseconds), you must download an up-to-date IERS Bulletin A table. To do so, run:\n",
      "\n",
      ">>> from astroplan import download_IERS_A\n",
      ">>> download_IERS_A()\n",
      " [eScheduler.utils]\n",
      "WARNING: OldEarthOrientationDataWarning: For best precision (on the order of arcseconds), you must download an up-to-date IERS Bulletin A table. To do so, run:\n",
      "\n",
      ">>> from astroplan import download_IERS_A\n",
      ">>> download_IERS_A()\n",
      " [eScheduler.utils]\n"
     ]
    },
    {
     "name": "stdout",
     "output_type": "stream",
     "text": [
      "day number: 5\n"
     ]
    },
    {
     "name": "stderr",
     "output_type": "stream",
     "text": [
      "WARNING: OldEarthOrientationDataWarning: For best precision (on the order of arcseconds), you must download an up-to-date IERS Bulletin A table. To do so, run:\n",
      "\n",
      ">>> from astroplan import download_IERS_A\n",
      ">>> download_IERS_A()\n",
      " [eScheduler.utils]\n",
      "b'Skipping line 6: expected 4 fields, saw 10\\n'\n",
      "b'Skipping line 6: expected 4 fields, saw 10\\n'\n",
      "b'Skipping line 6: expected 4 fields, saw 10\\n'\n",
      "b'Skipping line 6: expected 4 fields, saw 10\\n'\n"
     ]
    },
    {
     "name": "stdout",
     "output_type": "stream",
     "text": [
      "No plans on Io on the 2019-12-30\n",
      "No plans on Europa on the 2019-12-30\n",
      "No plans on Ganymede on the 2019-12-30\n",
      "No plans on Callisto on the 2019-12-30\n",
      "[]\n",
      "No plans on Artemis on the 2019-12-30\n",
      "No plans on Saint-Ex on the 2019-12-30\n",
      "[]\n",
      "Saint-Ex Saint-Ex\n",
      "     priority     set or rise   alt set start       alt rise start      alt set end       alt rise end         max_alt         Sp_ID   \n",
      "----------------- ----------- ------------------ ------------------- ----------------- ------------------ ----------------- -----------\n",
      "635298872.4298897         set 45.248242366434646 -0.5700167114327583 52.93598605632205 -5.112723306275906 78.41368832001646 Sp0419+4233\n",
      "     priority      set or rise  alt set start     alt rise start      alt set end        alt rise end         max_alt         Sp_ID   \n",
      "------------------ ----------- ---------------- ------------------ ------------------ ------------------ ----------------- -----------\n",
      "209196091.78175208        both 20.1770605109737 24.425123588444954 26.808652815908417 18.599375486399058 73.87141869301547 Sp0652+4710\n",
      "still searching for the second target that is no both\n",
      "no second target available\n",
      "     priority      set or rise    alt set start      alt rise start     alt set end       alt rise end        max_alt         Sp_ID   \n",
      "------------------ ----------- ------------------- ----------------- ----------------- ----------------- ----------------- -----------\n",
      "142062038.49791843        rise 0.20611605243360473 33.24068461375433 7.479153874600404 25.84203791586105 88.74154296302827 Sp0807+3213\n",
      "ici index prio 431\n",
      "tu as passé l'étape 1\n"
     ]
    },
    {
     "name": "stderr",
     "output_type": "stream",
     "text": [
      "WARNING: OldEarthOrientationDataWarning: For best precision (on the order of arcseconds), you must download an up-to-date IERS Bulletin A table. To do so, run:\n",
      "\n",
      ">>> from astroplan import download_IERS_A\n",
      ">>> download_IERS_A()\n",
      " [eScheduler.utils]\n"
     ]
    },
    {
     "name": "stdout",
     "output_type": "stream",
     "text": [
      "Ranked prio 560.8117427825928\n",
      "case1\n"
     ]
    },
    {
     "name": "stderr",
     "output_type": "stream",
     "text": [
      "WARNING: OldEarthOrientationDataWarning: For best precision (on the order of arcseconds), you must download an up-to-date IERS Bulletin A table. To do so, run:\n",
      "\n",
      ">>> from astroplan import download_IERS_A\n",
      ">>> download_IERS_A()\n",
      " [eScheduler.utils]\n",
      "WARNING: OldEarthOrientationDataWarning: For best precision (on the order of arcseconds), you must download an up-to-date IERS Bulletin A table. To do so, run:\n",
      "\n",
      ">>> from astroplan import download_IERS_A\n",
      ">>> download_IERS_A()\n",
      " [eScheduler.utils]\n"
     ]
    },
    {
     "name": "stdout",
     "output_type": "stream",
     "text": [
      "day number: 6\n"
     ]
    },
    {
     "name": "stderr",
     "output_type": "stream",
     "text": [
      "WARNING: OldEarthOrientationDataWarning: For best precision (on the order of arcseconds), you must download an up-to-date IERS Bulletin A table. To do so, run:\n",
      "\n",
      ">>> from astroplan import download_IERS_A\n",
      ">>> download_IERS_A()\n",
      " [eScheduler.utils]\n",
      "b'Skipping line 6: expected 4 fields, saw 10\\n'\n",
      "b'Skipping line 6: expected 4 fields, saw 10\\n'\n",
      "b'Skipping line 6: expected 4 fields, saw 10\\n'\n",
      "b'Skipping line 6: expected 4 fields, saw 10\\n'\n"
     ]
    },
    {
     "name": "stdout",
     "output_type": "stream",
     "text": [
      "No plans on Io on the 2019-12-31\n",
      "No plans on Europa on the 2019-12-31\n",
      "No plans on Ganymede on the 2019-12-31\n",
      "No plans on Callisto on the 2019-12-31\n",
      "[]\n",
      "No plans on Artemis on the 2019-12-31\n",
      "No plans on Saint-Ex on the 2019-12-31\n",
      "[]\n",
      "Saint-Ex Saint-Ex\n",
      "     priority     set or rise  alt set start      alt rise start      alt set end       alt rise end         max_alt         Sp_ID   \n",
      "----------------- ----------- ---------------- ------------------- ----------------- ------------------ ----------------- -----------\n",
      "635314154.5954098         set 46.0933073599511 -1.1157829990910217 53.79806912664662 -5.565683030860083 78.41557456760157 Sp0419+4233\n",
      "     priority      set or rise   alt set start      alt rise start      alt set end        alt rise end         max_alt         Sp_ID   \n",
      "------------------ ----------- ------------------ ------------------ ------------------ ------------------ ----------------- -----------\n",
      "209207204.92135987        both 20.892058313455948 23.750045804523037 27.570413561527214 17.987845401278477 73.87534296990788 Sp0652+4710\n",
      "still searching for the second target that is no both\n",
      "no second target available\n",
      "     priority      set or rise   alt set start      alt rise start      alt set end       alt rise end       max_alt        Sp_ID   \n",
      "------------------ ----------- ------------------ ------------------ ----------------- ----------------- --------------- -----------\n",
      "142499151.77797467        rise 0.9832974714550313 32.391062047198865 8.323169696149456 25.05539435345621 88.868094827592 Sp0807+3213\n",
      "ici index prio 431\n",
      "tu as passé l'étape 1\n"
     ]
    },
    {
     "name": "stderr",
     "output_type": "stream",
     "text": [
      "WARNING: OldEarthOrientationDataWarning: For best precision (on the order of arcseconds), you must download an up-to-date IERS Bulletin A table. To do so, run:\n",
      "\n",
      ">>> from astroplan import download_IERS_A\n",
      ">>> download_IERS_A()\n",
      " [eScheduler.utils]\n"
     ]
    },
    {
     "name": "stdout",
     "output_type": "stream",
     "text": [
      "Ranked prio 671.0023238658905\n",
      "case1\n"
     ]
    },
    {
     "name": "stderr",
     "output_type": "stream",
     "text": [
      "WARNING: OldEarthOrientationDataWarning: For best precision (on the order of arcseconds), you must download an up-to-date IERS Bulletin A table. To do so, run:\n",
      "\n",
      ">>> from astroplan import download_IERS_A\n",
      ">>> download_IERS_A()\n",
      " [eScheduler.utils]\n",
      "WARNING: OldEarthOrientationDataWarning: For best precision (on the order of arcseconds), you must download an up-to-date IERS Bulletin A table. To do so, run:\n",
      "\n",
      ">>> from astroplan import download_IERS_A\n",
      ">>> download_IERS_A()\n",
      " [eScheduler.utils]\n"
     ]
    },
    {
     "name": "stdout",
     "output_type": "stream",
     "text": [
      "day number: 7\n"
     ]
    },
    {
     "name": "stderr",
     "output_type": "stream",
     "text": [
      "WARNING: OldEarthOrientationDataWarning: For best precision (on the order of arcseconds), you must download an up-to-date IERS Bulletin A table. To do so, run:\n",
      "\n",
      ">>> from astroplan import download_IERS_A\n",
      ">>> download_IERS_A()\n",
      " [eScheduler.utils]\n",
      "b'Skipping line 6: expected 4 fields, saw 10\\n'\n",
      "b'Skipping line 6: expected 4 fields, saw 10\\n'\n",
      "b'Skipping line 6: expected 4 fields, saw 10\\n'\n"
     ]
    },
    {
     "name": "stdout",
     "output_type": "stream",
     "text": [
      "No plans on Io on the 2020-01-01\n",
      "No plans on Europa on the 2020-01-01\n",
      "No plans on Ganymede on the 2020-01-01\n"
     ]
    },
    {
     "name": "stderr",
     "output_type": "stream",
     "text": [
      "b'Skipping line 6: expected 4 fields, saw 10\\n'\n"
     ]
    },
    {
     "name": "stdout",
     "output_type": "stream",
     "text": [
      "No plans on Callisto on the 2020-01-01\n",
      "[]\n",
      "No plans on Artemis on the 2020-01-01\n",
      "No plans on Saint-Ex on the 2020-01-01\n",
      "[]\n",
      "Saint-Ex Saint-Ex\n",
      "     priority     set or rise   alt set start      alt rise start      alt set end       alt rise end         max_alt         Sp_ID   \n",
      "----------------- ----------- ----------------- ------------------- ----------------- ------------------ ----------------- -----------\n",
      "635370584.5506792         set 46.94143775781213 -1.6514160542878575 54.66067494979559 -6.008246402178792 78.42253960581655 Sp0419+4233\n",
      "     priority      set or rise   alt set start      alt rise start      alt set end        alt rise end       max_alt         Sp_ID   \n",
      "------------------ ----------- ------------------ ------------------ ------------------ ----------------- ---------------- -----------\n",
      "209214257.31463608        both 21.613120752760768 23.081707436832566 28.336482010915333 17.38365184805746 73.8778333142162 Sp0652+4710\n",
      "still searching for the second target that is no both\n",
      "no second target available\n",
      "     priority      set or rise   alt set start      alt rise start     alt set end       alt rise end         max_alt         Sp_ID   \n",
      "------------------ ----------- ------------------ ----------------- ----------------- ------------------ ----------------- -----------\n",
      "142470637.06345096        rise 1.7689066999978265 31.54813779838988 9.173611793760173 24.276006964474174 88.68288042732875 Sp0807+3213\n",
      "ici index prio 431\n",
      "tu as passé l'étape 1\n"
     ]
    },
    {
     "name": "stderr",
     "output_type": "stream",
     "text": [
      "WARNING: OldEarthOrientationDataWarning: For best precision (on the order of arcseconds), you must download an up-to-date IERS Bulletin A table. To do so, run:\n",
      "\n",
      ">>> from astroplan import download_IERS_A\n",
      ">>> download_IERS_A()\n",
      " [eScheduler.utils]\n"
     ]
    },
    {
     "name": "stdout",
     "output_type": "stream",
     "text": [
      "Ranked prio 783.0139617919922\n",
      "case1\n"
     ]
    },
    {
     "name": "stderr",
     "output_type": "stream",
     "text": [
      "WARNING: OldEarthOrientationDataWarning: For best precision (on the order of arcseconds), you must download an up-to-date IERS Bulletin A table. To do so, run:\n",
      "\n",
      ">>> from astroplan import download_IERS_A\n",
      ">>> download_IERS_A()\n",
      " [eScheduler.utils]\n",
      "WARNING: OldEarthOrientationDataWarning: For best precision (on the order of arcseconds), you must download an up-to-date IERS Bulletin A table. To do so, run:\n",
      "\n",
      ">>> from astroplan import download_IERS_A\n",
      ">>> download_IERS_A()\n",
      " [eScheduler.utils]\n"
     ]
    },
    {
     "name": "stdout",
     "output_type": "stream",
     "text": [
      "day number: 8\n"
     ]
    },
    {
     "name": "stderr",
     "output_type": "stream",
     "text": [
      "WARNING: OldEarthOrientationDataWarning: For best precision (on the order of arcseconds), you must download an up-to-date IERS Bulletin A table. To do so, run:\n",
      "\n",
      ">>> from astroplan import download_IERS_A\n",
      ">>> download_IERS_A()\n",
      " [eScheduler.utils]\n",
      "b'Skipping line 6: expected 4 fields, saw 10\\n'\n",
      "b'Skipping line 6: expected 4 fields, saw 10\\n'\n",
      "b'Skipping line 6: expected 4 fields, saw 10\\n'\n",
      "b'Skipping line 6: expected 4 fields, saw 10\\n'\n"
     ]
    },
    {
     "name": "stdout",
     "output_type": "stream",
     "text": [
      "No plans on Io on the 2020-01-02\n",
      "No plans on Europa on the 2020-01-02\n",
      "No plans on Ganymede on the 2020-01-02\n",
      "No plans on Callisto on the 2020-01-02\n",
      "[]\n",
      "No plans on Artemis on the 2020-01-02\n",
      "No plans on Saint-Ex on the 2020-01-02\n",
      "[]\n",
      "Saint-Ex Saint-Ex\n",
      "     priority     set or rise   alt set start      alt rise start      alt set end       alt rise end         max_alt         Sp_ID   \n",
      "----------------- ----------- ----------------- ------------------- ----------------- ------------------ ----------------- -----------\n",
      "635216010.3922188         set 47.79155488752966 -2.1768500837176488 55.52347037711606 -6.440428942242016 78.40346082194041 Sp0419+4233\n",
      "     priority      set or rise   alt set start     alt rise start      alt set end       alt rise end         max_alt         Sp_ID   \n",
      "------------------ ----------- ----------------- ------------------ ----------------- ------------------ ----------------- -----------\n",
      "209180841.83083594        both 22.33934788669727 22.420207926450527 29.10666728010954 16.786820575386752 73.86603362343993 Sp0652+4710\n",
      "still searching for the second target that is no both\n",
      "no second target available\n",
      "     priority      set or rise   alt set start     alt rise start     alt set end        alt rise end         max_alt         Sp_ID   \n",
      "------------------ ----------- ----------------- ----------------- ------------------ ------------------ ----------------- -----------\n",
      "143037910.27734783        rise 2.561942902631038 30.71200388181473 10.030275160249111 23.503900285217185 88.84198892942986 Sp0807+3213\n",
      "ici index prio 431\n",
      "tu as passé l'étape 1\n"
     ]
    },
    {
     "name": "stderr",
     "output_type": "stream",
     "text": [
      "WARNING: OldEarthOrientationDataWarning: For best precision (on the order of arcseconds), you must download an up-to-date IERS Bulletin A table. To do so, run:\n",
      "\n",
      ">>> from astroplan import download_IERS_A\n",
      ">>> download_IERS_A()\n",
      " [eScheduler.utils]\n"
     ]
    },
    {
     "name": "stdout",
     "output_type": "stream",
     "text": [
      "Ranked prio 876.857709646225\n",
      "case1\n"
     ]
    },
    {
     "name": "stderr",
     "output_type": "stream",
     "text": [
      "WARNING: OldEarthOrientationDataWarning: For best precision (on the order of arcseconds), you must download an up-to-date IERS Bulletin A table. To do so, run:\n",
      "\n",
      ">>> from astroplan import download_IERS_A\n",
      ">>> download_IERS_A()\n",
      " [eScheduler.utils]\n",
      "WARNING: OldEarthOrientationDataWarning: For best precision (on the order of arcseconds), you must download an up-to-date IERS Bulletin A table. To do so, run:\n",
      "\n",
      ">>> from astroplan import download_IERS_A\n",
      ">>> download_IERS_A()\n",
      " [eScheduler.utils]\n"
     ]
    }
   ],
   "source": [
    "schedule.make_schedule(Altitude_constraint = 25, Moon_constraint = 30)"
   ]
  },
  {
   "cell_type": "code",
   "execution_count": 6,
   "metadata": {},
   "outputs": [
    {
     "name": "stdout",
     "output_type": "stream",
     "text": [
      "INFO : \"/Users/elsaducrot/Documents/GitHub/Scheduler_global/Python/Saint-Ex/night_blocks_Saint-Ex_2019-11-29.txt\" already exists\n",
      "INFO : \"/Users/elsaducrot/Documents/GitHub/Scheduler_global/Python/Saint-Ex/night_blocks_Saint-Ex_2019-11-30.txt\" already exists\n",
      "INFO : \"/Users/elsaducrot/Documents/GitHub/Scheduler_global/Python/Saint-Ex/night_blocks_Saint-Ex_2019-12-01.txt\" already exists\n",
      "INFO : \"/Users/elsaducrot/Documents/GitHub/Scheduler_global/Python/Saint-Ex/night_blocks_Saint-Ex_2019-12-02.txt\" already exists\n",
      "INFO : \"/Users/elsaducrot/Documents/GitHub/Scheduler_global/Python/Saint-Ex/night_blocks_Saint-Ex_2019-12-03.txt\" already exists\n",
      "INFO : \"/Users/elsaducrot/Documents/GitHub/Scheduler_global/Python/Saint-Ex/night_blocks_Saint-Ex_2019-12-04.txt\" already exists\n",
      "INFO : \"/Users/elsaducrot/Documents/GitHub/Scheduler_global/Python/Saint-Ex/night_blocks_Saint-Ex_2019-12-05.txt\" already exists\n",
      "INFO : \"/Users/elsaducrot/Documents/GitHub/Scheduler_global/Python/Saint-Ex/night_blocks_Saint-Ex_2019-12-06.txt\" already exists\n",
      "INFO : \"/Users/elsaducrot/Documents/GitHub/Scheduler_global/Python/Saint-Ex/night_blocks_Saint-Ex_2019-12-07.txt\" already exists\n",
      "INFO : \"/Users/elsaducrot/Documents/GitHub/Scheduler_global/Python/Saint-Ex/night_blocks_Saint-Ex_2019-12-08.txt\" already exists\n",
      "INFO : \"/Users/elsaducrot/Documents/GitHub/Scheduler_global/Python/Saint-Ex/night_blocks_Saint-Ex_2019-12-09.txt\" already exists\n",
      "INFO : \"/Users/elsaducrot/Documents/GitHub/Scheduler_global/Python/Saint-Ex/night_blocks_Saint-Ex_2019-12-10.txt\" already exists\n",
      "INFO : \"/Users/elsaducrot/Documents/GitHub/Scheduler_global/Python/Saint-Ex/night_blocks_Saint-Ex_2019-12-11.txt\" already exists\n",
      "INFO : \"/Users/elsaducrot/Documents/GitHub/Scheduler_global/Python/Saint-Ex/night_blocks_Saint-Ex_2019-12-12.txt\" already exists\n",
      "INFO : \"/Users/elsaducrot/Documents/GitHub/Scheduler_global/Python/Saint-Ex/night_blocks_Saint-Ex_2019-12-13.txt\" already exists\n",
      "INFO : \"/Users/elsaducrot/Documents/GitHub/Scheduler_global/Python/Saint-Ex/night_blocks_Saint-Ex_2019-12-14.txt\" already exists\n"
     ]
    }
   ],
   "source": [
    "SPOCKLT.save_schedule('/Users/elsaducrot/code/spock/input.csv',3,save=True,over_write=False)"
   ]
  },
  {
   "cell_type": "code",
   "execution_count": 15,
   "metadata": {},
   "outputs": [
    {
     "name": "stdout",
     "output_type": "stream",
     "text": [
      "2019-12-25 15:00:00.000 10 Saint-Ex\n",
      "Saint-Ex\n",
      "/Users/elsaducrot/Documents/GitHub/Scheduler_global/Python/Saint-Ex/Plans_by_date/2019-12-25\n",
      "   target       start time (UTC)    ...      configuration     \n",
      "----------- ----------------------- ... -----------------------\n",
      "Sp0602+3910 2019-12-26 02:02:20.024 ... {'filt=I+z', 'texp=70'}\n",
      "Sp0853-0329 2019-12-26 07:39:00.024 ... {'filt=I+z', 'texp=25'}\n",
      "avant : I+z\n",
      "apres : I+z 70\n",
      "avant : I+z\n",
      "apres : I+z 25\n",
      "/Users/elsaducrot/Documents/GitHub/Scheduler_global/Python/Saint-Ex/Plans_by_date\n",
      "0 2\n",
      "Sp0602+3910\n",
      "idx_taret [322]\n",
      "6h2m30.514656000006752s 39d10m58.58652000001143s\n",
      "39.1829407 0.6838713258286918\n",
      "la\n",
      "1 2\n",
      "Sp0853-0329\n",
      "[484]\n",
      "8h53m36.159768000011354s -3d29m32.201519999999704s\n",
      "-3.4922782 -0.060951752985621034\n",
      "str(filt) {0: 'I+z', 1: 'I+z'}\n",
      "Saint-Ex\n",
      "/Users/elsaducrot/Documents/GitHub/Scheduler_global/Python/Saint-Ex/Plans_by_date/2019-12-26\n",
      "   target       start time (UTC)    ...      configuration     \n",
      "----------- ----------------------- ... -----------------------\n",
      "Sp0602+3910 2019-12-27 01:58:40.024 ... {'filt=I+z', 'texp=70'}\n",
      "Sp0853-0329 2019-12-27 07:39:20.024 ... {'filt=I+z', 'texp=25'}\n",
      "avant : I+z\n",
      "apres : I+z 70\n",
      "avant : I+z\n",
      "apres : I+z 25\n",
      "/Users/elsaducrot/Documents/GitHub/Scheduler_global/Python/Saint-Ex/Plans_by_date\n",
      "0 2\n",
      "Sp0602+3910\n",
      "idx_taret [322]\n",
      "6h2m30.514656000006752s 39d10m58.58652000001143s\n",
      "39.1829407 0.6838713258286918\n",
      "la\n",
      "1 2\n",
      "Sp0853-0329\n",
      "[484]\n",
      "8h53m36.159768000011354s -3d29m32.201519999999704s\n",
      "-3.4922782 -0.060951752985621034\n",
      "str(filt) {0: 'I+z', 1: 'I+z'}\n",
      "Saint-Ex\n",
      "/Users/elsaducrot/Documents/GitHub/Scheduler_global/Python/Saint-Ex/Plans_by_date/2019-12-27\n",
      "   target       start time (UTC)    ...      configuration     \n",
      "----------- ----------------------- ... -----------------------\n",
      "Sp0602+3910 2019-12-28 01:54:40.024 ... {'filt=I+z', 'texp=70'}\n",
      "Sp0853-0329 2019-12-28 07:40:00.037 ... {'filt=I+z', 'texp=25'}\n",
      "avant : I+z\n",
      "apres : I+z 70\n",
      "avant : I+z\n",
      "apres : I+z 25\n",
      "/Users/elsaducrot/Documents/GitHub/Scheduler_global/Python/Saint-Ex/Plans_by_date\n",
      "0 2\n",
      "Sp0602+3910\n",
      "idx_taret [322]\n",
      "6h2m30.514656000006752s 39d10m58.58652000001143s\n",
      "39.1829407 0.6838713258286918\n",
      "la\n",
      "1 2\n",
      "Sp0853-0329\n",
      "[484]\n",
      "8h53m36.159768000011354s -3d29m32.201519999999704s\n",
      "-3.4922782 -0.060951752985621034\n",
      "str(filt) {0: 'I+z', 1: 'I+z'}\n",
      "Saint-Ex\n",
      "/Users/elsaducrot/Documents/GitHub/Scheduler_global/Python/Saint-Ex/Plans_by_date/2019-12-28\n",
      "   target       start time (UTC)    ...      configuration     \n",
      "----------- ----------------------- ... -----------------------\n",
      "Sp0602+3910 2019-12-29 01:50:40.024 ... {'filt=I+z', 'texp=70'}\n",
      "Sp0853-0329 2019-12-29 07:40:20.037 ... {'filt=I+z', 'texp=25'}\n",
      "avant : I+z\n",
      "apres : I+z 70\n",
      "avant : I+z\n",
      "apres : I+z 25\n",
      "/Users/elsaducrot/Documents/GitHub/Scheduler_global/Python/Saint-Ex/Plans_by_date\n",
      "0 2\n",
      "Sp0602+3910\n",
      "idx_taret [322]\n",
      "6h2m30.514656000006752s 39d10m58.58652000001143s\n",
      "39.1829407 0.6838713258286918\n",
      "la\n",
      "1 2\n",
      "Sp0853-0329\n",
      "[484]\n",
      "8h53m36.159768000011354s -3d29m32.201519999999704s\n",
      "-3.4922782 -0.060951752985621034\n",
      "str(filt) {0: 'I+z', 1: 'I+z'}\n",
      "Saint-Ex\n",
      "/Users/elsaducrot/Documents/GitHub/Scheduler_global/Python/Saint-Ex/Plans_by_date/2019-12-29\n",
      "   target       start time (UTC)    ...      configuration     \n",
      "----------- ----------------------- ... -----------------------\n",
      "Sp0602+3910 2019-12-30 01:46:40.023 ... {'filt=I+z', 'texp=70'}\n",
      "Sp0807+3213 2019-12-30 07:41:00.036 ... {'filt=I+z', 'texp=45'}\n",
      "avant : I+z\n",
      "apres : I+z 70\n",
      "avant : I+z\n",
      "apres : I+z 45\n",
      "/Users/elsaducrot/Documents/GitHub/Scheduler_global/Python/Saint-Ex/Plans_by_date\n",
      "0 2\n",
      "Sp0602+3910\n",
      "idx_taret [322]\n",
      "6h2m30.514656000006752s 39d10m58.58652000001143s\n",
      "39.1829407 0.6838713258286918\n",
      "la\n",
      "1 2\n",
      "Sp0807+3213\n",
      "[431]\n",
      "8h7m25.998096000008104s 32d13m10.070760000011774s\n",
      "32.2194641 0.5623357317731116\n",
      "la\n",
      "str(filt) {0: 'I+z', 1: 'I+z'}\n",
      "Saint-Ex\n",
      "/Users/elsaducrot/Documents/GitHub/Scheduler_global/Python/Saint-Ex/Plans_by_date/2019-12-30\n",
      "   target       start time (UTC)    ...      configuration     \n",
      "----------- ----------------------- ... -----------------------\n",
      "Sp0602+3910 2019-12-31 01:46:20.023 ... {'filt=I+z', 'texp=70'}\n",
      "Sp0807+3213 2019-12-31 07:41:20.036 ... {'filt=I+z', 'texp=45'}\n",
      "avant : I+z\n",
      "apres : I+z 70\n",
      "avant : I+z\n",
      "apres : I+z 45\n",
      "/Users/elsaducrot/Documents/GitHub/Scheduler_global/Python/Saint-Ex/Plans_by_date\n",
      "0 2\n",
      "Sp0602+3910\n",
      "idx_taret [322]\n",
      "6h2m30.514656000006752s 39d10m58.58652000001143s\n",
      "39.1829407 0.6838713258286918\n",
      "la\n",
      "1 2\n",
      "Sp0807+3213\n",
      "[431]\n",
      "8h7m25.998096000008104s 32d13m10.070760000011774s\n",
      "32.2194641 0.5623357317731116\n",
      "la\n",
      "str(filt) {0: 'I+z', 1: 'I+z'}\n",
      "Saint-Ex\n",
      "/Users/elsaducrot/Documents/GitHub/Scheduler_global/Python/Saint-Ex/Plans_by_date/2019-12-31\n",
      "   target       start time (UTC)    ...      configuration     \n",
      "----------- ----------------------- ... -----------------------\n",
      "Sp0602+3910 2020-01-01 01:47:00.023 ... {'filt=I+z', 'texp=70'}\n",
      "Sp0807+3213 2020-01-01 07:41:40.036 ... {'filt=I+z', 'texp=45'}\n",
      "avant : I+z\n",
      "apres : I+z 70\n",
      "avant : I+z\n",
      "apres : I+z 45\n",
      "/Users/elsaducrot/Documents/GitHub/Scheduler_global/Python/Saint-Ex/Plans_by_date\n",
      "0 2\n",
      "Sp0602+3910\n",
      "idx_taret [322]\n",
      "6h2m30.514656000006752s 39d10m58.58652000001143s\n",
      "39.1829407 0.6838713258286918\n",
      "la\n",
      "1 2\n",
      "Sp0807+3213\n",
      "[431]\n",
      "8h7m25.998096000008104s 32d13m10.070760000011774s\n",
      "32.2194641 0.5623357317731116\n",
      "la\n",
      "str(filt) {0: 'I+z', 1: 'I+z'}\n",
      "Saint-Ex\n",
      "/Users/elsaducrot/Documents/GitHub/Scheduler_global/Python/Saint-Ex/Plans_by_date/2020-01-01\n",
      "   target       start time (UTC)    ...      configuration     \n",
      "----------- ----------------------- ... -----------------------\n",
      "Sp0602+3910 2020-01-02 01:47:40.023 ... {'filt=I+z', 'texp=70'}\n",
      "Sp0807+3213 2020-01-02 07:42:20.036 ... {'filt=I+z', 'texp=45'}\n",
      "avant : I+z\n",
      "apres : I+z 70\n",
      "avant : I+z\n",
      "apres : I+z 45\n",
      "/Users/elsaducrot/Documents/GitHub/Scheduler_global/Python/Saint-Ex/Plans_by_date\n",
      "0 2\n",
      "Sp0602+3910\n",
      "idx_taret [322]\n",
      "6h2m30.514656000006752s 39d10m58.58652000001143s\n",
      "39.1829407 0.6838713258286918\n",
      "la\n",
      "1 2\n",
      "Sp0807+3213\n",
      "[431]\n",
      "8h7m25.998096000008104s 32d13m10.070760000011774s\n",
      "32.2194641 0.5623357317731116\n",
      "la\n",
      "str(filt) {0: 'I+z', 1: 'I+z'}\n",
      "Saint-Ex\n",
      "/Users/elsaducrot/Documents/GitHub/Scheduler_global/Python/Saint-Ex/Plans_by_date/2020-01-02\n",
      "   target       start time (UTC)    ...      configuration     \n",
      "----------- ----------------------- ... -----------------------\n",
      "Sp0602+3910 2020-01-03 01:48:40.023 ... {'filt=I+z', 'texp=70'}\n",
      "Sp0807+3213 2020-01-03 07:42:40.023 ... {'filt=I+z', 'texp=45'}\n",
      "avant : I+z\n",
      "apres : I+z 70\n",
      "avant : I+z\n",
      "apres : I+z 45\n",
      "/Users/elsaducrot/Documents/GitHub/Scheduler_global/Python/Saint-Ex/Plans_by_date\n",
      "0 2\n",
      "Sp0602+3910\n",
      "idx_taret [322]\n",
      "6h2m30.514656000006752s 39d10m58.58652000001143s\n",
      "39.1829407 0.6838713258286918\n",
      "la\n",
      "1 2\n",
      "Sp0807+3213\n",
      "[431]\n",
      "8h7m25.998096000008104s 32d13m10.070760000011774s\n",
      "32.2194641 0.5623357317731116\n",
      "la\n",
      "str(filt) {0: 'I+z', 1: 'I+z'}\n",
      "Saint-Ex\n",
      "/Users/elsaducrot/Documents/GitHub/Scheduler_global/Python/Saint-Ex/Plans_by_date/2020-01-03\n"
     ]
    },
    {
     "ename": "FileNotFoundError",
     "evalue": "[Errno 2] No such file or directory: '/Users/elsaducrot/Documents/GitHub/Scheduler_global/Python/Saint-Ex/night_blocks_Saint-Ex_2020-01-03.txt'",
     "output_type": "error",
     "traceback": [
      "\u001b[0;31m---------------------------------------------------------------------------\u001b[0m",
      "\u001b[0;31mFileNotFoundError\u001b[0m                         Traceback (most recent call last)",
      "\u001b[0;32m<ipython-input-15-503b0c6bca6a>\u001b[0m in \u001b[0;36m<module>\u001b[0;34m\u001b[0m\n\u001b[0;32m----> 1\u001b[0;31m \u001b[0mSPOCKLT\u001b[0m\u001b[0;34m.\u001b[0m\u001b[0mmake_np\u001b[0m\u001b[0;34m(\u001b[0m\u001b[0mschedule\u001b[0m\u001b[0;34m.\u001b[0m\u001b[0mdate_range\u001b[0m\u001b[0;34m[\u001b[0m\u001b[0;36m0\u001b[0m\u001b[0;34m]\u001b[0m\u001b[0;34m,\u001b[0m\u001b[0;36m10\u001b[0m\u001b[0;34m,\u001b[0m\u001b[0;34m'Saint-Ex'\u001b[0m\u001b[0;34m)\u001b[0m\u001b[0;34m\u001b[0m\u001b[0;34m\u001b[0m\u001b[0m\n\u001b[0m",
      "\u001b[0;32m~/code/spock/spock/SPOCK/make_night_plans.py\u001b[0m in \u001b[0;36mmake_np\u001b[0;34m(t_now, nb_jours, tel)\u001b[0m\n\u001b[1;32m     50\u001b[0m \u001b[0;34m\u001b[0m\u001b[0m\n\u001b[1;32m     51\u001b[0m                 \u001b[0;31m#Read night_blocks file\u001b[0m\u001b[0;34m\u001b[0m\u001b[0;34m\u001b[0m\u001b[0;34m\u001b[0m\u001b[0m\n\u001b[0;32m---> 52\u001b[0;31m                 \u001b[0mscheduler_table\u001b[0m\u001b[0;34m=\u001b[0m\u001b[0mTable\u001b[0m\u001b[0;34m.\u001b[0m\u001b[0mread\u001b[0m\u001b[0;34m(\u001b[0m\u001b[0;34m'/Users/elsaducrot/Documents/GitHub/Scheduler_global/Python/'\u001b[0m \u001b[0;34m+\u001b[0m \u001b[0mstr\u001b[0m\u001b[0;34m(\u001b[0m\u001b[0mtelescope\u001b[0m\u001b[0;34m)\u001b[0m \u001b[0;34m+\u001b[0m\u001b[0;34m'/night_blocks_'\u001b[0m\u001b[0;34m+\u001b[0m \u001b[0mstr\u001b[0m\u001b[0;34m(\u001b[0m\u001b[0mtelescope\u001b[0m\u001b[0;34m)\u001b[0m \u001b[0;34m+\u001b[0m\u001b[0;34m'_'\u001b[0m \u001b[0;34m+\u001b[0m \u001b[0mstr\u001b[0m\u001b[0;34m(\u001b[0m\u001b[0mt_now\u001b[0m\u001b[0;34m)\u001b[0m\u001b[0;34m+\u001b[0m\u001b[0;34m'.txt'\u001b[0m\u001b[0;34m,\u001b[0m \u001b[0mformat\u001b[0m\u001b[0;34m=\u001b[0m\u001b[0;34m'ascii'\u001b[0m\u001b[0;34m)\u001b[0m\u001b[0;34m\u001b[0m\u001b[0;34m\u001b[0m\u001b[0m\n\u001b[0m\u001b[1;32m     53\u001b[0m                 \u001b[0mname\u001b[0m\u001b[0;34m=\u001b[0m\u001b[0mscheduler_table\u001b[0m\u001b[0;34m[\u001b[0m\u001b[0;34m'target'\u001b[0m\u001b[0;34m]\u001b[0m\u001b[0;34m\u001b[0m\u001b[0;34m\u001b[0m\u001b[0m\n\u001b[1;32m     54\u001b[0m                 \u001b[0mdate_start\u001b[0m\u001b[0;34m=\u001b[0m\u001b[0mscheduler_table\u001b[0m\u001b[0;34m[\u001b[0m\u001b[0;34m'start time (UTC)'\u001b[0m\u001b[0;34m]\u001b[0m\u001b[0;34m\u001b[0m\u001b[0;34m\u001b[0m\u001b[0m\n",
      "\u001b[0;32m/anaconda3/lib/python3.7/site-packages/astropy/table/connect.py\u001b[0m in \u001b[0;36m__call__\u001b[0;34m(self, *args, **kwargs)\u001b[0m\n\u001b[1;32m     50\u001b[0m     \u001b[0;32mdef\u001b[0m \u001b[0m__call__\u001b[0m\u001b[0;34m(\u001b[0m\u001b[0mself\u001b[0m\u001b[0;34m,\u001b[0m \u001b[0;34m*\u001b[0m\u001b[0margs\u001b[0m\u001b[0;34m,\u001b[0m \u001b[0;34m**\u001b[0m\u001b[0mkwargs\u001b[0m\u001b[0;34m)\u001b[0m\u001b[0;34m:\u001b[0m\u001b[0;34m\u001b[0m\u001b[0;34m\u001b[0m\u001b[0m\n\u001b[1;32m     51\u001b[0m         \u001b[0mcls\u001b[0m \u001b[0;34m=\u001b[0m \u001b[0mself\u001b[0m\u001b[0;34m.\u001b[0m\u001b[0m_cls\u001b[0m\u001b[0;34m\u001b[0m\u001b[0;34m\u001b[0m\u001b[0m\n\u001b[0;32m---> 52\u001b[0;31m         \u001b[0mout\u001b[0m \u001b[0;34m=\u001b[0m \u001b[0mregistry\u001b[0m\u001b[0;34m.\u001b[0m\u001b[0mread\u001b[0m\u001b[0;34m(\u001b[0m\u001b[0mcls\u001b[0m\u001b[0;34m,\u001b[0m \u001b[0;34m*\u001b[0m\u001b[0margs\u001b[0m\u001b[0;34m,\u001b[0m \u001b[0;34m**\u001b[0m\u001b[0mkwargs\u001b[0m\u001b[0;34m)\u001b[0m\u001b[0;34m\u001b[0m\u001b[0;34m\u001b[0m\u001b[0m\n\u001b[0m\u001b[1;32m     53\u001b[0m \u001b[0;34m\u001b[0m\u001b[0m\n\u001b[1;32m     54\u001b[0m         \u001b[0;31m# For some readers (e.g., ascii.ecsv), the returned `out` class is not\u001b[0m\u001b[0;34m\u001b[0m\u001b[0;34m\u001b[0m\u001b[0;34m\u001b[0m\u001b[0m\n",
      "\u001b[0;32m/anaconda3/lib/python3.7/site-packages/astropy/io/registry.py\u001b[0m in \u001b[0;36mread\u001b[0;34m(cls, format, *args, **kwargs)\u001b[0m\n\u001b[1;32m    521\u001b[0m \u001b[0;34m\u001b[0m\u001b[0m\n\u001b[1;32m    522\u001b[0m         \u001b[0mreader\u001b[0m \u001b[0;34m=\u001b[0m \u001b[0mget_reader\u001b[0m\u001b[0;34m(\u001b[0m\u001b[0mformat\u001b[0m\u001b[0;34m,\u001b[0m \u001b[0mcls\u001b[0m\u001b[0;34m)\u001b[0m\u001b[0;34m\u001b[0m\u001b[0;34m\u001b[0m\u001b[0m\n\u001b[0;32m--> 523\u001b[0;31m         \u001b[0mdata\u001b[0m \u001b[0;34m=\u001b[0m \u001b[0mreader\u001b[0m\u001b[0;34m(\u001b[0m\u001b[0;34m*\u001b[0m\u001b[0margs\u001b[0m\u001b[0;34m,\u001b[0m \u001b[0;34m**\u001b[0m\u001b[0mkwargs\u001b[0m\u001b[0;34m)\u001b[0m\u001b[0;34m\u001b[0m\u001b[0;34m\u001b[0m\u001b[0m\n\u001b[0m\u001b[1;32m    524\u001b[0m \u001b[0;34m\u001b[0m\u001b[0m\n\u001b[1;32m    525\u001b[0m         \u001b[0;32mif\u001b[0m \u001b[0;32mnot\u001b[0m \u001b[0misinstance\u001b[0m\u001b[0;34m(\u001b[0m\u001b[0mdata\u001b[0m\u001b[0;34m,\u001b[0m \u001b[0mcls\u001b[0m\u001b[0;34m)\u001b[0m\u001b[0;34m:\u001b[0m\u001b[0;34m\u001b[0m\u001b[0;34m\u001b[0m\u001b[0m\n",
      "\u001b[0;32m/anaconda3/lib/python3.7/site-packages/astropy/io/ascii/connect.py\u001b[0m in \u001b[0;36mio_read\u001b[0;34m(format, filename, **kwargs)\u001b[0m\n\u001b[1;32m     17\u001b[0m         \u001b[0mformat\u001b[0m \u001b[0;34m=\u001b[0m \u001b[0mre\u001b[0m\u001b[0;34m.\u001b[0m\u001b[0msub\u001b[0m\u001b[0;34m(\u001b[0m\u001b[0;34mr'^ascii\\.'\u001b[0m\u001b[0;34m,\u001b[0m \u001b[0;34m''\u001b[0m\u001b[0;34m,\u001b[0m \u001b[0mformat\u001b[0m\u001b[0;34m)\u001b[0m\u001b[0;34m\u001b[0m\u001b[0;34m\u001b[0m\u001b[0m\n\u001b[1;32m     18\u001b[0m         \u001b[0mkwargs\u001b[0m\u001b[0;34m[\u001b[0m\u001b[0;34m'format'\u001b[0m\u001b[0;34m]\u001b[0m \u001b[0;34m=\u001b[0m \u001b[0mformat\u001b[0m\u001b[0;34m\u001b[0m\u001b[0;34m\u001b[0m\u001b[0m\n\u001b[0;32m---> 19\u001b[0;31m     \u001b[0;32mreturn\u001b[0m \u001b[0mread\u001b[0m\u001b[0;34m(\u001b[0m\u001b[0mfilename\u001b[0m\u001b[0;34m,\u001b[0m \u001b[0;34m**\u001b[0m\u001b[0mkwargs\u001b[0m\u001b[0;34m)\u001b[0m\u001b[0;34m\u001b[0m\u001b[0;34m\u001b[0m\u001b[0m\n\u001b[0m\u001b[1;32m     20\u001b[0m \u001b[0;34m\u001b[0m\u001b[0m\n\u001b[1;32m     21\u001b[0m \u001b[0;34m\u001b[0m\u001b[0m\n",
      "\u001b[0;32m/anaconda3/lib/python3.7/site-packages/astropy/io/ascii/ui.py\u001b[0m in \u001b[0;36mread\u001b[0;34m(table, guess, **kwargs)\u001b[0m\n\u001b[1;32m    285\u001b[0m         \u001b[0;31m# through below to the non-guess way so that any problems result in a\u001b[0m\u001b[0;34m\u001b[0m\u001b[0;34m\u001b[0m\u001b[0;34m\u001b[0m\u001b[0m\n\u001b[1;32m    286\u001b[0m         \u001b[0;31m# more useful traceback.\u001b[0m\u001b[0;34m\u001b[0m\u001b[0;34m\u001b[0m\u001b[0;34m\u001b[0m\u001b[0m\n\u001b[0;32m--> 287\u001b[0;31m         \u001b[0mdat\u001b[0m \u001b[0;34m=\u001b[0m \u001b[0m_guess\u001b[0m\u001b[0;34m(\u001b[0m\u001b[0mtable\u001b[0m\u001b[0;34m,\u001b[0m \u001b[0mnew_kwargs\u001b[0m\u001b[0;34m,\u001b[0m \u001b[0mformat\u001b[0m\u001b[0;34m,\u001b[0m \u001b[0mfast_reader\u001b[0m\u001b[0;34m)\u001b[0m\u001b[0;34m\u001b[0m\u001b[0;34m\u001b[0m\u001b[0m\n\u001b[0m\u001b[1;32m    288\u001b[0m         \u001b[0;32mif\u001b[0m \u001b[0mdat\u001b[0m \u001b[0;32mis\u001b[0m \u001b[0;32mNone\u001b[0m\u001b[0;34m:\u001b[0m\u001b[0;34m\u001b[0m\u001b[0;34m\u001b[0m\u001b[0m\n\u001b[1;32m    289\u001b[0m             \u001b[0mguess\u001b[0m \u001b[0;34m=\u001b[0m \u001b[0;32mFalse\u001b[0m\u001b[0;34m\u001b[0m\u001b[0;34m\u001b[0m\u001b[0m\n",
      "\u001b[0;32m/anaconda3/lib/python3.7/site-packages/astropy/io/ascii/ui.py\u001b[0m in \u001b[0;36m_guess\u001b[0;34m(table, read_kwargs, format, fast_reader)\u001b[0m\n\u001b[1;32m    444\u001b[0m \u001b[0;34m\u001b[0m\u001b[0m\n\u001b[1;32m    445\u001b[0m             \u001b[0mreader\u001b[0m\u001b[0;34m.\u001b[0m\u001b[0mguessing\u001b[0m \u001b[0;34m=\u001b[0m \u001b[0;32mTrue\u001b[0m\u001b[0;34m\u001b[0m\u001b[0;34m\u001b[0m\u001b[0m\n\u001b[0;32m--> 446\u001b[0;31m             \u001b[0mdat\u001b[0m \u001b[0;34m=\u001b[0m \u001b[0mreader\u001b[0m\u001b[0;34m.\u001b[0m\u001b[0mread\u001b[0m\u001b[0;34m(\u001b[0m\u001b[0mtable\u001b[0m\u001b[0;34m)\u001b[0m\u001b[0;34m\u001b[0m\u001b[0;34m\u001b[0m\u001b[0m\n\u001b[0m\u001b[1;32m    447\u001b[0m             _read_trace.append({'kwargs': copy.deepcopy(guess_kwargs),\n\u001b[1;32m    448\u001b[0m                                 \u001b[0;34m'Reader'\u001b[0m\u001b[0;34m:\u001b[0m \u001b[0mreader\u001b[0m\u001b[0;34m.\u001b[0m\u001b[0m__class__\u001b[0m\u001b[0;34m,\u001b[0m\u001b[0;34m\u001b[0m\u001b[0;34m\u001b[0m\u001b[0m\n",
      "\u001b[0;32m/anaconda3/lib/python3.7/site-packages/astropy/io/ascii/core.py\u001b[0m in \u001b[0;36mread\u001b[0;34m(self, table)\u001b[0m\n\u001b[1;32m   1162\u001b[0m \u001b[0;34m\u001b[0m\u001b[0m\n\u001b[1;32m   1163\u001b[0m         \u001b[0;31m# Get a list of the lines (rows) in the table\u001b[0m\u001b[0;34m\u001b[0m\u001b[0;34m\u001b[0m\u001b[0;34m\u001b[0m\u001b[0m\n\u001b[0;32m-> 1164\u001b[0;31m         \u001b[0mself\u001b[0m\u001b[0;34m.\u001b[0m\u001b[0mlines\u001b[0m \u001b[0;34m=\u001b[0m \u001b[0mself\u001b[0m\u001b[0;34m.\u001b[0m\u001b[0minputter\u001b[0m\u001b[0;34m.\u001b[0m\u001b[0mget_lines\u001b[0m\u001b[0;34m(\u001b[0m\u001b[0mtable\u001b[0m\u001b[0;34m)\u001b[0m\u001b[0;34m\u001b[0m\u001b[0;34m\u001b[0m\u001b[0m\n\u001b[0m\u001b[1;32m   1165\u001b[0m \u001b[0;34m\u001b[0m\u001b[0m\n\u001b[1;32m   1166\u001b[0m         \u001b[0;31m# Set self.data.data_lines to a slice of lines contain the data rows\u001b[0m\u001b[0;34m\u001b[0m\u001b[0;34m\u001b[0m\u001b[0;34m\u001b[0m\u001b[0m\n",
      "\u001b[0;32m/anaconda3/lib/python3.7/site-packages/astropy/io/ascii/core.py\u001b[0m in \u001b[0;36mget_lines\u001b[0;34m(self, table)\u001b[0m\n\u001b[1;32m    303\u001b[0m                     ('\\n' not in table + '' and '\\r' not in table + '')):\n\u001b[1;32m    304\u001b[0m                 with get_readable_fileobj(table,\n\u001b[0;32m--> 305\u001b[0;31m                                           encoding=self.encoding) as fileobj:\n\u001b[0m\u001b[1;32m    306\u001b[0m                     \u001b[0mtable\u001b[0m \u001b[0;34m=\u001b[0m \u001b[0mfileobj\u001b[0m\u001b[0;34m.\u001b[0m\u001b[0mread\u001b[0m\u001b[0;34m(\u001b[0m\u001b[0;34m)\u001b[0m\u001b[0;34m\u001b[0m\u001b[0;34m\u001b[0m\u001b[0m\n\u001b[1;32m    307\u001b[0m             \u001b[0mlines\u001b[0m \u001b[0;34m=\u001b[0m \u001b[0mtable\u001b[0m\u001b[0;34m.\u001b[0m\u001b[0msplitlines\u001b[0m\u001b[0;34m(\u001b[0m\u001b[0;34m)\u001b[0m\u001b[0;34m\u001b[0m\u001b[0;34m\u001b[0m\u001b[0m\n",
      "\u001b[0;32m/anaconda3/lib/python3.7/contextlib.py\u001b[0m in \u001b[0;36m__enter__\u001b[0;34m(self)\u001b[0m\n\u001b[1;32m    110\u001b[0m         \u001b[0;32mdel\u001b[0m \u001b[0mself\u001b[0m\u001b[0;34m.\u001b[0m\u001b[0margs\u001b[0m\u001b[0;34m,\u001b[0m \u001b[0mself\u001b[0m\u001b[0;34m.\u001b[0m\u001b[0mkwds\u001b[0m\u001b[0;34m,\u001b[0m \u001b[0mself\u001b[0m\u001b[0;34m.\u001b[0m\u001b[0mfunc\u001b[0m\u001b[0;34m\u001b[0m\u001b[0;34m\u001b[0m\u001b[0m\n\u001b[1;32m    111\u001b[0m         \u001b[0;32mtry\u001b[0m\u001b[0;34m:\u001b[0m\u001b[0;34m\u001b[0m\u001b[0;34m\u001b[0m\u001b[0m\n\u001b[0;32m--> 112\u001b[0;31m             \u001b[0;32mreturn\u001b[0m \u001b[0mnext\u001b[0m\u001b[0;34m(\u001b[0m\u001b[0mself\u001b[0m\u001b[0;34m.\u001b[0m\u001b[0mgen\u001b[0m\u001b[0;34m)\u001b[0m\u001b[0;34m\u001b[0m\u001b[0;34m\u001b[0m\u001b[0m\n\u001b[0m\u001b[1;32m    113\u001b[0m         \u001b[0;32mexcept\u001b[0m \u001b[0mStopIteration\u001b[0m\u001b[0;34m:\u001b[0m\u001b[0;34m\u001b[0m\u001b[0;34m\u001b[0m\u001b[0m\n\u001b[1;32m    114\u001b[0m             \u001b[0;32mraise\u001b[0m \u001b[0mRuntimeError\u001b[0m\u001b[0;34m(\u001b[0m\u001b[0;34m\"generator didn't yield\"\u001b[0m\u001b[0;34m)\u001b[0m \u001b[0;32mfrom\u001b[0m \u001b[0;32mNone\u001b[0m\u001b[0;34m\u001b[0m\u001b[0;34m\u001b[0m\u001b[0m\n",
      "\u001b[0;32m/anaconda3/lib/python3.7/site-packages/astropy/utils/data.py\u001b[0m in \u001b[0;36mget_readable_fileobj\u001b[0;34m(name_or_obj, encoding, cache, show_progress, remote_timeout)\u001b[0m\n\u001b[1;32m    191\u001b[0m                 \u001b[0mname_or_obj\u001b[0m\u001b[0;34m,\u001b[0m \u001b[0mcache\u001b[0m\u001b[0;34m=\u001b[0m\u001b[0mcache\u001b[0m\u001b[0;34m,\u001b[0m \u001b[0mshow_progress\u001b[0m\u001b[0;34m=\u001b[0m\u001b[0mshow_progress\u001b[0m\u001b[0;34m,\u001b[0m\u001b[0;34m\u001b[0m\u001b[0;34m\u001b[0m\u001b[0m\n\u001b[1;32m    192\u001b[0m                 timeout=remote_timeout)\n\u001b[0;32m--> 193\u001b[0;31m         \u001b[0mfileobj\u001b[0m \u001b[0;34m=\u001b[0m \u001b[0mio\u001b[0m\u001b[0;34m.\u001b[0m\u001b[0mFileIO\u001b[0m\u001b[0;34m(\u001b[0m\u001b[0mname_or_obj\u001b[0m\u001b[0;34m,\u001b[0m \u001b[0;34m'r'\u001b[0m\u001b[0;34m)\u001b[0m\u001b[0;34m\u001b[0m\u001b[0;34m\u001b[0m\u001b[0m\n\u001b[0m\u001b[1;32m    194\u001b[0m         \u001b[0;32mif\u001b[0m \u001b[0mis_url\u001b[0m \u001b[0;32mand\u001b[0m \u001b[0;32mnot\u001b[0m \u001b[0mcache\u001b[0m\u001b[0;34m:\u001b[0m\u001b[0;34m\u001b[0m\u001b[0;34m\u001b[0m\u001b[0m\n\u001b[1;32m    195\u001b[0m             \u001b[0mdelete_fds\u001b[0m\u001b[0;34m.\u001b[0m\u001b[0mappend\u001b[0m\u001b[0;34m(\u001b[0m\u001b[0mfileobj\u001b[0m\u001b[0;34m)\u001b[0m\u001b[0;34m\u001b[0m\u001b[0;34m\u001b[0m\u001b[0m\n",
      "\u001b[0;31mFileNotFoundError\u001b[0m: [Errno 2] No such file or directory: '/Users/elsaducrot/Documents/GitHub/Scheduler_global/Python/Saint-Ex/night_blocks_Saint-Ex_2020-01-03.txt'"
     ]
    }
   ],
   "source": [
    "SPOCKLT.make_np(schedule.date_range[0],10,'Saint-Ex')\n"
   ]
  },
  {
   "cell_type": "code",
   "execution_count": null,
   "metadata": {},
   "outputs": [],
   "source": [
    "SPOCKplot.gantt_chart(schedule.date_range[0],schedule.date_range[1],['Saint-Ex'])"
   ]
  },
  {
   "cell_type": "code",
   "execution_count": 2,
   "metadata": {},
   "outputs": [
    {
     "ename": "NameError",
     "evalue": "name 'Image' is not defined",
     "output_type": "error",
     "traceback": [
      "\u001b[0;31m---------------------------------------------------------------------------\u001b[0m",
      "\u001b[0;31mNameError\u001b[0m                                 Traceback (most recent call last)",
      "\u001b[0;32m<ipython-input-2-dfcb4b904b0d>\u001b[0m in \u001b[0;36m<module>\u001b[0;34m\u001b[0m\n\u001b[0;32m----> 1\u001b[0;31m \u001b[0mi\u001b[0m \u001b[0;34m=\u001b[0m \u001b[0mImage\u001b[0m\u001b[0;34m(\u001b[0m\u001b[0mfilename\u001b[0m\u001b[0;34m=\u001b[0m\u001b[0;34m'logo_SPOCK_2.png'\u001b[0m\u001b[0;34m,\u001b[0m\u001b[0mwidth\u001b[0m\u001b[0;34m=\u001b[0m\u001b[0;36m800\u001b[0m\u001b[0;34m,\u001b[0m \u001b[0mheight\u001b[0m\u001b[0;34m=\u001b[0m\u001b[0;36m500\u001b[0m\u001b[0;34m)\u001b[0m\u001b[0;34m\u001b[0m\u001b[0;34m\u001b[0m\u001b[0m\n\u001b[0m\u001b[1;32m      2\u001b[0m \u001b[0mi\u001b[0m\u001b[0;34m\u001b[0m\u001b[0;34m\u001b[0m\u001b[0m\n",
      "\u001b[0;31mNameError\u001b[0m: name 'Image' is not defined"
     ]
    }
   ],
   "source": [
    "i = Image(filename='logo_SPOCK_2.png',width=800, height=500)\n",
    "i\n"
   ]
  },
  {
   "cell_type": "code",
   "execution_count": 3,
   "metadata": {},
   "outputs": [
    {
     "ename": "NameError",
     "evalue": "name 'SPOCKLS' is not defined",
     "output_type": "error",
     "traceback": [
      "\u001b[0;31m---------------------------------------------------------------------------\u001b[0m",
      "\u001b[0;31mNameError\u001b[0m                                 Traceback (most recent call last)",
      "\u001b[0;32m<ipython-input-3-5046b8a1724d>\u001b[0m in \u001b[0;36m<module>\u001b[0;34m\u001b[0m\n\u001b[0;32m----> 1\u001b[0;31m \u001b[0mschedule\u001b[0m \u001b[0;34m=\u001b[0m \u001b[0mSPOCKLS\u001b[0m\u001b[0;34m.\u001b[0m\u001b[0mschedule\u001b[0m\u001b[0;34m(\u001b[0m\u001b[0;34m)\u001b[0m\u001b[0;34m\u001b[0m\u001b[0;34m\u001b[0m\u001b[0m\n\u001b[0m",
      "\u001b[0;31mNameError\u001b[0m: name 'SPOCKLS' is not defined"
     ]
    }
   ],
   "source": [
    "schedule = SPOCKLS.schedule()"
   ]
  },
  {
   "cell_type": "code",
   "execution_count": 26,
   "metadata": {},
   "outputs": [
    {
     "data": {
      "application/vnd.jupyter.widget-view+json": {
       "model_id": "2199399a0cde4a22adb4e434d26fc982",
       "version_major": 2,
       "version_minor": 0
      },
      "text/plain": [
       "Output(layout=Layout(border='1px solid black'))"
      ]
     },
     "metadata": {},
     "output_type": "display_data"
    }
   ],
   "source": [
    "out = widgets.Output(layout={'border': '1px solid black'})\n",
    "out\n"
   ]
  },
  {
   "cell_type": "code",
   "execution_count": 27,
   "metadata": {
    "scrolled": true
   },
   "outputs": [
    {
     "data": {
      "application/vnd.jupyter.widget-view+json": {
       "model_id": "d0879656d35b427fae008ff5a9f3d900",
       "version_major": 2,
       "version_minor": 0
      },
      "text/plain": [
       "interactive(children=(Dropdown(description='In_list', index=2, options=('TS', 'TN', 'SSO', 'SNO', 'Saint-Ex'),…"
      ]
     },
     "metadata": {},
     "output_type": "display_data"
    }
   ],
   "source": [
    "@widgets.interact_manual(\n",
    "    In_list = ['TS', 'TN', 'SSO','SNO','Saint-Ex'],altitude=5)\n",
    "def do(In_list='SSO', Observatory_not_in_list=False,input_file='input.csv'):\n",
    "    if Observatory_not_in_list:\n",
    "        Altitude_box = widgets.Text(\n",
    "            value=' ',\n",
    "            description='Altitude :',\n",
    "        )\n",
    "        altitude = Altitude_box.value\n",
    "        display(Altitude_box)\n",
    "        Longitude_box = widgets.Text(\n",
    "            value=' ',\n",
    "            description='Longitude :',\n",
    "        )\n",
    "        display(Longitude_box)\n",
    "        Latitude_box = widgets.Text(\n",
    "            value=' ',\n",
    "            description='Latitude :',\n",
    "        )\n",
    "        display(Latitude_box)\n",
    "        Obs_name_box = widgets.Text(\n",
    "            value=' ',\n",
    "        )\n",
    "        display(HBox([Label('Observatory Name :'), Obs_name_box]))\n",
    "                \n",
    "    else:\n",
    "        \n",
    "        schedule.load_parameters(input_file)\n",
    "        df = pd.DataFrame({'Observatory':schedule.observatory.name,'Date start':schedule.date_range[0],'Date end':schedule.date_range[1],'Strategy':schedule.strategy,'Target list':schedule.target_list}, index=[0])\n",
    "        display(df)\n",
    "        schedule.make_schedule()\n",
    "        #day = Time('2019-09-24 15:00:00.000')\n",
    "        #schedule.make_plan_file(day)\n",
    "        fig = SPOCKplots.gantt_chart('plan.txt',schedule.observatory)\n",
    "        plotly.offline.init_notebook_mode()\n",
    "        plotly.offline.iplot(fig, filename='basic-scatter')\n",
    "        offline.plot(fig,auto_open=True,filename='Schedule.html')"
   ]
  },
  {
   "cell_type": "code",
   "execution_count": 28,
   "metadata": {},
   "outputs": [
    {
     "data": {
      "application/vnd.jupyter.widget-view+json": {
       "model_id": "e83b2548d8c042a2bf3d773aa7456411",
       "version_major": 2,
       "version_minor": 0
      },
      "text/plain": [
       "Button(button_style='warning', description='SAVE ?', icon='check', style=ButtonStyle(), tooltip='Save this sch…"
      ]
     },
     "metadata": {},
     "output_type": "display_data"
    }
   ],
   "source": [
    "SAVE = widgets.Button(\n",
    "    value=False,\n",
    "    description='SAVE ?',\n",
    "    disabled=False,\n",
    "    button_style='warning', # 'success', 'info', 'warning', 'danger' or ''\n",
    "    tooltip='Save this schedule',\n",
    "    icon='check'\n",
    ")\n",
    "SAVE.on_click(run_all_code)\n",
    "display(SAVE)"
   ]
  },
  {
   "cell_type": "code",
   "execution_count": null,
   "metadata": {},
   "outputs": [],
   "source": []
  }
 ],
 "metadata": {
  "kernelspec": {
   "display_name": "Python 3",
   "language": "python",
   "name": "python3"
  },
  "language_info": {
   "codemirror_mode": {
    "name": "ipython",
    "version": 3
   },
   "file_extension": ".py",
   "mimetype": "text/x-python",
   "name": "python",
   "nbconvert_exporter": "python",
   "pygments_lexer": "ipython3",
   "version": "3.7.2"
  }
 },
 "nbformat": 4,
 "nbformat_minor": 2
}
