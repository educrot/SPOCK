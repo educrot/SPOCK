{
 "cells": [
  {
   "cell_type": "code",
   "execution_count": 1,
   "metadata": {},
   "outputs": [
    {
     "name": "stderr",
     "output_type": "stream",
     "text": [
      "WARNING: AstropyDeprecationWarning: astropy.extern.six will be removed in 4.0, use the six module directly if it is still needed [astropy.extern.six]\n"
     ]
    },
    {
     "ename": "ModuleNotFoundError",
     "evalue": "No module named 'eScheduler'",
     "output_type": "error",
     "traceback": [
      "\u001b[0;31m---------------------------------------------------------------------------\u001b[0m",
      "\u001b[0;31mModuleNotFoundError\u001b[0m                       Traceback (most recent call last)",
      "\u001b[0;32m<ipython-input-1-37035d5a3c51>\u001b[0m in \u001b[0;36m<module>\u001b[0;34m\u001b[0m\n\u001b[1;32m      2\u001b[0m \u001b[0;34m\u001b[0m\u001b[0m\n\u001b[1;32m      3\u001b[0m \u001b[0;34m\u001b[0m\u001b[0m\n\u001b[0;32m----> 4\u001b[0;31m \u001b[0;32mimport\u001b[0m \u001b[0mlong_term_scheduler\u001b[0m \u001b[0;32mas\u001b[0m \u001b[0mSPOCKLS\u001b[0m\u001b[0;34m\u001b[0m\u001b[0;34m\u001b[0m\u001b[0m\n\u001b[0m\u001b[1;32m      5\u001b[0m \u001b[0;32mfrom\u001b[0m \u001b[0mastropy\u001b[0m \u001b[0;32mimport\u001b[0m \u001b[0munits\u001b[0m \u001b[0;32mas\u001b[0m \u001b[0mu\u001b[0m\u001b[0;34m\u001b[0m\u001b[0;34m\u001b[0m\u001b[0m\n\u001b[1;32m      6\u001b[0m \u001b[0;32mfrom\u001b[0m \u001b[0mastroplan\u001b[0m \u001b[0;32mimport\u001b[0m \u001b[0mAltitudeConstraint\u001b[0m\u001b[0;34m,\u001b[0m \u001b[0mMoonSeparationConstraint\u001b[0m\u001b[0;34m\u001b[0m\u001b[0;34m\u001b[0m\u001b[0m\n",
      "\u001b[0;32m~/code/spock/spock/SPOCK/long_term_scheduler.py\u001b[0m in \u001b[0;36m<module>\u001b[0;34m\u001b[0m\n\u001b[1;32m     11\u001b[0m \u001b[0;31m#download_IERS_A()\u001b[0m\u001b[0;34m\u001b[0m\u001b[0;34m\u001b[0m\u001b[0;34m\u001b[0m\u001b[0m\n\u001b[1;32m     12\u001b[0m \u001b[0;32mfrom\u001b[0m \u001b[0mastroplan\u001b[0m \u001b[0;32mimport\u001b[0m \u001b[0mFixedTarget\u001b[0m\u001b[0;34m,\u001b[0m \u001b[0mAltitudeConstraint\u001b[0m\u001b[0;34m,\u001b[0m \u001b[0mMoonSeparationConstraint\u001b[0m\u001b[0;34m,\u001b[0m\u001b[0mAtNightConstraint\u001b[0m\u001b[0;34m,\u001b[0m\u001b[0mobservability_table\u001b[0m\u001b[0;34m,\u001b[0m \u001b[0mis_observable\u001b[0m\u001b[0;34m,\u001b[0m \u001b[0mmonths_observable\u001b[0m\u001b[0;34m,\u001b[0m\u001b[0mtime_grid_from_range\u001b[0m\u001b[0;34m,\u001b[0m\u001b[0mLocalTimeConstraint\u001b[0m\u001b[0;34m,\u001b[0m \u001b[0mis_always_observable\u001b[0m\u001b[0;34m\u001b[0m\u001b[0;34m\u001b[0m\u001b[0m\n\u001b[0;32m---> 13\u001b[0;31m \u001b[0;32mfrom\u001b[0m \u001b[0meScheduler\u001b[0m\u001b[0;34m.\u001b[0m\u001b[0mspe_schedule\u001b[0m \u001b[0;32mimport\u001b[0m \u001b[0mSPECULOOSScheduler\u001b[0m\u001b[0;34m,\u001b[0m \u001b[0mPriorityScheduler\u001b[0m\u001b[0;34m,\u001b[0m \u001b[0mSchedule\u001b[0m\u001b[0;34m,\u001b[0m \u001b[0mObservingBlock\u001b[0m\u001b[0;34m,\u001b[0m \u001b[0mTransitioner\u001b[0m\u001b[0;34m,\u001b[0m \u001b[0mDateElsa\u001b[0m\u001b[0;34m\u001b[0m\u001b[0;34m\u001b[0m\u001b[0m\n\u001b[0m\u001b[1;32m     14\u001b[0m \u001b[0;32mfrom\u001b[0m \u001b[0mastroplan\u001b[0m \u001b[0;32mimport\u001b[0m \u001b[0mTimeConstraint\u001b[0m\u001b[0;34m\u001b[0m\u001b[0;34m\u001b[0m\u001b[0m\n\u001b[1;32m     15\u001b[0m \u001b[0;32mfrom\u001b[0m \u001b[0mastroplan\u001b[0m \u001b[0;32mimport\u001b[0m \u001b[0mObserver\u001b[0m\u001b[0;34m\u001b[0m\u001b[0;34m\u001b[0m\u001b[0m\n",
      "\u001b[0;31mModuleNotFoundError\u001b[0m: No module named 'eScheduler'"
     ]
    }
   ],
   "source": [
    "\n",
    "\n",
    "\n",
    "import long_term_scheduler as SPOCKLS\n",
    "from astropy import units as u\n",
    "from astroplan import AltitudeConstraint, MoonSeparationConstraint\n",
    "import os.path, time\n",
    "import ETC\n",
    "\n",
    "\n",
    "schedule = SPOCKLS.schedules()\n",
    "# 1 for SSO , 2 for SNO and 3 for Saint-Ex\n",
    "schedule.load_parameters('/Users/elsaducrot/code/spock/input.csv',3)\n",
    "            # texps = []\n",
    "            # for i in range(len(schedule.target_table_spc)):\n",
    "            #     if int(schedule.target_table_spc['SpT'][i])<=9 :\n",
    "            #         spt_type = 'M' + str(int(schedule.target_table_spc['SpT'][i]))\n",
    "            #     elif (int(schedule.target_table_spc['SpT'][i]) == 12) or (int(schedule.target_table_spc['SpT'][i]) == 15) or (int(schedule.target_table_spc['SpT'][i]) == 18):\n",
    "            #         spt_type = 'M' + str(int(schedule.target_table_spc['SpT'][i]) - 10)\n",
    "            #     elif int(schedule.target_table_spc['SpT'][i]) == 10:\n",
    "            #         spt_type = 'M9'\n",
    "            #     elif int(schedule.target_table_spc['SpT'][i]) == 11:\n",
    "            #         spt_type = 'L2'\n",
    "            #     elif int(schedule.target_table_spc['SpT'][i]) == 13:\n",
    "            #         spt_type = 'L2'\n",
    "            #     elif int(schedule.target_table_spc['SpT'][i]) == 14:\n",
    "            #         spt_type = 'L5'\n",
    "            #     filt_ =str(schedule.target_table_spc['Filter'][i])\n",
    "            #     if (filt_  == 'z\\'') or (filt_  == 'r\\'') or (filt_ == 'i\\'') or (filt_  == 'g\\''):\n",
    "            #         filt_ = filt_.replace('\\'','')\n",
    "            #     a = (ETC.etc(mag_val = schedule.target_table_spc['J'][i],mag_band = 'J',spt = spt_type,filt = filt_,airmass = 1.2,moonphase = 0.6,irtf = 0.8,num_tel = 1,seeing = 0.95))\n",
    "            #     texps.append(a.exp_time_calculator(ADUpeak = 33000))\n",
    "            #\n",
    "            # schedule.target_table_spc['texp_spc'] = texps\n",
    "            # df = schedule.target_table_spc.to_pandas()\n",
    "            # df.to_csv('SPECULOOS_target_list_v3.txt',delimiter=' ')\n",
    "            #\n",
    "            # print()"
   ]
  },
  {
   "cell_type": "code",
   "execution_count": null,
   "metadata": {},
   "outputs": [],
   "source": []
  }
 ],
 "metadata": {
  "kernelspec": {
   "display_name": "Python 3",
   "language": "python",
   "name": "python3"
  },
  "language_info": {
   "codemirror_mode": {
    "name": "ipython",
    "version": 3
   },
   "file_extension": ".py",
   "mimetype": "text/x-python",
   "name": "python",
   "nbconvert_exporter": "python",
   "pygments_lexer": "ipython3",
   "version": "3.7.2"
  }
 },
 "nbformat": 4,
 "nbformat_minor": 2
}
