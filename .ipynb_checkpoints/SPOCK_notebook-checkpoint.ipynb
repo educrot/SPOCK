{
 "cells": [
  {
   "cell_type": "code",
   "execution_count": 1,
   "metadata": {},
   "outputs": [
    {
     "name": "stderr",
     "output_type": "stream",
     "text": [
      "WARNING: AstropyDeprecationWarning: astropy.extern.six will be removed in 4.0, use the six module directly if it is still needed [astropy.extern.six]\n"
     ]
    }
   ],
   "source": [
    "import SPOCK.long_term_scheduler as SPOCKLT\n",
    "import SPOCK.short_term_scheduler as SPOCKST\n",
    "import SPOCK.plots_scheduler as SPOCKplot\n",
    "from astropy.time import Time"
   ]
  },
  {
   "cell_type": "markdown",
   "metadata": {},
   "source": [
    "# LONG TERM SCHEDULER"
   ]
  },
  {
   "cell_type": "code",
   "execution_count": 5,
   "metadata": {
    "scrolled": true
   },
   "outputs": [],
   "source": [
    "# ---------------------- LONG TERM SCHEDULER ---------------------\n",
    "schedule = SPOCKLT.schedules()\n",
    "# 1 for SSO , 2 for SNO and 3 for Saint-Ex\n",
    "obs = 1\n",
    "schedule.load_parameters('./input.csv',obs)\n",
    "schedule.make_schedule(Altitude_constraint = 25, Moon_constraint = 30)\n"
   ]
  },
  {
   "cell_type": "code",
   "execution_count": 6,
   "metadata": {
    "scrolled": true
   },
   "outputs": [
    {
     "ename": "ValueError",
     "evalue": "Illegal type <class 'NoneType'> for table item access",
     "output_type": "error",
     "traceback": [
      "\u001b[0;31m---------------------------------------------------------------------------\u001b[0m",
      "\u001b[0;31mValueError\u001b[0m                                Traceback (most recent call last)",
      "\u001b[0;32m<ipython-input-6-93349effc1c7>\u001b[0m in \u001b[0;36m<module>\u001b[0;34m\u001b[0m\n\u001b[0;32m----> 1\u001b[0;31m \u001b[0mdisplay\u001b[0m\u001b[0;34m(\u001b[0m\u001b[0mschedule\u001b[0m\u001b[0;34m.\u001b[0m\u001b[0mtarget_table_spc\u001b[0m\u001b[0;34m[\u001b[0m\u001b[0mschedule\u001b[0m\u001b[0;34m.\u001b[0m\u001b[0midx_first_target\u001b[0m\u001b[0;34m]\u001b[0m\u001b[0;34m)\u001b[0m\u001b[0;34m\u001b[0m\u001b[0;34m\u001b[0m\u001b[0m\n\u001b[0m\u001b[1;32m      2\u001b[0m \u001b[0mdisplay\u001b[0m\u001b[0;34m(\u001b[0m\u001b[0mschedule\u001b[0m\u001b[0;34m.\u001b[0m\u001b[0mtarget_table_spc\u001b[0m\u001b[0;34m[\u001b[0m\u001b[0mschedule\u001b[0m\u001b[0;34m.\u001b[0m\u001b[0midx_second_target\u001b[0m\u001b[0;34m]\u001b[0m\u001b[0;34m)\u001b[0m\u001b[0;34m\u001b[0m\u001b[0;34m\u001b[0m\u001b[0m\n",
      "\u001b[0;32m/anaconda3/lib/python3.7/site-packages/astropy/table/table.py\u001b[0m in \u001b[0;36m__getitem__\u001b[0;34m(self, item)\u001b[0m\n\u001b[1;32m   1374\u001b[0m         \u001b[0;32melse\u001b[0m\u001b[0;34m:\u001b[0m\u001b[0;34m\u001b[0m\u001b[0;34m\u001b[0m\u001b[0m\n\u001b[1;32m   1375\u001b[0m             raise ValueError('Illegal type {0} for table item access'\n\u001b[0;32m-> 1376\u001b[0;31m                              .format(type(item)))\n\u001b[0m\u001b[1;32m   1377\u001b[0m \u001b[0;34m\u001b[0m\u001b[0m\n\u001b[1;32m   1378\u001b[0m     \u001b[0;32mdef\u001b[0m \u001b[0m__setitem__\u001b[0m\u001b[0;34m(\u001b[0m\u001b[0mself\u001b[0m\u001b[0;34m,\u001b[0m \u001b[0mitem\u001b[0m\u001b[0;34m,\u001b[0m \u001b[0mvalue\u001b[0m\u001b[0;34m)\u001b[0m\u001b[0;34m:\u001b[0m\u001b[0;34m\u001b[0m\u001b[0;34m\u001b[0m\u001b[0m\n",
      "\u001b[0;31mValueError\u001b[0m: Illegal type <class 'NoneType'> for table item access"
     ]
    }
   ],
   "source": [
    "display(schedule.target_table_spc[schedule.idx_first_target])\n",
    "display(schedule.target_table_spc[schedule.idx_second_target])\n"
   ]
  },
  {
   "cell_type": "code",
   "execution_count": 7,
   "metadata": {},
   "outputs": [
    {
     "name": "stdout",
     "output_type": "stream",
     "text": [
      "INFO : \"./night_blocks_propositions/night_blocks_Ganymede_2019-12-04.txt\" has been over-written to \"./DATABASE/Ganymede/\"\n",
      "INFO : \"./night_blocks_propositions/night_blocks_Ganymede_2019-12-04.txt\" has been copied to \"./DATABASE/Ganymede/Archive_night_blocks/\"\n"
     ]
    }
   ],
   "source": [
    "SPOCKLT.save_schedule('./input.csv',obs,save=True,over_write=True)"
   ]
  },
  {
   "cell_type": "code",
   "execution_count": 8,
   "metadata": {},
   "outputs": [
    {
     "name": "stdout",
     "output_type": "stream",
     "text": [
      "2019-12-04 15:00:00.000 1 Ganymede\n",
      "Ganymede\n",
      "./DATABASE/Ganymede/Plans_by_date/2019-12-04\n",
      "   target       start time (UTC)    ...      configuration     \n",
      "----------- ----------------------- ... -----------------------\n",
      "Sp0417-0800 2019-12-05 00:15:20.020 ... {'texp=46', 'filt=I+z'}\n",
      "avant : I+z\n",
      "apres : I+z 46\n",
      "./DATABASE/Ganymede/Plans_by_date\n",
      "0 1\n",
      "Sp0417-0800\n",
      "[226]\n",
      "4h17m37.498392000001886s -8d0m0.599040000004436s\n",
      "-8.000166400000001 -0.1396292443874217\n",
      "str(filt) {0: 'I+z'}\n",
      "-----> 2019-12-04 uploaded on the HUB for Ganymede\n",
      "speculoos@appcs.ra.phy.cam.ac.uk:/appct/data/SPECULOOSPipeline/Ganymede/schedule\n",
      "./DATABASE/Ganymede/Plans_by_date/\n",
      "./DATABASE/Ganymede/Archive_night_blocks/\n"
     ]
    }
   ],
   "source": [
    "day = Time('2019-12-04 15:00:00.000')\n",
    "SPOCKLT.make_np(day,1,schedule.telescope)\n",
    "SPOCKLT.upload_plans(day, nb_days=1,telescope = schedule.telescope)"
   ]
  },
  {
   "cell_type": "markdown",
   "metadata": {
    "heading_collapsed": true
   },
   "source": [
    "# SHORT TERM SCHEDULER"
   ]
  },
  {
   "cell_type": "code",
   "execution_count": 17,
   "metadata": {
    "hidden": true
   },
   "outputs": [
    {
     "name": "stdout",
     "output_type": "stream",
     "text": [
      "target_transit ['2019-12-03 19:26:33.176']\n",
      "start_transit 2019-12-03 18:13:23.133\n",
      "end_transit 2019-12-03 20:39:45.219\n"
     ]
    },
    {
     "name": "stderr",
     "output_type": "stream",
     "text": [
      "WARNING: OldEarthOrientationDataWarning: For best precision (on the order of arcseconds), you must download an up-to-date IERS Bulletin A table. To do so, run:\n",
      "\n",
      ">>> from astroplan import download_IERS_A\n",
      ">>> download_IERS_A()\n",
      " [eScheduler.utils]\n"
     ]
    },
    {
     "name": "stdout",
     "output_type": "stream",
     "text": [
      "block <eScheduler.spe_schedule.ObservingBlock (Trappist-1b, unscheduled) at 0x1286f05f8>\n",
      "2019-12-03 18:13:23.133 2019-12-03 20:39:45.219\n",
      "target_transit ['2019-12-05 13:42:42.513']\n",
      "pas de transit ce jour\n",
      "target_transit ['2019-12-06 18:43:58.520']\n"
     ]
    },
    {
     "name": "stderr",
     "output_type": "stream",
     "text": [
      "WARNING: OldEarthOrientationDataWarning: For best precision (on the order of arcseconds), you must download an up-to-date IERS Bulletin A table. To do so, run:\n",
      "\n",
      ">>> from astroplan import download_IERS_A\n",
      ">>> download_IERS_A()\n",
      " [eScheduler.utils]\n"
     ]
    },
    {
     "name": "stdout",
     "output_type": "stream",
     "text": [
      "start_transit 2019-12-06 16:38:32.577\n",
      "end_transit 2019-12-06 20:49:26.463\n",
      "block <eScheduler.spe_schedule.ObservingBlock (Trappist-1d, unscheduled) at 0x11c5bcef0>\n",
      "2019-12-06 16:38:32.577 2019-12-06 20:49:26.463\n",
      "target_transit ['2019-12-07 21:43:16.616']\n",
      "start_transit 2019-12-07 19:46:58.585\n",
      "end_transit 2019-12-07 23:39:36.647\n"
     ]
    },
    {
     "name": "stderr",
     "output_type": "stream",
     "text": [
      "WARNING: OldEarthOrientationDataWarning: For best precision (on the order of arcseconds), you must download an up-to-date IERS Bulletin A table. To do so, run:\n",
      "\n",
      ">>> from astroplan import download_IERS_A\n",
      ">>> download_IERS_A()\n",
      " [eScheduler.utils]\n"
     ]
    },
    {
     "name": "stdout",
     "output_type": "stream",
     "text": [
      "block <eScheduler.spe_schedule.ObservingBlock (Trappist-1e, unscheduled) at 0x127f5c550>\n",
      "2019-12-07 19:46:58.585 2019-12-07 23:39:36.647\n",
      "target_transit ['2019-12-04 14:13:39.080']\n",
      "pas de transit ce jour\n",
      "target_transit ['2019-12-09 04:06:39.493']\n",
      "pas de transit ce jour\n",
      "target_transit ['2019-12-08 16:01:33.118']\n",
      "pas de transit ce jour\n",
      "/Users/elsaducrot/Documents/GitHub/Scheduler_global/Python/Artemis/night_blocks_Artemis_2019-12-03.txt\n"
     ]
    },
    {
     "name": "stderr",
     "output_type": "stream",
     "text": [
      "WARNING: OldEarthOrientationDataWarning: For best precision (on the order of arcseconds), you must download an up-to-date IERS Bulletin A table. To do so, run:\n",
      "\n",
      ">>> from astroplan import download_IERS_A\n",
      ">>> download_IERS_A()\n",
      " [eScheduler.utils]\n"
     ]
    },
    {
     "ename": "SystemExit",
     "evalue": "WARNING : No block to insert !",
     "output_type": "error",
     "traceback": [
      "An exception has occurred, use %tb to see the full traceback.\n",
      "\u001b[0;31mSystemExit\u001b[0m\u001b[0;31m:\u001b[0m WARNING : No block to insert !\n"
     ]
    },
    {
     "name": "stderr",
     "output_type": "stream",
     "text": [
      "/anaconda3/lib/python3.7/site-packages/IPython/core/interactiveshell.py:3299: UserWarning:\n",
      "\n",
      "To exit: use 'exit', 'quit', or Ctrl-D.\n",
      "\n"
     ]
    }
   ],
   "source": [
    "# ---------------------- SHORT TERM SCHEDULER ---------------------\n",
    "obs = 2\n",
    "schedule = SPOCKST.schedules()\n",
    "schedule.load_parameters('input_short_term.csv',obs)\n",
    "\n",
    "if schedule.use == 'follow_up':\n",
    "    schedule.transit_follow_up('target_dynamical_follow_up.txt')\n",
    "if schedule.use == 'special_start_end':\n",
    "    input_name = 'Sp0755-2404'\n",
    "    schedule.special_target_with_start_end(input_name)\n",
    "if schedule.use == 'special':\n",
    "    input_name = 'Sp0000-1245'\n",
    "    schedule.special_target(input_name)\n",
    "if schedule.use == 'monitoring':\n",
    "    input_name = 'Sp0755-2404'\n",
    "    schedule.monitoring(input_name,5,61)\n",
    "\n",
    "schedule.make_scheduled_table()\n",
    "schedule.planification()\n",
    "schedule.make_night_block()\n",
    "SPOCKST.make_np(day=schedule.day_of_night,nb_jours=1,telescope=schedule.telescope)\n"
   ]
  },
  {
   "cell_type": "markdown",
   "metadata": {},
   "source": [
    "# PLOT SCHEDULER"
   ]
  },
  {
   "cell_type": "code",
   "execution_count": 30,
   "metadata": {
    "scrolled": false
   },
   "outputs": [
    {
     "data": {
      "image/png": "[encoded data removed]",
      "text/plain": [
       "<Figure size 432x288 with 1 Axes>"
      ]
     },
     "metadata": {
      "needs_background": "light"
     },
     "output_type": "display_data"
    }
   ],
   "source": [
    "# ---------------------- PLOT SCHEDULER ---------------------\n",
    "#day = Time('2019-11-01 15:00:00.000')\n",
    "SPOCKplot.airmass_plot('SSO','Ganymede',day)\n",
    "#SPOCKplot.airmass_altitude_plot('SSO','Io',day)\n",
    "#SPOCKplot.gantt_chart(day,day+10,['Artemis'])\n",
    "#SPOCKplot.gantt_chart_all(schedule.target_list)\n"
   ]
  },
  {
   "cell_type": "code",
   "execution_count": 5,
   "metadata": {},
   "outputs": [],
   "source": [
    "SPOCKplot.gantt_chart_all(schedule.target_list)"
   ]
  },
  {
   "cell_type": "code",
   "execution_count": 4,
   "metadata": {},
   "outputs": [],
   "source": [
    "SPOCKplot.gantt_chart(day-1,day+1,['Artemis'])"
   ]
  },
  {
   "cell_type": "code",
   "execution_count": null,
   "metadata": {},
   "outputs": [],
   "source": []
  }
 ],
 "metadata": {
  "kernelspec": {
   "display_name": "Python 3",
   "language": "python",
   "name": "python3"
  },
  "language_info": {
   "codemirror_mode": {
    "name": "ipython",
    "version": 3
   },
   "file_extension": ".py",
   "mimetype": "text/x-python",
   "name": "python",
   "nbconvert_exporter": "python",
   "pygments_lexer": "ipython3",
   "version": "3.7.2"
  }
 },
 "nbformat": 4,
 "nbformat_minor": 2
}
