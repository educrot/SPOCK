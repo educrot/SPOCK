{
 "cells": [
  {
   "cell_type": "code",
   "execution_count": 1,
   "metadata": {
    "scrolled": true
   },
   "outputs": [
    {
     "name": "stderr",
     "output_type": "stream",
     "text": [
      "WARNING: AstropyDeprecationWarning: astropy.extern.six will be removed in 4.0, use the six module directly if it is still needed [astropy.extern.six]\n"
     ]
    }
   ],
   "source": [
    "import SPOCK.long_term_scheduler as SPOCKLT\n",
    "import SPOCK.short_term_scheduler as SPOCKST\n",
    "import SPOCK.plots_scheduler as SPOCKplot\n",
    "from astropy.time import Time"
   ]
  },
  {
   "cell_type": "markdown",
   "metadata": {},
   "source": [
    "# LONG TERM SCHEDULER"
   ]
  },
  {
   "cell_type": "code",
   "execution_count": 4,
   "metadata": {
    "scrolled": true
   },
   "outputs": [
    {
     "name": "stdout",
     "output_type": "stream",
     "text": [
      "INFO: day number =  0\n"
     ]
    },
    {
     "name": "stderr",
     "output_type": "stream",
     "text": [
      "b'Skipping line 6: expected 4 fields, saw 10\\n'\n"
     ]
    },
    {
     "name": "stdout",
     "output_type": "stream",
     "text": [
      "WARNING: No plans on Europa on the 2019-12-05\n"
     ]
    },
    {
     "name": "stderr",
     "output_type": "stream",
     "text": [
      "b'Skipping line 6: expected 4 fields, saw 10\\n'\n",
      "b'Skipping line 6: expected 4 fields, saw 10\\n'\n"
     ]
    },
    {
     "name": "stdout",
     "output_type": "stream",
     "text": [
      "WARNING: No plans on Ganymede on the 2019-12-05\n",
      "WARNING: No plans on Callisto on the 2019-12-05\n",
      "INFO: Targets on other SSO:  []\n",
      "INFO: Targets on SNO:  ['Sp0419+4233', 'Sp0829+2646', 'Sp0419+4233', 'Sp0626+3454']\n"
     ]
    },
    {
     "name": "stderr",
     "output_type": "stream",
     "text": [
      "WARNING: OldEarthOrientationDataWarning: For best precision (on the order of arcseconds), you must download an up-to-date IERS Bulletin A table. To do so, run:\n",
      "\n",
      ">>> from astroplan import download_IERS_A\n",
      ">>> download_IERS_A()\n",
      " [eScheduler.utils]\n",
      "WARNING: OldEarthOrientationDataWarning: For best precision (on the order of arcseconds), you must download an up-to-date IERS Bulletin A table. To do so, run:\n",
      "\n",
      ">>> from astroplan import download_IERS_A\n",
      ">>> download_IERS_A()\n",
      " [eScheduler.utils]\n"
     ]
    },
    {
     "name": "stdout",
     "output_type": "stream",
     "text": [
      "INFO: 2nd = 1ere \n",
      "INFO: First target is 'both'\n",
      "INFO: no transition block\n"
     ]
    },
    {
     "name": "stderr",
     "output_type": "stream",
     "text": [
      "WARNING: OldEarthOrientationDataWarning: For best precision (on the order of arcseconds), you must download an up-to-date IERS Bulletin A table. To do so, run:\n",
      "\n",
      ">>> from astroplan import download_IERS_A\n",
      ">>> download_IERS_A()\n",
      " [eScheduler.utils]\n",
      "WARNING: OldEarthOrientationDataWarning: For best precision (on the order of arcseconds), you must download an up-to-date IERS Bulletin A table. To do so, run:\n",
      "\n",
      ">>> from astroplan import download_IERS_A\n",
      ">>> download_IERS_A()\n",
      " [eScheduler.utils]\n"
     ]
    }
   ],
   "source": [
    "# ---------------------- LONG TERM SCHEDULER ---------------------\n",
    "schedule = SPOCKLT.schedules()\n",
    "# 1 for SSO , 2 for SNO and 3 for Saint-Ex\n",
    "obs = 1\n",
    "schedule.load_parameters('./input.csv',obs)\n",
    "schedule.make_schedule(Altitude_constraint = 25, Moon_constraint = 30)\n"
   ]
  },
  {
   "cell_type": "code",
   "execution_count": 5,
   "metadata": {
    "scrolled": true
   },
   "outputs": [
    {
     "data": {
      "text/html": [
       "<i>Row index=245 masked=True</i>\n",
       "<table id=\"table4932173272\">\n",
       "<thead><tr><th>Sp_ID</th><th>2MASS_ID</th><th>Gaia_ID</th><th>Filter</th><th>texp_spc</th><th>nb_hours_surved</th><th>nb_hours_threshold</th><th>RA</th><th>DEC</th><th>G</th><th>I</th><th>J</th><th>H</th><th>K</th><th>Dis</th><th>e_Dis</th><th>M</th><th>e_M</th><th>R</th><th>e_R</th><th>T_eff</th><th>e_Teff</th><th>SpT</th><th>e_Spt</th><th>SNR_T1b</th><th>SNR_JWST_HZ_tr</th><th>SNR_JWST_HZ_occ</th><th>telescope</th><th>prog</th><th>Note</th></tr></thead>\n",
       "<thead><tr><th>str11</th><th>str16</th><th>int64</th><th>str3</th><th>int64</th><th>float64</th><th>int64</th><th>float64</th><th>float64</th><th>float64</th><th>float64</th><th>float64</th><th>float64</th><th>float64</th><th>float64</th><th>float64</th><th>float64</th><th>float64</th><th>float64</th><th>float64</th><th>float64</th><th>float64</th><th>float64</th><th>float64</th><th>float64</th><th>float64</th><th>float64</th><th>str16</th><th>int64</th><th>str19</th></tr></thead>\n",
       "<tr><td>Sp0440-0530</td><td>04402325-0530082</td><td>3200303384927512960</td><td>I+z</td><td>11</td><td>100.38365879809857</td><td>200</td><td>70.0969905</td><td>-5.5022581</td><td>14.93</td><td>12.76</td><td>10.66</td><td>9.99</td><td>9.54</td><td>9.7595</td><td>0.0101</td><td>0.1</td><td>0.02</td><td>0.11</td><td>0.01</td><td>2714.0</td><td>105.0</td><td>6.8</td><td>1.1</td><td>19.4</td><td>6.32</td><td>3.5</td><td>Io</td><td>1</td><td>Prio_target</td></tr>\n",
       "</table>"
      ],
      "text/plain": [
       "<Row index=245 masked=True>\n",
       "   Sp_ID        2MASS_ID           Gaia_ID       Filter texp_spc  nb_hours_surved   nb_hours_threshold     RA        DEC        G       I       J       H       K      Dis    e_Dis     M      e_M      R      e_R    T_eff   e_Teff   SpT    e_Spt  SNR_T1b SNR_JWST_HZ_tr SNR_JWST_HZ_occ telescope  prog     Note   \n",
       "   str11         str16              int64         str3   int64        float64             int64         float64    float64   float64 float64 float64 float64 float64 float64 float64 float64 float64 float64 float64 float64 float64 float64 float64 float64    float64         float64       str16   int64    str19   \n",
       "----------- ---------------- ------------------- ------ -------- ------------------ ------------------ ---------- ---------- ------- ------- ------- ------- ------- ------- ------- ------- ------- ------- ------- ------- ------- ------- ------- ------- -------------- --------------- --------- ----- -----------\n",
       "Sp0440-0530 04402325-0530082 3200303384927512960    I+z       11 100.38365879809857                200 70.0969905 -5.5022581   14.93   12.76   10.66    9.99    9.54  9.7595  0.0101     0.1    0.02    0.11    0.01  2714.0   105.0     6.8     1.1    19.4           6.32             3.5        Io     1 Prio_target"
      ]
     },
     "metadata": {},
     "output_type": "display_data"
    },
    {
     "data": {
      "text/html": [
       "<i>Row index=245 masked=True</i>\n",
       "<table id=\"table4932173272\">\n",
       "<thead><tr><th>Sp_ID</th><th>2MASS_ID</th><th>Gaia_ID</th><th>Filter</th><th>texp_spc</th><th>nb_hours_surved</th><th>nb_hours_threshold</th><th>RA</th><th>DEC</th><th>G</th><th>I</th><th>J</th><th>H</th><th>K</th><th>Dis</th><th>e_Dis</th><th>M</th><th>e_M</th><th>R</th><th>e_R</th><th>T_eff</th><th>e_Teff</th><th>SpT</th><th>e_Spt</th><th>SNR_T1b</th><th>SNR_JWST_HZ_tr</th><th>SNR_JWST_HZ_occ</th><th>telescope</th><th>prog</th><th>Note</th></tr></thead>\n",
       "<thead><tr><th>str11</th><th>str16</th><th>int64</th><th>str3</th><th>int64</th><th>float64</th><th>int64</th><th>float64</th><th>float64</th><th>float64</th><th>float64</th><th>float64</th><th>float64</th><th>float64</th><th>float64</th><th>float64</th><th>float64</th><th>float64</th><th>float64</th><th>float64</th><th>float64</th><th>float64</th><th>float64</th><th>float64</th><th>float64</th><th>float64</th><th>float64</th><th>str16</th><th>int64</th><th>str19</th></tr></thead>\n",
       "<tr><td>Sp0440-0530</td><td>04402325-0530082</td><td>3200303384927512960</td><td>I+z</td><td>11</td><td>100.38365879809857</td><td>200</td><td>70.0969905</td><td>-5.5022581</td><td>14.93</td><td>12.76</td><td>10.66</td><td>9.99</td><td>9.54</td><td>9.7595</td><td>0.0101</td><td>0.1</td><td>0.02</td><td>0.11</td><td>0.01</td><td>2714.0</td><td>105.0</td><td>6.8</td><td>1.1</td><td>19.4</td><td>6.32</td><td>3.5</td><td>Io</td><td>1</td><td>Prio_target</td></tr>\n",
       "</table>"
      ],
      "text/plain": [
       "<Row index=245 masked=True>\n",
       "   Sp_ID        2MASS_ID           Gaia_ID       Filter texp_spc  nb_hours_surved   nb_hours_threshold     RA        DEC        G       I       J       H       K      Dis    e_Dis     M      e_M      R      e_R    T_eff   e_Teff   SpT    e_Spt  SNR_T1b SNR_JWST_HZ_tr SNR_JWST_HZ_occ telescope  prog     Note   \n",
       "   str11         str16              int64         str3   int64        float64             int64         float64    float64   float64 float64 float64 float64 float64 float64 float64 float64 float64 float64 float64 float64 float64 float64 float64 float64    float64         float64       str16   int64    str19   \n",
       "----------- ---------------- ------------------- ------ -------- ------------------ ------------------ ---------- ---------- ------- ------- ------- ------- ------- ------- ------- ------- ------- ------- ------- ------- ------- ------- ------- ------- -------------- --------------- --------- ----- -----------\n",
       "Sp0440-0530 04402325-0530082 3200303384927512960    I+z       11 100.38365879809857                200 70.0969905 -5.5022581   14.93   12.76   10.66    9.99    9.54  9.7595  0.0101     0.1    0.02    0.11    0.01  2714.0   105.0     6.8     1.1    19.4           6.32             3.5        Io     1 Prio_target"
      ]
     },
     "metadata": {},
     "output_type": "display_data"
    }
   ],
   "source": [
    "display(schedule.target_table_spc[schedule.idx_first_target])\n",
    "display(schedule.target_table_spc[schedule.idx_second_target])\n"
   ]
  },
  {
   "cell_type": "code",
   "execution_count": 6,
   "metadata": {},
   "outputs": [
    {
     "name": "stdout",
     "output_type": "stream",
     "text": [
      "INFO : \"./night_blocks_propositions/night_blocks_Io_2019-12-05.txt\" has been over-written to \"./DATABASE/Io/\"\n",
      "INFO : \"./night_blocks_propositions/night_blocks_Io_2019-12-05.txt\" has been copied to \"./DATABASE/Io/Archive_night_blocks/\"\n"
     ]
    }
   ],
   "source": [
    "SPOCKLT.save_schedule('./input.csv',obs,save=True,over_write=True)"
   ]
  },
  {
   "cell_type": "code",
   "execution_count": 8,
   "metadata": {},
   "outputs": [
    {
     "name": "stdout",
     "output_type": "stream",
     "text": [
      "2019-12-05 15:00:00.000 1 Io\n",
      "Io\n",
      "./DATABASE/Io/Plans_by_date/2019-12-05\n",
      "   target       start time (UTC)    ...      configuration     \n",
      "----------- ----------------------- ... -----------------------\n",
      "Sp0440-0530 2019-12-06 00:16:00.020 ... {'filt=I+z', 'texp=11'}\n",
      "avant : I+z\n",
      "apres : I+z 11\n",
      "./DATABASE/Io/Plans_by_date\n",
      "0 1\n",
      "Sp0440-0530\n",
      "[245]\n",
      "4h40m23.277720000003512s -5d30m8.129159999998947s\n",
      "-5.5022581 -0.0960325201395274\n",
      "str(filt) {0: 'I+z'}\n",
      "-----> 2019-12-05 uploaded on the HUB for Io\n",
      "INFO: Path database =  speculoos@appcs.ra.phy.cam.ac.uk:/appct/data/SPECULOOSPipeline/Io/schedule\n",
      "INFO: Path local 'Plans_by_day' =  ./DATABASE/Io/Plans_by_date/\n",
      "INFO: Path local 'Archive_night_blocks' =  ./DATABASE/Io/Archive_night_blocks/\n"
     ]
    }
   ],
   "source": [
    "day = Time('2019-12-05 15:00:00.000')\n",
    "SPOCKLT.make_np(day,1,schedule.telescope)\n",
    "SPOCKLT.upload_plans(day, nb_days=1,telescope = schedule.telescope)"
   ]
  },
  {
   "cell_type": "markdown",
   "metadata": {},
   "source": [
    "# SHORT TERM SCHEDULER"
   ]
  },
  {
   "cell_type": "code",
   "execution_count": 7,
   "metadata": {},
   "outputs": [
    {
     "name": "stderr",
     "output_type": "stream",
     "text": [
      "WARNING: OldEarthOrientationDataWarning: For best precision (on the order of arcseconds), you must download an up-to-date IERS Bulletin A table. To do so, run:\n",
      "\n",
      ">>> from astroplan import download_IERS_A\n",
      ">>> download_IERS_A()\n",
      " [eScheduler.utils]\n",
      "/Users/elsaducrot/spock_2/SPOCK/short_term_scheduler.py:177: StringTruncateWarning:\n",
      "\n",
      "truncated right side string(s) longer than 9 character(s) during assignment\n",
      "\n"
     ]
    },
    {
     "name": "stdout",
     "output_type": "stream",
     "text": [
      "./DATABASE/Io/night_blocks_Io_2019-12-05.txt\n",
      "case2\n",
      "no transition block\n"
     ]
    },
    {
     "name": "stderr",
     "output_type": "stream",
     "text": [
      "WARNING: OldEarthOrientationDataWarning: For best precision (on the order of arcseconds), you must download an up-to-date IERS Bulletin A table. To do so, run:\n",
      "\n",
      ">>> from astroplan import download_IERS_A\n",
      ">>> download_IERS_A()\n",
      " [eScheduler.utils]\n"
     ]
    },
    {
     "data": {
      "text/html": [
       "<i>Table length=3</i>\n",
       "<table id=\"table5010322880\" class=\"table-striped table-bordered table-condensed\">\n",
       "<thead><tr><th>target</th><th>start time (UTC)</th><th>end time (UTC)</th><th>duration (minutes)</th><th>ra (h)</th><th>ra (m)</th><th>ra (s)</th><th>dec (d)</th><th>dec (m)</th><th>dec (s)</th><th>configuration</th></tr></thead>\n",
       "<thead><tr><th>str11</th><th>str23</th><th>str23</th><th>float64</th><th>float64</th><th>float64</th><th>float64</th><th>float64</th><th>float64</th><th>float64</th><th>str23</th></tr></thead>\n",
       "<tr><td>Sp0440-0530</td><td>2019-12-06 00:16:00.020</td><td>2019-12-06 00:16:20.020</td><td>0.33333333333327886</td><td>4.0</td><td>40.0</td><td>23.277720000003512</td><td>-5.0</td><td>-30.0</td><td>-8.129159999998947</td><td>{&apos;filt=I+z&apos;, &apos;texp=11&apos;}</td></tr>\n",
       "<tr><td>TIC_2065443</td><td>2019-12-06 00:16:20.020</td><td>2019-12-06 06:33:40.020</td><td>377.33333333333337</td><td>1.0</td><td>13.0</td><td>40.522560000000425</td><td>-59.0</td><td>-39.0</td><td>-35.06399999999758</td><td>{&quot;filt=z&apos;&quot;, &apos;texp=3.124</td></tr>\n",
       "<tr><td>_2</td><td>2019-12-06 06:33:40.020</td><td>2019-12-06 08:43:40.020</td><td>130.00000000000003</td><td>4.0</td><td>40.0</td><td>23.277720000003512</td><td>-5.0</td><td>-30.0</td><td>-8.129159999998947</td><td>{&apos;filt=I+z&apos;, &apos;texp=11&apos;}</td></tr>\n",
       "</table>"
      ],
      "text/plain": [
       "<Table length=3>\n",
       "   target       start time (UTC)    ...      configuration     \n",
       "   str11             str23          ...          str23         \n",
       "----------- ----------------------- ... -----------------------\n",
       "Sp0440-0530 2019-12-06 00:16:00.020 ... {'filt=I+z', 'texp=11'}\n",
       "TIC_2065443 2019-12-06 00:16:20.020 ... {\"filt=z'\", 'texp=3.124\n",
       "         _2 2019-12-06 06:33:40.020 ... {'filt=I+z', 'texp=11'}"
      ]
     },
     "execution_count": 7,
     "metadata": {},
     "output_type": "execute_result"
    }
   ],
   "source": [
    "# ---------------------- SHORT TERM SCHEDULER ---------------------\n",
    "obs = 1\n",
    "\n",
    "schedule = SPOCKST.schedules()\n",
    "schedule.load_parameters('./input_short_term.csv',obs)\n",
    "\n",
    "if schedule.use == 'follow_up':\n",
    "    schedule.transit_follow_up('traget_list_special.txt')\n",
    "if schedule.use == 'special_start_end':\n",
    "    input_name = 'Sp0755-2404'\n",
    "    schedule.special_target_with_start_end(input_name)\n",
    "if schedule.use == 'special':\n",
    "    input_name = 'TIC_206544316'\n",
    "    schedule.special_target(input_name)\n",
    "if schedule.use == 'monitoring':\n",
    "    input_name = 'Sp0755-2404'\n",
    "    schedule.monitoring(input_name,5,61)\n",
    "\n",
    "schedule.make_scheduled_table()\n",
    "schedule.planification()\n",
    "schedule.make_night_block()\n",
    "schedule.scheduled_table_sorted\n",
    "\n",
    "#SPOCKST.make_plans(day=schedule.day_of_night[0],nb_days=1,telescope=schedule.telescope)\n"
   ]
  },
  {
   "cell_type": "code",
   "execution_count": 9,
   "metadata": {},
   "outputs": [
    {
     "name": "stdout",
     "output_type": "stream",
     "text": [
      "INFO : \"./night_blocks_propositions/night_blocks_Io_2019-12-05.txt\" has been over-written to \"./DATABASE/Io/\"\n",
      "INFO : \"./night_blocks_propositions/night_blocks_Io_2019-12-05.txt\" has been over-written to \"./DATABASE/Io/Archive_night_blocks/\"\n"
     ]
    }
   ],
   "source": [
    "SPOCKST.save_schedule('./input_short_term.csv',obs,save=True,over_write =True)"
   ]
  },
  {
   "cell_type": "code",
   "execution_count": 4,
   "metadata": {},
   "outputs": [
    {
     "data": {
      "text/plain": [
       "(<Time object: scale='utc' format='iso' value=['2019-12-04 15:00:00.000']>,\n",
       " <Time object: scale='utc' format='iso' value=2019-12-04 15:00:00.000>)"
      ]
     },
     "execution_count": 4,
     "metadata": {},
     "output_type": "execute_result"
    }
   ],
   "source": [
    "day = Time('2019-12-05 15:00:00.000')\n",
    "t0=Time(day)\n",
    "nb_day = 1\n",
    "dt=Time('2018-01-02 00:00:00',scale='tcg')-Time('2018-01-01 00:00:00',scale='tcg') #1 day\n",
    "t_now = Time(t0+ nb_day*dt, scale='utc', out_subfmt='date').tt.datetime.strftime(\"%Y-%m-%d\")\n",
    "schedule.day_of_night,day"
   ]
  },
  {
   "cell_type": "markdown",
   "metadata": {
    "heading_collapsed": true
   },
   "source": [
    "# PLOT SCHEDULER"
   ]
  },
  {
   "cell_type": "code",
   "execution_count": 8,
   "metadata": {
    "hidden": true,
    "scrolled": false
   },
   "outputs": [
    {
     "data": {
      "image/png": "[encoded data removed]",
      "text/plain": [
       "<Figure size 432x288 with 1 Axes>"
      ]
     },
     "metadata": {
      "needs_background": "light"
     },
     "output_type": "display_data"
    }
   ],
   "source": [
    "# ---------------------- PLOT SCHEDULER ---------------------\n",
    "import matplotlib.pyplot as plt\n",
    "day = Time('2019-12-04 15:00:00.000')\n",
    "SPOCKplot.airmass_plot_saved('SSO','Ganymede',day)\n",
    "#SPOCKplot.airmass_plot_proposition('SSO','Ganymede',day)\n",
    "#SPOCKplot.airmass_altitude_plot_saved('SSO','Io',day)\n",
    "#SPOCKplot.airmass_altitude_plot_proposition('SSO','Io',day)\n",
    "#SPOCKplot.gantt_chart(day,day+10,['Artemis'])\n",
    "#SPOCKplot.gantt_chart_all(schedule.target_list)\n",
    "plt.savefig('visibiblity_plot_example.png')"
   ]
  },
  {
   "cell_type": "code",
   "execution_count": 15,
   "metadata": {
    "hidden": true
   },
   "outputs": [],
   "source": [
    "SPOCKplot.gantt_chart_all(schedule.target_list)"
   ]
  },
  {
   "cell_type": "code",
   "execution_count": 4,
   "metadata": {
    "hidden": true
   },
   "outputs": [],
   "source": [
    "SPOCKplot.gantt_chart(day-1,day+1,['Artemis'])"
   ]
  },
  {
   "cell_type": "code",
   "execution_count": null,
   "metadata": {
    "hidden": true
   },
   "outputs": [],
   "source": []
  }
 ],
 "metadata": {
  "kernelspec": {
   "display_name": "Python 3",
   "language": "python",
   "name": "python3"
  },
  "language_info": {
   "codemirror_mode": {
    "name": "ipython",
    "version": 3
   },
   "file_extension": ".py",
   "mimetype": "text/x-python",
   "name": "python",
   "nbconvert_exporter": "python",
   "pygments_lexer": "ipython3",
   "version": "3.7.2"
  }
 },
 "nbformat": 4,
 "nbformat_minor": 2
}
