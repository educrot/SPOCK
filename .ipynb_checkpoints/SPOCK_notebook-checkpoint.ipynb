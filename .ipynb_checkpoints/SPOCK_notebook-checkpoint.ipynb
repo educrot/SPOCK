{
 "cells": [
  {
   "cell_type": "code",
   "execution_count": 17,
   "metadata": {},
   "outputs": [],
   "source": [
    "import SPOCK.long_term_scheduler as SPOCKLT\n",
    "import SPOCK.short_term_scheduler as SPOCKST\n",
    "import SPOCK.plots_scheduler as SPOCKplot\n",
    "from astropy.time import Time"
   ]
  },
  {
   "cell_type": "markdown",
   "metadata": {},
   "source": [
    "# LONG TERM SCHEDULER"
   ]
  },
  {
   "cell_type": "code",
   "execution_count": null,
   "metadata": {
    "scrolled": true
   },
   "outputs": [
    {
     "name": "stdout",
     "output_type": "stream",
     "text": [
      "reverse_df1 0.9175443649291992\n",
      "day number: 0\n"
     ]
    },
    {
     "name": "stderr",
     "output_type": "stream",
     "text": [
      "WARNING: OldEarthOrientationDataWarning: For best precision (on the order of arcseconds), you must download an up-to-date IERS Bulletin A table. To do so, run:\n",
      "\n",
      ">>> from astroplan import download_IERS_A\n",
      ">>> download_IERS_A()\n",
      " [eScheduler.utils]\n",
      "b'Skipping line 6: expected 4 fields, saw 10\\n'\n",
      "b'Skipping line 6: expected 4 fields, saw 10\\n'\n",
      "b'Skipping line 6: expected 4 fields, saw 10\\n'\n"
     ]
    },
    {
     "name": "stdout",
     "output_type": "stream",
     "text": [
      "No plans on Europa on the 2019-12-05\n",
      "No plans on Ganymede on the 2019-12-05\n",
      "No plans on Callisto on the 2019-12-05\n",
      "['Sp0517-3349']\n",
      "['Sp0419+4233', 'Sp0829+2646', 'Sp0419+4233', 'Sp0626+3454']\n",
      "Callisto Callisto\n",
      "     priority     set or rise   alt set start     alt rise start     alt set end       alt rise end        max_alt         Sp_ID   \n",
      "----------------- ----------- ----------------- ----------------- ----------------- ----------------- ----------------- -----------\n",
      "427090043.2371676        rise -7.30937465349545 74.00310536826024 23.81744608985012 39.97429086195024 89.24941546273972 Sp0755-2404\n",
      "\n"
     ]
    },
    {
     "name": "stderr",
     "output_type": "stream",
     "text": [
      "WARNING: OldEarthOrientationDataWarning: For best precision (on the order of arcseconds), you must download an up-to-date IERS Bulletin A table. To do so, run:\n",
      "\n",
      ">>> from astroplan import download_IERS_A\n",
      ">>> download_IERS_A()\n",
      " [eScheduler.utils]\n",
      "WARNING: OldEarthOrientationDataWarning: For best precision (on the order of arcseconds), you must download an up-to-date IERS Bulletin A table. To do so, run:\n",
      "\n",
      ">>> from astroplan import download_IERS_A\n",
      ">>> download_IERS_A()\n",
      " [eScheduler.utils]\n"
     ]
    },
    {
     "name": "stdout",
     "output_type": "stream",
     "text": [
      "Ranked prio 83.54664826393127\n",
      " 2nd=1ere \n",
      "case2\n",
      "no transition block\n"
     ]
    },
    {
     "name": "stderr",
     "output_type": "stream",
     "text": [
      "WARNING: OldEarthOrientationDataWarning: For best precision (on the order of arcseconds), you must download an up-to-date IERS Bulletin A table. To do so, run:\n",
      "\n",
      ">>> from astroplan import download_IERS_A\n",
      ">>> download_IERS_A()\n",
      " [eScheduler.utils]\n",
      "WARNING: OldEarthOrientationDataWarning: For best precision (on the order of arcseconds), you must download an up-to-date IERS Bulletin A table. To do so, run:\n",
      "\n",
      ">>> from astroplan import download_IERS_A\n",
      ">>> download_IERS_A()\n",
      " [eScheduler.utils]\n"
     ]
    },
    {
     "name": "stdout",
     "output_type": "stream",
     "text": [
      "day number: 1\n"
     ]
    },
    {
     "name": "stderr",
     "output_type": "stream",
     "text": [
      "WARNING: OldEarthOrientationDataWarning: For best precision (on the order of arcseconds), you must download an up-to-date IERS Bulletin A table. To do so, run:\n",
      "\n",
      ">>> from astroplan import download_IERS_A\n",
      ">>> download_IERS_A()\n",
      " [eScheduler.utils]\n",
      "b'Skipping line 6: expected 4 fields, saw 10\\n'\n",
      "b'Skipping line 6: expected 4 fields, saw 10\\n'\n",
      "b'Skipping line 6: expected 4 fields, saw 10\\n'\n"
     ]
    },
    {
     "name": "stdout",
     "output_type": "stream",
     "text": [
      "No plans on Europa on the 2019-12-06\n",
      "No plans on Ganymede on the 2019-12-06\n",
      "No plans on Callisto on the 2019-12-06\n",
      "['Sp0440-0530']\n",
      "['Sp0419+4233', 'Sp0829+2646', 'Sp0419+4233', 'Sp0626+3454']\n",
      "Callisto Callisto\n",
      "     priority     set or rise   alt set start      alt rise start     alt set end       alt rise end         max_alt         Sp_ID   \n",
      "----------------- ----------- ------------------ ----------------- ----------------- ------------------ ----------------- -----------\n",
      "220916790.8502444         set 58.083229916372694 2.331050782492708 81.30273410292176 -28.38044626788934 82.13390845361181 Sp0248-1651\n",
      "self.second_target      priority     set or rise   alt set start      alt rise start     alt set end       alt rise end         max_alt         Sp_ID   \n",
      "----------------- ----------- ------------------ ----------------- ----------------- ------------------ ----------------- -----------\n",
      "220916790.8502444         set 58.083229916372694 2.331050782492708 81.30273410292176 -28.38044626788934 82.13390845361181 Sp0248-1651\n",
      "\n"
     ]
    },
    {
     "name": "stderr",
     "output_type": "stream",
     "text": [
      "WARNING: OldEarthOrientationDataWarning: For best precision (on the order of arcseconds), you must download an up-to-date IERS Bulletin A table. To do so, run:\n",
      "\n",
      ">>> from astroplan import download_IERS_A\n",
      ">>> download_IERS_A()\n",
      " [eScheduler.utils]\n"
     ]
    },
    {
     "name": "stdout",
     "output_type": "stream",
     "text": [
      "Ranked prio 175.38300919532776\n",
      "case3\n"
     ]
    },
    {
     "name": "stderr",
     "output_type": "stream",
     "text": [
      "WARNING: OldEarthOrientationDataWarning: For best precision (on the order of arcseconds), you must download an up-to-date IERS Bulletin A table. To do so, run:\n",
      "\n",
      ">>> from astroplan import download_IERS_A\n",
      ">>> download_IERS_A()\n",
      " [eScheduler.utils]\n",
      "WARNING: OldEarthOrientationDataWarning: For best precision (on the order of arcseconds), you must download an up-to-date IERS Bulletin A table. To do so, run:\n",
      "\n",
      ">>> from astroplan import download_IERS_A\n",
      ">>> download_IERS_A()\n",
      " [eScheduler.utils]\n"
     ]
    },
    {
     "name": "stdout",
     "output_type": "stream",
     "text": [
      "day number: 2\n"
     ]
    },
    {
     "name": "stderr",
     "output_type": "stream",
     "text": [
      "WARNING: OldEarthOrientationDataWarning: For best precision (on the order of arcseconds), you must download an up-to-date IERS Bulletin A table. To do so, run:\n",
      "\n",
      ">>> from astroplan import download_IERS_A\n",
      ">>> download_IERS_A()\n",
      " [eScheduler.utils]\n",
      "b'Skipping line 6: expected 4 fields, saw 10\\n'\n",
      "b'Skipping line 6: expected 4 fields, saw 10\\n'\n",
      "b'Skipping line 6: expected 4 fields, saw 10\\n'\n"
     ]
    },
    {
     "name": "stdout",
     "output_type": "stream",
     "text": [
      "No plans on Europa on the 2019-12-07\n",
      "No plans on Ganymede on the 2019-12-07\n",
      "No plans on Callisto on the 2019-12-07\n",
      "['Sp0440-0530']\n",
      "['Sp0419+4233', 'Sp0829+2646', 'Sp0419+4233', 'Sp0626+3454']\n",
      "Callisto Callisto\n",
      "     priority      set or rise   alt set start     alt rise start    alt set end       alt rise end         max_alt         Sp_ID   \n",
      "------------------ ----------- ----------------- ----------------- ---------------- ------------------ ----------------- -----------\n",
      "207635902.03368768        rise 4.398380241727028 64.49383412874133 34.4243679233299 32.050653391016276 83.48528647798713 Sp0721-3105\n",
      "ici index prio 391\n",
      "tu as passé l'étape 1\n",
      "self.second_target      priority      set or rise   alt set start     alt rise start    alt set end       alt rise end         max_alt         Sp_ID   \n",
      "------------------ ----------- ----------------- ----------------- ---------------- ------------------ ----------------- -----------\n",
      "207635902.03368768        rise 4.398380241727028 64.49383412874133 34.4243679233299 32.050653391016276 83.48528647798713 Sp0721-3105\n",
      "\n"
     ]
    },
    {
     "name": "stderr",
     "output_type": "stream",
     "text": [
      "WARNING: OldEarthOrientationDataWarning: For best precision (on the order of arcseconds), you must download an up-to-date IERS Bulletin A table. To do so, run:\n",
      "\n",
      ">>> from astroplan import download_IERS_A\n",
      ">>> download_IERS_A()\n",
      " [eScheduler.utils]\n",
      "WARNING: OldEarthOrientationDataWarning: For best precision (on the order of arcseconds), you must download an up-to-date IERS Bulletin A table. To do so, run:\n",
      "\n",
      ">>> from astroplan import download_IERS_A\n",
      ">>> download_IERS_A()\n",
      " [eScheduler.utils]\n"
     ]
    },
    {
     "name": "stdout",
     "output_type": "stream",
     "text": [
      "Ranked prio 277.1347122192383\n",
      "case1\n"
     ]
    },
    {
     "name": "stderr",
     "output_type": "stream",
     "text": [
      "WARNING: OldEarthOrientationDataWarning: For best precision (on the order of arcseconds), you must download an up-to-date IERS Bulletin A table. To do so, run:\n",
      "\n",
      ">>> from astroplan import download_IERS_A\n",
      ">>> download_IERS_A()\n",
      " [eScheduler.utils]\n",
      "WARNING: OldEarthOrientationDataWarning: For best precision (on the order of arcseconds), you must download an up-to-date IERS Bulletin A table. To do so, run:\n",
      "\n",
      ">>> from astroplan import download_IERS_A\n",
      ">>> download_IERS_A()\n",
      " [eScheduler.utils]\n"
     ]
    },
    {
     "name": "stdout",
     "output_type": "stream",
     "text": [
      "day number: 3\n"
     ]
    },
    {
     "name": "stderr",
     "output_type": "stream",
     "text": [
      "WARNING: OldEarthOrientationDataWarning: For best precision (on the order of arcseconds), you must download an up-to-date IERS Bulletin A table. To do so, run:\n",
      "\n",
      ">>> from astroplan import download_IERS_A\n",
      ">>> download_IERS_A()\n",
      " [eScheduler.utils]\n",
      "b'Skipping line 6: expected 4 fields, saw 10\\n'\n",
      "b'Skipping line 6: expected 4 fields, saw 10\\n'\n",
      "b'Skipping line 6: expected 4 fields, saw 10\\n'\n"
     ]
    },
    {
     "name": "stdout",
     "output_type": "stream",
     "text": [
      "No plans on Europa on the 2019-12-08\n",
      "No plans on Ganymede on the 2019-12-08\n",
      "No plans on Callisto on the 2019-12-08\n",
      "['Sp0440-0530']\n",
      "No plans on Artemis on the 2019-12-08\n",
      "['Sp0419+4233', 'Sp0853-0329']\n",
      "Callisto Callisto\n",
      "     priority      set or rise   alt set start     alt rise start    alt set end       alt rise end        max_alt         Sp_ID   \n",
      "------------------ ----------- ----------------- ----------------- ---------------- ----------------- ----------------- -----------\n",
      "207921136.94527522        rise 5.299149545928504 63.62609105321938 35.2478701616662 31.04909347959947 83.48302462557356 Sp0721-3105\n",
      "ici index prio 391\n",
      "tu as passé l'étape 1\n",
      "self.second_target      priority      set or rise   alt set start     alt rise start    alt set end       alt rise end        max_alt         Sp_ID   \n",
      "------------------ ----------- ----------------- ----------------- ---------------- ----------------- ----------------- -----------\n",
      "207921136.94527522        rise 5.299149545928504 63.62609105321938 35.2478701616662 31.04909347959947 83.48302462557356 Sp0721-3105\n",
      "\n"
     ]
    },
    {
     "name": "stderr",
     "output_type": "stream",
     "text": [
      "WARNING: OldEarthOrientationDataWarning: For best precision (on the order of arcseconds), you must download an up-to-date IERS Bulletin A table. To do so, run:\n",
      "\n",
      ">>> from astroplan import download_IERS_A\n",
      ">>> download_IERS_A()\n",
      " [eScheduler.utils]\n"
     ]
    },
    {
     "name": "stdout",
     "output_type": "stream",
     "text": [
      "Ranked prio 377.4165372848511\n",
      "case1\n"
     ]
    },
    {
     "name": "stderr",
     "output_type": "stream",
     "text": [
      "WARNING: OldEarthOrientationDataWarning: For best precision (on the order of arcseconds), you must download an up-to-date IERS Bulletin A table. To do so, run:\n",
      "\n",
      ">>> from astroplan import download_IERS_A\n",
      ">>> download_IERS_A()\n",
      " [eScheduler.utils]\n",
      "WARNING: OldEarthOrientationDataWarning: For best precision (on the order of arcseconds), you must download an up-to-date IERS Bulletin A table. To do so, run:\n",
      "\n",
      ">>> from astroplan import download_IERS_A\n",
      ">>> download_IERS_A()\n",
      " [eScheduler.utils]\n"
     ]
    },
    {
     "name": "stdout",
     "output_type": "stream",
     "text": [
      "day number: 4\n"
     ]
    },
    {
     "name": "stderr",
     "output_type": "stream",
     "text": [
      "WARNING: OldEarthOrientationDataWarning: For best precision (on the order of arcseconds), you must download an up-to-date IERS Bulletin A table. To do so, run:\n",
      "\n",
      ">>> from astroplan import download_IERS_A\n",
      ">>> download_IERS_A()\n",
      " [eScheduler.utils]\n",
      "b'Skipping line 6: expected 4 fields, saw 10\\n'\n"
     ]
    },
    {
     "name": "stdout",
     "output_type": "stream",
     "text": [
      "No plans on Io on the 2019-12-09\n"
     ]
    },
    {
     "name": "stderr",
     "output_type": "stream",
     "text": [
      "b'Skipping line 6: expected 4 fields, saw 10\\n'\n"
     ]
    },
    {
     "name": "stdout",
     "output_type": "stream",
     "text": [
      "No plans on Europa on the 2019-12-09\n"
     ]
    },
    {
     "name": "stderr",
     "output_type": "stream",
     "text": [
      "b'Skipping line 6: expected 4 fields, saw 10\\n'\n",
      "b'Skipping line 6: expected 4 fields, saw 10\\n'\n"
     ]
    },
    {
     "name": "stdout",
     "output_type": "stream",
     "text": [
      "No plans on Ganymede on the 2019-12-09\n",
      "No plans on Callisto on the 2019-12-09\n",
      "[]\n",
      "No plans on Artemis on the 2019-12-09\n",
      "['Sp0036+1821', 'Sp0853-0329']\n",
      "Callisto Callisto\n",
      "     priority      set or rise   alt set start     alt rise start      alt set end       alt rise end         max_alt         Sp_ID   \n",
      "------------------ ----------- ----------------- ------------------ ----------------- ------------------ ----------------- -----------\n",
      "208276298.76787546        rise 6.201504313505533 62.750964070162155 36.06650294751616 30.047507619389773 83.49488315458677 Sp0721-3105\n",
      "ici index prio 391\n",
      "tu as passé l'étape 1\n",
      "self.second_target      priority      set or rise   alt set start     alt rise start      alt set end       alt rise end         max_alt         Sp_ID   \n",
      "------------------ ----------- ----------------- ------------------ ----------------- ------------------ ----------------- -----------\n",
      "208276298.76787546        rise 6.201504313505533 62.750964070162155 36.06650294751616 30.047507619389773 83.49488315458677 Sp0721-3105\n",
      "\n"
     ]
    },
    {
     "name": "stderr",
     "output_type": "stream",
     "text": [
      "WARNING: OldEarthOrientationDataWarning: For best precision (on the order of arcseconds), you must download an up-to-date IERS Bulletin A table. To do so, run:\n",
      "\n",
      ">>> from astroplan import download_IERS_A\n",
      ">>> download_IERS_A()\n",
      " [eScheduler.utils]\n"
     ]
    },
    {
     "name": "stdout",
     "output_type": "stream",
     "text": [
      "Ranked prio 479.6080241203308\n",
      "case1\n"
     ]
    },
    {
     "name": "stderr",
     "output_type": "stream",
     "text": [
      "WARNING: OldEarthOrientationDataWarning: For best precision (on the order of arcseconds), you must download an up-to-date IERS Bulletin A table. To do so, run:\n",
      "\n",
      ">>> from astroplan import download_IERS_A\n",
      ">>> download_IERS_A()\n",
      " [eScheduler.utils]\n",
      "WARNING: OldEarthOrientationDataWarning: For best precision (on the order of arcseconds), you must download an up-to-date IERS Bulletin A table. To do so, run:\n",
      "\n",
      ">>> from astroplan import download_IERS_A\n",
      ">>> download_IERS_A()\n",
      " [eScheduler.utils]\n"
     ]
    },
    {
     "name": "stdout",
     "output_type": "stream",
     "text": [
      "day number: 5\n"
     ]
    },
    {
     "name": "stderr",
     "output_type": "stream",
     "text": [
      "WARNING: OldEarthOrientationDataWarning: For best precision (on the order of arcseconds), you must download an up-to-date IERS Bulletin A table. To do so, run:\n",
      "\n",
      ">>> from astroplan import download_IERS_A\n",
      ">>> download_IERS_A()\n",
      " [eScheduler.utils]\n",
      "b'Skipping line 6: expected 4 fields, saw 10\\n'\n",
      "b'Skipping line 6: expected 4 fields, saw 10\\n'\n",
      "b'Skipping line 6: expected 4 fields, saw 10\\n'\n",
      "b'Skipping line 6: expected 4 fields, saw 10\\n'\n"
     ]
    },
    {
     "name": "stdout",
     "output_type": "stream",
     "text": [
      "No plans on Io on the 2019-12-10\n",
      "No plans on Europa on the 2019-12-10\n",
      "No plans on Ganymede on the 2019-12-10\n",
      "No plans on Callisto on the 2019-12-10\n",
      "[]\n",
      "No plans on Artemis on the 2019-12-10\n",
      "['Sp0036+1821', 'Sp0853-0329']\n",
      "Callisto Callisto\n",
      "     priority      set or rise   alt set start     alt rise start     alt set end       alt rise end         max_alt         Sp_ID   \n",
      "------------------ ----------- ----------------- ----------------- ----------------- ------------------ ----------------- -----------\n",
      "208656517.87569693        rise 7.105142156778502 61.86864534119154 36.88023943352128 29.046127386476265 83.50017632902549 Sp0721-3105\n",
      "ici index prio 391\n",
      "tu as passé l'étape 1\n",
      "self.second_target      priority      set or rise   alt set start     alt rise start     alt set end       alt rise end         max_alt         Sp_ID   \n",
      "------------------ ----------- ----------------- ----------------- ----------------- ------------------ ----------------- -----------\n",
      "208656517.87569693        rise 7.105142156778502 61.86864534119154 36.88023943352128 29.046127386476265 83.50017632902549 Sp0721-3105\n",
      "\n"
     ]
    },
    {
     "name": "stderr",
     "output_type": "stream",
     "text": [
      "WARNING: OldEarthOrientationDataWarning: For best precision (on the order of arcseconds), you must download an up-to-date IERS Bulletin A table. To do so, run:\n",
      "\n",
      ">>> from astroplan import download_IERS_A\n",
      ">>> download_IERS_A()\n",
      " [eScheduler.utils]\n"
     ]
    },
    {
     "name": "stdout",
     "output_type": "stream",
     "text": [
      "Ranked prio 589.9433381557465\n",
      "case1\n"
     ]
    },
    {
     "name": "stderr",
     "output_type": "stream",
     "text": [
      "WARNING: OldEarthOrientationDataWarning: For best precision (on the order of arcseconds), you must download an up-to-date IERS Bulletin A table. To do so, run:\n",
      "\n",
      ">>> from astroplan import download_IERS_A\n",
      ">>> download_IERS_A()\n",
      " [eScheduler.utils]\n",
      "WARNING: OldEarthOrientationDataWarning: For best precision (on the order of arcseconds), you must download an up-to-date IERS Bulletin A table. To do so, run:\n",
      "\n",
      ">>> from astroplan import download_IERS_A\n",
      ">>> download_IERS_A()\n",
      " [eScheduler.utils]\n"
     ]
    },
    {
     "name": "stdout",
     "output_type": "stream",
     "text": [
      "day number: 6\n"
     ]
    },
    {
     "name": "stderr",
     "output_type": "stream",
     "text": [
      "WARNING: OldEarthOrientationDataWarning: For best precision (on the order of arcseconds), you must download an up-to-date IERS Bulletin A table. To do so, run:\n",
      "\n",
      ">>> from astroplan import download_IERS_A\n",
      ">>> download_IERS_A()\n",
      " [eScheduler.utils]\n",
      "b'Skipping line 6: expected 4 fields, saw 10\\n'\n",
      "b'Skipping line 6: expected 4 fields, saw 10\\n'\n",
      "b'Skipping line 6: expected 4 fields, saw 10\\n'\n"
     ]
    },
    {
     "name": "stdout",
     "output_type": "stream",
     "text": [
      "No plans on Io on the 2019-12-11\n",
      "No plans on Europa on the 2019-12-11\n",
      "No plans on Ganymede on the 2019-12-11\n"
     ]
    },
    {
     "name": "stderr",
     "output_type": "stream",
     "text": [
      "b'Skipping line 6: expected 4 fields, saw 10\\n'\n"
     ]
    },
    {
     "name": "stdout",
     "output_type": "stream",
     "text": [
      "No plans on Callisto on the 2019-12-11\n",
      "[]\n",
      "No plans on Artemis on the 2019-12-11\n",
      "['Sp0036+1821', 'Sp0853-0329']\n",
      "Callisto Callisto\n",
      "     priority      set or rise   alt set start     alt rise start     alt set end       alt rise end        max_alt         Sp_ID   \n",
      "------------------ ----------- ----------------- ----------------- ----------------- ----------------- ----------------- -----------\n",
      "209071580.97653973        rise 8.009767875184956 60.97931810269313 37.68905826695286 28.04518535502801 83.49947025811635 Sp0721-3105\n",
      "ici index prio 391\n",
      "tu as passé l'étape 1\n",
      "self.second_target      priority      set or rise   alt set start     alt rise start     alt set end       alt rise end        max_alt         Sp_ID   \n",
      "------------------ ----------- ----------------- ----------------- ----------------- ----------------- ----------------- -----------\n",
      "209071580.97653973        rise 8.009767875184956 60.97931810269313 37.68905826695286 28.04518535502801 83.49947025811635 Sp0721-3105\n",
      "\n"
     ]
    },
    {
     "name": "stderr",
     "output_type": "stream",
     "text": [
      "WARNING: OldEarthOrientationDataWarning: For best precision (on the order of arcseconds), you must download an up-to-date IERS Bulletin A table. To do so, run:\n",
      "\n",
      ">>> from astroplan import download_IERS_A\n",
      ">>> download_IERS_A()\n",
      " [eScheduler.utils]\n"
     ]
    },
    {
     "name": "stdout",
     "output_type": "stream",
     "text": [
      "Ranked prio 710.1786522865295\n",
      "case1\n"
     ]
    }
   ],
   "source": [
    "# ---------------------- LONG TERM SCHEDULER ---------------------\n",
    "schedule = SPOCKLT.schedules()\n",
    "# 1 for SSO , 2 for SNO and 3 for Saint-Ex\n",
    "obs = 1\n",
    "schedule.load_parameters('./input.csv',obs)\n",
    "schedule.make_schedule(Altitude_constraint = 25, Moon_constraint = 30)\n"
   ]
  },
  {
   "cell_type": "code",
   "execution_count": 11,
   "metadata": {
    "scrolled": true
   },
   "outputs": [
    {
     "data": {
      "text/html": [
       "<i>Row index=310 masked=True</i>\n",
       "<table id=\"table4849254640\">\n",
       "<thead><tr><th>Sp_ID</th><th>2MASS_ID</th><th>Gaia_ID</th><th>Filter</th><th>texp_spc</th><th>nb_hours_surved</th><th>nb_hours_threshold</th><th>RA</th><th>DEC</th><th>G</th><th>I</th><th>J</th><th>H</th><th>K</th><th>Dis</th><th>e_Dis</th><th>M</th><th>e_M</th><th>R</th><th>e_R</th><th>T_eff</th><th>e_Teff</th><th>SpT</th><th>e_Spt</th><th>SNR_T1b</th><th>SNR_JWST_HZ_tr</th><th>SNR_JWST_HZ_occ</th><th>telescope</th><th>prog</th><th>Note</th></tr></thead>\n",
       "<thead><tr><th>str11</th><th>str16</th><th>int64</th><th>str3</th><th>int64</th><th>float64</th><th>int64</th><th>float64</th><th>float64</th><th>float64</th><th>float64</th><th>float64</th><th>float64</th><th>float64</th><th>float64</th><th>float64</th><th>float64</th><th>float64</th><th>float64</th><th>float64</th><th>float64</th><th>float64</th><th>float64</th><th>float64</th><th>float64</th><th>float64</th><th>float64</th><th>str16</th><th>int64</th><th>str19</th></tr></thead>\n",
       "<tr><td>Sp0544-2433</td><td>05441150-2433018</td><td>2915187925218983296</td><td>I+z</td><td>63</td><td>103.55501231146852</td><td>100</td><td>86.0480911</td><td>-24.550697699999997</td><td>16.94</td><td>14.85</td><td>12.53</td><td>11.87</td><td>11.46</td><td>20.624</td><td>0.0545</td><td>0.09</td><td>0.02</td><td>0.11</td><td>0.01</td><td>2605.0</td><td>105.0</td><td>7.5</td><td>1.1</td><td>12.54</td><td>4.4</td><td>1.83</td><td>Callisto</td><td>3</td><td>output_list</td></tr>\n",
       "</table>"
      ],
      "text/plain": [
       "<Row index=310 masked=True>\n",
       "   Sp_ID        2MASS_ID           Gaia_ID       Filter texp_spc  nb_hours_surved   nb_hours_threshold     RA             DEC            G       I       J       H       K      Dis    e_Dis     M      e_M      R      e_R    T_eff   e_Teff   SpT    e_Spt  SNR_T1b SNR_JWST_HZ_tr SNR_JWST_HZ_occ telescope  prog     Note   \n",
       "   str11         str16              int64         str3   int64        float64             int64         float64         float64       float64 float64 float64 float64 float64 float64 float64 float64 float64 float64 float64 float64 float64 float64 float64 float64    float64         float64       str16   int64    str19   \n",
       "----------- ---------------- ------------------- ------ -------- ------------------ ------------------ ---------- ------------------- ------- ------- ------- ------- ------- ------- ------- ------- ------- ------- ------- ------- ------- ------- ------- ------- -------------- --------------- --------- ----- -----------\n",
       "Sp0544-2433 05441150-2433018 2915187925218983296    I+z       63 103.55501231146852                100 86.0480911 -24.550697699999997   16.94   14.85   12.53   11.87   11.46  20.624  0.0545    0.09    0.02    0.11    0.01  2605.0   105.0     7.5     1.1   12.54            4.4            1.83  Callisto     3 output_list"
      ]
     },
     "metadata": {},
     "output_type": "display_data"
    },
    {
     "data": {
      "text/html": [
       "<i>Row index=144 masked=True</i>\n",
       "<table id=\"table4849254640\">\n",
       "<thead><tr><th>Sp_ID</th><th>2MASS_ID</th><th>Gaia_ID</th><th>Filter</th><th>texp_spc</th><th>nb_hours_surved</th><th>nb_hours_threshold</th><th>RA</th><th>DEC</th><th>G</th><th>I</th><th>J</th><th>H</th><th>K</th><th>Dis</th><th>e_Dis</th><th>M</th><th>e_M</th><th>R</th><th>e_R</th><th>T_eff</th><th>e_Teff</th><th>SpT</th><th>e_Spt</th><th>SNR_T1b</th><th>SNR_JWST_HZ_tr</th><th>SNR_JWST_HZ_occ</th><th>telescope</th><th>prog</th><th>Note</th></tr></thead>\n",
       "<thead><tr><th>str11</th><th>str16</th><th>int64</th><th>str3</th><th>int64</th><th>float64</th><th>int64</th><th>float64</th><th>float64</th><th>float64</th><th>float64</th><th>float64</th><th>float64</th><th>float64</th><th>float64</th><th>float64</th><th>float64</th><th>float64</th><th>float64</th><th>float64</th><th>float64</th><th>float64</th><th>float64</th><th>float64</th><th>float64</th><th>float64</th><th>float64</th><th>str16</th><th>int64</th><th>str19</th></tr></thead>\n",
       "<tr><td>Sp0248-1651</td><td>02484100-1651216</td><td>5156623295621846016</td><td>I+z</td><td>70</td><td>71.43367897813519</td><td>100</td><td>42.1708225</td><td>-16.8561424</td><td>16.87</td><td>14.7</td><td>12.55</td><td>11.87</td><td>11.42</td><td>22.4462</td><td>0.0742</td><td>0.09</td><td>0.02</td><td>0.11</td><td>0.01</td><td>2682.0</td><td>105.0</td><td>7.0</td><td>1.1</td><td>12.59</td><td>4.41</td><td>1.76</td><td>Callisto</td><td>3</td><td>output_list</td></tr>\n",
       "</table>"
      ],
      "text/plain": [
       "<Row index=144 masked=True>\n",
       "   Sp_ID        2MASS_ID           Gaia_ID       Filter texp_spc  nb_hours_surved  nb_hours_threshold     RA         DEC        G       I       J       H       K      Dis    e_Dis     M      e_M      R      e_R    T_eff   e_Teff   SpT    e_Spt  SNR_T1b SNR_JWST_HZ_tr SNR_JWST_HZ_occ telescope  prog     Note   \n",
       "   str11         str16              int64         str3   int64        float64            int64         float64     float64   float64 float64 float64 float64 float64 float64 float64 float64 float64 float64 float64 float64 float64 float64 float64 float64    float64         float64       str16   int64    str19   \n",
       "----------- ---------------- ------------------- ------ -------- ----------------- ------------------ ---------- ----------- ------- ------- ------- ------- ------- ------- ------- ------- ------- ------- ------- ------- ------- ------- ------- ------- -------------- --------------- --------- ----- -----------\n",
       "Sp0248-1651 02484100-1651216 5156623295621846016    I+z       70 71.43367897813519                100 42.1708225 -16.8561424   16.87    14.7   12.55   11.87   11.42 22.4462  0.0742    0.09    0.02    0.11    0.01  2682.0   105.0     7.0     1.1   12.59           4.41            1.76  Callisto     3 output_list"
      ]
     },
     "metadata": {},
     "output_type": "display_data"
    }
   ],
   "source": [
    "display(schedule.target_table_spc[schedule.idx_first_target])\n",
    "display(schedule.target_table_spc[schedule.idx_second_target])\n"
   ]
  },
  {
   "cell_type": "code",
   "execution_count": 12,
   "metadata": {},
   "outputs": [
    {
     "name": "stdout",
     "output_type": "stream",
     "text": [
      "INFO : \"./night_blocks_propositions/night_blocks_Callisto_2019-12-04.txt\" has been over-written to \"./DATABASE/Callisto/\"\n",
      "INFO : \"./night_blocks_propositions/night_blocks_Callisto_2019-12-04.txt\" has been copied to \"./DATABASE/Callisto/Archive_night_blocks/\"\n"
     ]
    }
   ],
   "source": [
    "SPOCKLT.save_schedule('./input.csv',obs,save=True,over_write=True)"
   ]
  },
  {
   "cell_type": "code",
   "execution_count": 13,
   "metadata": {},
   "outputs": [
    {
     "name": "stdout",
     "output_type": "stream",
     "text": [
      "2019-12-04 15:00:00.000 1 Callisto\n",
      "Callisto\n",
      "./DATABASE/Callisto/Plans_by_date/2019-12-04\n",
      "   target       start time (UTC)    ...      configuration     \n",
      "----------- ----------------------- ... -----------------------\n",
      "Sp0248-1651 2019-12-05 00:15:40.020 ... {'filt=I+z', 'texp=70'}\n",
      "Sp0544-2433 2019-12-05 04:28:40.030 ... {'texp=63', 'filt=I+z'}\n",
      "avant : I+z\n",
      "apres : I+z 70\n",
      "avant : I+z\n",
      "apres : I+z 63\n",
      "./DATABASE/Callisto/Plans_by_date\n",
      "0 2\n",
      "Sp0248-1651\n",
      "idx_taret [144]\n",
      "2h48m40.997400000001676s -16d51m22.112639999998294s\n",
      "-16.8561424 -0.29419518406501904\n",
      "1 2\n",
      "Sp0544-2433\n",
      "[310]\n",
      "5h44m11.541864000001425s -24d33m2.5117199999894524s\n",
      "-24.550697699999997 -0.42849050852679904\n",
      "str(filt) {0: 'I+z', 1: 'I+z'}\n",
      "CALLISTO\n",
      "-----> 2019-12-04 uploaded on the HUB for Callisto\n",
      "speculoos@appcs.ra.phy.cam.ac.uk:/appct/data/SPECULOOSPipeline/Callisto/schedule\n",
      "./DATABASE/Callisto/Plans_by_date/\n",
      "./DATABASE/Callisto/Archive_night_blocks/\n"
     ]
    }
   ],
   "source": [
    "day = Time('2019-12-04 15:00:00.000')\n",
    "SPOCKLT.make_np(day,1,schedule.telescope)\n",
    "SPOCKLT.upload_plans(day, nb_days=1,telescope = schedule.telescope)"
   ]
  },
  {
   "cell_type": "markdown",
   "metadata": {
    "heading_collapsed": true
   },
   "source": [
    "# SHORT TERM SCHEDULER"
   ]
  },
  {
   "cell_type": "code",
   "execution_count": 17,
   "metadata": {
    "hidden": true
   },
   "outputs": [
    {
     "name": "stdout",
     "output_type": "stream",
     "text": [
      "target_transit ['2019-12-03 19:26:33.176']\n",
      "start_transit 2019-12-03 18:13:23.133\n",
      "end_transit 2019-12-03 20:39:45.219\n"
     ]
    },
    {
     "name": "stderr",
     "output_type": "stream",
     "text": [
      "WARNING: OldEarthOrientationDataWarning: For best precision (on the order of arcseconds), you must download an up-to-date IERS Bulletin A table. To do so, run:\n",
      "\n",
      ">>> from astroplan import download_IERS_A\n",
      ">>> download_IERS_A()\n",
      " [eScheduler.utils]\n"
     ]
    },
    {
     "name": "stdout",
     "output_type": "stream",
     "text": [
      "block <eScheduler.spe_schedule.ObservingBlock (Trappist-1b, unscheduled) at 0x1286f05f8>\n",
      "2019-12-03 18:13:23.133 2019-12-03 20:39:45.219\n",
      "target_transit ['2019-12-05 13:42:42.513']\n",
      "pas de transit ce jour\n",
      "target_transit ['2019-12-06 18:43:58.520']\n"
     ]
    },
    {
     "name": "stderr",
     "output_type": "stream",
     "text": [
      "WARNING: OldEarthOrientationDataWarning: For best precision (on the order of arcseconds), you must download an up-to-date IERS Bulletin A table. To do so, run:\n",
      "\n",
      ">>> from astroplan import download_IERS_A\n",
      ">>> download_IERS_A()\n",
      " [eScheduler.utils]\n"
     ]
    },
    {
     "name": "stdout",
     "output_type": "stream",
     "text": [
      "start_transit 2019-12-06 16:38:32.577\n",
      "end_transit 2019-12-06 20:49:26.463\n",
      "block <eScheduler.spe_schedule.ObservingBlock (Trappist-1d, unscheduled) at 0x11c5bcef0>\n",
      "2019-12-06 16:38:32.577 2019-12-06 20:49:26.463\n",
      "target_transit ['2019-12-07 21:43:16.616']\n",
      "start_transit 2019-12-07 19:46:58.585\n",
      "end_transit 2019-12-07 23:39:36.647\n"
     ]
    },
    {
     "name": "stderr",
     "output_type": "stream",
     "text": [
      "WARNING: OldEarthOrientationDataWarning: For best precision (on the order of arcseconds), you must download an up-to-date IERS Bulletin A table. To do so, run:\n",
      "\n",
      ">>> from astroplan import download_IERS_A\n",
      ">>> download_IERS_A()\n",
      " [eScheduler.utils]\n"
     ]
    },
    {
     "name": "stdout",
     "output_type": "stream",
     "text": [
      "block <eScheduler.spe_schedule.ObservingBlock (Trappist-1e, unscheduled) at 0x127f5c550>\n",
      "2019-12-07 19:46:58.585 2019-12-07 23:39:36.647\n",
      "target_transit ['2019-12-04 14:13:39.080']\n",
      "pas de transit ce jour\n",
      "target_transit ['2019-12-09 04:06:39.493']\n",
      "pas de transit ce jour\n",
      "target_transit ['2019-12-08 16:01:33.118']\n",
      "pas de transit ce jour\n",
      "/Users/elsaducrot/Documents/GitHub/Scheduler_global/Python/Artemis/night_blocks_Artemis_2019-12-03.txt\n"
     ]
    },
    {
     "name": "stderr",
     "output_type": "stream",
     "text": [
      "WARNING: OldEarthOrientationDataWarning: For best precision (on the order of arcseconds), you must download an up-to-date IERS Bulletin A table. To do so, run:\n",
      "\n",
      ">>> from astroplan import download_IERS_A\n",
      ">>> download_IERS_A()\n",
      " [eScheduler.utils]\n"
     ]
    },
    {
     "ename": "SystemExit",
     "evalue": "WARNING : No block to insert !",
     "output_type": "error",
     "traceback": [
      "An exception has occurred, use %tb to see the full traceback.\n",
      "\u001b[0;31mSystemExit\u001b[0m\u001b[0;31m:\u001b[0m WARNING : No block to insert !\n"
     ]
    },
    {
     "name": "stderr",
     "output_type": "stream",
     "text": [
      "/anaconda3/lib/python3.7/site-packages/IPython/core/interactiveshell.py:3299: UserWarning:\n",
      "\n",
      "To exit: use 'exit', 'quit', or Ctrl-D.\n",
      "\n"
     ]
    }
   ],
   "source": [
    "# ---------------------- SHORT TERM SCHEDULER ---------------------\n",
    "obs = 2\n",
    "schedule = SPOCKST.schedules()\n",
    "schedule.load_parameters('input_short_term.csv',obs)\n",
    "\n",
    "if schedule.use == 'follow_up':\n",
    "    schedule.transit_follow_up('target_dynamical_follow_up.txt')\n",
    "if schedule.use == 'special_start_end':\n",
    "    input_name = 'Sp0755-2404'\n",
    "    schedule.special_target_with_start_end(input_name)\n",
    "if schedule.use == 'special':\n",
    "    input_name = 'Sp0000-1245'\n",
    "    schedule.special_target(input_name)\n",
    "if schedule.use == 'monitoring':\n",
    "    input_name = 'Sp0755-2404'\n",
    "    schedule.monitoring(input_name,5,61)\n",
    "\n",
    "schedule.make_scheduled_table()\n",
    "schedule.planification()\n",
    "schedule.make_night_block()\n",
    "SPOCKST.make_np(day=schedule.day_of_night,nb_jours=1,telescope=schedule.telescope)\n"
   ]
  },
  {
   "cell_type": "markdown",
   "metadata": {},
   "source": [
    "# PLOT SCHEDULER"
   ]
  },
  {
   "cell_type": "code",
   "execution_count": null,
   "metadata": {
    "scrolled": false
   },
   "outputs": [],
   "source": [
    "# ---------------------- PLOT SCHEDULER ---------------------\n",
    "import matplotlib.pyplot as plt\n",
    "#day = Time('2019-11-01 15:00:00.000')\n",
    "SPOCKplot.airmass_plot_saved('SSO','Ganymede',day)\n",
    "SPOCKplot.airmass_plot_proposition('SSO','Ganymede',day)\n",
    "#SPOCKplot.airmass_altitude_plot_saved('SSO','Io',day)\n",
    "#SPOCKplot.airmass_altitude_plot_proposition('SSO','Io',day)\n",
    "#SPOCKplot.gantt_chart(day,day+10,['Artemis'])\n",
    "#SPOCKplot.gantt_chart_all(schedule.target_list)\n",
    "plt.savefig('visibiblity_plot_example.pdf')"
   ]
  },
  {
   "cell_type": "code",
   "execution_count": 15,
   "metadata": {},
   "outputs": [],
   "source": [
    "SPOCKplot.gantt_chart_all(schedule.target_list)"
   ]
  },
  {
   "cell_type": "code",
   "execution_count": 4,
   "metadata": {},
   "outputs": [],
   "source": [
    "SPOCKplot.gantt_chart(day-1,day+1,['Artemis'])"
   ]
  },
  {
   "cell_type": "code",
   "execution_count": null,
   "metadata": {},
   "outputs": [],
   "source": []
  }
 ],
 "metadata": {
  "kernelspec": {
   "display_name": "Python 3",
   "language": "python",
   "name": "python3"
  },
  "language_info": {
   "codemirror_mode": {
    "name": "ipython",
    "version": 3
   },
   "file_extension": ".py",
   "mimetype": "text/x-python",
   "name": "python",
   "nbconvert_exporter": "python",
   "pygments_lexer": "ipython3",
   "version": "3.7.2"
  }
 },
 "nbformat": 4,
 "nbformat_minor": 2
}
