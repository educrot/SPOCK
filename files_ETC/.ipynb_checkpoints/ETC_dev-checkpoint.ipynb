{
 "cells": [
  {
   "cell_type": "markdown",
   "metadata": {},
   "source": [
    "# SPECULOOS - ETC"
   ]
  },
  {
   "cell_type": "code",
   "execution_count": 108,
   "metadata": {},
   "outputs": [],
   "source": [
    "import os\n",
    "import numpy as np\n",
    "import matplotlib.pyplot as plt\n",
    "from astropy.time import Time\n",
    "from astropy.io import ascii\n",
    "from astropy.table import Table,Column, MaskedColumn\n",
    "from scipy.interpolate import interp1d"
   ]
  },
  {
   "cell_type": "markdown",
   "metadata": {},
   "source": [
    "#### Parameters:"
   ]
  },
  {
   "cell_type": "code",
   "execution_count": 109,
   "metadata": {},
   "outputs": [],
   "source": [
    "##########  Observation\n",
    "mag_val     = 13.6  #star magnitude\n",
    "mag_band    = 'J'   #Band (J or V)\n",
    "spt         = 'M7'  #spectral type\n",
    "filt        = 'I+z' #Filter in use\n",
    "exp_t       = 100    #Exposure time\n",
    "ADUpeak     = 33000 #counts in peak desired [ADU]\n",
    "seeing      = 0.95  #effective seeing [arcsec]\n",
    "airmass     = 1.2   #Airmass\n",
    "moonphase   = 0.6   #Moon phase (0.=new moon, 1.=full moon)\n",
    "irtf        = 0.8   #IRTF/UCS flux correction\n",
    "\n",
    "\n",
    "########## CCD\n",
    "npix        = 2048 #Number of pixels x\n",
    "npiy        = 2048 #Number of pixels y\n",
    "mipi        = 13.5 #picelscale\n",
    "gain        = 1.1  #Gain [el/ADU]\n",
    "tqe         = 243\n",
    "qefac       = 1.0  #coefficient\n",
    "d0          = 2e4  #dark_293K\n",
    "ron         = 10\n",
    "tccd        = -60  #CCD temperature [degree C]\n",
    "binning     = 1    #CCD binning\n",
    "tlost       = 10   #read-out & overhead time [s]\n",
    "\n",
    "########## Optics\n",
    "m1dia       = 1030 #M1 free aperture [mm]\n",
    "m2dia       = 300  #M2 mechanical aperture [mm]\n",
    "focrat      = 8.0  #Focal ratio\n",
    "mloss       = 10   #system loss [%]\n",
    "\n",
    "########## Observatory\n",
    "alti        = 2500 #Altitude [m]\n",
    "num_tel     = 1    #Number of telescopes\n",
    "\n",
    "########## Light curve\n",
    "bin_lc      = 7.2  #Time bin for SNR [min]\n",
    "rednoise    = 0.   #Red noise[ppm]\n",
    "nsigma      = 5.   #\n",
    "\n",
    "########## constants\n",
    "\n",
    "rsun        = 695800.\n",
    "rearth      = 6371.\n",
    "c           = 299792458.\n",
    "scinfac     = 0.09\n",
    "h           = 6.62607E-34\n",
    "e           = 2.71828      "
   ]
  },
  {
   "cell_type": "markdown",
   "metadata": {},
   "source": [
    "## 1.) System parameters"
   ]
  },
  {
   "cell_type": "markdown",
   "metadata": {},
   "source": [
    "#### Coating M1 - \"c1\""
   ]
  },
  {
   "cell_type": "code",
   "execution_count": 110,
   "metadata": {},
   "outputs": [],
   "source": [
    "c1_file=\"coating_1.dat\"\n",
    "c1=ascii.read(c1_file, data_start=0)\n",
    "#plt.grid(True)\n",
    "#plt.xlabel(\"Wavelength [nm]\")\n",
    "#plt.ylabel(\"Efficiency\")\n",
    "#plt.plot(c1['col1'],c1['col2'])\n",
    "#plt.show()"
   ]
  },
  {
   "cell_type": "markdown",
   "metadata": {},
   "source": [
    "#### Coating M2 - \"c2\""
   ]
  },
  {
   "cell_type": "code",
   "execution_count": 111,
   "metadata": {},
   "outputs": [],
   "source": [
    "c2_file=\"coating_2.dat\"\n",
    "c2=ascii.read(c2_file, data_start=0)\n",
    "#plt.grid(True)\n",
    "#plt.xlabel(\"Wavelength [nm]\")\n",
    "#plt.ylabel(\"Efficiency\")\n",
    "#plt.plot(c2['col1'],c2['col2'])\n",
    "#plt.show()"
   ]
  },
  {
   "cell_type": "markdown",
   "metadata": {},
   "source": [
    "#### CCD senstivity - \"ccd\""
   ]
  },
  {
   "cell_type": "code",
   "execution_count": 112,
   "metadata": {},
   "outputs": [],
   "source": [
    "ccd_file=\"ccd.dat\"\n",
    "ccd=ascii.read(ccd_file, data_start=5)\n",
    "#plt.grid(True)\n",
    "#plt.xlabel(\"Wavelength [nm]\")\n",
    "#plt.ylabel(\"Efficiency\")\n",
    "#plt.plot(ccd['col1'],ccd['col2'])\n",
    "#plt.show()"
   ]
  },
  {
   "cell_type": "markdown",
   "metadata": {},
   "source": [
    "#### Quantum efficiency temperature correction (cort) - \"qet\""
   ]
  },
  {
   "cell_type": "code",
   "execution_count": 113,
   "metadata": {},
   "outputs": [],
   "source": [
    "qet_file=\"qet.dat\"\n",
    "qet=ascii.read(qet_file, data_start=0)\n",
    "#plt.grid(True)\n",
    "#plt.xlabel(\"Wavelength [nm]\")\n",
    "#plt.ylabel(\"Efficiency\")\n",
    "#plt.plot(qet['col1'],qet['col2'])\n",
    "#plt.show()"
   ]
  },
  {
   "cell_type": "markdown",
   "metadata": {},
   "source": [
    "#### CCD Window - \"window\""
   ]
  },
  {
   "cell_type": "code",
   "execution_count": 114,
   "metadata": {},
   "outputs": [],
   "source": [
    "window_file=\"window.dat\"\n",
    "window=ascii.read(window_file, data_start=0)\n",
    "#plt.grid(True)\n",
    "#plt.xlabel(\"Wavelength [nm]\")\n",
    "#plt.ylabel(\"Efficiency\")\n",
    "#plt.plot(window['col1'],window['col2'])\n",
    "#plt.show()"
   ]
  },
  {
   "cell_type": "markdown",
   "metadata": {},
   "source": [
    "##### System specific conversions"
   ]
  },
  {
   "cell_type": "code",
   "execution_count": 115,
   "metadata": {},
   "outputs": [],
   "source": [
    "#System\n",
    "mloss=1-0.01*mloss\n",
    "surf=(np.pi*(m1dia*0.5*1.0e-3)**2)-(np.pi*(m2dia*0.5*1.0e-3)**2)\n",
    "eape=2*(surf/np.pi)**.5    #effective aperture\n",
    "\n",
    "c1['col2']=c1['col2']*mloss\n",
    "c2['col2']=c2['col2']*mloss\n",
    "\n",
    "#CCD corrections\n",
    "if binning > 1:\n",
    "    mipi=mipi*binning\n",
    "    npix=npix/binning\n",
    "    npiy=npiy/binning\n",
    "    dark=dark*binning**2\n",
    "pixelscale = mipi * 206.265/(focrat*m1dia)\n",
    "fov = npix*pixelscale/60.\n",
    "\n",
    "#convert to percent\n",
    "rednoise=rednoise/1.0e6\n",
    "#convert from celsius to K\n",
    "tccd=tccd+273\n",
    "dt=(tccd-tqe)/125.\n",
    "\n",
    "#Dark current\n",
    "dark=(d0*122*(tccd-10)**3)*e**(-6400/(tccd-10)) \n",
    "\n",
    "#Correction of ccd response for low temperatures\n",
    "qet['col2']=(1.-qet['col2'])*qefac*np.abs(dt)\n",
    "qet['col2']=(1.-qet['col2'])\n",
    "if dt < 0.:\n",
    "    ccd['col2']=ccd['col2']*qet['col2']"
   ]
  },
  {
   "cell_type": "markdown",
   "metadata": {},
   "source": [
    "## 2.) Observation parameters"
   ]
  },
  {
   "cell_type": "markdown",
   "metadata": {},
   "source": [
    "#### Moon Background - \"back\""
   ]
  },
  {
   "cell_type": "code",
   "execution_count": 116,
   "metadata": {},
   "outputs": [],
   "source": [
    "bg_file=\"background.dat\"\n",
    "bg=ascii.read(bg_file, data_start=0)\n",
    "\n",
    "#plt.xlim(500,510)\n",
    "\n",
    "#plt.plot(bg['col1'],bg['col6'],bg['col1'],bg['col5'],bg['col1'],bg['col4'],bg['col1'],bg['col3'],bg['col1'],bg['col2'])\n",
    "moonph_sin=np.arcsin(moonphase)*360/(np.pi)\n",
    "#Moonphase dependence of background\n",
    "if moonph_sin>=0. and moonph_sin <45.:\n",
    "    m1=0\n",
    "    m2=1\n",
    "    moonzero=0.\n",
    "elif  moonph_sin>=45. and moonph_sin <90.:\n",
    "    m1=1\n",
    "    m2=2\n",
    "    moonzero=45.\n",
    "elif  moonph_sin>=90. and moonph_sin <135.:\n",
    "    m1=2\n",
    "    m2=3\n",
    "    moonzero=90.\n",
    "elif  moonph_sin>=135. and moonph_sin <=180.:\n",
    "    m1=3\n",
    "    m2=4\n",
    "    moonzero=135.\n",
    "else:\n",
    "    print(\"moonphase unrealistic\")\n",
    "    print(5/0.)\n",
    "\n",
    "#Airmass dependence of background\n",
    "if airmass>=1. and airmass <1.5:\n",
    "    l1=2\n",
    "    l2=3\n",
    "    airzero=1.\n",
    "elif airmass>=1.5 and airmass <2.:\n",
    "    l1=3\n",
    "    l2=4\n",
    "    airzero=1.5\n",
    "elif airmass>=2. and airmass <2.5:\n",
    "    l1=4\n",
    "    l2=5\n",
    "    airzero=2.\n",
    "elif airmass>=2.5 and airmass <3.:\n",
    "    l1=5\n",
    "    l2=6\n",
    "    airzero=2.5\n",
    "else:\n",
    "    print(\"airmass not supported (1-3)\")\n",
    "    print(5/0.)\n",
    "\n",
    "#only use first 5 entries of background.dat!!!\n",
    "exdif=np.array(bg['col'+str(int(l1))][:5]-bg['col'+str(int(l2))][:5])\n",
    "backe=bg['col'+str(int(l1))][:5]-exdif*((airmass-airzero)/0.5)\n",
    "exdif=backe[m1]-backe[m2]\n",
    "\n",
    "#\n",
    "back = Table(ccd)\n",
    "back['col2']=np.zeros(len(back['col2']))+backe[m1]-exdif*((moonph_sin-moonzero)/45.)\n",
    "#plt.grid(True)\n",
    "#plt.xlabel(\"Wavelength [nm]\")\n",
    "#plt.ylabel(\"Background\")\n",
    "#plt.plot(back['col1'],back['col2'])\n",
    "#plt.show()"
   ]
  },
  {
   "cell_type": "markdown",
   "metadata": {},
   "source": [
    "#### Extinction  - \"extin\""
   ]
  },
  {
   "cell_type": "code",
   "execution_count": 117,
   "metadata": {},
   "outputs": [],
   "source": [
    "extind_file=\"extin.dat\"\n",
    "extind=ascii.read(extind_file, data_start=0)\n",
    "\n",
    "#plt.plot(extind['col1'],extind['col6'],extind['col1'],extind['col5'],extind['col1'],extind['col4'], \\\n",
    "#         extind['col1'],extind['col3'],extind['col1'],extind['col2'])#,extind['col1'],extin,'o')\n",
    "\n",
    "#select right extiction\n",
    "exdif=extind['col'+str(int(l1))]-extind['col'+str(int(l2))]\n",
    "extin=extind['col'+str(int(l1))]-exdif*((airmass-airzero)/0.5)\n",
    "\n",
    "#plt.grid(True)\n",
    "#plt.xlabel(\"Wavelength [nm]\")\n",
    "#plt.ylabel(\"Extiction\")\n",
    "#plt.plot(extind['col1'],extin)\n",
    "#plt.show()"
   ]
  },
  {
   "cell_type": "markdown",
   "metadata": {},
   "source": [
    "#### Spectro-photometric standard for spectral type -\"spec\"\n"
   ]
  },
  {
   "cell_type": "code",
   "execution_count": 118,
   "metadata": {},
   "outputs": [],
   "source": [
    "#available spectral types\n",
    "spectra=Table(names=['type','vmj','vref','rs','file'],\n",
    "              data=[['B0','B1','B3','B6','B8', \\\n",
    "                'A0','A2','A3','A5', \\\n",
    "                'F0','F2','F5','F8', \\\n",
    "                'G0','G1','G2','G5','G8', \\\n",
    "                'K0','K2','K5','K7', \\\n",
    "                'M0','M2','M4','M5','M6','M7','M8','M9', \\\n",
    "                'L2','L5','L8'], \\\n",
    "                [-0.8,-0.73,-0.60,-0.46,-0.36, \\\n",
    "                -0.16,-0.07,-0.02,0.09, \\\n",
    "                0.37,0.48,0.67,0.79, \\\n",
    "                1.03,1.055,1.08,1.25,1.32, \\\n",
    "                1.46,1.81,2.22,2.71, \\\n",
    "                2.96,3.58,4.42,5.39, 0.00, 0.00,0.00,0.00, \\\n",
    "                0.00,0.00,0.00],\n",
    "                [0.,0.,0.,0.,0., \\\n",
    "                0.,0.,0.,0., \\\n",
    "                0.,0.,0.,0., \\\n",
    "                0.,0.,0.,0.,0., \\\n",
    "                0.,0.,0.,0., \\\n",
    "                0.,0.,0.,0.,7.09,9.78,9.91,9.54, \\\n",
    "                13.41,12.83,13.25],\n",
    "                [7.4,6.5,4.8,3.7,3.0, \\\n",
    "                 2.4,2.15,2.0,1.7, \\\n",
    "                 1.5,1.4,1.3,1.2, \\\n",
    "                 1.1,1.05,1.,0.92,0.88, \\\n",
    "                 0.85,0.80,0.72,0.67, \\\n",
    "                 0.60,0.44,0.26,0.18,0.135,0.12,0.105,0.09, \\\n",
    "                 0.105,0.105,0.105],\n",
    "                 ['b0_pickles.dat','b1_pickles.dat','b3_pickles.dat','b6_pickles.dat','b8_pickles.dat', \\\n",
    "                  'a0_pickles.dat','a2_pickles.dat','a3_pickles.dat','a5_pickles.dat', \\\n",
    "                  'f0_pickles.dat','f2_pickles.dat','f5_pickles.dat','f8_pickles.dat', \\\n",
    "                  'g0_ltt7379.dat','g1_pickles.dat','g2_pickles.dat','g5_pickles.dat','g8_pickles.dat', \\\n",
    "                  'k0_pickles.dat','k2_pickles.dat','k5_pickles.dat','k7_pickles.dat', \\\n",
    "                  'm0_pickles.dat','m2_pickles.dat','m4_pickles.dat','m5_pickles.dat', \\\n",
    "                  'm6_gl406.dat','m7_gj644c.dat','m8_vb10.dat','m9_den1048.dat', \\\n",
    "                  'l2_kelu1.dat','l5_2mass1507.dat','l8_den0255.dat']])\n",
    "#Changed vref from 10.23 0. for G0 standard star\n",
    "spt_sel=np.array(spectra['type'].data)\n",
    "\n",
    "#get spectral type information\n",
    "try:\n",
    "    i=np.where(spt==spt_sel)[0][0]\n",
    "except:\n",
    "    print(\"spectral type not in list\")\n",
    "    print(5/0)\n",
    "\n",
    "#available spectra are in folder Spectra\n",
    "path='Spectra/'\n",
    "spec_file = os.path.join(path,spectra['file'][i])\n",
    "spec=ascii.read(spec_file, data_start=0)\n",
    "#plt.grid(True)\n",
    "#plt.xlabel(\"Wavelength [nm]\")\n",
    "#plt.ylabel(\"Intensity\")\n",
    "#plt.title(spectra['file'][i][:-4])\n",
    "#plt.plot(spec['col1'],spec['col2'])\n",
    "#plt.show()"
   ]
  },
  {
   "cell_type": "markdown",
   "metadata": {},
   "source": [
    "#### Filter curve - \"filter\""
   ]
  },
  {
   "cell_type": "code",
   "execution_count": 119,
   "metadata": {},
   "outputs": [],
   "source": [
    "#available filters are in folder Filters, check available files\n",
    "path='Filters/'\n",
    "files = []\n",
    "# r=root, d=directories, f = files\n",
    "for r, d, f in os.walk(path):\n",
    "    for file in f:\n",
    "        files.append(file)\n",
    "files=np.sort(files)\n",
    "#convert to lower case\n",
    "files_low = np.array([x.lower() if isinstance(x, str) else x for x in files])\n",
    "#check, if selceted filter is contained\n",
    "in_filter_list=np.where(np.char.find(files_low, filt.lower())!=-1)\n",
    "if len(in_filter_list)>0:\n",
    "    filter_file=os.path.join(path,files[in_filter_list[0][0]])\n",
    "    filter=ascii.read(filter_file, data_start=0)\n",
    "    #plt.grid(True)\n",
    "    #plt.xlabel(\"Wavelength [nm]\")\n",
    "    #plt.ylabel(\"Troughput\")\n",
    "    #plt.title(filt)\n",
    "    #plt.plot(filter['col1'],filter['col2'])\n",
    "    #plt.show()\n",
    "else:\n",
    "    print(\"Filter not available\")\n",
    "    print(5/0.)"
   ]
  },
  {
   "cell_type": "markdown",
   "metadata": {},
   "source": [
    "##### Observation specific conversions"
   ]
  },
  {
   "cell_type": "code",
   "execution_count": 120,
   "metadata": {},
   "outputs": [],
   "source": [
    "#get spectral type information\n",
    "try:\n",
    "    i=np.where(spt==spt_sel)[0][0]\n",
    "except:\n",
    "    print(\"spectral type not in list\")\n",
    "    print(5/0)\n",
    "\n",
    "#frequency instead of wavelength\n",
    "ener=h*c/(spec['col1']*1e-9)\n",
    "\n",
    "####colour correction\n",
    "if mag_band == \"V\":\n",
    "    #do nothing\n",
    "    mag_val=mag_val+0.\n",
    "\n",
    "elif mag_band == \"J\":\n",
    "    #apply V-J correction for spectral type\n",
    "    mag_val=mag_val+spectra['vmj'][i]\n",
    "else:\n",
    "    #ToDo add K-magnitude\n",
    "    print(\"Band not implemented\")\n",
    "    print(5/0.)\n",
    "    \n",
    "#Apply IRTF/UCS flux correction to photomeric standards of M-dwarfs\n",
    "#Standards were obtained with \n",
    "if len(np.where(spt==spt_sel[np.where(spt_sel=='M6')[0][0]:])[0]) > 0.0:\n",
    "    corcal=irtf\n",
    "else:\n",
    "    corcal=1.\n",
    "spec['col2']=spec['col2']*corcal\n",
    "\n",
    "#Correction factor, accounting the apparent magnitude of the target.\n",
    "corflux = 10**((spectra['vref'][i]-mag_val)/2.5)\n"
   ]
  },
  {
   "cell_type": "markdown",
   "metadata": {},
   "source": [
    "## 3.) Peak calculation\n",
    "#### (From Exposure time) "
   ]
  },
  {
   "cell_type": "code",
   "execution_count": 121,
   "metadata": {},
   "outputs": [
    {
     "name": "stdout",
     "output_type": "stream",
     "text": [
      "Peak [ADU]:\t 25958.136666608065\n",
      "Sky [ADU]:\t 884.7913695157393\n"
     ]
    }
   ],
   "source": [
    "#Object independend effective troughput of the system\n",
    "effi=window['col2']*ccd['col2']*c1['col2']*c2['col2']*filter['col2']\n",
    "\n",
    "#Background collected by system\n",
    "back2=Table(back)\n",
    "back2['col2'] = np.array(back['col2'])*effi*exp_t*(5/1000.)*surf*pixelscale**2\n",
    "tback=sum(back2['col2'])    #Background [el/pixel]\n",
    "\n",
    "#print(tback)\n",
    "#Starlight collected by system\n",
    "spec2=Table(spec)\n",
    "spec2['col2']=(spec['col2']/ener)*corflux*extin*effi*exp_t*(5/1000.)*surf    \n",
    "\n",
    "signal=sum(spec2['col2'])\n",
    "#print(signal)\n",
    "\n",
    "#light curve calculations\n",
    "bin_lc_c=bin_lc*60\n",
    "npbin=bin_lc_c/(exp_t+tlost)  #Nexp per bin\n",
    "earthtra=(rearth/spectra['rs'][i])**2    #earth transit depth for spectral type\n",
    "\n",
    "#sum (I do not really understand this)\n",
    "#lambsum=sum(spec2['col2'])\n",
    "#lambeff=sum(spec2['col1']*spec2['col2'])/lambsum\n",
    "\n",
    "seeing_p=seeing/pixelscale\n",
    "nape=np.pi*(2*seeing_p)**2    #Npixels in aperture\n",
    "\n",
    "tdark=dark*exp_t      #Dark [el\\pixel]\n",
    "tdarkape=tdark*nape\n",
    "tbackape=tback*nape\n",
    "tronape=nape*ron**2\n",
    "peak=signal*0.66/(seeing_p)**2\n",
    "\n",
    "#scintilations (from model)\n",
    "scinti=scinfac*((eape*100.)**(-0.6666))*airmass**(1.75)\n",
    "scinti_alt=scinti*e**(-alti/8000.)\n",
    "scinti_exp=scinti_alt/np.sqrt(2*exp_t)\n",
    "scinti2=(scinti_exp*signal)**2\n",
    "snr = signal/np.sqrt(signal+tbackape+tronape+tdarkape+scinti2)\n",
    "\n",
    "#more (similar) telescopes used?\n",
    "if num_tel > 1:\n",
    "    snr=snr*np.sqrt(num_tel)\n",
    "    \n",
    "snrbin = snr*np.sqrt(npbin)       #snr for each bin in the light-curve\n",
    "errorbin = 1/snrbin\n",
    "errorbin_rn = np.sqrt(errorbin**2 + rednoise**2)\n",
    "#planet sensitivity\n",
    "sensi=np.sqrt(nsigma*errorbin_rn/earthtra)\n",
    "\n",
    "print(\"Peak [ADU]:\\t\", peak/gain)\n",
    "print(\"Sky [ADU]:\\t\", tbackape/gain)\n"
   ]
  },
  {
   "cell_type": "markdown",
   "metadata": {},
   "source": [
    "## 4.) Exposure time calculation \n",
    "#### (From peak value) "
   ]
  },
  {
   "cell_type": "code",
   "execution_count": 122,
   "metadata": {},
   "outputs": [
    {
     "name": "stdout",
     "output_type": "stream",
     "text": [
      "Exposure [s]:\t 127.12776892977234\n",
      "Peak [ADU]:\t 33000.0\n",
      "Sky [ADU]:\t 1124.8155277485362\n"
     ]
    }
   ],
   "source": [
    "peak=ADUpeak*gain\n",
    "\n",
    "#Object independend effective troughput of the system\n",
    "effi=window['col2']*ccd['col2']*c1['col2']*c2['col2']*filter['col2']\n",
    "\n",
    "#Starlight collected by system\n",
    "spec2=Table(spec)\n",
    "spec2['col2']=(spec['col2']/ener)*corflux*extin*effi*(5/1000.)*surf    \n",
    "signal=sum(spec2['col2'])\n",
    "\n",
    "#calculate exposure time from desired peak value\n",
    "seeing_p=seeing/pixelscale\n",
    "#peak=exp_t*signal*0.66/(seeing_p)**2\n",
    "\n",
    "exp_t=peak*(seeing_p)**2/(signal*0.66)\n",
    "print(\"Exposure [s]:\\t\",exp_t)\n",
    "\n",
    "#Background collected by system\n",
    "back2=Table(back)\n",
    "back2['col2'] = np.array(back['col2'])*effi*(5/1000.)*surf*pixelscale**2\n",
    "tback=sum(back2['col2'])*exp_t    #Background [el/pixel]\n",
    "\n",
    "#light curve calculations\n",
    "bin_lc_c=bin_lc*60\n",
    "npbin=bin_lc_c/(exp_t+tlost)  #Nexp per bin\n",
    "\n",
    "nape=np.pi*(2*seeing_p)**2    #Npixels in aperture\n",
    "earthtra=(rearth/spectra['rs'][i])**2    #earth transit depth for spectral type\n",
    "\n",
    "#sum (I do not really understand this)\n",
    "\n",
    "\n",
    "\n",
    "lambsum=sum(spec2['col2'])\n",
    "lambeff=sum(spec2['col1']*spec2['col2'])/lambsum\n",
    "\n",
    "tdark=dark*exp_t      #Dark [el\\pixel]\n",
    "tdarkape=tdark*nape\n",
    "tbackape=tback*nape\n",
    "tronape=nape*ron**2\n",
    "\n",
    "\n",
    "#scintilations\n",
    "scinti=scinfac*((eape*100.)**(-0.6666))*airmass**(1.75)\n",
    "scinti_alt=scinti*e**(-alti/8000.)\n",
    "scinti_exp=scinti_alt/np.sqrt(2*exp_t)\n",
    "scinti2=(scinti_exp*signal)**2\n",
    "snr = signal/np.sqrt(signal+tbackape+tronape+tdarkape+scinti2)\n",
    "\n",
    "#more (similar) telescopes used?\n",
    "if num_tel > 1:\n",
    "    snr=snr*np.sqrt(num_tel)\n",
    "    \n",
    "snrbin = snr*np.sqrt(npbin)       #snr for each bin in the light-curve\n",
    "errorbin = 1/snrbin\n",
    "errorbin_rn = np.sqrt(errorbin**2 + rednoise**2)\n",
    "#planet sensitivity\n",
    "sensi=np.sqrt(nsigma*errorbin_rn/earthtra)\n",
    "\n",
    "print(\"Peak [ADU]:\\t\", peak/gain)\n",
    "print(\"Sky [ADU]:\\t\", tbackape/gain)\n",
    "\n"
   ]
  },
  {
   "cell_type": "code",
   "execution_count": null,
   "metadata": {},
   "outputs": [],
   "source": []
  },
  {
   "cell_type": "code",
   "execution_count": null,
   "metadata": {},
   "outputs": [],
   "source": []
  },
  {
   "cell_type": "code",
   "execution_count": null,
   "metadata": {},
   "outputs": [],
   "source": []
  }
 ],
 "metadata": {
  "kernelspec": {
   "display_name": "Python 3",
   "language": "python",
   "name": "python3"
  },
  "language_info": {
   "codemirror_mode": {
    "name": "ipython",
    "version": 3
   },
   "file_extension": ".py",
   "mimetype": "text/x-python",
   "name": "python",
   "nbconvert_exporter": "python",
   "pygments_lexer": "ipython3",
   "version": "3.7.2"
  }
 },
 "nbformat": 4,
 "nbformat_minor": 2
}
