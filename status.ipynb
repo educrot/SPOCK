{
 "cells": [
  {
   "cell_type": "code",
   "execution_count": 27,
   "metadata": {},
   "outputs": [
    {
     "data": {
      "text/plain": [
       "Index(['Sp_ID', '2MASS', 'Gaia_ID', 'wise', 'Program', 'nb_hours_surved',\n",
       "       'nb_hours_threshold', 'RA', 'DEC', 'e_gra', 'e_gdec', 'telescope',\n",
       "       'Filter_spc', 'texp_spc', 'Filter_trap', 'texp_trap', 'dist',\n",
       "       'dist_err', 'SpT', 'e_SpT', 'Ms', 'e_Ms', 'Rs', 'e_Rs', 'T_eff',\n",
       "       'teff_err', 'G', 'G_err', 'I', 'I_err', 'J', 'J_err', 'H', 'H_err', 'K',\n",
       "       'K_err', 'SNR_TESS_temp', 'SNR_Spec_temp', 'SNR_TESS_HZ', 'SNR_Spec_HZ',\n",
       "       'SNR_JWST_HZ_tr', 'SNR_JWST_HZ_occ', 'SNR_JWST_temp_occ', 'Note',\n",
       "       'Known_Binary', 'mag_bp', 'mag_bp_err', 'mag_rp', 'mag_rp_err', 'Habs',\n",
       "       'e_Habs', 'Jabs', 'e_Jabs', 'Kabs', 'e_Kabs', 'Gabs', 'e_Gabs', 'BCj',\n",
       "       'BCj_err', 'L_bol', 'L_bol_err', 'cf', 'num_stars', 'min_dist_stars',\n",
       "       'avg_dist_stars', 'rel_flux_stars', 'plx', 'plx_err', 'pmra', 'pmdec',\n",
       "       'pmra_err', 'pmdec_err'],\n",
       "      dtype='object')"
      ]
     },
     "execution_count": 27,
     "metadata": {},
     "output_type": "execute_result"
    }
   ],
   "source": [
    "import pandas as pd\n",
    "import requests\n",
    "import io\n",
    "import  numpy as np\n",
    "import matplotlib.pyplot as plt\n",
    "import pickle5\n",
    "import  json\n",
    "pd.options.display.max_rows = 2000\n",
    "pd.options.display.max_columns = 80\n",
    "\n",
    "target_list_v6 = pd.read_csv('speculoos_target_list_v6.txt',sep=' ')\n",
    "target_list_v6.columns"
   ]
  },
  {
   "cell_type": "code",
   "execution_count": 28,
   "metadata": {
    "scrolled": false
   },
   "outputs": [
    {
     "data": {
      "text/html": [
       "<div>\n",
       "<style scoped>\n",
       "    .dataframe tbody tr th:only-of-type {\n",
       "        vertical-align: middle;\n",
       "    }\n",
       "\n",
       "    .dataframe tbody tr th {\n",
       "        vertical-align: top;\n",
       "    }\n",
       "\n",
       "    .dataframe thead th {\n",
       "        text-align: right;\n",
       "    }\n",
       "</style>\n",
       "<table border=\"1\" class=\"dataframe\">\n",
       "  <thead>\n",
       "    <tr style=\"text-align: right;\">\n",
       "      <th></th>\n",
       "      <th>Sp_ID</th>\n",
       "      <th>2MASS</th>\n",
       "      <th>Gaia_ID</th>\n",
       "      <th>wise</th>\n",
       "      <th>Program</th>\n",
       "      <th>nb_hours_surved</th>\n",
       "      <th>nb_hours_threshold</th>\n",
       "      <th>RA</th>\n",
       "      <th>DEC</th>\n",
       "      <th>e_gra</th>\n",
       "      <th>e_gdec</th>\n",
       "      <th>telescope</th>\n",
       "      <th>Filter_spc</th>\n",
       "      <th>texp_spc</th>\n",
       "      <th>Filter_trap</th>\n",
       "      <th>texp_trap</th>\n",
       "      <th>dist</th>\n",
       "      <th>dist_err</th>\n",
       "      <th>SpT</th>\n",
       "      <th>e_SpT</th>\n",
       "      <th>Ms</th>\n",
       "      <th>e_Ms</th>\n",
       "      <th>Rs</th>\n",
       "      <th>e_Rs</th>\n",
       "      <th>T_eff</th>\n",
       "      <th>teff_err</th>\n",
       "      <th>G</th>\n",
       "      <th>G_err</th>\n",
       "      <th>I</th>\n",
       "      <th>I_err</th>\n",
       "      <th>J</th>\n",
       "      <th>J_err</th>\n",
       "      <th>H</th>\n",
       "      <th>H_err</th>\n",
       "      <th>K</th>\n",
       "      <th>K_err</th>\n",
       "      <th>SNR_TESS_temp</th>\n",
       "      <th>SNR_Spec_temp</th>\n",
       "      <th>SNR_TESS_HZ</th>\n",
       "      <th>SNR_Spec_HZ</th>\n",
       "      <th>SNR_JWST_HZ_tr</th>\n",
       "      <th>SNR_JWST_HZ_occ</th>\n",
       "      <th>SNR_JWST_temp_occ</th>\n",
       "      <th>Note</th>\n",
       "      <th>Known_Binary</th>\n",
       "      <th>mag_bp</th>\n",
       "      <th>mag_bp_err</th>\n",
       "      <th>mag_rp</th>\n",
       "      <th>mag_rp_err</th>\n",
       "      <th>Habs</th>\n",
       "      <th>e_Habs</th>\n",
       "      <th>Jabs</th>\n",
       "      <th>e_Jabs</th>\n",
       "      <th>Kabs</th>\n",
       "      <th>e_Kabs</th>\n",
       "      <th>Gabs</th>\n",
       "      <th>e_Gabs</th>\n",
       "      <th>BCj</th>\n",
       "      <th>BCj_err</th>\n",
       "      <th>L_bol</th>\n",
       "      <th>L_bol_err</th>\n",
       "      <th>cf</th>\n",
       "      <th>num_stars</th>\n",
       "      <th>min_dist_stars</th>\n",
       "      <th>avg_dist_stars</th>\n",
       "      <th>rel_flux_stars</th>\n",
       "      <th>plx</th>\n",
       "      <th>plx_err</th>\n",
       "      <th>pmra</th>\n",
       "      <th>pmdec</th>\n",
       "      <th>pmra_err</th>\n",
       "      <th>pmdec_err</th>\n",
       "    </tr>\n",
       "  </thead>\n",
       "  <tbody>\n",
       "    <tr>\n",
       "      <th>40</th>\n",
       "      <td>Sp0025+5422</td>\n",
       "      <td>00251602+5422547</td>\n",
       "      <td>4.196244e+17</td>\n",
       "      <td>J002515.62+542250.9</td>\n",
       "      <td>1.0</td>\n",
       "      <td>66.71</td>\n",
       "      <td>200.0</td>\n",
       "      <td>6.315766</td>\n",
       "      <td>54.381918</td>\n",
       "      <td>0.065499</td>\n",
       "      <td>0.082527</td>\n",
       "      <td>['Saint-Ex']</td>\n",
       "      <td>I+z</td>\n",
       "      <td>40.0</td>\n",
       "      <td>I+z</td>\n",
       "      <td>0.0</td>\n",
       "      <td>16.8</td>\n",
       "      <td>0.0</td>\n",
       "      <td>6.9</td>\n",
       "      <td>1.1</td>\n",
       "      <td>0.094</td>\n",
       "      <td>0.001</td>\n",
       "      <td>0.123</td>\n",
       "      <td>0.01</td>\n",
       "      <td>2695.0</td>\n",
       "      <td>105.0</td>\n",
       "      <td>15.741</td>\n",
       "      <td>0.000549</td>\n",
       "      <td>14.938</td>\n",
       "      <td>0.278098</td>\n",
       "      <td>11.78</td>\n",
       "      <td>0.024</td>\n",
       "      <td>11.21</td>\n",
       "      <td>0.03</td>\n",
       "      <td>10.82</td>\n",
       "      <td>0.022</td>\n",
       "      <td>9.16</td>\n",
       "      <td>14.64</td>\n",
       "      <td>6.48</td>\n",
       "      <td>11.34</td>\n",
       "      <td>4.71</td>\n",
       "      <td>1.54</td>\n",
       "      <td>4.76</td>\n",
       "      <td>add_note</td>\n",
       "      <td>0.0</td>\n",
       "      <td>18.839205</td>\n",
       "      <td>0.021953</td>\n",
       "      <td>14.21898</td>\n",
       "      <td>0.003892</td>\n",
       "      <td>10.080883</td>\n",
       "      <td>0.030301</td>\n",
       "      <td>10.650883</td>\n",
       "      <td>0.024375</td>\n",
       "      <td>9.690883</td>\n",
       "      <td>0.022409</td>\n",
       "      <td>14.612282</td>\n",
       "      <td>0.004296</td>\n",
       "      <td>1.950062</td>\n",
       "      <td>0.018868</td>\n",
       "      <td>0.000717</td>\n",
       "      <td>0.00002</td>\n",
       "      <td>0.22</td>\n",
       "      <td>40.0</td>\n",
       "      <td>15.28</td>\n",
       "      <td>0.0</td>\n",
       "      <td>0.0</td>\n",
       "      <td>0.0</td>\n",
       "      <td>0.0</td>\n",
       "      <td>-342.745</td>\n",
       "      <td>-376.195</td>\n",
       "      <td>0.139</td>\n",
       "      <td>0.134</td>\n",
       "    </tr>\n",
       "  </tbody>\n",
       "</table>\n",
       "</div>"
      ],
      "text/plain": [
       "          Sp_ID             2MASS       Gaia_ID                 wise  Program  \\\n",
       "40  Sp0025+5422  00251602+5422547  4.196244e+17  J002515.62+542250.9      1.0   \n",
       "\n",
       "    nb_hours_surved  nb_hours_threshold        RA        DEC     e_gra  \\\n",
       "40            66.71               200.0  6.315766  54.381918  0.065499   \n",
       "\n",
       "      e_gdec     telescope Filter_spc  texp_spc Filter_trap  texp_trap  dist  \\\n",
       "40  0.082527  ['Saint-Ex']        I+z      40.0         I+z        0.0  16.8   \n",
       "\n",
       "    dist_err  SpT  e_SpT     Ms   e_Ms     Rs  e_Rs   T_eff  teff_err       G  \\\n",
       "40       0.0  6.9    1.1  0.094  0.001  0.123  0.01  2695.0     105.0  15.741   \n",
       "\n",
       "       G_err       I     I_err      J  J_err      H  H_err      K  K_err  \\\n",
       "40  0.000549  14.938  0.278098  11.78  0.024  11.21   0.03  10.82  0.022   \n",
       "\n",
       "    SNR_TESS_temp  SNR_Spec_temp SNR_TESS_HZ  SNR_Spec_HZ  SNR_JWST_HZ_tr  \\\n",
       "40           9.16          14.64        6.48        11.34            4.71   \n",
       "\n",
       "    SNR_JWST_HZ_occ  SNR_JWST_temp_occ      Note  Known_Binary     mag_bp  \\\n",
       "40             1.54               4.76  add_note           0.0  18.839205   \n",
       "\n",
       "    mag_bp_err    mag_rp  mag_rp_err       Habs    e_Habs       Jabs  \\\n",
       "40    0.021953  14.21898    0.003892  10.080883  0.030301  10.650883   \n",
       "\n",
       "      e_Jabs      Kabs    e_Kabs       Gabs    e_Gabs       BCj   BCj_err  \\\n",
       "40  0.024375  9.690883  0.022409  14.612282  0.004296  1.950062  0.018868   \n",
       "\n",
       "       L_bol  L_bol_err    cf  num_stars  min_dist_stars  avg_dist_stars  \\\n",
       "40  0.000717    0.00002  0.22       40.0           15.28             0.0   \n",
       "\n",
       "    rel_flux_stars  plx  plx_err     pmra    pmdec  pmra_err  pmdec_err  \n",
       "40             0.0  0.0      0.0 -342.745 -376.195     0.139      0.134  "
      ]
     },
     "execution_count": 28,
     "metadata": {},
     "output_type": "execute_result"
    }
   ],
   "source": [
    "a = target_list_v6.where((target_list_v6['Sp_ID']=='Sp0025+5422'))\n",
    "a  = a.dropna()\n",
    "a"
   ]
  },
  {
   "cell_type": "code",
   "execution_count": 29,
   "metadata": {},
   "outputs": [
    {
     "data": {
      "text/plain": [
       "271"
      ]
     },
     "execution_count": 29,
     "metadata": {},
     "output_type": "execute_result"
    }
   ],
   "source": [
    "idx_targets_observed = np.where(((target_list_v6['nb_hours_surved']>0) & (target_list_v6['Program']!=5)))[0]\n",
    "len(idx_targets_observed )"
   ]
  },
  {
   "cell_type": "markdown",
   "metadata": {
    "heading_collapsed": true
   },
   "source": [
    "### coverage"
   ]
  },
  {
   "cell_type": "code",
   "execution_count": 30,
   "metadata": {
    "hidden": true
   },
   "outputs": [
    {
     "ename": "JSONDecodeError",
     "evalue": "Expecting value: line 1 column 1 (char 0)",
     "output_type": "error",
     "traceback": [
      "\u001b[0;31m---------------------------------------------------------------------------\u001b[0m",
      "\u001b[0;31mJSONDecodeError\u001b[0m                           Traceback (most recent call last)",
      "\u001b[0;32m<ipython-input-30-813f6fc89b87>\u001b[0m in \u001b[0;36m<module>\u001b[0;34m\u001b[0m\n\u001b[1;32m     36\u001b[0m \u001b[0;34m\u001b[0m\u001b[0m\n\u001b[1;32m     37\u001b[0m \u001b[0;34m\u001b[0m\u001b[0m\n\u001b[0;32m---> 38\u001b[0;31m \u001b[0mnight\u001b[0m \u001b[0;34m=\u001b[0m \u001b[0mgetSPCdata\u001b[0m\u001b[0;34m(\u001b[0m\u001b[0mtarget\u001b[0m\u001b[0;34m=\u001b[0m\u001b[0;34m'TOI-736'\u001b[0m\u001b[0;34m,\u001b[0m\u001b[0mdate\u001b[0m\u001b[0;34m=\u001b[0m\u001b[0;34m'*'\u001b[0m\u001b[0;34m,\u001b[0m\u001b[0map\u001b[0m\u001b[0;34m=\u001b[0m\u001b[0;34m'5'\u001b[0m\u001b[0;34m)\u001b[0m\u001b[0;34m\u001b[0m\u001b[0;34m\u001b[0m\u001b[0m\n\u001b[0m\u001b[1;32m     39\u001b[0m \u001b[0mnight\u001b[0m\u001b[0;34m\u001b[0m\u001b[0;34m\u001b[0m\u001b[0m\n",
      "\u001b[0;32m<ipython-input-30-813f6fc89b87>\u001b[0m in \u001b[0;36mgetSPCdata\u001b[0;34m(target, date, ap, user, password)\u001b[0m\n\u001b[1;32m     19\u001b[0m     \u001b[0murlGet\u001b[0m \u001b[0;34m=\u001b[0m \u001b[0;34m\"http://www.mrao.cam.ac.uk/SPECULOOS/portal/get_file.php?telescope=&date=\"\u001b[0m \u001b[0;34m+\u001b[0m \u001b[0mdate\u001b[0m \u001b[0;34m+\u001b[0m \u001b[0;34m\"&id=\"\u001b[0m \u001b[0;34m+\u001b[0m \u001b[0mtarget\u001b[0m \u001b[0;34m+\u001b[0m \u001b[0;34m\"&filter=&file=MCMC_text_\"\u001b[0m \u001b[0;34m+\u001b[0m \u001b[0mstr\u001b[0m\u001b[0;34m(\u001b[0m\u001b[0map\u001b[0m\u001b[0;34m)\u001b[0m\u001b[0;34m\u001b[0m\u001b[0;34m\u001b[0m\u001b[0m\n\u001b[1;32m     20\u001b[0m     \u001b[0mrGET\u001b[0m \u001b[0;34m=\u001b[0m \u001b[0mrequests\u001b[0m\u001b[0;34m.\u001b[0m\u001b[0mget\u001b[0m\u001b[0;34m(\u001b[0m\u001b[0murlGet\u001b[0m\u001b[0;34m,\u001b[0m \u001b[0mauth\u001b[0m\u001b[0;34m=\u001b[0m\u001b[0;34m(\u001b[0m\u001b[0muser\u001b[0m\u001b[0;34m,\u001b[0m \u001b[0mpassword\u001b[0m\u001b[0;34m)\u001b[0m\u001b[0;34m)\u001b[0m\u001b[0;34m\u001b[0m\u001b[0;34m\u001b[0m\u001b[0m\n\u001b[0;32m---> 21\u001b[0;31m     \u001b[0mrFile\u001b[0m \u001b[0;34m=\u001b[0m \u001b[0mjson\u001b[0m\u001b[0;34m.\u001b[0m\u001b[0mloads\u001b[0m\u001b[0;34m(\u001b[0m\u001b[0mrGET\u001b[0m\u001b[0;34m.\u001b[0m\u001b[0mtext\u001b[0m\u001b[0;34m)\u001b[0m\u001b[0;34m\u001b[0m\u001b[0;34m\u001b[0m\u001b[0m\n\u001b[0m\u001b[1;32m     22\u001b[0m     \u001b[0mprint\u001b[0m\u001b[0;34m(\u001b[0m\u001b[0mrFile\u001b[0m\u001b[0;34m)\u001b[0m\u001b[0;34m\u001b[0m\u001b[0;34m\u001b[0m\u001b[0m\n\u001b[1;32m     23\u001b[0m \u001b[0;31m#     print(rFile)\u001b[0m\u001b[0;34m\u001b[0m\u001b[0;34m\u001b[0m\u001b[0;34m\u001b[0m\u001b[0m\n",
      "\u001b[0;32m/Library/Frameworks/Python.framework/Versions/3.7/lib/python3.7/json/__init__.py\u001b[0m in \u001b[0;36mloads\u001b[0;34m(s, encoding, cls, object_hook, parse_float, parse_int, parse_constant, object_pairs_hook, **kw)\u001b[0m\n\u001b[1;32m    346\u001b[0m             \u001b[0mparse_int\u001b[0m \u001b[0;32mis\u001b[0m \u001b[0;32mNone\u001b[0m \u001b[0;32mand\u001b[0m \u001b[0mparse_float\u001b[0m \u001b[0;32mis\u001b[0m \u001b[0;32mNone\u001b[0m \u001b[0;32mand\u001b[0m\u001b[0;34m\u001b[0m\u001b[0;34m\u001b[0m\u001b[0m\n\u001b[1;32m    347\u001b[0m             parse_constant is None and object_pairs_hook is None and not kw):\n\u001b[0;32m--> 348\u001b[0;31m         \u001b[0;32mreturn\u001b[0m \u001b[0m_default_decoder\u001b[0m\u001b[0;34m.\u001b[0m\u001b[0mdecode\u001b[0m\u001b[0;34m(\u001b[0m\u001b[0ms\u001b[0m\u001b[0;34m)\u001b[0m\u001b[0;34m\u001b[0m\u001b[0;34m\u001b[0m\u001b[0m\n\u001b[0m\u001b[1;32m    349\u001b[0m     \u001b[0;32mif\u001b[0m \u001b[0mcls\u001b[0m \u001b[0;32mis\u001b[0m \u001b[0;32mNone\u001b[0m\u001b[0;34m:\u001b[0m\u001b[0;34m\u001b[0m\u001b[0;34m\u001b[0m\u001b[0m\n\u001b[1;32m    350\u001b[0m         \u001b[0mcls\u001b[0m \u001b[0;34m=\u001b[0m \u001b[0mJSONDecoder\u001b[0m\u001b[0;34m\u001b[0m\u001b[0;34m\u001b[0m\u001b[0m\n",
      "\u001b[0;32m/Library/Frameworks/Python.framework/Versions/3.7/lib/python3.7/json/decoder.py\u001b[0m in \u001b[0;36mdecode\u001b[0;34m(self, s, _w)\u001b[0m\n\u001b[1;32m    335\u001b[0m \u001b[0;34m\u001b[0m\u001b[0m\n\u001b[1;32m    336\u001b[0m         \"\"\"\n\u001b[0;32m--> 337\u001b[0;31m         \u001b[0mobj\u001b[0m\u001b[0;34m,\u001b[0m \u001b[0mend\u001b[0m \u001b[0;34m=\u001b[0m \u001b[0mself\u001b[0m\u001b[0;34m.\u001b[0m\u001b[0mraw_decode\u001b[0m\u001b[0;34m(\u001b[0m\u001b[0ms\u001b[0m\u001b[0;34m,\u001b[0m \u001b[0midx\u001b[0m\u001b[0;34m=\u001b[0m\u001b[0m_w\u001b[0m\u001b[0;34m(\u001b[0m\u001b[0ms\u001b[0m\u001b[0;34m,\u001b[0m \u001b[0;36m0\u001b[0m\u001b[0;34m)\u001b[0m\u001b[0;34m.\u001b[0m\u001b[0mend\u001b[0m\u001b[0;34m(\u001b[0m\u001b[0;34m)\u001b[0m\u001b[0;34m)\u001b[0m\u001b[0;34m\u001b[0m\u001b[0;34m\u001b[0m\u001b[0m\n\u001b[0m\u001b[1;32m    338\u001b[0m         \u001b[0mend\u001b[0m \u001b[0;34m=\u001b[0m \u001b[0m_w\u001b[0m\u001b[0;34m(\u001b[0m\u001b[0ms\u001b[0m\u001b[0;34m,\u001b[0m \u001b[0mend\u001b[0m\u001b[0;34m)\u001b[0m\u001b[0;34m.\u001b[0m\u001b[0mend\u001b[0m\u001b[0;34m(\u001b[0m\u001b[0;34m)\u001b[0m\u001b[0;34m\u001b[0m\u001b[0;34m\u001b[0m\u001b[0m\n\u001b[1;32m    339\u001b[0m         \u001b[0;32mif\u001b[0m \u001b[0mend\u001b[0m \u001b[0;34m!=\u001b[0m \u001b[0mlen\u001b[0m\u001b[0;34m(\u001b[0m\u001b[0ms\u001b[0m\u001b[0;34m)\u001b[0m\u001b[0;34m:\u001b[0m\u001b[0;34m\u001b[0m\u001b[0;34m\u001b[0m\u001b[0m\n",
      "\u001b[0;32m/Library/Frameworks/Python.framework/Versions/3.7/lib/python3.7/json/decoder.py\u001b[0m in \u001b[0;36mraw_decode\u001b[0;34m(self, s, idx)\u001b[0m\n\u001b[1;32m    353\u001b[0m             \u001b[0mobj\u001b[0m\u001b[0;34m,\u001b[0m \u001b[0mend\u001b[0m \u001b[0;34m=\u001b[0m \u001b[0mself\u001b[0m\u001b[0;34m.\u001b[0m\u001b[0mscan_once\u001b[0m\u001b[0;34m(\u001b[0m\u001b[0ms\u001b[0m\u001b[0;34m,\u001b[0m \u001b[0midx\u001b[0m\u001b[0;34m)\u001b[0m\u001b[0;34m\u001b[0m\u001b[0;34m\u001b[0m\u001b[0m\n\u001b[1;32m    354\u001b[0m         \u001b[0;32mexcept\u001b[0m \u001b[0mStopIteration\u001b[0m \u001b[0;32mas\u001b[0m \u001b[0merr\u001b[0m\u001b[0;34m:\u001b[0m\u001b[0;34m\u001b[0m\u001b[0;34m\u001b[0m\u001b[0m\n\u001b[0;32m--> 355\u001b[0;31m             \u001b[0;32mraise\u001b[0m \u001b[0mJSONDecodeError\u001b[0m\u001b[0;34m(\u001b[0m\u001b[0;34m\"Expecting value\"\u001b[0m\u001b[0;34m,\u001b[0m \u001b[0ms\u001b[0m\u001b[0;34m,\u001b[0m \u001b[0merr\u001b[0m\u001b[0;34m.\u001b[0m\u001b[0mvalue\u001b[0m\u001b[0;34m)\u001b[0m \u001b[0;32mfrom\u001b[0m \u001b[0;32mNone\u001b[0m\u001b[0;34m\u001b[0m\u001b[0;34m\u001b[0m\u001b[0m\n\u001b[0m\u001b[1;32m    356\u001b[0m         \u001b[0;32mreturn\u001b[0m \u001b[0mobj\u001b[0m\u001b[0;34m,\u001b[0m \u001b[0mend\u001b[0m\u001b[0;34m\u001b[0m\u001b[0;34m\u001b[0m\u001b[0m\n",
      "\u001b[0;31mJSONDecodeError\u001b[0m: Expecting value: line 1 column 1 (char 0)"
     ]
    }
   ],
   "source": [
    "def index_list1_list2(list1, list2): #list 2 longer than list 1\n",
    "    idx_list1_in_list2 = []\n",
    "    idx_list2_in_list1 = []\n",
    "    for i in range(len(list2)):\n",
    "        for j in range(len(list1)):\n",
    "            if list2[i] == list1[j]:\n",
    "                idx_list1_in_list2.append(i)\n",
    "                idx_list2_in_list1.append(j)\n",
    "    return idx_list1_in_list2, idx_list2_in_list1\n",
    "\n",
    "def getSPClcV2(target, ap = '', pwvCorr = 0, user=\"educrot\", password=\"58JMSGgdmzTB\"):\n",
    "    urlGet = \"http://www.mrao.cam.ac.uk/SPECULOOS/portal/get_tls_prep_v2.php?date=*&id=\" + target + \"&filter=&telescope=&ap=\" + str(ap) + \"&pwvCorr=\" + str(pwvCorr)\n",
    "    rGET = requests.get(urlGet, auth=(user, password))\n",
    "    names = ['TMID-2450000', 'BJDMID-2450000', 'DIFF_FLUX', 'ERROR', 'DIFF_FLUX_PWV', 'RA_MOVE', 'DEC_MOVE', 'FWHM', 'PSF_a_5', 'PSF_b_5', 'SKYLEVEL', 'AIRMASS', 'EXPOSURE']\n",
    "    lc = pd.read_csv(io.StringIO(rGET.text), header=None, names=names, delimiter='\\s+')\n",
    "    return lc\n",
    "\n",
    "def getSPCdata(target, date, ap=6, user=\"educrot\", password=\"58JMSGgdmzTB\"):\n",
    "    urlGet = \"http://www.mrao.cam.ac.uk/SPECULOOS/portal/get_file.php?telescope=&date=\" + date + \"&id=\" + target + \"&filter=&file=MCMC_text_\" + str(ap)\n",
    "    rGET = requests.get(urlGet, auth=(user, password))\n",
    "    rFile = json.loads(rGET.text)\n",
    "    print(rFile)\n",
    "#     print(rFile)\n",
    "    # retrieve available file\n",
    "    try:\n",
    "        urlMCMC = 'http://www.mrao.cam.ac.uk/SPECULOOS/portal/' + rFile[0]\n",
    "        rMCMC = requests.get(urlMCMC, auth=(user, password))\n",
    "        # read files\n",
    "        MCMC = pd.read_csv(io.StringIO(rMCMC.text), sep=' ')\n",
    "        MCMC['JD'] = MCMC['TMID-2450000'] + 2450000\n",
    "        targetdf = pd.DataFrame({'JD':MCMC['JD'].values,'DIFF_FLUX': MCMC['DIFF_FLUX'].values, 'ERROR': MCMC['ERROR'].values, 'AIRMASS': MCMC['AIRMASS'].values})\n",
    "        return targetdf\n",
    "    except TypeError:\n",
    "        targetdf = pd.DataFrame({'JD':[],'DIFF_FLUX': [], 'ERROR': [], 'AIRMASS': []})\n",
    "        return targetdf.reset_index(drop=True)\n",
    "\n",
    "\n",
    "night = getSPCdata(target='TOI-736',date='*',ap='5')\n",
    "night"
   ]
  },
  {
   "cell_type": "code",
   "execution_count": null,
   "metadata": {
    "hidden": true
   },
   "outputs": [],
   "source": [
    "def coverage(t, p):\n",
    "    if p==0:\n",
    "        return 1\n",
    "    else:\n",
    "        ph = ((t + 0.5*p)%p - (0.5*p))\n",
    "        sph_in = np.sort(ph)\n",
    "        sph_out = sph_in[::-1]\n",
    "\n",
    "        sph_in_diff = np.abs(np.diff(sph_in))\n",
    "        sph_out_diff = np.abs(np.diff(sph_out))\n",
    "\n",
    "        df = np.min(np.diff(t))\n",
    "\n",
    "        spaces_in = np.sort(sph_in[np.hstack([*np.argwhere(sph_in_diff > 4*df).T, len(sph_in)-1])])\n",
    "        spaces_out = np.sort(sph_out[np.hstack([*np.argwhere(sph_out_diff > 4*df).T, len(sph_in)-1])])\n",
    "\n",
    "        return np.sum(spaces_in - spaces_out)/p\n",
    "\n",
    "    \n",
    "def phase_coverage_given_target(name_observatory,target,path_target_list,pmin,pmax):\n",
    "\n",
    "    if path_target_list is None:\n",
    "        path_target_list = 'speculoos_target_list_v6.txt'\n",
    "\n",
    "    target_list = pd.read_csv(path_target_list,sep=' ')\n",
    "    idx_target_list = list(target_list['Sp_ID']).index(target)\n",
    "\n",
    "\n",
    "    #data = getSPCdata(target,date='*',ap=5)\n",
    "    data = getSPClcV2(target, ap = '', pwvCorr = 0)\n",
    "\n",
    "    t = data['BJDMID-2450000'] # 'BJDMID-2450000' # 'JD'\n",
    "    t = t.fillna(0)\n",
    "\n",
    "    P_min = pmin\n",
    "    P_max = pmax\n",
    "    periods = np.arange(P_min, P_max, 0.01)\n",
    "\n",
    "    try:\n",
    "        covs = [coverage(t, period) for period in periods]\n",
    "        mean_cov = np.mean(covs)*100\n",
    "        return covs,mean_cov,target_list['nb_hours_surved'][idx_target_list]\n",
    "        #fig, ax = plt.subplots(1, figsize=(9, 7))\n",
    "        #plt.plot(periods, covs, c=\"silver\",label='Effective cov = ' +  str(round(mean_cov,1)) + ' %')\n",
    "        #plt.plot(periods, covs, \".\", c=\"k\",label=r'$SNR_{JWST}$ = ' +  str(round(target_list['SNR_JWST_HZ_tr'][idx_target_list],3)))\n",
    "        #plt.ylabel('Phase coverage in %')\n",
    "        #plt.xlabel('Period in days')\n",
    "        #plt.legend(fontsize=16)\n",
    "        #plt.grid(color='gainsboro', linestyle='-', linewidth=1, alpha=0.3)\n",
    "        #plt.title(r'Phase coverage for ' + target + ' with periods $\\in$ ' + str(pmin) + ' - ' + str(pmax) )\n",
    "        #plt.show()\n",
    "    except ValueError:\n",
    "        return 0,0,target_list['nb_hours_surved'][idx_target_list]\n",
    "        print('ERROR: No v2 data for this target ! ')\n"
   ]
  },
  {
   "cell_type": "code",
   "execution_count": null,
   "metadata": {
    "hidden": true
   },
   "outputs": [],
   "source": [
    "night = getSPCdata(target='trappist-1',date='20180620',ap='5')"
   ]
  },
  {
   "cell_type": "code",
   "execution_count": null,
   "metadata": {
    "hidden": true,
    "scrolled": true
   },
   "outputs": [],
   "source": [
    "idx_targets_observed = np.where((target_list_v6['nb_hours_surved']>10))[0]\n",
    "#idx_targets_observed = idx_targets_observed[44:55]\n",
    "mean_cov_observed_targets = []\n",
    "nb_hours_target_observed = []\n",
    "\n",
    "for i in idx_targets_observed:\n",
    "    covs,mean_cov,nb_hours = phase_coverage_given_target(name_observatory='SSO',target=target_list_v6['Sp_ID'][i],\n",
    "                                    path_target_list=None,pmin=0,pmax=6) \n",
    "    mean_cov_observed_targets.append(mean_cov)\n",
    "    nb_hours_target_observed.append(target_list_v6['nb_hours_surved'][i])\n",
    "    print(target_list_v6['Sp_ID'][i],mean_cov,nb_hours)\n",
    "\n",
    "\n",
    "\n"
   ]
  },
  {
   "cell_type": "code",
   "execution_count": null,
   "metadata": {
    "hidden": true
   },
   "outputs": [],
   "source": [
    "idx_targets_observed = np.where(((target_list_v6['nb_hours_surved']>50) & (target_list_v6['Program']!=5)))[0]\n",
    "\n",
    "lists = np.array_split(idx_targets_observed, 5)\n",
    "list_1 = lists[0]\n",
    "list_2 = lists[1]\n",
    "list_3 = lists[2]\n",
    "list_4 = lists[3]\n",
    "list_5 = lists[4]\n",
    "\n",
    "df_list1 = pd.DataFrame({'Sp_ID':target_list_v6['Sp_ID'][list_1],'Gaia_ID':target_list_v6['Gaia_ID'][list_1],'nb_hours_surved':target_list_v6['nb_hours_surved'][list_1],\n",
    "                       'Program':target_list_v6['Program'][list_1],'RA':target_list_v6['RA'][list_1],'DEC':target_list_v6['DEC'][list_1],\n",
    "                        'Telescope_used':target_list_v6['telescope'][list_1],'Notes':target_list_v6['Note'][list_1],\n",
    "                        'observation_dates':dates_obs_list1_merged \n",
    "                        })\n",
    "df_list1.to_csv('List1.csv',sep=',',index=None)\n",
    "\n",
    "df_list2 = pd.DataFrame({'Sp_ID':target_list_v6['Sp_ID'][list_2],'Gaia_ID':target_list_v6['Gaia_ID'][list_2],'nb_hours_surved':target_list_v6['nb_hours_surved'][list_2],\n",
    "                       'Program':target_list_v6['Program'][list_2],'RA':target_list_v6['RA'][list_2],'DEC':target_list_v6['DEC'][list_2],\n",
    "                        'Telescope_used':target_list_v6['telescope'][list_2],'Notes':target_list_v6['Note'][list_2],\n",
    "                         'observation_dates':dates_obs_list2_merged\n",
    "                        })\n",
    "df_list2.to_csv('List2.csv',sep=',',index=None)\n",
    "\n",
    "df_list3 = pd.DataFrame({'Sp_ID':target_list_v6['Sp_ID'][list_3],'Gaia_ID':target_list_v6['Gaia_ID'][list_3],'nb_hours_surved':target_list_v6['nb_hours_surved'][list_3],\n",
    "                       'Program':target_list_v6['Program'][list_3],'RA':target_list_v6['RA'][list_3],'DEC':target_list_v6['DEC'][list_3],\n",
    "                        'Telescope_used':target_list_v6['telescope'][list_3],'Notes':target_list_v6['Note'][list_3],\n",
    "                         'observation_dates':dates_obs_list3_merged\n",
    "                        })\n",
    "df_list3.to_csv('List3.csv',sep=',',index=None)\n",
    "\n",
    "df_list4 = pd.DataFrame({'Sp_ID':target_list_v6['Sp_ID'][list_4],'Gaia_ID':target_list_v6['Gaia_ID'][list_4],'nb_hours_surved':target_list_v6['nb_hours_surved'][list_4],\n",
    "                       'Program':target_list_v6['Program'][list_4],'RA':target_list_v6['RA'][list_4],'DEC':target_list_v6['DEC'][list_4],\n",
    "                        'Telescope_used':target_list_v6['telescope'][list_4],'Notes':target_list_v6['Note'][list_4],\n",
    "                         'observation_dates':dates_obs_list4_merged\n",
    "                        })\n",
    "df_list4.to_csv('List4.csv',sep=',',index=None)\n",
    "\n",
    "df_list5 = pd.DataFrame({'Sp_ID':target_list_v6['Sp_ID'][list_5],'Gaia_ID':target_list_v6['Gaia_ID'][list_5],'nb_hours_surved':target_list_v6['nb_hours_surved'][list_5],\n",
    "                       'Program':target_list_v6['Program'][list_5],'RA':target_list_v6['RA'][list_5],'DEC':target_list_v6['DEC'][list_5],\n",
    "                        'Telescope_used':target_list_v6['telescope'][list_5],'Notes':target_list_v6['Note'][list_5],\n",
    "                         'observation_dates':dates_obs_list5_merged\n",
    "                        })\n",
    "df_list5.to_csv('List5.csv',sep=',',index=None)\n",
    "\n",
    "df_list4"
   ]
  },
  {
   "cell_type": "code",
   "execution_count": null,
   "metadata": {
    "hidden": true
   },
   "outputs": [],
   "source": [
    "frames = [df_list1,df_list2,df_list3,df_list4,df_list5]\n",
    "\n",
    "all_targets = pd.concat(frames)\n",
    "\n",
    "all_targets"
   ]
  },
  {
   "cell_type": "markdown",
   "metadata": {
    "heading_collapsed": true
   },
   "source": [
    "### Get dates of obs for each target observed"
   ]
  },
  {
   "cell_type": "code",
   "execution_count": null,
   "metadata": {
    "hidden": true
   },
   "outputs": [],
   "source": [
    "import glob\n",
    "import os\n",
    "\n",
    "def give_dates_of_obs(target):\n",
    "    dates_of_obs = []\n",
    "    telescopes = ['Artemis','Saint-Ex','Io','Europa','Ganymede','Callisto','TS_La_Silla','TN_Oukaimeden']\n",
    "    for tel in telescopes:\n",
    "        days = glob.glob('./DATABASE/' + tel + '/*.zip')\n",
    "        dates = [days[i].replace('./DATABASE/' + tel + '/','').replace('.zip','') for i in range(len(days))]\n",
    "        for d in dates:\n",
    "            plans = glob.glob('./DATABASE/' + tel + '/Plans_by_date/' + d  + '/*.txt')\n",
    "            for p in plans:\n",
    "                if p.endswith('Obj_' + target + '.txt'):\n",
    "                    dates_of_obs.append(tel + '_' + d)\n",
    "\n",
    "    return dates_of_obs\n",
    "\n",
    "#dates_obs_list1 = []\n",
    "#for t in target_list_v6['Sp_ID'][list_1]:\n",
    "#    dates_obs_list1.append(give_dates_of_obs(target=t))\n",
    "    \n",
    "#dates_obs_list2 = []\n",
    "#for t in target_list_v6['Sp_ID'][list_2]:\n",
    "#    dates_obs_list2.append(give_dates_of_obs(target=t))\n",
    "\n",
    "dates_obs_list3 = []\n",
    "for t in target_list_v6['Sp_ID'][list_3]:\n",
    "    dates_obs_list3.append(give_dates_of_obs(target=t))\n",
    "    \n",
    "dates_obs_list4 = []\n",
    "for t in target_list_v6['Sp_ID'][list_4]:\n",
    "    dates_obs_list4.append(give_dates_of_obs(target=t))\n",
    "    \n",
    "dates_obs_list5 = []\n",
    "for t in target_list_v6['Sp_ID'][list_5]:\n",
    "    dates_obs_list5.append(give_dates_of_obs(target=t))"
   ]
  },
  {
   "cell_type": "code",
   "execution_count": null,
   "metadata": {
    "hidden": true,
    "scrolled": true
   },
   "outputs": [],
   "source": [
    "def getSPCdata_elsa(target, date, ap=6, user=\"educrot\", password=\"58JMSGgdmzTB\"):\n",
    "    urlGet = \"http://www.mrao.cam.ac.uk/SPECULOOS/portal/get_file.php?telescope=&date=\" + date + \"&id=\" + target + \"&filter=&file=MCMC_text_\" + str(ap)\n",
    "    rGET = requests.get(urlGet, auth=(user, password))\n",
    "    rFile = json.loads(rGET.text)\n",
    "    dates = []\n",
    "    targetdf = pd.DataFrame({'JD':[],'DIFF_FLUX': [], 'ERROR': [], 'AIRMASS': []})\n",
    "    # retrieve available file\n",
    "    try:\n",
    "        for i in range(len(rFile)):\n",
    "            if rFile[i].find('Europa') != -1:\n",
    "                tel = 'Europa'\n",
    "            if rFile[i].find('Io') != -1:\n",
    "                tel = 'Io'\n",
    "            if rFile[i].find('Ganymede') != -1:\n",
    "                tel = 'Ganymede'\n",
    "            if rFile[i].find('Callisto') != -1:\n",
    "                tel = 'Callisto'\n",
    "            if rFile[i].find('TN_Oukaimeden') != -1:\n",
    "                tel = 'TN_Oukaimeden'\n",
    "            if rFile[i].find('TS_La_Silla') != -1:\n",
    "                tel = 'TS_La_Silla'\n",
    "            d = rFile[i].replace('..','').replace('/output/','').replace('/lightcurves/I+z/MCMC_text_6','').replace(str(target),'').replace('/','').replace('Io','').replace('Europa','').replace('Ganymede','').replace('Callisto','').replace('Artemis','')\n",
    "            dates.append(tel + '_' + d)\n",
    "            try:\n",
    "                urlMCMC = 'http://www.mrao.cam.ac.uk/SPECULOOS/portal/' + rFile[i]\n",
    "                rMCMC = requests.get(urlMCMC, auth=(user, password))\n",
    "                # read files\n",
    "                MCMC = pd.read_csv(io.StringIO(rMCMC.text), sep=' ')\n",
    "                MCMC['JD'] = MCMC['TMID-2450000'] + 2450000\n",
    "                frames = [targetdf,MCMC]\n",
    "                targetdf = pd.concat(frames)\n",
    "                #targetdf.append(pd.DataFrame({'JD':MCMC['JD'].values,'DIFF_FLUX': MCMC['DIFF_FLUX'].values,\n",
    "                #                               'ERROR': MCMC['ERROR'].values, 'AIRMASS': MCMC['AIRMASS'].values}))\n",
    "                #return targetdf\n",
    "            except TypeError:\n",
    "                targetdf.append(pd.DataFrame({'JD':[],'DIFF_FLUX': [], 'ERROR': [], 'AIRMASS': []}))\n",
    "                #return targetdf.reset_index(drop=True)\n",
    "    except TypeError:\n",
    "        print('WARNING: No obs')\n",
    "    return targetdf, dates\n",
    "    \n"
   ]
  },
  {
   "cell_type": "code",
   "execution_count": null,
   "metadata": {
    "hidden": true,
    "scrolled": true
   },
   "outputs": [],
   "source": [
    "from progressbar import ProgressBar\n",
    "pbar = ProgressBar()\n",
    "dates_list_3 = []\n",
    "for i in pbar(range(len(list_3))):\n",
    "    a,d =getSPCdata_elsa(target=target_list_v6['Sp_ID'][list_3[i]], date=\"*\", ap=6)\n",
    "    dates_list_3.append(d)\n",
    "    \n",
    "\n"
   ]
  },
  {
   "cell_type": "code",
   "execution_count": null,
   "metadata": {
    "hidden": true
   },
   "outputs": [],
   "source": [
    "pbar = ProgressBar()\n",
    "\n",
    "dates_list_4 = []\n",
    "for i in pbar(range(len(list_4))):\n",
    "    a,d =getSPCdata_elsa(target=target_list_v6['Sp_ID'][list_4[i]], date=\"*\", ap=6)\n",
    "    dates_list_4.append(d)\n",
    "\n",
    "pbar = ProgressBar()\n",
    "dates_list_5 = []\n",
    "for i in pbar(range(len(list_5))):\n",
    "    a,d =getSPCdata_elsa(target=target_list_v6['Sp_ID'][list_5[i]], date=\"*\", ap=6)\n",
    "    dates_list_5.append(d)"
   ]
  },
  {
   "cell_type": "code",
   "execution_count": null,
   "metadata": {
    "hidden": true
   },
   "outputs": [],
   "source": [
    "result = []\n",
    "for i in range(len(list_3)):\n",
    "    in_second_but_not_in_first = set(dates_obs_list3[i]) - set(dates_list_3[i])\n",
    "    result.append(dates_list_3[i] + list(in_second_but_not_in_first))\n",
    "    result\n",
    "    \n",
    "dates_obs_list3_merged = result\n",
    "\n",
    "result = []\n",
    "for i in range(len(list_4)):\n",
    "    in_second_but_not_in_first = set(dates_obs_list4[i]) - set(dates_list_4[i])\n",
    "    result.append(dates_list_4[i] + list(in_second_but_not_in_first))\n",
    "    result\n",
    "    \n",
    "dates_obs_list4_merged = result\n",
    "\n",
    "result = []\n",
    "for i in range(len(list_5)):\n",
    "    in_second_but_not_in_first = set(dates_obs_list5[i]) - set(dates_list_5[i])\n",
    "    result.append(dates_list_5[i] + list(in_second_but_not_in_first))\n",
    "    result\n",
    "    \n",
    "dates_obs_list5_merged = result"
   ]
  },
  {
   "cell_type": "code",
   "execution_count": null,
   "metadata": {
    "hidden": true
   },
   "outputs": [],
   "source": [
    "dates_obs_list4_merged "
   ]
  },
  {
   "cell_type": "markdown",
   "metadata": {
    "heading_collapsed": true
   },
   "source": [
    "### Random"
   ]
  },
  {
   "cell_type": "code",
   "execution_count": null,
   "metadata": {
    "hidden": true
   },
   "outputs": [],
   "source": [
    "import random\n",
    "\n",
    "#random.shuffle()\n",
    "\n",
    "index = list(all_targets['Sp_ID'].index)\n",
    "random.shuffle(index)\n",
    "\n",
    "index"
   ]
  },
  {
   "cell_type": "code",
   "execution_count": null,
   "metadata": {
    "hidden": true
   },
   "outputs": [],
   "source": [
    "24/4"
   ]
  },
  {
   "cell_type": "code",
   "execution_count": null,
   "metadata": {
    "hidden": true
   },
   "outputs": [],
   "source": [
    "import more_itertools as mit\n",
    "\n",
    "windows = list(mit.windowed(index, n=40, step=25))\n",
    "\n",
    "#for i in range(0,24):\n",
    " #   print(windows[-1][26+i],windows[0][i])\n",
    "    #windows[-1][25+i] = windows[0][i]\n",
    "\n",
    "    \n",
    "#list1 = np.array(windows[0])\n",
    "#list2 = np.array(windows[1])\n",
    "#list3 = np.array(windows[2])\n",
    "#list4 = np.array(windows[3])\n",
    "#list5 = np.array(windows[4])\n",
    "#list6 = np.array(windows[5])\n",
    "#list7 = np.array(windows[6][:-4])\n",
    "\n",
    "#list5,list6,len(windows),list7\n",
    "\n",
    "list1_a = index[:24]\n",
    "list2_a = index[24:48] \n",
    "list3_a = index[48:72]\n",
    "list4_a = index[72:96]\n",
    "list5_a = index[96:120] \n",
    "list6_a = index[120:144] \n",
    "list7_a = index[144:168] \n",
    "list8_a = index[168:186] \n",
    "\n",
    "list1 = list1_a + list2_a[:6] + list4_a[6:12] + list6_a[12:18] + list8_a[18:24] \n",
    "list2 = list2_a + list1_a[:6] + list3_a[6:12] + list5_a[12:18] + list7_a[18:24]\n",
    "list3 = list3_a + list4_a[:6] + list6_a[6:12] + list8_a[12:18] + list2_a[18:24]\n",
    "list4 = list4_a + list5_a[:6] + list7_a[6:12] + list1_a[12:18] + list3_a[18:24]\n",
    "list5 = list5_a + list6_a[:6] + list8_a[6:12] + list2_a[12:18] + list4_a[18:24]\n",
    "list6 = list6_a + list7_a[:6] + list1_a[6:12] + list3_a[12:18] + list5_a[18:24]\n",
    "list7 = list7_a + list8_a[:6] + list2_a[6:12] + list4_a[12:18] + list6_a[18:24]\n",
    "list8 = list8_a + list3_a[:6] + list5_a[6:12] + list7_a[12:18] + list1_a[18:24]\n",
    "\n",
    "\n",
    "len(list7),len(list1_a),len(list8)"
   ]
  },
  {
   "cell_type": "code",
   "execution_count": null,
   "metadata": {
    "hidden": true
   },
   "outputs": [],
   "source": [
    "i = 476\n",
    "for j in range(len(windows)):\n",
    "    ici = np.where((np.array(windows[j]) ==i))[0]\n",
    "    print(ici)"
   ]
  },
  {
   "cell_type": "code",
   "execution_count": null,
   "metadata": {
    "hidden": true
   },
   "outputs": [],
   "source": [
    "for i in list6:\n",
    "    if i in list7 :\n",
    "        print(i)\n"
   ]
  },
  {
   "cell_type": "code",
   "execution_count": null,
   "metadata": {
    "hidden": true
   },
   "outputs": [],
   "source": [
    "list7 = np.array(windows[0][:29]+windows[-1][15:-4])"
   ]
  },
  {
   "cell_type": "code",
   "execution_count": null,
   "metadata": {
    "hidden": true
   },
   "outputs": [],
   "source": [
    "#a= np.load('/Users/elsaducrot/specphot/coverage/coverage_info_per_target.npy',allow_pickle=True)\n",
    "\n",
    "with open('/Users/elsaducrot/Documents/PhD_SPECULOOS/WG2/a_storage_0_to_202.pick','rb') as f:\n",
    "    a1 = pickle.load(f)\n",
    "with open('/Users/elsaducrot/Documents/PhD_SPECULOOS/WG2/a_storage_202_to_203.pick','rb') as f:\n",
    "    a2 = pickle.load(f)\n",
    "with open('/Users/elsaducrot/Documents/PhD_SPECULOOS/WG2/a_storage_203_to_291.pick','rb') as f:\n",
    "    a3 = pickle.load(f)\n",
    "with open('/Users/elsaducrot/Documents/PhD_SPECULOOS/WG2/a_storage_291_to_292.pick','rb') as f:\n",
    "    a4 = pickle.load(f)\n",
    "with open('/Users/elsaducrot/Documents/PhD_SPECULOOS/WG2/a_storage_291_to_end.pick','rb') as f:\n",
    "    a5 = pickle.load(f)\n",
    "    \n",
    "a = np.concatenate((a1,a2,a3,a4,a5), axis=0)\n"
   ]
  },
  {
   "cell_type": "code",
   "execution_count": null,
   "metadata": {
    "hidden": true
   },
   "outputs": [],
   "source": [
    "name_a = [a[i][0] for i in range(0,len(a))]\n",
    "\n",
    "idx_a_in_v6,idx_v6_in_a = index_list1_list2(name_a,target_list_v6['Sp_ID'])"
   ]
  },
  {
   "cell_type": "code",
   "execution_count": null,
   "metadata": {
    "hidden": true
   },
   "outputs": [],
   "source": [
    "\n",
    "t = np.concatenate(a[idx_v6_in_a[1]][1])\n",
    "fig = plt.subplots(figsize=(20,3))\n",
    "flux = [1]*len(t)\n",
    "plt.ylim([0.99,1.01])\n",
    "plt.plot(np.array(t)-2450000,flux,'.',markersize=10)\n"
   ]
  },
  {
   "cell_type": "code",
   "execution_count": null,
   "metadata": {
    "hidden": true
   },
   "outputs": [],
   "source": [
    "len(list1),len(list2),len(list3),len(list4),len(list5),len(list6),len(list7)"
   ]
  },
  {
   "cell_type": "code",
   "execution_count": null,
   "metadata": {
    "hidden": true
   },
   "outputs": [],
   "source": [
    "list6"
   ]
  },
  {
   "cell_type": "code",
   "execution_count": null,
   "metadata": {
    "hidden": true
   },
   "outputs": [],
   "source": [
    "\n",
    "\n",
    "df_2_list1 = pd.DataFrame({'Sp_ID':all_targets['Sp_ID'][list1],'Gaia_ID':target_list_v6['Gaia_ID'][list1],'nb_hours_surved':all_targets['nb_hours_surved'][list1],\n",
    "                       'Program':all_targets['Program'][list1],'RA':all_targets['RA'][list1],'DEC':all_targets['DEC'][list1],\n",
    "                        'Telescope_used':all_targets['Telescope_used'][list1],'Notes':all_targets['Notes'][list1],\n",
    "                        'observation_dates':all_targets['observation_dates'][list1]\n",
    "                        })\n",
    "df_2_list1.to_csv('List1.csv',sep=',',index=None)\n",
    "\n",
    "df_2_list2 = pd.DataFrame({'Sp_ID':all_targets['Sp_ID'][list2],'Gaia_ID':target_list_v6['Gaia_ID'][list2],'nb_hours_surved':all_targets['nb_hours_surved'][list2],\n",
    "                       'Program':all_targets['Program'][list2],'RA':all_targets['RA'][list2],'DEC':all_targets['DEC'][list2],\n",
    "                        'Telescope_used':all_targets['Telescope_used'][list2],'Notes':all_targets['Notes'][list2],\n",
    "                         'observation_dates':all_targets['observation_dates'][list2]\n",
    "                        })\n",
    "df_2_list2.to_csv('List2.csv',sep=',',index=None)\n",
    "\n",
    "df_2_list3 = pd.DataFrame({'Sp_ID':all_targets['Sp_ID'][list3],'Gaia_ID':target_list_v6['Gaia_ID'][list3],'nb_hours_surved':all_targets['nb_hours_surved'][list3],\n",
    "                       'Program':all_targets['Program'][list3],'RA':all_targets['RA'][list3],'DEC':all_targets['DEC'][list3],\n",
    "                        'Telescope_used':all_targets['Telescope_used'][list3],'Notes':all_targets['Notes'][list3],\n",
    "                         'observation_dates':all_targets['observation_dates'][list3]\n",
    "                        })\n",
    "df_2_list3.to_csv('List3.csv',sep=',',index=None)\n",
    "\n",
    "df_2_list4 = pd.DataFrame({'Sp_ID':all_targets['Sp_ID'][list4],'Gaia_ID':target_list_v6['Gaia_ID'][list4],'nb_hours_surved':all_targets['nb_hours_surved'][list4],\n",
    "                       'Program':all_targets['Program'][list4],'RA':all_targets['RA'][list4],'DEC':all_targets['DEC'][list4],\n",
    "                        'Telescope_used':all_targets['Telescope_used'][list4],'Notes':all_targets['Notes'][list4],\n",
    "                         'observation_dates':all_targets['observation_dates'][list4]\n",
    "                        })\n",
    "df_2_list4.to_csv('List4.csv',sep=',',index=None)\n",
    "\n",
    "df_2_list5 = pd.DataFrame({'Sp_ID':all_targets['Sp_ID'][list5],'Gaia_ID':target_list_v6['Gaia_ID'][list5],'nb_hours_surved':all_targets['nb_hours_surved'][list5],\n",
    "                       'Program':all_targets['Program'][list5],'RA':all_targets['RA'][list5],'DEC':all_targets['DEC'][list5],\n",
    "                        'Telescope_used':all_targets['Telescope_used'][list5],'Notes':all_targets['Notes'][list5],\n",
    "                         'observation_dates':all_targets['observation_dates'][list5]\n",
    "                        })\n",
    "df_2_list5.to_csv('List5.csv',sep=',',index=None)\n",
    "\n",
    "df_2_list6 = pd.DataFrame({'Sp_ID':all_targets['Sp_ID'][list6],'Gaia_ID':target_list_v6['Gaia_ID'][list6],'nb_hours_surved':all_targets['nb_hours_surved'][list6],\n",
    "                       'Program':all_targets['Program'][list6],'RA':all_targets['RA'][list6],'DEC':all_targets['DEC'][list6],\n",
    "                        'Telescope_used':all_targets['Telescope_used'][list6],'Notes':all_targets['Notes'][list6],\n",
    "                         'observation_dates':all_targets['observation_dates'][list6]\n",
    "                        })\n",
    "df_2_list6.to_csv('List6.csv',sep=',',index=None)\n",
    "\n",
    "df_2_list7 = pd.DataFrame({'Sp_ID':all_targets['Sp_ID'][list7],'Gaia_ID':target_list_v6['Gaia_ID'][list7],'nb_hours_surved':all_targets['nb_hours_surved'][list7],\n",
    "                       'Program':all_targets['Program'][list7],'RA':all_targets['RA'][list7],'DEC':all_targets['DEC'][list7],\n",
    "                        'Telescope_used':all_targets['Telescope_used'][list7],'Notes':all_targets['Notes'][list7],\n",
    "                         'observation_dates':all_targets['observation_dates'][list7]\n",
    "                        })\n",
    "df_2_list7.to_csv('List7.csv',sep=',',index=None)\n",
    "\n",
    "\n",
    "df_2_list8 = pd.DataFrame({'Sp_ID':all_targets['Sp_ID'][list8],'Gaia_ID':target_list_v6['Gaia_ID'][list8],'nb_hours_surved':all_targets['nb_hours_surved'][list8],\n",
    "                       'Program':all_targets['Program'][list8],'RA':all_targets['RA'][list8],'DEC':all_targets['DEC'][list8],\n",
    "                        'Telescope_used':all_targets['Telescope_used'][list8],'Notes':all_targets['Notes'][list8],\n",
    "                         'observation_dates':all_targets['observation_dates'][list8]\n",
    "                        })\n",
    "df_2_list8.to_csv('List8.csv',sep=',',index=None)\n",
    "\n",
    "\n",
    "df_2_list8"
   ]
  },
  {
   "cell_type": "code",
   "execution_count": null,
   "metadata": {
    "hidden": true
   },
   "outputs": [],
   "source": [
    "import random\n",
    "df_2_list1 = pd.read_csv('List1.csv',sep=',')\n",
    "df_2_list2 = pd.read_csv('List2.csv',sep=',')\n",
    "df_2_list3 = pd.read_csv('List3.csv',sep=',')\n",
    "df_2_list4 = pd.read_csv('List4.csv',sep=',')\n",
    "df_2_list5 = pd.read_csv('List5.csv',sep=',')\n",
    "df_2_list6 = pd.read_csv('List6.csv',sep=',')\n",
    "df_2_list7 = pd.read_csv('List7.csv',sep=',')\n",
    "df_2_list8 = pd.read_csv('List8.csv',sep=',')\n",
    "\n",
    "list9_a_sp = random.sample(list(df_2_list1.index.values),5) \n",
    "\n",
    "a = pd.DataFrame({'Sp_ID':df_2_list1['Sp_ID'][list9_a_sp],'Gaia_ID':target_list_v6['Gaia_ID'][list9_a_sp],'nb_hours_surved':df_2_list1['nb_hours_surved'][list9_a_sp],\n",
    "                       'Program':df_2_list1['Program'][list9_a_sp],'RA':df_2_list1['RA'][list9_a_sp],'DEC':df_2_list1['DEC'][list9_a_sp],\n",
    "                        'Telescope_used':df_2_list1['Telescope_used'][list9_a_sp],'Notes':df_2_list1['Notes'][list9_a_sp],\n",
    "                         'observation_dates':df_2_list1['observation_dates'][list9_a_sp]\n",
    "                        })\n",
    "list9_b_sp = random.sample(list(df_2_list2.index.values),5) \n",
    "\n",
    "b = pd.DataFrame({'Sp_ID':df_2_list2['Sp_ID'][list9_b_sp],'Gaia_ID':target_list_v6['Gaia_ID'][list9_b_sp],'nb_hours_surved':df_2_list2['nb_hours_surved'][list9_b_sp],\n",
    "                       'Program':df_2_list2['Program'][list9_b_sp],'RA':df_2_list2['RA'][list9_b_sp],'DEC':df_2_list2['DEC'][list9_b_sp],\n",
    "                        'Telescope_used':df_2_list2['Telescope_used'][list9_b_sp],'Notes':df_2_list2['Notes'][list9_b_sp],\n",
    "                         'observation_dates':df_2_list2['observation_dates'][list9_b_sp]\n",
    "                        })\n",
    "\n",
    "list9_c_sp = random.sample(list(df_2_list3.index.values),5) \n",
    "\n",
    "c = pd.DataFrame({'Sp_ID':df_2_list3['Sp_ID'][list9_c_sp],'Gaia_ID':target_list_v6['Gaia_ID'][list9_c_sp],'nb_hours_surved':df_2_list3['nb_hours_surved'][list9_c_sp],\n",
    "                       'Program':df_2_list3['Program'][list9_c_sp],'RA':df_2_list3['RA'][list9_c_sp],'DEC':df_2_list3['DEC'][list9_c_sp],\n",
    "                        'Telescope_used':df_2_list3['Telescope_used'][list9_c_sp],'Notes':df_2_list3['Notes'][list9_c_sp],\n",
    "                         'observation_dates':df_2_list3['observation_dates'][list9_c_sp]\n",
    "                        })\n",
    "\n",
    "list9_d_sp = random.sample(list(df_2_list4.index.values),5) \n",
    "\n",
    "d = pd.DataFrame({'Sp_ID':df_2_list4['Sp_ID'][list9_d_sp],'Gaia_ID':target_list_v6['Gaia_ID'][list9_d_sp],'nb_hours_surved':df_2_list4['nb_hours_surved'][list9_d_sp],\n",
    "                       'Program':df_2_list4['Program'][list9_d_sp],'RA':df_2_list4['RA'][list9_d_sp],'DEC':df_2_list4['DEC'][list9_d_sp],\n",
    "                        'Telescope_used':df_2_list4['Telescope_used'][list9_c_sp],'Notes':df_2_list4['Notes'][list9_d_sp],\n",
    "                         'observation_dates':df_2_list4['observation_dates'][list9_d_sp]\n",
    "                        })\n",
    "\n",
    "pd.concat([a,b,c,d])"
   ]
  },
  {
   "cell_type": "code",
   "execution_count": null,
   "metadata": {
    "hidden": true
   },
   "outputs": [],
   "source": [
    "df_2_list9 = pd.DataFrame({'Sp_ID':all_targets['Sp_ID'][list9],'Gaia_ID':target_list_v6['Gaia_ID'][list9],'nb_hours_surved':all_targets['nb_hours_surved'][list9],\n",
    "                       'Program':all_targets['Program'][list9],'RA':all_targets['RA'][list9],'DEC':all_targets['DEC'][list9],\n",
    "                        'Telescope_used':all_targets['Telescope_used'][list8],'Notes':all_targets['Notes'][list9],\n",
    "                         'observation_dates':all_targets['observation_dates'][list9]\n",
    "                        })\n",
    "df_2_list9.to_csv('List8.csv',sep=',',index=None)\n",
    "\n",
    "\n",
    "df_2_list9"
   ]
  },
  {
   "cell_type": "code",
   "execution_count": null,
   "metadata": {
    "hidden": true
   },
   "outputs": [],
   "source": [
    "np.array(list(list7))"
   ]
  },
  {
   "cell_type": "code",
   "execution_count": null,
   "metadata": {
    "hidden": true
   },
   "outputs": [],
   "source": [
    "target_list_v6"
   ]
  },
  {
   "cell_type": "markdown",
   "metadata": {},
   "source": [
    "## Others"
   ]
  },
  {
   "cell_type": "code",
   "execution_count": null,
   "metadata": {},
   "outputs": [],
   "source": [
    "lc = getSPCdata(target='Sp1501+2250', date='*', ap=6, user=\"educrot\", password=\"58JMSGgdmzTB\")\n"
   ]
  },
  {
   "cell_type": "markdown",
   "metadata": {},
   "source": [
    "## Script  for Artem (stats ARtemis)"
   ]
  },
  {
   "cell_type": "code",
   "execution_count": null,
   "metadata": {},
   "outputs": [],
   "source": [
    "idx_artemis = np.where((np.array([target_list_v6['telescope'][i].find('Artemis') for i in range(len(target_list_v6))]) != -1))[0]\n",
    "\n"
   ]
  },
  {
   "cell_type": "code",
   "execution_count": null,
   "metadata": {},
   "outputs": [],
   "source": [
    "target_list_v6['Sp_ID'][idx_artemis]"
   ]
  },
  {
   "cell_type": "code",
   "execution_count": null,
   "metadata": {},
   "outputs": [],
   "source": []
  }
 ],
 "metadata": {
  "kernelspec": {
   "display_name": "Python 3",
   "language": "python",
   "name": "python3"
  },
  "language_info": {
   "codemirror_mode": {
    "name": "ipython",
    "version": 3
   },
   "file_extension": ".py",
   "mimetype": "text/x-python",
   "name": "python",
   "nbconvert_exporter": "python",
   "pygments_lexer": "ipython3",
   "version": "3.7.4"
  }
 },
 "nbformat": 4,
 "nbformat_minor": 4
}
